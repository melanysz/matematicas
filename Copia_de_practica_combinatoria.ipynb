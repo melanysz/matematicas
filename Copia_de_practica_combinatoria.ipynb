{
  "nbformat": 4,
  "nbformat_minor": 0,
  "metadata": {
    "colab": {
      "provenance": []
    },
    "kernelspec": {
      "name": "python3",
      "display_name": "Python 3"
    },
    "language_info": {
      "name": "python"
    }
  },
  "cells": [
    {
      "cell_type": "markdown",
      "source": [
        "# Práctica 1. Combinatoria\n",
        "Resuelva los siguientes apartados de la práctica.  \n",
        "La práctica 1.1 se proporciona solucionada para que pueda servir como ejemplo.\n"
      ],
      "metadata": {
        "id": "VP-PLgSCPtPC"
      }
    },
    {
      "cell_type": "markdown",
      "source": [
        "## Práctica 1.1\n",
        "Cuatro amigos:\n",
        "* Antonio (A)\n",
        "* Begoña (B)\n",
        "* Cesar (C)\n",
        "* Diana (D)\n",
        "\n",
        "constituyen una asociación y tienen que asignar los siguientes cargos:\n",
        "* Presiente (1)\n",
        "* Vicepresidente (2)\n",
        "* Secretario (3)\n",
        "* Tesorero (4)\n",
        "\n",
        "Se pide:\n",
        "1. Escribiendo la solución en una celda de Markdown analice el caso indicando si se trata de variaciones, permutaciones o combinaciones, con o sin repetición o el caso que sea, y el motivo para clasificar el caso de esta forma.\n",
        "2. Utilizando fórmulas de $\\LaTeX$ calcule cuántos casos existen.\n",
        "3. Cree un programa en Python para calcule cuántos casos existen.\n",
        "4. Cree un programa en Python para imprimir todas las posibilidades y numérelas. Por ejemplo:\n",
        "    - 1 ABCD\n",
        "    - 2 ABDC\n",
        "    - 3 ACBD\n",
        "    - &#20; &#20; &#20; ... ... ..."
      ],
      "metadata": {
        "id": "6oyoxqfbQJDC"
      }
    },
    {
      "cell_type": "markdown",
      "source": [
        "### Solución 1.1\n",
        "* Estamos ante un caso de **permutaciones sin repetición** ya que:\n",
        " - El orden importa, no es lo mismo estar el nº1 que significa ser presidente que el nº 4 que corresponde al tesorero.\n",
        " - Intervienen todos. Son 4 amigos para 4 cargos, todos tienen cargo, lo que cambiar es el orden, esto es, el cargo que obtengan.\n",
        " - No se repiten elementos. Una persona no puede tener dos cargos simultaneamente.\n",
        "* Los casos que se obtienen con las permutaciones sin repetición son $P_{n}=n!$ que para este ejemplo son:\n",
        "\n",
        "$$P_{4}=4!=4 \\cdot 3 \\cdot 2 \\cdot 1 = 24$$"
      ],
      "metadata": {
        "id": "t5unIqR7jdZR"
      }
    },
    {
      "cell_type": "code",
      "source": [
        "import math\n",
        "p = math.factorial(4)\n",
        "print(\"Los casos son: \", p)\n",
        "print(\"Comprobación:  \", 4*3*2*1)"
      ],
      "metadata": {
        "id": "va3_l_-hmFS-",
        "colab": {
          "base_uri": "https://localhost:8080/"
        },
        "outputId": "f9bdf6af-0cea-49d5-c732-8bd26aa9c7b6"
      },
      "execution_count": null,
      "outputs": [
        {
          "output_type": "stream",
          "name": "stdout",
          "text": [
            "Los casos son:  24\n",
            "Comprobación:   24\n"
          ]
        }
      ]
    },
    {
      "cell_type": "markdown",
      "source": [
        "#### Método 1\n",
        "Sin usar librería."
      ],
      "metadata": {
        "id": "kOM3pEAGnh8v"
      }
    },
    {
      "cell_type": "code",
      "source": [
        "lista = ['A', 'B', 'C', 'D']\n",
        "contador = 1\n",
        "\n",
        "for i in lista:\n",
        "    for j in lista:\n",
        "        for k in lista:\n",
        "            for l in lista:\n",
        "                if i != j and i != k and i != l and j != k and j != l and k != l:\n",
        "                    print(f\"{contador:2d} →  {i+j+k+l}\")\n",
        "                    contador += 1"
      ],
      "metadata": {
        "id": "5--ZpSoJncj3",
        "colab": {
          "base_uri": "https://localhost:8080/"
        },
        "outputId": "99ce8b7a-54a1-4348-a30a-52fcb8283d6e"
      },
      "execution_count": null,
      "outputs": [
        {
          "output_type": "stream",
          "name": "stdout",
          "text": [
            " 1 →  ABCD\n",
            " 2 →  ABDC\n",
            " 3 →  ACBD\n",
            " 4 →  ACDB\n",
            " 5 →  ADBC\n",
            " 6 →  ADCB\n",
            " 7 →  BACD\n",
            " 8 →  BADC\n",
            " 9 →  BCAD\n",
            "10 →  BCDA\n",
            "11 →  BDAC\n",
            "12 →  BDCA\n",
            "13 →  CABD\n",
            "14 →  CADB\n",
            "15 →  CBAD\n",
            "16 →  CBDA\n",
            "17 →  CDAB\n",
            "18 →  CDBA\n",
            "19 →  DABC\n",
            "20 →  DACB\n",
            "21 →  DBAC\n",
            "22 →  DBCA\n",
            "23 →  DCAB\n",
            "24 →  DCBA\n"
          ]
        }
      ]
    },
    {
      "cell_type": "markdown",
      "source": [
        "#### Método 2\n",
        "* Usamos la función `permutations` de la librería `itertools`.\n",
        "* Imprimimos todas las permutaciones de los elementos de una lista."
      ],
      "metadata": {
        "id": "2PoCD5GlnwS1"
      }
    },
    {
      "cell_type": "code",
      "source": [
        "from itertools import permutations\n",
        "\n",
        "perm = permutations(['A','B','C','D'])   # obtenemos todas las permutaciones de la lista \n",
        "\n",
        "for i in list(perm):                     # imprimimos todas las permutaciones \n",
        "    print (*i)                           # con el asterisco se muestran las listas sin corchetes ni comas"
      ],
      "metadata": {
        "id": "eKkB1gQnn6_P",
        "colab": {
          "base_uri": "https://localhost:8080/"
        },
        "outputId": "56b53154-efe1-4fc0-dc72-e04cb601119c"
      },
      "execution_count": null,
      "outputs": [
        {
          "output_type": "stream",
          "name": "stdout",
          "text": [
            "A B C D\n",
            "A B D C\n",
            "A C B D\n",
            "A C D B\n",
            "A D B C\n",
            "A D C B\n",
            "B A C D\n",
            "B A D C\n",
            "B C A D\n",
            "B C D A\n",
            "B D A C\n",
            "B D C A\n",
            "C A B D\n",
            "C A D B\n",
            "C B A D\n",
            "C B D A\n",
            "C D A B\n",
            "C D B A\n",
            "D A B C\n",
            "D A C B\n",
            "D B A C\n",
            "D B C A\n",
            "D C A B\n",
            "D C B A\n"
          ]
        }
      ]
    },
    {
      "cell_type": "markdown",
      "source": [
        "## Práctica 1.2\n",
        "Cuatro amigos:\n",
        "* Antonio (A)\n",
        "* Begoña (B)\n",
        "* Cesar (C)\n",
        "* Diana (D)\n",
        "\n",
        "constituyen una asociación y tienen que asignar los siguientes cargos:\n",
        "* Presiente (1)\n",
        "* Secretario (3)\n",
        "* Tesorero (4)\n",
        "\n",
        "Se pide:\n",
        "1. Escribiendo la solución en una celda de Markdown analice el caso indicando si se trata de variaciones, permutaciones o combinaciones, con o sin repetición o el caso que sea, y el motivo para clasificar el caso de esta forma.\n",
        "2. Utilizando fórmulas de $\\LaTeX$ calcule cuántos casos existen.\n",
        "3. Cree un programa en Python para calcule cuántos casos existen.\n",
        "4. Cree un programa en Python para imprimir todas las posibilidades y numérelas. Por ejemplo:\n",
        "    - 1 ABC\n",
        "    - 2 ABD\n",
        "    - 3 ACB\n",
        "    - &#20; &#20; &#20; ... ... ..."
      ],
      "metadata": {
        "id": "sxSuCpAFSBPJ"
      }
    },
    {
      "cell_type": "markdown",
      "source": [
        "### Solución 1.2\n",
        "\n",
        "* Estamos ante un caso de **variacion sin repetición** ya que:\n",
        " - El orden si importa, puesto que, no es lo mismo estar en el cargo nº1 (presidente), que estar en el cargo nº3 (secretario) o nº4 (tesorero), ya que cumplen funciones totalmente diferentes.\n",
        " -Intervienen solamente 3 personas para los tres cargos. En este caso son 4 amigos, sin embargo, solo 3 de ellos obtendran un cargo, dejando por fuera a una persona.\n",
        " - No se repiten los cargos. Una persona no puede tener dos cargos al mismo tiempo.\n",
        "* La formula para resolver un problema de variacion sin repeticion es:\n",
        "\n",
        "$$V^r_n=\\frac{n!}{(n-r)!}=n$$\n",
        "\n",
        "- Al reemplazarla con los datos que nos ofrece el problema, el numero de casos que se obtienen son: \n",
        " \n",
        "$$V^3_4=\\frac{n!}{(n-r)!}=\\frac{4!}{(4-3)!}=\\frac{4!}{1!}=\\frac{4 \\cdot 3 \\cdot 2 \\cdot 1!}{1!}=4 \\cdot 3 \\cdot 2 \\cdot 1=24$$\n",
        "\n"
      ],
      "metadata": {
        "id": "xx9qsw_ej9Pd"
      }
    },
    {
      "cell_type": "code",
      "source": [
        "import math\n",
        "p = math.factorial(4) / math.factorial(4-3)\n",
        "print(\"Los casos son: \", p)\n",
        "print(\"Comprobación:  \", 4*3*2*1)"
      ],
      "metadata": {
        "colab": {
          "base_uri": "https://localhost:8080/"
        },
        "id": "4n72Ffeo3XDQ",
        "outputId": "9667df6f-07ad-4b02-a8a6-a991b1dd147b"
      },
      "execution_count": null,
      "outputs": [
        {
          "output_type": "stream",
          "name": "stdout",
          "text": [
            "Los casos son:  24.0\n",
            "Comprobación:   24\n"
          ]
        }
      ]
    },
    {
      "cell_type": "code",
      "source": [
        "import itertools\n",
        "it = itertools.permutations(['a','b','c','d'],3)\n",
        "li = list(it)\n",
        "print(li)\n",
        "\n",
        "print()\n",
        "\n",
        "for i in range(len(li)):\n",
        "    print(f\"Variación {i+1:2d} → \", *li[i])"
      ],
      "metadata": {
        "colab": {
          "base_uri": "https://localhost:8080/"
        },
        "id": "DT7UOuUn4aDs",
        "outputId": "de4f9992-93f3-4b88-99a0-aff2642441b8"
      },
      "execution_count": null,
      "outputs": [
        {
          "output_type": "stream",
          "name": "stdout",
          "text": [
            "[('a', 'b', 'c'), ('a', 'b', 'd'), ('a', 'c', 'b'), ('a', 'c', 'd'), ('a', 'd', 'b'), ('a', 'd', 'c'), ('b', 'a', 'c'), ('b', 'a', 'd'), ('b', 'c', 'a'), ('b', 'c', 'd'), ('b', 'd', 'a'), ('b', 'd', 'c'), ('c', 'a', 'b'), ('c', 'a', 'd'), ('c', 'b', 'a'), ('c', 'b', 'd'), ('c', 'd', 'a'), ('c', 'd', 'b'), ('d', 'a', 'b'), ('d', 'a', 'c'), ('d', 'b', 'a'), ('d', 'b', 'c'), ('d', 'c', 'a'), ('d', 'c', 'b')]\n",
            "\n",
            "Variación  1 →  a b c\n",
            "Variación  2 →  a b d\n",
            "Variación  3 →  a c b\n",
            "Variación  4 →  a c d\n",
            "Variación  5 →  a d b\n",
            "Variación  6 →  a d c\n",
            "Variación  7 →  b a c\n",
            "Variación  8 →  b a d\n",
            "Variación  9 →  b c a\n",
            "Variación 10 →  b c d\n",
            "Variación 11 →  b d a\n",
            "Variación 12 →  b d c\n",
            "Variación 13 →  c a b\n",
            "Variación 14 →  c a d\n",
            "Variación 15 →  c b a\n",
            "Variación 16 →  c b d\n",
            "Variación 17 →  c d a\n",
            "Variación 18 →  c d b\n",
            "Variación 19 →  d a b\n",
            "Variación 20 →  d a c\n",
            "Variación 21 →  d b a\n",
            "Variación 22 →  d b c\n",
            "Variación 23 →  d c a\n",
            "Variación 24 →  d c b\n"
          ]
        }
      ]
    },
    {
      "cell_type": "markdown",
      "source": [
        "## Práctica 1.3\n",
        "Con las cifras **1,2,3,4,5,6 y 7** ¿Cuantos numeros de **3** cifras distintas se pueden formar?\n",
        "\n",
        "Se pide:\n",
        "1. Escribiendo la solución en una celda de Markdown analice el caso indicando si se trata de variaciones, permutaciones o combinaciones, con o sin repetición o el caso que sea, y el motivo para clasificar el caso de esta forma.\n",
        "2. Utilizando fórmulas de $\\LaTeX$ calcule cuántos casos existen.\n",
        "3. Cree un programa en Python para calcule cuántos casos existen.\n",
        "4. Cree un programa en Python para imprimir todas las posibilidades y numérelas. Por ejemplo:\n",
        "    - 1 ABC\n",
        "    - 2 ABD\n",
        "    - 3 ACB\n",
        "    - &#20; &#20; &#20; ... ... ..."
      ],
      "metadata": {
        "id": "D0S1DjF4MKmz"
      }
    },
    {
      "cell_type": "markdown",
      "source": [
        "### Solución 1.3\n",
        "* Estamos ante un caso de **variacion sin repetición** ya que:\n",
        " - El orden si importa, en vista de que el enunciado resalta que deben ser numeros diferentes, asimismo no se pueden repetir las mismas cifras en un conjunto de numeros. \n",
        " -Intervienen solamente 3 numeros de los 7 que se proponen.\n",
        "\n",
        "* La formula para resolver un problema de variacion sin repeticion es:\n",
        "\n",
        "$$V^r_n=\\frac{n!}{(n-r)!}=n$$\n",
        "\n",
        "- Al reemplazarla con los datos que nos ofrece el problema, el numero de casos que se obtienen son: \n",
        " \n",
        "$$V^3_7=\\frac{n!}{(n-r)!}=\\frac{7!}{(7-3)!}=\\frac{7!}{4!}=\\frac{7 \\cdot 6 \\cdot 5 \\cdot 4!}{4!}=7 \\cdot 6 \\cdot 5=210$$\n"
      ],
      "metadata": {
        "id": "AfyuPIASj_20"
      }
    },
    {
      "cell_type": "code",
      "source": [
        "import math\n",
        "p = math.factorial(7) / math.factorial(7-3)\n",
        "print(\"Los casos son: \", p)\n",
        "print(\"Comprobación:  \", 7*6*5)"
      ],
      "metadata": {
        "colab": {
          "base_uri": "https://localhost:8080/"
        },
        "id": "s2j9v5Sd-hQx",
        "outputId": "8305d48b-10ee-471e-86b4-f2be447ba7c2"
      },
      "execution_count": null,
      "outputs": [
        {
          "output_type": "stream",
          "name": "stdout",
          "text": [
            "Los casos son:  210.0\n",
            "Comprobación:   210\n"
          ]
        }
      ]
    },
    {
      "cell_type": "code",
      "source": [
        "import itertools\n",
        "it = itertools.permutations(['1','2','3','4','5','6','7'],3)\n",
        "li = list(it)\n",
        "print(li)\n",
        "\n",
        "print()\n",
        "\n",
        "for i in range(len(li)):\n",
        "    print(f\"Variación {i+1:2d} → \", *li[i])"
      ],
      "metadata": {
        "colab": {
          "base_uri": "https://localhost:8080/"
        },
        "id": "DQX3l2Ow-g_l",
        "outputId": "c4ea7b20-b0c5-4c98-cd02-910b212516aa"
      },
      "execution_count": null,
      "outputs": [
        {
          "output_type": "stream",
          "name": "stdout",
          "text": [
            "[('1', '2', '3'), ('1', '2', '4'), ('1', '2', '5'), ('1', '2', '6'), ('1', '2', '7'), ('1', '3', '2'), ('1', '3', '4'), ('1', '3', '5'), ('1', '3', '6'), ('1', '3', '7'), ('1', '4', '2'), ('1', '4', '3'), ('1', '4', '5'), ('1', '4', '6'), ('1', '4', '7'), ('1', '5', '2'), ('1', '5', '3'), ('1', '5', '4'), ('1', '5', '6'), ('1', '5', '7'), ('1', '6', '2'), ('1', '6', '3'), ('1', '6', '4'), ('1', '6', '5'), ('1', '6', '7'), ('1', '7', '2'), ('1', '7', '3'), ('1', '7', '4'), ('1', '7', '5'), ('1', '7', '6'), ('2', '1', '3'), ('2', '1', '4'), ('2', '1', '5'), ('2', '1', '6'), ('2', '1', '7'), ('2', '3', '1'), ('2', '3', '4'), ('2', '3', '5'), ('2', '3', '6'), ('2', '3', '7'), ('2', '4', '1'), ('2', '4', '3'), ('2', '4', '5'), ('2', '4', '6'), ('2', '4', '7'), ('2', '5', '1'), ('2', '5', '3'), ('2', '5', '4'), ('2', '5', '6'), ('2', '5', '7'), ('2', '6', '1'), ('2', '6', '3'), ('2', '6', '4'), ('2', '6', '5'), ('2', '6', '7'), ('2', '7', '1'), ('2', '7', '3'), ('2', '7', '4'), ('2', '7', '5'), ('2', '7', '6'), ('3', '1', '2'), ('3', '1', '4'), ('3', '1', '5'), ('3', '1', '6'), ('3', '1', '7'), ('3', '2', '1'), ('3', '2', '4'), ('3', '2', '5'), ('3', '2', '6'), ('3', '2', '7'), ('3', '4', '1'), ('3', '4', '2'), ('3', '4', '5'), ('3', '4', '6'), ('3', '4', '7'), ('3', '5', '1'), ('3', '5', '2'), ('3', '5', '4'), ('3', '5', '6'), ('3', '5', '7'), ('3', '6', '1'), ('3', '6', '2'), ('3', '6', '4'), ('3', '6', '5'), ('3', '6', '7'), ('3', '7', '1'), ('3', '7', '2'), ('3', '7', '4'), ('3', '7', '5'), ('3', '7', '6'), ('4', '1', '2'), ('4', '1', '3'), ('4', '1', '5'), ('4', '1', '6'), ('4', '1', '7'), ('4', '2', '1'), ('4', '2', '3'), ('4', '2', '5'), ('4', '2', '6'), ('4', '2', '7'), ('4', '3', '1'), ('4', '3', '2'), ('4', '3', '5'), ('4', '3', '6'), ('4', '3', '7'), ('4', '5', '1'), ('4', '5', '2'), ('4', '5', '3'), ('4', '5', '6'), ('4', '5', '7'), ('4', '6', '1'), ('4', '6', '2'), ('4', '6', '3'), ('4', '6', '5'), ('4', '6', '7'), ('4', '7', '1'), ('4', '7', '2'), ('4', '7', '3'), ('4', '7', '5'), ('4', '7', '6'), ('5', '1', '2'), ('5', '1', '3'), ('5', '1', '4'), ('5', '1', '6'), ('5', '1', '7'), ('5', '2', '1'), ('5', '2', '3'), ('5', '2', '4'), ('5', '2', '6'), ('5', '2', '7'), ('5', '3', '1'), ('5', '3', '2'), ('5', '3', '4'), ('5', '3', '6'), ('5', '3', '7'), ('5', '4', '1'), ('5', '4', '2'), ('5', '4', '3'), ('5', '4', '6'), ('5', '4', '7'), ('5', '6', '1'), ('5', '6', '2'), ('5', '6', '3'), ('5', '6', '4'), ('5', '6', '7'), ('5', '7', '1'), ('5', '7', '2'), ('5', '7', '3'), ('5', '7', '4'), ('5', '7', '6'), ('6', '1', '2'), ('6', '1', '3'), ('6', '1', '4'), ('6', '1', '5'), ('6', '1', '7'), ('6', '2', '1'), ('6', '2', '3'), ('6', '2', '4'), ('6', '2', '5'), ('6', '2', '7'), ('6', '3', '1'), ('6', '3', '2'), ('6', '3', '4'), ('6', '3', '5'), ('6', '3', '7'), ('6', '4', '1'), ('6', '4', '2'), ('6', '4', '3'), ('6', '4', '5'), ('6', '4', '7'), ('6', '5', '1'), ('6', '5', '2'), ('6', '5', '3'), ('6', '5', '4'), ('6', '5', '7'), ('6', '7', '1'), ('6', '7', '2'), ('6', '7', '3'), ('6', '7', '4'), ('6', '7', '5'), ('7', '1', '2'), ('7', '1', '3'), ('7', '1', '4'), ('7', '1', '5'), ('7', '1', '6'), ('7', '2', '1'), ('7', '2', '3'), ('7', '2', '4'), ('7', '2', '5'), ('7', '2', '6'), ('7', '3', '1'), ('7', '3', '2'), ('7', '3', '4'), ('7', '3', '5'), ('7', '3', '6'), ('7', '4', '1'), ('7', '4', '2'), ('7', '4', '3'), ('7', '4', '5'), ('7', '4', '6'), ('7', '5', '1'), ('7', '5', '2'), ('7', '5', '3'), ('7', '5', '4'), ('7', '5', '6'), ('7', '6', '1'), ('7', '6', '2'), ('7', '6', '3'), ('7', '6', '4'), ('7', '6', '5')]\n",
            "\n",
            "Variación  1 →  1 2 3\n",
            "Variación  2 →  1 2 4\n",
            "Variación  3 →  1 2 5\n",
            "Variación  4 →  1 2 6\n",
            "Variación  5 →  1 2 7\n",
            "Variación  6 →  1 3 2\n",
            "Variación  7 →  1 3 4\n",
            "Variación  8 →  1 3 5\n",
            "Variación  9 →  1 3 6\n",
            "Variación 10 →  1 3 7\n",
            "Variación 11 →  1 4 2\n",
            "Variación 12 →  1 4 3\n",
            "Variación 13 →  1 4 5\n",
            "Variación 14 →  1 4 6\n",
            "Variación 15 →  1 4 7\n",
            "Variación 16 →  1 5 2\n",
            "Variación 17 →  1 5 3\n",
            "Variación 18 →  1 5 4\n",
            "Variación 19 →  1 5 6\n",
            "Variación 20 →  1 5 7\n",
            "Variación 21 →  1 6 2\n",
            "Variación 22 →  1 6 3\n",
            "Variación 23 →  1 6 4\n",
            "Variación 24 →  1 6 5\n",
            "Variación 25 →  1 6 7\n",
            "Variación 26 →  1 7 2\n",
            "Variación 27 →  1 7 3\n",
            "Variación 28 →  1 7 4\n",
            "Variación 29 →  1 7 5\n",
            "Variación 30 →  1 7 6\n",
            "Variación 31 →  2 1 3\n",
            "Variación 32 →  2 1 4\n",
            "Variación 33 →  2 1 5\n",
            "Variación 34 →  2 1 6\n",
            "Variación 35 →  2 1 7\n",
            "Variación 36 →  2 3 1\n",
            "Variación 37 →  2 3 4\n",
            "Variación 38 →  2 3 5\n",
            "Variación 39 →  2 3 6\n",
            "Variación 40 →  2 3 7\n",
            "Variación 41 →  2 4 1\n",
            "Variación 42 →  2 4 3\n",
            "Variación 43 →  2 4 5\n",
            "Variación 44 →  2 4 6\n",
            "Variación 45 →  2 4 7\n",
            "Variación 46 →  2 5 1\n",
            "Variación 47 →  2 5 3\n",
            "Variación 48 →  2 5 4\n",
            "Variación 49 →  2 5 6\n",
            "Variación 50 →  2 5 7\n",
            "Variación 51 →  2 6 1\n",
            "Variación 52 →  2 6 3\n",
            "Variación 53 →  2 6 4\n",
            "Variación 54 →  2 6 5\n",
            "Variación 55 →  2 6 7\n",
            "Variación 56 →  2 7 1\n",
            "Variación 57 →  2 7 3\n",
            "Variación 58 →  2 7 4\n",
            "Variación 59 →  2 7 5\n",
            "Variación 60 →  2 7 6\n",
            "Variación 61 →  3 1 2\n",
            "Variación 62 →  3 1 4\n",
            "Variación 63 →  3 1 5\n",
            "Variación 64 →  3 1 6\n",
            "Variación 65 →  3 1 7\n",
            "Variación 66 →  3 2 1\n",
            "Variación 67 →  3 2 4\n",
            "Variación 68 →  3 2 5\n",
            "Variación 69 →  3 2 6\n",
            "Variación 70 →  3 2 7\n",
            "Variación 71 →  3 4 1\n",
            "Variación 72 →  3 4 2\n",
            "Variación 73 →  3 4 5\n",
            "Variación 74 →  3 4 6\n",
            "Variación 75 →  3 4 7\n",
            "Variación 76 →  3 5 1\n",
            "Variación 77 →  3 5 2\n",
            "Variación 78 →  3 5 4\n",
            "Variación 79 →  3 5 6\n",
            "Variación 80 →  3 5 7\n",
            "Variación 81 →  3 6 1\n",
            "Variación 82 →  3 6 2\n",
            "Variación 83 →  3 6 4\n",
            "Variación 84 →  3 6 5\n",
            "Variación 85 →  3 6 7\n",
            "Variación 86 →  3 7 1\n",
            "Variación 87 →  3 7 2\n",
            "Variación 88 →  3 7 4\n",
            "Variación 89 →  3 7 5\n",
            "Variación 90 →  3 7 6\n",
            "Variación 91 →  4 1 2\n",
            "Variación 92 →  4 1 3\n",
            "Variación 93 →  4 1 5\n",
            "Variación 94 →  4 1 6\n",
            "Variación 95 →  4 1 7\n",
            "Variación 96 →  4 2 1\n",
            "Variación 97 →  4 2 3\n",
            "Variación 98 →  4 2 5\n",
            "Variación 99 →  4 2 6\n",
            "Variación 100 →  4 2 7\n",
            "Variación 101 →  4 3 1\n",
            "Variación 102 →  4 3 2\n",
            "Variación 103 →  4 3 5\n",
            "Variación 104 →  4 3 6\n",
            "Variación 105 →  4 3 7\n",
            "Variación 106 →  4 5 1\n",
            "Variación 107 →  4 5 2\n",
            "Variación 108 →  4 5 3\n",
            "Variación 109 →  4 5 6\n",
            "Variación 110 →  4 5 7\n",
            "Variación 111 →  4 6 1\n",
            "Variación 112 →  4 6 2\n",
            "Variación 113 →  4 6 3\n",
            "Variación 114 →  4 6 5\n",
            "Variación 115 →  4 6 7\n",
            "Variación 116 →  4 7 1\n",
            "Variación 117 →  4 7 2\n",
            "Variación 118 →  4 7 3\n",
            "Variación 119 →  4 7 5\n",
            "Variación 120 →  4 7 6\n",
            "Variación 121 →  5 1 2\n",
            "Variación 122 →  5 1 3\n",
            "Variación 123 →  5 1 4\n",
            "Variación 124 →  5 1 6\n",
            "Variación 125 →  5 1 7\n",
            "Variación 126 →  5 2 1\n",
            "Variación 127 →  5 2 3\n",
            "Variación 128 →  5 2 4\n",
            "Variación 129 →  5 2 6\n",
            "Variación 130 →  5 2 7\n",
            "Variación 131 →  5 3 1\n",
            "Variación 132 →  5 3 2\n",
            "Variación 133 →  5 3 4\n",
            "Variación 134 →  5 3 6\n",
            "Variación 135 →  5 3 7\n",
            "Variación 136 →  5 4 1\n",
            "Variación 137 →  5 4 2\n",
            "Variación 138 →  5 4 3\n",
            "Variación 139 →  5 4 6\n",
            "Variación 140 →  5 4 7\n",
            "Variación 141 →  5 6 1\n",
            "Variación 142 →  5 6 2\n",
            "Variación 143 →  5 6 3\n",
            "Variación 144 →  5 6 4\n",
            "Variación 145 →  5 6 7\n",
            "Variación 146 →  5 7 1\n",
            "Variación 147 →  5 7 2\n",
            "Variación 148 →  5 7 3\n",
            "Variación 149 →  5 7 4\n",
            "Variación 150 →  5 7 6\n",
            "Variación 151 →  6 1 2\n",
            "Variación 152 →  6 1 3\n",
            "Variación 153 →  6 1 4\n",
            "Variación 154 →  6 1 5\n",
            "Variación 155 →  6 1 7\n",
            "Variación 156 →  6 2 1\n",
            "Variación 157 →  6 2 3\n",
            "Variación 158 →  6 2 4\n",
            "Variación 159 →  6 2 5\n",
            "Variación 160 →  6 2 7\n",
            "Variación 161 →  6 3 1\n",
            "Variación 162 →  6 3 2\n",
            "Variación 163 →  6 3 4\n",
            "Variación 164 →  6 3 5\n",
            "Variación 165 →  6 3 7\n",
            "Variación 166 →  6 4 1\n",
            "Variación 167 →  6 4 2\n",
            "Variación 168 →  6 4 3\n",
            "Variación 169 →  6 4 5\n",
            "Variación 170 →  6 4 7\n",
            "Variación 171 →  6 5 1\n",
            "Variación 172 →  6 5 2\n",
            "Variación 173 →  6 5 3\n",
            "Variación 174 →  6 5 4\n",
            "Variación 175 →  6 5 7\n",
            "Variación 176 →  6 7 1\n",
            "Variación 177 →  6 7 2\n",
            "Variación 178 →  6 7 3\n",
            "Variación 179 →  6 7 4\n",
            "Variación 180 →  6 7 5\n",
            "Variación 181 →  7 1 2\n",
            "Variación 182 →  7 1 3\n",
            "Variación 183 →  7 1 4\n",
            "Variación 184 →  7 1 5\n",
            "Variación 185 →  7 1 6\n",
            "Variación 186 →  7 2 1\n",
            "Variación 187 →  7 2 3\n",
            "Variación 188 →  7 2 4\n",
            "Variación 189 →  7 2 5\n",
            "Variación 190 →  7 2 6\n",
            "Variación 191 →  7 3 1\n",
            "Variación 192 →  7 3 2\n",
            "Variación 193 →  7 3 4\n",
            "Variación 194 →  7 3 5\n",
            "Variación 195 →  7 3 6\n",
            "Variación 196 →  7 4 1\n",
            "Variación 197 →  7 4 2\n",
            "Variación 198 →  7 4 3\n",
            "Variación 199 →  7 4 5\n",
            "Variación 200 →  7 4 6\n",
            "Variación 201 →  7 5 1\n",
            "Variación 202 →  7 5 2\n",
            "Variación 203 →  7 5 3\n",
            "Variación 204 →  7 5 4\n",
            "Variación 205 →  7 5 6\n",
            "Variación 206 →  7 6 1\n",
            "Variación 207 →  7 6 2\n",
            "Variación 208 →  7 6 3\n",
            "Variación 209 →  7 6 4\n",
            "Variación 210 →  7 6 5\n"
          ]
        }
      ]
    },
    {
      "cell_type": "markdown",
      "source": [
        "## Práctica 1.4\n",
        "Con las cifras **1,2,3,4,5,6 y 7** ¿Cuantos numeros de **3** cifras se pueden formar?\n",
        "\n",
        "Se pide:\n",
        "1. Escribiendo la solución en una celda de Markdown analice el caso indicando si se trata de variaciones, permutaciones o combinaciones, con o sin repetición o el caso que sea, y el motivo para clasificar el caso de esta forma.\n",
        "2. Utilizando fórmulas de $\\LaTeX$ calcule cuántos casos existen.\n",
        "3. Cree un programa en Python para calcule cuántos casos existen.\n",
        "4. Cree un programa en Python para imprimir todas las posibilidades y numérelas. Por ejemplo:\n",
        "    - 1 ABC\n",
        "    - 2 ABD\n",
        "    - 3 ACB\n",
        "    - &#20; &#20; &#20; ... ... ..."
      ],
      "metadata": {
        "id": "gvlnqCaRMTua"
      }
    },
    {
      "cell_type": "markdown",
      "source": [
        "### Solución 1.4\n",
        "\n",
        "* Estamos ante un caso de **variacion con repetición** ya que:\n",
        " - El orden si importa, dado que cada numero debe de ocupar una posicion diferente, no obstante, en este caso se pueden repetir las cifras en un mismo conjunto de numeros. \n",
        " -Intervienen solamente 3 numeros de los 7 que se proponen.\n",
        "\n",
        "* La formula para resolver un problema de variacion con repeticion es:\n",
        "\n",
        "$$V^r_n= n^r$$\n",
        "\n",
        "- Al reemplazarla con los datos que nos ofrece el problema, el numero de casos que se obtienen son: \n",
        " \n",
        "$$V^3_7=7^3=7\\cdot 7 \\cdot 7=343$$"
      ],
      "metadata": {
        "id": "hzvsgRDbkCy1"
      }
    },
    {
      "cell_type": "code",
      "source": [
        "import math\n",
        "p = pow (7,3)\n",
        "print(\"Los casos son: \", p)\n",
        "print(\"Comprobación:  \", 7*7*7)"
      ],
      "metadata": {
        "colab": {
          "base_uri": "https://localhost:8080/"
        },
        "id": "X0gPQYW6CXKU",
        "outputId": "f5d68af0-718f-4e34-fec0-ff3984efd1e5"
      },
      "execution_count": null,
      "outputs": [
        {
          "output_type": "stream",
          "name": "stdout",
          "text": [
            "Los casos son:  343\n",
            "Comprobación:   343\n"
          ]
        }
      ]
    },
    {
      "cell_type": "markdown",
      "source": [],
      "metadata": {
        "id": "ln1XvYBd2ZTL"
      }
    },
    {
      "cell_type": "code",
      "source": [
        "import itertools \n",
        "\n",
        "def variaciones_con_repeticion(n, seq):\n",
        "  contador = 0 \n",
        "  for p in itertools.product(seq, repeat = n):\n",
        "    contador += 1\n",
        "    print(contador,\"→\" ,\" \".join(p))\n",
        "\n",
        "secuencia = '1234567'\n",
        "m = len(secuencia)\n",
        "n = 3\n",
        "variaciones_con_repeticion (n, secuencia)\n",
        "print(f\"El numero de variaciones con repeticion de {m} elementos tomados de {n} en {n} son { m**n}.\")"
      ],
      "metadata": {
        "colab": {
          "base_uri": "https://localhost:8080/"
        },
        "id": "neFVExAdFHvz",
        "outputId": "c95164d2-d7cf-48fd-c669-07d644c04174"
      },
      "execution_count": null,
      "outputs": [
        {
          "output_type": "stream",
          "name": "stdout",
          "text": [
            "1 → 1 1 1\n",
            "2 → 1 1 2\n",
            "3 → 1 1 3\n",
            "4 → 1 1 4\n",
            "5 → 1 1 5\n",
            "6 → 1 1 6\n",
            "7 → 1 1 7\n",
            "8 → 1 2 1\n",
            "9 → 1 2 2\n",
            "10 → 1 2 3\n",
            "11 → 1 2 4\n",
            "12 → 1 2 5\n",
            "13 → 1 2 6\n",
            "14 → 1 2 7\n",
            "15 → 1 3 1\n",
            "16 → 1 3 2\n",
            "17 → 1 3 3\n",
            "18 → 1 3 4\n",
            "19 → 1 3 5\n",
            "20 → 1 3 6\n",
            "21 → 1 3 7\n",
            "22 → 1 4 1\n",
            "23 → 1 4 2\n",
            "24 → 1 4 3\n",
            "25 → 1 4 4\n",
            "26 → 1 4 5\n",
            "27 → 1 4 6\n",
            "28 → 1 4 7\n",
            "29 → 1 5 1\n",
            "30 → 1 5 2\n",
            "31 → 1 5 3\n",
            "32 → 1 5 4\n",
            "33 → 1 5 5\n",
            "34 → 1 5 6\n",
            "35 → 1 5 7\n",
            "36 → 1 6 1\n",
            "37 → 1 6 2\n",
            "38 → 1 6 3\n",
            "39 → 1 6 4\n",
            "40 → 1 6 5\n",
            "41 → 1 6 6\n",
            "42 → 1 6 7\n",
            "43 → 1 7 1\n",
            "44 → 1 7 2\n",
            "45 → 1 7 3\n",
            "46 → 1 7 4\n",
            "47 → 1 7 5\n",
            "48 → 1 7 6\n",
            "49 → 1 7 7\n",
            "50 → 2 1 1\n",
            "51 → 2 1 2\n",
            "52 → 2 1 3\n",
            "53 → 2 1 4\n",
            "54 → 2 1 5\n",
            "55 → 2 1 6\n",
            "56 → 2 1 7\n",
            "57 → 2 2 1\n",
            "58 → 2 2 2\n",
            "59 → 2 2 3\n",
            "60 → 2 2 4\n",
            "61 → 2 2 5\n",
            "62 → 2 2 6\n",
            "63 → 2 2 7\n",
            "64 → 2 3 1\n",
            "65 → 2 3 2\n",
            "66 → 2 3 3\n",
            "67 → 2 3 4\n",
            "68 → 2 3 5\n",
            "69 → 2 3 6\n",
            "70 → 2 3 7\n",
            "71 → 2 4 1\n",
            "72 → 2 4 2\n",
            "73 → 2 4 3\n",
            "74 → 2 4 4\n",
            "75 → 2 4 5\n",
            "76 → 2 4 6\n",
            "77 → 2 4 7\n",
            "78 → 2 5 1\n",
            "79 → 2 5 2\n",
            "80 → 2 5 3\n",
            "81 → 2 5 4\n",
            "82 → 2 5 5\n",
            "83 → 2 5 6\n",
            "84 → 2 5 7\n",
            "85 → 2 6 1\n",
            "86 → 2 6 2\n",
            "87 → 2 6 3\n",
            "88 → 2 6 4\n",
            "89 → 2 6 5\n",
            "90 → 2 6 6\n",
            "91 → 2 6 7\n",
            "92 → 2 7 1\n",
            "93 → 2 7 2\n",
            "94 → 2 7 3\n",
            "95 → 2 7 4\n",
            "96 → 2 7 5\n",
            "97 → 2 7 6\n",
            "98 → 2 7 7\n",
            "99 → 3 1 1\n",
            "100 → 3 1 2\n",
            "101 → 3 1 3\n",
            "102 → 3 1 4\n",
            "103 → 3 1 5\n",
            "104 → 3 1 6\n",
            "105 → 3 1 7\n",
            "106 → 3 2 1\n",
            "107 → 3 2 2\n",
            "108 → 3 2 3\n",
            "109 → 3 2 4\n",
            "110 → 3 2 5\n",
            "111 → 3 2 6\n",
            "112 → 3 2 7\n",
            "113 → 3 3 1\n",
            "114 → 3 3 2\n",
            "115 → 3 3 3\n",
            "116 → 3 3 4\n",
            "117 → 3 3 5\n",
            "118 → 3 3 6\n",
            "119 → 3 3 7\n",
            "120 → 3 4 1\n",
            "121 → 3 4 2\n",
            "122 → 3 4 3\n",
            "123 → 3 4 4\n",
            "124 → 3 4 5\n",
            "125 → 3 4 6\n",
            "126 → 3 4 7\n",
            "127 → 3 5 1\n",
            "128 → 3 5 2\n",
            "129 → 3 5 3\n",
            "130 → 3 5 4\n",
            "131 → 3 5 5\n",
            "132 → 3 5 6\n",
            "133 → 3 5 7\n",
            "134 → 3 6 1\n",
            "135 → 3 6 2\n",
            "136 → 3 6 3\n",
            "137 → 3 6 4\n",
            "138 → 3 6 5\n",
            "139 → 3 6 6\n",
            "140 → 3 6 7\n",
            "141 → 3 7 1\n",
            "142 → 3 7 2\n",
            "143 → 3 7 3\n",
            "144 → 3 7 4\n",
            "145 → 3 7 5\n",
            "146 → 3 7 6\n",
            "147 → 3 7 7\n",
            "148 → 4 1 1\n",
            "149 → 4 1 2\n",
            "150 → 4 1 3\n",
            "151 → 4 1 4\n",
            "152 → 4 1 5\n",
            "153 → 4 1 6\n",
            "154 → 4 1 7\n",
            "155 → 4 2 1\n",
            "156 → 4 2 2\n",
            "157 → 4 2 3\n",
            "158 → 4 2 4\n",
            "159 → 4 2 5\n",
            "160 → 4 2 6\n",
            "161 → 4 2 7\n",
            "162 → 4 3 1\n",
            "163 → 4 3 2\n",
            "164 → 4 3 3\n",
            "165 → 4 3 4\n",
            "166 → 4 3 5\n",
            "167 → 4 3 6\n",
            "168 → 4 3 7\n",
            "169 → 4 4 1\n",
            "170 → 4 4 2\n",
            "171 → 4 4 3\n",
            "172 → 4 4 4\n",
            "173 → 4 4 5\n",
            "174 → 4 4 6\n",
            "175 → 4 4 7\n",
            "176 → 4 5 1\n",
            "177 → 4 5 2\n",
            "178 → 4 5 3\n",
            "179 → 4 5 4\n",
            "180 → 4 5 5\n",
            "181 → 4 5 6\n",
            "182 → 4 5 7\n",
            "183 → 4 6 1\n",
            "184 → 4 6 2\n",
            "185 → 4 6 3\n",
            "186 → 4 6 4\n",
            "187 → 4 6 5\n",
            "188 → 4 6 6\n",
            "189 → 4 6 7\n",
            "190 → 4 7 1\n",
            "191 → 4 7 2\n",
            "192 → 4 7 3\n",
            "193 → 4 7 4\n",
            "194 → 4 7 5\n",
            "195 → 4 7 6\n",
            "196 → 4 7 7\n",
            "197 → 5 1 1\n",
            "198 → 5 1 2\n",
            "199 → 5 1 3\n",
            "200 → 5 1 4\n",
            "201 → 5 1 5\n",
            "202 → 5 1 6\n",
            "203 → 5 1 7\n",
            "204 → 5 2 1\n",
            "205 → 5 2 2\n",
            "206 → 5 2 3\n",
            "207 → 5 2 4\n",
            "208 → 5 2 5\n",
            "209 → 5 2 6\n",
            "210 → 5 2 7\n",
            "211 → 5 3 1\n",
            "212 → 5 3 2\n",
            "213 → 5 3 3\n",
            "214 → 5 3 4\n",
            "215 → 5 3 5\n",
            "216 → 5 3 6\n",
            "217 → 5 3 7\n",
            "218 → 5 4 1\n",
            "219 → 5 4 2\n",
            "220 → 5 4 3\n",
            "221 → 5 4 4\n",
            "222 → 5 4 5\n",
            "223 → 5 4 6\n",
            "224 → 5 4 7\n",
            "225 → 5 5 1\n",
            "226 → 5 5 2\n",
            "227 → 5 5 3\n",
            "228 → 5 5 4\n",
            "229 → 5 5 5\n",
            "230 → 5 5 6\n",
            "231 → 5 5 7\n",
            "232 → 5 6 1\n",
            "233 → 5 6 2\n",
            "234 → 5 6 3\n",
            "235 → 5 6 4\n",
            "236 → 5 6 5\n",
            "237 → 5 6 6\n",
            "238 → 5 6 7\n",
            "239 → 5 7 1\n",
            "240 → 5 7 2\n",
            "241 → 5 7 3\n",
            "242 → 5 7 4\n",
            "243 → 5 7 5\n",
            "244 → 5 7 6\n",
            "245 → 5 7 7\n",
            "246 → 6 1 1\n",
            "247 → 6 1 2\n",
            "248 → 6 1 3\n",
            "249 → 6 1 4\n",
            "250 → 6 1 5\n",
            "251 → 6 1 6\n",
            "252 → 6 1 7\n",
            "253 → 6 2 1\n",
            "254 → 6 2 2\n",
            "255 → 6 2 3\n",
            "256 → 6 2 4\n",
            "257 → 6 2 5\n",
            "258 → 6 2 6\n",
            "259 → 6 2 7\n",
            "260 → 6 3 1\n",
            "261 → 6 3 2\n",
            "262 → 6 3 3\n",
            "263 → 6 3 4\n",
            "264 → 6 3 5\n",
            "265 → 6 3 6\n",
            "266 → 6 3 7\n",
            "267 → 6 4 1\n",
            "268 → 6 4 2\n",
            "269 → 6 4 3\n",
            "270 → 6 4 4\n",
            "271 → 6 4 5\n",
            "272 → 6 4 6\n",
            "273 → 6 4 7\n",
            "274 → 6 5 1\n",
            "275 → 6 5 2\n",
            "276 → 6 5 3\n",
            "277 → 6 5 4\n",
            "278 → 6 5 5\n",
            "279 → 6 5 6\n",
            "280 → 6 5 7\n",
            "281 → 6 6 1\n",
            "282 → 6 6 2\n",
            "283 → 6 6 3\n",
            "284 → 6 6 4\n",
            "285 → 6 6 5\n",
            "286 → 6 6 6\n",
            "287 → 6 6 7\n",
            "288 → 6 7 1\n",
            "289 → 6 7 2\n",
            "290 → 6 7 3\n",
            "291 → 6 7 4\n",
            "292 → 6 7 5\n",
            "293 → 6 7 6\n",
            "294 → 6 7 7\n",
            "295 → 7 1 1\n",
            "296 → 7 1 2\n",
            "297 → 7 1 3\n",
            "298 → 7 1 4\n",
            "299 → 7 1 5\n",
            "300 → 7 1 6\n",
            "301 → 7 1 7\n",
            "302 → 7 2 1\n",
            "303 → 7 2 2\n",
            "304 → 7 2 3\n",
            "305 → 7 2 4\n",
            "306 → 7 2 5\n",
            "307 → 7 2 6\n",
            "308 → 7 2 7\n",
            "309 → 7 3 1\n",
            "310 → 7 3 2\n",
            "311 → 7 3 3\n",
            "312 → 7 3 4\n",
            "313 → 7 3 5\n",
            "314 → 7 3 6\n",
            "315 → 7 3 7\n",
            "316 → 7 4 1\n",
            "317 → 7 4 2\n",
            "318 → 7 4 3\n",
            "319 → 7 4 4\n",
            "320 → 7 4 5\n",
            "321 → 7 4 6\n",
            "322 → 7 4 7\n",
            "323 → 7 5 1\n",
            "324 → 7 5 2\n",
            "325 → 7 5 3\n",
            "326 → 7 5 4\n",
            "327 → 7 5 5\n",
            "328 → 7 5 6\n",
            "329 → 7 5 7\n",
            "330 → 7 6 1\n",
            "331 → 7 6 2\n",
            "332 → 7 6 3\n",
            "333 → 7 6 4\n",
            "334 → 7 6 5\n",
            "335 → 7 6 6\n",
            "336 → 7 6 7\n",
            "337 → 7 7 1\n",
            "338 → 7 7 2\n",
            "339 → 7 7 3\n",
            "340 → 7 7 4\n",
            "341 → 7 7 5\n",
            "342 → 7 7 6\n",
            "343 → 7 7 7\n",
            "El numero de variaciones con repeticion de 7 elementos tomados de 3 en 3 son 343.\n"
          ]
        }
      ]
    },
    {
      "cell_type": "markdown",
      "source": [
        "## Práctica 1.5\n",
        "Con las letras de la palabra **JAMON**, ¿Cuantas palabras de 5 letras distintas se pueden formar? (Pueden tener sentido o no).\n",
        "\n",
        "Se pide:\n",
        "1. Escribiendo la solución en una celda de Markdown analice el caso indicando si se trata de variaciones, permutaciones o combinaciones, con o sin repetición o el caso que sea, y el motivo para clasificar el caso de esta forma.\n",
        "2. Utilizando fórmulas de $\\LaTeX$ calcule cuántos casos existen.\n",
        "3. Cree un programa en Python para calcule cuántos casos existen.\n",
        "4. Cree un programa en Python para imprimir todas las posibilidades y numérelas. Por ejemplo:\n",
        "    - 1 ABC\n",
        "    - 2 ABD\n",
        "    - 3 ACB\n",
        "    - &#20; &#20; &#20; ... ... ..."
      ],
      "metadata": {
        "id": "0OCAC-I-G5F6"
      }
    },
    {
      "cell_type": "markdown",
      "source": [
        "### Solución 1.5\n",
        "* Estamos ante un caso de **permutacion sin repetición** en virtud de que:\n",
        " - El orden de las letras influye, ya que se obtienen palabras distintas.\n",
        " - Se abarcan todos los elementos, en este caso las 5 letras.\n",
        " - Al formar palabras diferentes, las letras no se pueden repetir.\n",
        "* La formula para resolver un problema de permutacion sin repeticion es:\n",
        "\n",
        "$$P_n= V_n,_n=n!$$\n",
        "\n",
        "- Al reemplazarla con los datos que nos ofrece el problema, el numero de casos que se obtienen son: \n",
        " \n",
        "$$n!=5!= 5 \\cdot 4 \\cdot 3 \\cdot 2 \\cdot 1= 120$$"
      ],
      "metadata": {
        "id": "FvLcj6XXkFOV"
      }
    },
    {
      "cell_type": "code",
      "source": [
        "from math import factorial\n",
        "\n",
        "lista = [1,2,3,4,5]   \n",
        "print(lista)\n",
        "\n",
        "n = len(lista)   \n",
        "\n",
        "print(f\"El número de permutaciones posibles de {n} elementos es: {factorial(n)}\")"
      ],
      "metadata": {
        "colab": {
          "base_uri": "https://localhost:8080/"
        },
        "id": "_wmX-EQ3bERE",
        "outputId": "67932337-a58c-412c-92d2-9062e8fdd644"
      },
      "execution_count": null,
      "outputs": [
        {
          "output_type": "stream",
          "name": "stdout",
          "text": [
            "[1, 2, 3, 4, 5]\n",
            "El número de permutaciones posibles de 5 elementos es: 120\n"
          ]
        }
      ]
    },
    {
      "cell_type": "code",
      "source": [
        "lista = ['J', 'A', 'M', 'O', 'N']\n",
        "contador = 1\n",
        "\n",
        "for i in lista:\n",
        "    for j in lista:\n",
        "        for k in lista:\n",
        "            for l in lista:\n",
        "              for n in lista:\n",
        "                if i != j and i != k and i != l and i!= n and j != k and j!= l and j!= n and k!= l and k!= n and l!= n :\n",
        "                    print(f\"{contador:2d} → {i+j+k+l+n}\")\n",
        "                    contador += 1"
      ],
      "metadata": {
        "colab": {
          "base_uri": "https://localhost:8080/"
        },
        "id": "e3eMmFOJcMak",
        "outputId": "3e7af9d2-deb7-4d9f-9543-4cd71cb5cd33"
      },
      "execution_count": null,
      "outputs": [
        {
          "output_type": "stream",
          "name": "stdout",
          "text": [
            " 1 → JAMON\n",
            " 2 → JAMNO\n",
            " 3 → JAOMN\n",
            " 4 → JAONM\n",
            " 5 → JANMO\n",
            " 6 → JANOM\n",
            " 7 → JMAON\n",
            " 8 → JMANO\n",
            " 9 → JMOAN\n",
            "10 → JMONA\n",
            "11 → JMNAO\n",
            "12 → JMNOA\n",
            "13 → JOAMN\n",
            "14 → JOANM\n",
            "15 → JOMAN\n",
            "16 → JOMNA\n",
            "17 → JONAM\n",
            "18 → JONMA\n",
            "19 → JNAMO\n",
            "20 → JNAOM\n",
            "21 → JNMAO\n",
            "22 → JNMOA\n",
            "23 → JNOAM\n",
            "24 → JNOMA\n",
            "25 → AJMON\n",
            "26 → AJMNO\n",
            "27 → AJOMN\n",
            "28 → AJONM\n",
            "29 → AJNMO\n",
            "30 → AJNOM\n",
            "31 → AMJON\n",
            "32 → AMJNO\n",
            "33 → AMOJN\n",
            "34 → AMONJ\n",
            "35 → AMNJO\n",
            "36 → AMNOJ\n",
            "37 → AOJMN\n",
            "38 → AOJNM\n",
            "39 → AOMJN\n",
            "40 → AOMNJ\n",
            "41 → AONJM\n",
            "42 → AONMJ\n",
            "43 → ANJMO\n",
            "44 → ANJOM\n",
            "45 → ANMJO\n",
            "46 → ANMOJ\n",
            "47 → ANOJM\n",
            "48 → ANOMJ\n",
            "49 → MJAON\n",
            "50 → MJANO\n",
            "51 → MJOAN\n",
            "52 → MJONA\n",
            "53 → MJNAO\n",
            "54 → MJNOA\n",
            "55 → MAJON\n",
            "56 → MAJNO\n",
            "57 → MAOJN\n",
            "58 → MAONJ\n",
            "59 → MANJO\n",
            "60 → MANOJ\n",
            "61 → MOJAN\n",
            "62 → MOJNA\n",
            "63 → MOAJN\n",
            "64 → MOANJ\n",
            "65 → MONJA\n",
            "66 → MONAJ\n",
            "67 → MNJAO\n",
            "68 → MNJOA\n",
            "69 → MNAJO\n",
            "70 → MNAOJ\n",
            "71 → MNOJA\n",
            "72 → MNOAJ\n",
            "73 → OJAMN\n",
            "74 → OJANM\n",
            "75 → OJMAN\n",
            "76 → OJMNA\n",
            "77 → OJNAM\n",
            "78 → OJNMA\n",
            "79 → OAJMN\n",
            "80 → OAJNM\n",
            "81 → OAMJN\n",
            "82 → OAMNJ\n",
            "83 → OANJM\n",
            "84 → OANMJ\n",
            "85 → OMJAN\n",
            "86 → OMJNA\n",
            "87 → OMAJN\n",
            "88 → OMANJ\n",
            "89 → OMNJA\n",
            "90 → OMNAJ\n",
            "91 → ONJAM\n",
            "92 → ONJMA\n",
            "93 → ONAJM\n",
            "94 → ONAMJ\n",
            "95 → ONMJA\n",
            "96 → ONMAJ\n",
            "97 → NJAMO\n",
            "98 → NJAOM\n",
            "99 → NJMAO\n",
            "100 → NJMOA\n",
            "101 → NJOAM\n",
            "102 → NJOMA\n",
            "103 → NAJMO\n",
            "104 → NAJOM\n",
            "105 → NAMJO\n",
            "106 → NAMOJ\n",
            "107 → NAOJM\n",
            "108 → NAOMJ\n",
            "109 → NMJAO\n",
            "110 → NMJOA\n",
            "111 → NMAJO\n",
            "112 → NMAOJ\n",
            "113 → NMOJA\n",
            "114 → NMOAJ\n",
            "115 → NOJAM\n",
            "116 → NOJMA\n",
            "117 → NOAJM\n",
            "118 → NOAMJ\n",
            "119 → NOMJA\n",
            "120 → NOMAJ\n"
          ]
        }
      ]
    },
    {
      "cell_type": "markdown",
      "source": [
        "## Práctica 1.6\n",
        "En una urna, hay 5 bolas del mismo tamaño y peso, 3 son blancas y 2 son negras ¿De cuantas maneras se pueden extraer una a una las bolas de la urna?\n",
        "\n",
        "Se pide:\n",
        "1. Escribiendo la solución en una celda de Markdown analice el caso indicando si se trata de variaciones, permutaciones o combinaciones, con o sin repetición o el caso que sea, y el motivo para clasificar el caso de esta forma.\n",
        "2. Utilizando fórmulas de $\\LaTeX$ calcule cuántos casos existen.\n",
        "3. Cree un programa en Python para calcule cuántos casos existen.\n",
        "4. Cree un programa en Python para imprimir todas las posibilidades y numérelas. Por ejemplo:\n",
        "    - 1 ABC\n",
        "    - 2 ABD\n",
        "    - 3 ACB\n",
        "    - &#20; &#20; &#20; ... ... ..."
      ],
      "metadata": {
        "id": "YWUXIczqLj3W"
      }
    },
    {
      "cell_type": "markdown",
      "source": [
        "### Solución 1.6\n",
        "* Estamos ante un caso de **permutacion con repetición** en virtud de que:\n",
        " - En cada forma de sustraer las bolas va a importar el orden.\n",
        " - Se emplean todos los elementos, las 5 bolas.\n",
        " - En este caso, las bolas se pueden repetir, ya que al ser de un mismo color son iguales.\n",
        "* La formula para resolver un problema de permutacion con repeticion es:\n",
        "\n",
        "$$P_n ^a,^b,^c= \\frac{n!}{a! b! c!}$$\n",
        "\n",
        "- Al reemplazarla con los datos que nos ofrece el problema, el numero de casos que se obtienen son: \n",
        " \n",
        "$$P_5 ^3,^2= \\frac{5!}{3! 2!}=\\frac{5\\cdot 4 \\cdot 3 \\cdot 2 \\cdot 1}{3 \\cdot 2 \\cdot 1 \\cdot 2 \\cdot 1}=\\frac{120}{12}=10$$"
      ],
      "metadata": {
        "id": "siAxWVVekHs6"
      }
    },
    {
      "cell_type": "code",
      "source": [
        "import math\n",
        "p = math.factorial(5) / math.factorial(3) / math.factorial(2)\n",
        "print(\"Los casos son: \", p)\n",
        "print(\"Comprobación:  \", 120/12)"
      ],
      "metadata": {
        "colab": {
          "base_uri": "https://localhost:8080/"
        },
        "id": "jOjLSVI8jsNK",
        "outputId": "5829ae10-94ed-4906-9bb4-9b34e787cc5c"
      },
      "execution_count": null,
      "outputs": [
        {
          "output_type": "stream",
          "name": "stdout",
          "text": [
            "Los casos son:  10.0\n",
            "Comprobación:   10.0\n"
          ]
        }
      ]
    },
    {
      "cell_type": "code",
      "source": [
        "from itertools import permutations\n",
        "p = permutations (\"BBBNN\")\n",
        "lista = [''. join (i) for i in p]\n",
        "conjunto = set(lista)\n",
        "ordenada = list(conjunto)\n",
        "ordenada.sort()\n",
        "print(ordenada)\n",
        "print(f\"El numero de casos obetnido es: {len(ordenada)}.\")\n",
        "\n"
      ],
      "metadata": {
        "colab": {
          "base_uri": "https://localhost:8080/"
        },
        "id": "HAv3LXvpkW5b",
        "outputId": "24d8432a-0936-40b7-bb1e-791b15b06a39"
      },
      "execution_count": null,
      "outputs": [
        {
          "output_type": "stream",
          "name": "stdout",
          "text": [
            "['BBBNN', 'BBNBN', 'BBNNB', 'BNBBN', 'BNBNB', 'BNNBB', 'NBBBN', 'NBBNB', 'NBNBB', 'NNBBB']\n",
            "El numero de casos obetnido es: 10.\n"
          ]
        }
      ]
    },
    {
      "cell_type": "markdown",
      "source": [
        "## Práctica 1.7\n",
        "De 10 estudiantes de una clase, se desea seleccionar 4 para que representen al colegio en las olimpiadas de matematicas, ¿De cuantas maneras diferentes se puede seleccionar este grupo de alumnos?\n",
        "\n",
        "Se pide:\n",
        "1. Escribiendo la solución en una celda de Markdown analice el caso indicando si se trata de variaciones, permutaciones o combinaciones, con o sin repetición o el caso que sea, y el motivo para clasificar el caso de esta forma.\n",
        "2. Utilizando fórmulas de $\\LaTeX$ calcule cuántos casos existen.\n",
        "3. Cree un programa en Python para calcule cuántos casos existen.\n",
        "4. Cree un programa en Python para imprimir todas las posibilidades y numérelas. Por ejemplo:\n",
        "    - 1 ABC\n",
        "    - 2 ABD\n",
        "    - 3 ACB\n",
        "    - &#20; &#20; &#20; ... ... ..."
      ],
      "metadata": {
        "id": "opCrIDtJGg1R"
      }
    },
    {
      "cell_type": "markdown",
      "source": [
        "### Solución 1.7\n",
        "* Estamos ante un caso de **combinacion sin repetición** en razon de que:\n",
        " - No importa el orden de los elementos, los 4 alumnos que escogan obtendran el mismo beneficio, que en este caso es ir a las olimpiadas de matematicas. \n",
        " - No intervienen todos los elementos, solamente 4 alumnos de 10.\n",
        " - En este caso, no se pueden repetir los elementos, ya que, un mismo alumno no puede ser escogido dos veces.\n",
        "* La formula para resolver un problema de combinacion sin repeticion es:\n",
        "\n",
        "$$ nCr = C_{n,r} = \\binom{n}{r} = \\frac{n!}{r!(n-r)!}$$\n",
        "\n",
        "- Al reemplazarla con los datos que nos ofrece el problema, el numero de casos que se obtienen son: \n",
        " \n",
        "$$ nCr = C_{n,r} = \\binom{n}{r} = \\frac{n!}{r!(n-r)!}= \\frac{10!}{4!(10-4)!}=\\frac{10!}{4!6!}=\\frac{10\\cdot 9 \\cdot 8\\cdot 7\\cdot 6!}{4\\cdot 3\\cdot 2\\cdot 1\\cdot 6! }= 10 \\cdot 3\\cdot 7=210$$"
      ],
      "metadata": {
        "id": "Zs46BsRnkJcl"
      }
    },
    {
      "cell_type": "code",
      "source": [],
      "metadata": {
        "id": "I71hAQdT74MS"
      },
      "execution_count": null,
      "outputs": []
    },
    {
      "cell_type": "code",
      "source": [
        "from math import factorial\n",
        "print(f\"Los casos que se obtienen son {int(factorial(10)/factorial(4)/factorial(10-4))}\")"
      ],
      "metadata": {
        "outputId": "234b643d-eaf4-447d-a390-3705646b48fb",
        "colab": {
          "base_uri": "https://localhost:8080/"
        },
        "id": "jAX5qFgY7_7J"
      },
      "execution_count": null,
      "outputs": [
        {
          "output_type": "stream",
          "name": "stdout",
          "text": [
            "Los casos que se obtienen son 210\n"
          ]
        }
      ]
    },
    {
      "cell_type": "markdown",
      "source": [
        "Se identificara a los alumnos como A,B,C,D,E,F,G,H,I,J"
      ],
      "metadata": {
        "id": "O5sVEoOk8NXY"
      }
    },
    {
      "cell_type": "code",
      "source": [
        "from itertools import combinations\n",
        "from math import factorial\n",
        "\n",
        "palabra = 'ABCDEFGHIJ'\n",
        "m = len(palabra)\n",
        "n = 4\n",
        "c = combinations(palabra, n)\n",
        "\n",
        "for i in c:\n",
        "    print(*i)\n",
        "\n",
        "print(f\"Las Combinaciones de {m} elementos tomados de {n} en {n} son: {int(factorial(m)/factorial(n)/factorial(m-n))}\")"
      ],
      "metadata": {
        "colab": {
          "base_uri": "https://localhost:8080/"
        },
        "id": "6jWrgLGGBgdo",
        "outputId": "36a0670f-f5a8-4b96-fb40-0795053ab487"
      },
      "execution_count": null,
      "outputs": [
        {
          "output_type": "stream",
          "name": "stdout",
          "text": [
            "A B C D\n",
            "A B C E\n",
            "A B C F\n",
            "A B C G\n",
            "A B C H\n",
            "A B C I\n",
            "A B C J\n",
            "A B D E\n",
            "A B D F\n",
            "A B D G\n",
            "A B D H\n",
            "A B D I\n",
            "A B D J\n",
            "A B E F\n",
            "A B E G\n",
            "A B E H\n",
            "A B E I\n",
            "A B E J\n",
            "A B F G\n",
            "A B F H\n",
            "A B F I\n",
            "A B F J\n",
            "A B G H\n",
            "A B G I\n",
            "A B G J\n",
            "A B H I\n",
            "A B H J\n",
            "A B I J\n",
            "A C D E\n",
            "A C D F\n",
            "A C D G\n",
            "A C D H\n",
            "A C D I\n",
            "A C D J\n",
            "A C E F\n",
            "A C E G\n",
            "A C E H\n",
            "A C E I\n",
            "A C E J\n",
            "A C F G\n",
            "A C F H\n",
            "A C F I\n",
            "A C F J\n",
            "A C G H\n",
            "A C G I\n",
            "A C G J\n",
            "A C H I\n",
            "A C H J\n",
            "A C I J\n",
            "A D E F\n",
            "A D E G\n",
            "A D E H\n",
            "A D E I\n",
            "A D E J\n",
            "A D F G\n",
            "A D F H\n",
            "A D F I\n",
            "A D F J\n",
            "A D G H\n",
            "A D G I\n",
            "A D G J\n",
            "A D H I\n",
            "A D H J\n",
            "A D I J\n",
            "A E F G\n",
            "A E F H\n",
            "A E F I\n",
            "A E F J\n",
            "A E G H\n",
            "A E G I\n",
            "A E G J\n",
            "A E H I\n",
            "A E H J\n",
            "A E I J\n",
            "A F G H\n",
            "A F G I\n",
            "A F G J\n",
            "A F H I\n",
            "A F H J\n",
            "A F I J\n",
            "A G H I\n",
            "A G H J\n",
            "A G I J\n",
            "A H I J\n",
            "B C D E\n",
            "B C D F\n",
            "B C D G\n",
            "B C D H\n",
            "B C D I\n",
            "B C D J\n",
            "B C E F\n",
            "B C E G\n",
            "B C E H\n",
            "B C E I\n",
            "B C E J\n",
            "B C F G\n",
            "B C F H\n",
            "B C F I\n",
            "B C F J\n",
            "B C G H\n",
            "B C G I\n",
            "B C G J\n",
            "B C H I\n",
            "B C H J\n",
            "B C I J\n",
            "B D E F\n",
            "B D E G\n",
            "B D E H\n",
            "B D E I\n",
            "B D E J\n",
            "B D F G\n",
            "B D F H\n",
            "B D F I\n",
            "B D F J\n",
            "B D G H\n",
            "B D G I\n",
            "B D G J\n",
            "B D H I\n",
            "B D H J\n",
            "B D I J\n",
            "B E F G\n",
            "B E F H\n",
            "B E F I\n",
            "B E F J\n",
            "B E G H\n",
            "B E G I\n",
            "B E G J\n",
            "B E H I\n",
            "B E H J\n",
            "B E I J\n",
            "B F G H\n",
            "B F G I\n",
            "B F G J\n",
            "B F H I\n",
            "B F H J\n",
            "B F I J\n",
            "B G H I\n",
            "B G H J\n",
            "B G I J\n",
            "B H I J\n",
            "C D E F\n",
            "C D E G\n",
            "C D E H\n",
            "C D E I\n",
            "C D E J\n",
            "C D F G\n",
            "C D F H\n",
            "C D F I\n",
            "C D F J\n",
            "C D G H\n",
            "C D G I\n",
            "C D G J\n",
            "C D H I\n",
            "C D H J\n",
            "C D I J\n",
            "C E F G\n",
            "C E F H\n",
            "C E F I\n",
            "C E F J\n",
            "C E G H\n",
            "C E G I\n",
            "C E G J\n",
            "C E H I\n",
            "C E H J\n",
            "C E I J\n",
            "C F G H\n",
            "C F G I\n",
            "C F G J\n",
            "C F H I\n",
            "C F H J\n",
            "C F I J\n",
            "C G H I\n",
            "C G H J\n",
            "C G I J\n",
            "C H I J\n",
            "D E F G\n",
            "D E F H\n",
            "D E F I\n",
            "D E F J\n",
            "D E G H\n",
            "D E G I\n",
            "D E G J\n",
            "D E H I\n",
            "D E H J\n",
            "D E I J\n",
            "D F G H\n",
            "D F G I\n",
            "D F G J\n",
            "D F H I\n",
            "D F H J\n",
            "D F I J\n",
            "D G H I\n",
            "D G H J\n",
            "D G I J\n",
            "D H I J\n",
            "E F G H\n",
            "E F G I\n",
            "E F G J\n",
            "E F H I\n",
            "E F H J\n",
            "E F I J\n",
            "E G H I\n",
            "E G H J\n",
            "E G I J\n",
            "E H I J\n",
            "F G H I\n",
            "F G H J\n",
            "F G I J\n",
            "F H I J\n",
            "G H I J\n",
            "Las Combinaciones de 10 elementos tomados de 4 en 4 son: 210\n"
          ]
        }
      ]
    },
    {
      "cell_type": "markdown",
      "source": [
        "## Práctica 1.8\n",
        "Para llegar a la universidad, Rosa debe tomar un tren, en la estacion de trenes pasan **4** trenes, **cualquier tren** le sirve a Rosa para llegar a su destino, ¿De cuantas formas puede elegir **3** trenes?\n",
        "\n",
        "Se pide:\n",
        "1. Escribiendo la solución en una celda de Markdown analice el caso indicando si se trata de variaciones, permutaciones o combinaciones, con o sin repetición o el caso que sea, y el motivo para clasificar el caso de esta forma.\n",
        "2. Utilizando fórmulas de $\\LaTeX$ calcule cuántos casos existen.\n",
        "3. Cree un programa en Python para calcule cuántos casos existen.\n",
        "4. Cree un programa en Python para imprimir todas las posibilidades y numérelas. Por ejemplo:\n",
        "    - 1 ABC\n",
        "    - 2 ABD\n",
        "    - 3 ACB\n",
        "    - &#20; &#20; &#20; ... ... ..."
      ],
      "metadata": {
        "id": "-7Y5WWlDGzAR"
      }
    },
    {
      "cell_type": "markdown",
      "source": [
        "### Solución 1.8\n",
        "* Estamos ante un caso de **combinacion con repetición** por causa de que:\n",
        " - Principalmente no importa el orden en como se tome cada tren, ya que cualquiera de los tres perfectamente llevara a Rosa a su destino.\n",
        " -Se pueden repetir los elementos, en este caso los trenes.\n",
        "* La formula para resolver un problema de combinacion con repeticion es:\n",
        "\n",
        "$$CR^n_m = CR_{n,m} = C_{n,m+n-1} = \\binom{m+n-1}{n} = \\frac{(m+n-1)!}{n! \\cdot (m-1)!} $$\n",
        "- Al reemplazarla con los datos que nos ofrece el problema, el numero de casos que se obtienen son: \n",
        " \n",
        "$$CR^n_m = CR_{n,m} = C_{n,m+n-1} = \\binom{m+n-1}{n} = \\frac{(m+n-1)!}{n! \\cdot (m-1)!}= \\frac{(4+3-1)!}{3! \\cdot (4-1)!} = \\frac{6!}{3! \\cdot 3!}= \\frac{6\\cdot 5\\cdot 4\\cdot 3!}{3!\\cdot 3 \\cdot 2 \\cdot 1}= \\frac{120}{6}=20$$"
      ],
      "metadata": {
        "id": "ReRULqd8kL1F"
      }
    },
    {
      "cell_type": "code",
      "source": [
        "from math import factorial\n",
        "print(f\"Los casos que se obtienen son {int(factorial(4+3-1)/factorial(3)/factorial(4-1))}\")"
      ],
      "metadata": {
        "colab": {
          "base_uri": "https://localhost:8080/"
        },
        "id": "rUwQ2c4Iqaeo",
        "outputId": "2fadd663-5d65-4f95-9e61-1e711f57828c"
      },
      "execution_count": null,
      "outputs": [
        {
          "output_type": "stream",
          "name": "stdout",
          "text": [
            "Los casos que se obtienen son 20\n"
          ]
        }
      ]
    },
    {
      "cell_type": "markdown",
      "source": [
        "Supongamos que las lineas de trenes estan nombradas de la siguiente manera: \n",
        "\n",
        "\n",
        "\n",
        "*   Aranjuez (A)\n",
        "*   Mostoles (M)\n",
        "*   Fuenlabrada (F)\n",
        "*   Toledo (T)\n",
        "\n",
        "\n"
      ],
      "metadata": {
        "id": "mEg-t_vYraBy"
      }
    },
    {
      "cell_type": "code",
      "source": [
        "from itertools import combinations_with_replacement\n",
        "c = combinations_with_replacement('AMFT', 3)\n",
        "\n",
        "for i in c:\n",
        "    print(*i)\n",
        "\n",
        "m = 4\n",
        "n = 3\n",
        "print(f\"Los casos que se obtienen son → {int(factorial(m+n-1)/factorial(n)/factorial(m-1))}\")\n",
        "\n"
      ],
      "metadata": {
        "colab": {
          "base_uri": "https://localhost:8080/"
        },
        "id": "7kAjKqENrT6o",
        "outputId": "f5c34b31-1fd8-4add-9a2e-b38a198e534c"
      },
      "execution_count": null,
      "outputs": [
        {
          "output_type": "stream",
          "name": "stdout",
          "text": [
            "A A A\n",
            "A A M\n",
            "A A F\n",
            "A A T\n",
            "A M M\n",
            "A M F\n",
            "A M T\n",
            "A F F\n",
            "A F T\n",
            "A T T\n",
            "M M M\n",
            "M M F\n",
            "M M T\n",
            "M F F\n",
            "M F T\n",
            "M T T\n",
            "F F F\n",
            "F F T\n",
            "F T T\n",
            "T T T\n",
            "Los casos que se obtienen son → 20\n"
          ]
        }
      ]
    },
    {
      "cell_type": "markdown",
      "source": [
        "## Práctica 1.9\n",
        "En el gobierno se crea una unidad de crisis formada por el presidente (P) y 4 ministros (A,B,C,D) que se reúnen sentados alrededor de una **mesa redonda**.\n",
        "\n",
        "Se pide:  \n",
        "1. Calcule de cuantas formas pueden llegar a sentarse si el ministro de defensa (D) siempre ha de estar al lado del presidente (P). Escriba la solución en una celda de Markdown utilizando fórmulas en $\\LaTeX$  explicando el caso.\n",
        "2. Cree un programa en Python para calcular el número de casos que se pueden dar al sentarse en la mesa.\n",
        "3. Cree un programa en Python para imprimir todas las posibilidades y numérelas. Por ejemplo:\n",
        "    - 1 PDABC\n",
        "    - 2 PDACB\n",
        "    - 3 PDBCD\n",
        "    - 4 PDBDC\n",
        "    - 5 PDCAB\n",
        "    - 6 PDCBA\n",
        "    - 7 DPABC\n",
        "    - 8 DPACB\n",
        "    - &#20; &#20; &#20; ... ... ...\n"
      ],
      "metadata": {
        "id": "SOzxh_YgHnDG"
      }
    },
    {
      "cell_type": "markdown",
      "source": [
        "### Solución 1.9\n",
        ">Son 5 personas que se van a sentar en una mesa redonda (P,A,B,C,D), no obstante nos indican que tanto el presidente (P) como el ministro de defensa (D) han de estar juntos, lo que nos indica que PD O DP siempre iran juntos, por lo que se establece como una posicion fija para cualquiera de las dos variables, y los que se distribuiran puestos sin importar quien le corresponda a su lado son A,B y C. \n",
        "\n",
        "Para este problema se hace uso de la formula:\n",
        "$$ PC_n=P_n-_1= (n-1)! $$\n",
        "\n",
        "Al reemplazar los datos, daria como resultado: \n",
        "\n",
        "$$ PC_n=P_n-_1= (n-1)!= (4-1)!=3\\cdot2\\cdot1=6$$\n",
        "\n",
        ">Se hace uso del numero 4, puesto que, son 5 personas, pero entre ellas hay dos personas que tienen una posicion fija,que serian el presidente (P) y el ministro de defensa (D), se van a sentar como PD o DP, en cualquiera de estos casos uno de ellos tambien se va a movilizar pero seguiran sentados uno del otro, por consiguiente, los demas asistentes (3) tambien se dsitribuiran en la mesa.\n",
        "\n",
        "> Da como resultado 6, este valor aplica tanto para la posicion fija PD como para DP, al unirlos es decir sumarlos, da como resultado 12 casos posibles.\n",
        "\n",
        "\n",
        "\n",
        "\n"
      ],
      "metadata": {
        "id": "F8kV034OkQZX"
      }
    },
    {
      "cell_type": "code",
      "source": [
        "import math\n",
        "\n",
        "print(f\"Los casos tanto para PD y DP son: {int(math.factorial(4-1) )}\")\n",
        "print(f\"Los casos totales al sumarlos son: {int(6+6)}\")"
      ],
      "metadata": {
        "colab": {
          "base_uri": "https://localhost:8080/"
        },
        "id": "LeW24_YZTfvN",
        "outputId": "1fa1232e-66cf-4a45-be72-30f768b9d307"
      },
      "execution_count": null,
      "outputs": [
        {
          "output_type": "stream",
          "name": "stdout",
          "text": [
            "Los casos tanto para PD y DP son: 6\n",
            "Los casos totales al sumarlos son: 12\n"
          ]
        }
      ]
    },
    {
      "cell_type": "code",
      "source": [
        "from itertools import permutations\n",
        "\n",
        "p = list(permutations('ABC'))   # lista de permutaciones de 3 elementos\n",
        "\n",
        "\n",
        "\n",
        "texto = 'ABC'   # inicializamos una variable texto que es un string vacío que luego iremos concatenando\n",
        "\n",
        "for v in p:\n",
        "\n",
        "    texto += 'PD' + ''.join(v) + ','   # El ministro de Defensa (D) se sienta a un lado del Presidente (P)\n",
        "\n",
        "for v in p:\n",
        "\n",
        "    texto += 'DP' + ''.join(v) + ','   # El ministro de Defensa (D) se sienta al otro lado del Presidente (P)\n",
        "\n",
        "\n",
        "\n",
        "print(texto[:-1])   # así evitamos imprimir la última coma\n",
        "\n",
        "\n",
        "\n"
      ],
      "metadata": {
        "colab": {
          "base_uri": "https://localhost:8080/"
        },
        "id": "f-GJg9CuPb4P",
        "outputId": "548dd1d5-a7a2-4c68-c3b7-507f81a0e3d6"
      },
      "execution_count": null,
      "outputs": [
        {
          "output_type": "stream",
          "name": "stdout",
          "text": [
            "ABCPDABC,PDACB,PDBAC,PDBCA,PDCAB,PDCBA,DPABC,DPACB,DPBAC,DPBCA,DPCAB,DPCBA\n"
          ]
        }
      ]
    },
    {
      "cell_type": "markdown",
      "source": [
        "## Práctica 1.10\n",
        "* Realice una breve explicación teórica del **triángulo de Pascal**, o también llamado triángulo de Tartaglia, y de las fórmulas de los números combinatorios.\n",
        "* Cree un programa en Python para hacer el triángulo de Pascal."
      ],
      "metadata": {
        "id": "eiHdMOP-MkrZ"
      }
    },
    {
      "cell_type": "markdown",
      "source": [
        "### Solución 1.10\n",
        "\n",
        "* El **triangulo de pascal**, representa los coeficientes binomiales (numeros \n",
        "combinatorios) de numeros enteros, infinitos y simetricos, organizados en forma de triangulo, se empieza posicionando un 1 en la primera fila, en las filas posteriores se colocan numeros de forma que cada uno de ellos sea la suma de los dos numeros que tiene encima, los bordes del triangulo estan formados por 1, dado que, los lugares fuera del triangulo son interpretados como 0.\n",
        "![trii.png](data:image/png;base64,iVBORw0KGgoAAAANSUhEUgAABLAAAAT7CAYAAACOvklgAAAABmJLR0QA/wD/AP+gvaeTAAAgAElEQVR4nOzdd5gkVbn48W/vbISFDbCw5LTAkkRQARUlKQZEDJhQrzmDWdSr14gKXlFE71WvAZGgV1S8yr1KUhFEEAEl58wuLiwbYPPu9O+Pt+e349AzU3Wququ75/t5nnoWZrrqvNXToeo957wHJEmSJEmSJEmSJEmSJEmSJEmSJEmSJEmSJEmSJEmSJEmSJEmSJEmSJEmSJEmSJEmSJEmSJEmSJEmSJEmSJEmSJEmSJEmSJEmSJEmSJEmSJEmSJEmSJEmSJEmSJEmSJEmSJEmSJEmSJEmSJEmSJEmSJEmSJEmSJEmSJEmSJEmSJEmSJEmSJEmSJEmSJEmSJEmSJEmSJEmSJEmSJEmSJEmSJEmSJEmSJEmSJEmSJEmSJEmSJEmSJEmSJEmSJEmSJEmSJEmSJEmSJEmSJEmSJEmSJEmSJEmSJEmSJEmSJEmSJEmSJEmSJEmSJEmSJEmSJEmSJEmSJEmSJEmSJEmSJEmSJEmSJEmSJEmSJEmSJEmSJEmSJEmSJEmSJEmSJEmSJEmSJEmSJEmSJEmSJEmSJEmSJEmSJEmSJEmSJEmSJEmSJEmSJEmSJEmSJEmSJEmSJEmSJEmSJEmSJEmSJEmSJEmSJEmSJEmSJEmSJEmSJEmSJEmSJEmSJEmSJEmSJEmSJEmSJEmSJEmSJEmSJEmSJKnL9FUdgCRJ6noTgOcD2wN3VRuKutxs4GhgPDCv4lgkSa2xIfFZ3wf8o+JYJEmS1OPGA88FvgcsBOrAKuBVVQalrrMNcRPzFeAaoJ94LS0GnllhXJKkcm0AvAz4b2AZ8Vn/KLB/lUGpu9SqDkCSCnoH8G7gDuBu4E7gVuAm4KEK45J6zTjgycAhwKHAs4CNmjxuHfB64MftC01dYBqwC7AbMBfYHdgP2GKEfR4jXnOO6pOk7jOR+Jw/DDgYeDowqcnjHgMOB65oW2TqWuOrDkCSChgPfIyYtvSkJr9/FLgWuK6xXU8ktla0KT6pW00GdgX2BfYhkgh7Axtn2LcPeBEmsMaiJxGfx9sBWze2bYEdgK0SjrcRsCUmsCSp000F9iCuGQauHfYkridGsxGR4DKBpVGZwJLUzV5N3CwNZybR63PYoJ+tA24AXtf4VxrrZgNvBOYAOzW2rXGUtvL7NZGwkiT1rjnAMay/bpgDbFZpRJIkdbgaMaqqnrhd0P6QpY50IOnvo+G2s9p6BuoU91L+a+nAtp6BJGk0x1D+Z/3H2noG6lrjqg5AkhIdAexVYP/nEqumSZIkSZI6nAksSd2qjJ6aQ0s4hiQp1KsOQJIk9S4TWJK60bMovrz694GPlxCL1O0eB+ZVHYR6wo5E0fX9gLcQn7NLKo1IklS2xcDCqoOQJI1NfcTqYq8H3gd8GHgTsD/ZVg6pwv9SbJ79N7FAtTTUVGLloDcCv8QaWCrH5sSCGdbAkqTeMhM4ADgWuAxrYEmSWmh74OvAIob/MnmMuBGdU02ITe0N9JP+BfllTF5JWRyHCSyV4/mYwJKkXlYjOohNYEmSSvdeYBnZv1SWA6+uJNInOpv0L8fPVhCv1M1SV5UzgaXBNsQEliT1upnAGkxgSZJK9EXSvlhWEcOEq7Qj6V+MH60gXqnb/RgTWCrHEkxgSVKv+xsmsNRCFnGXxpaXkl64fCLwpRJjSfFhYHzOfepEba+Tyg9H6nn3Vh2AesbiqgOQJLXcfVUHoN6W90ZQUvcaB3y14DEOJqaCLCscTX6zieLSefQD7wS+W3o00thg0kHScCYBWwGbAZsCmzT+Hfj/TYnFIaYR9xwbARMaP5sEbNA4zkAtzoXAI41/72xstwDX4IpnUrd4rOoA1NtMYKmZQ4glsHvZZcCfqg6izZ5BFG4vagvgjhKOk9f7gCk5Hr+OSHid2ZJopLFhTdUBqGf4WupOmwK7ElP4dxjy71aUsyjKjMa/M4Gdh3nMPcAfgIuA84lEl6TOs6LqANTbTGCpmXcDR1cdRIutBt7M2KrTsk9Jx6nionE6MZIqq9XAa4GftSYcacxYXnUA6hm+ljrfDsCTieuFfRv/vVWlEa23PdEp9UYiGXohcAbwc0yOSp1kddUBqLeZwFIze1UdQBtMJC58HgAuqTiWdtm8hGPMp5opRe8kklhZrCISsOe1LhxJknrKb4HnVR1ERhOAFza2+4GvA98kvv8lST3MIu4aagowp+og2qQG9FUdRBuVUT/inBKOkdcU4L0ZH7scOBKTV5Ik5fFQ1QEk2gb4CnADcFTFsUiSWswElobaFZM6vapoza/HgX8vI5Cc3kDU3RrNY8DziWkFkiQpu9vb0MZKomB7K8wBfgn8gCgSL0nqQSawNNRYGX01YEHVAbTRX4CLE/etA+8iply203jgwxketwh4LnBpa8ORJKkn3dWi436NGPFeI0ZUzyTuPzYFdgFeBJwIXE45tazeRFwLzC7hWJKkDmMCS0MNt/pLL1rD2EpgAbweuDHnPsuIC8IqVvN7BbDTKI95BDgMuLL14UiS1JPuHPL//wD+CHwf+EyB4zarS1UnRsDfDvwv8HHgmcDWRKfVgwXagyg+fykwq+BxJEkdxiLuGmqXUX6/FvhP4M/AuhzHnQt8LjGmU4HLcjx+IjEa5w2jPO5B8p1DL5hPXCR+DngHMGmEx64E/rvx2Fb1zI6kBnx0lMc8RCSvbmp9OJIk9aybgGOIpNJtwNJBv5tGsSRWVguAk4nrzE8Cx5N+rzIH+DVwKK6AKUk9wwSWhhppBFadWL74rITjHpgUTbiS/MXDzyJqIh07wmPuSQ2oyy0B3gd8iljBZ29gS2AyUefqIeI5/yOtq1WRxQuI2IZzH5GovK094UiS1LMeB35cdRANK4BPAL8Dfkb2VYiH2h/4IvD+kuKSJFXMBJaG2mGE3/2AtORVVQZGGU0Y5vf3tTGWTrSEuFjtlAvWoUYaQXc30at6T3tCkSRJbXYxcDhwEbBx4jGOI65zLDMgST3AGlgabBLDr/Y20BvWTR4meu+GM7TegzrL24hpBGuH/PwW4FmYvJIkqdddBbylwP7jSC9hIUnqMCawNNg2RN2hZk4jCnp2mz+P8Ltb2xaFUiwF3gPsBnyLGDF2PXAwxQu8SpKk7vAz4KcF9j8ceFJJsUiSKmQCS4MNN31wLfCVdgZSor+M8Ltb2haFirgDeDewGfAMujORKkmS0n2CJ47IzuOVZQUiSaqOCSwNts0wP/85UXOoGw2XwKoTK+2oe6wmisxKkqSx5Q7gVwX2f2FZgUiSqmMCS4NtOczPv9XWKMq1kOa1ku7HZZUlSZK6RZGFhPZg+EV9JEldwgSWBpvd5Ge3A39sdyAl+1uTn93Y9igkSZKU6mJgXeK+E4EdS4xFklSB8VUHoI7SLIH1A2K6XTf7O/CSIT+7uQXtTAWeAxxBFBn/TMIxZgMHAc8EtgM2IRLNjxAjyf4E/IHW1YGaTBRJPwp4Kv9c1P9gOmMK3xbAU4AnE8/RbGAj4vnvJ0bdPdr49ybgMuCGSiJ9osnAc4GXEtNbv13weOOJwrRPBXYG5gDTiefjcWIlzr8DvweuIP3CvxWmEX/HfYDtib/lho2fryH+hgN/x6uJ1/5dJbU9CXgx8CrgA8SIzKJmAYcAhwHzSXv/p5hB/P2f0tj+CHyjTW13up2AA4jX2KbATOL5mgI8BqwkPqvvIBb1uBxr7A1nPPH62hvYhXhupxLvV4hFNhYQz+N1xGfOkvaHWbppwNOBfYnkx9bE5+skYlr7MuAh4rPpBuL7Zn4lkY4NS4jX2O6J+08vMZYs+oBdiffOnsT1y+bEa2gi8Rk0cM3yD+K77hLivdQJBr6n9yPq5M4YtEH8PZYRn6MPEtdc1xPvh0663hhsW+I7cyfiPb0lsAGwMXHNu5C45l5I/E1uI15zN9M55zSJuPbbF5hLXAdvSpxDH3H9N3D9dB/rX1fLqghWklrpxcBviJvHeuPfZkmtFAc2jpmyHVOw7Zc0OWaRJZkHTCISTR8jegVXDWnjSxmPMxF4A+t7Fkd7PtYBFwGvp/hw+BpxUXUsscrPYyO0O22YY7Ta1sBxwK+JC6SU19AdwPuIBEm7zQHeCPyEWFlxIKZ+4F0Jx9sUeCtwHjENNutzcBvxOutLPpPidgL+FbiSbK/1ods84DvEDWVeGwJHA2cAiwcd81Lyd+ZsQFzQvw34D+DaIefT32irbDOJBNlHiRW57uSJz9Fa4HkltvmuJm1k2YpM9UnVR3QinEncAKbEfTPx2b1Xm2PvRJOIwtfn8s/vmSzbSqJ+5hGDjnddzmMMbAe27hSb2pT4vriUtM+pG4j36HBlGbrRNNL+dnWyXwtl9esCsRxUcixD1Yik+UnE62eka6rhtrXAhcTKiVXYGfgsMVOhf5gYR9uWE0mTbxC1x6a09Qz+2WSi0/BMIpmT+tpZSvxdPs4TO3hbbSLwAqKkyzVE8jzlb3IW0QnRav+ZEF+duJ+SpCSziFXfvlDiMatMYG1E3NQM3jbNeYwNgacRia9TiFEOKzLE/t4RjjmeSBzdn+E4w2138cTRZSPZgUhUfpK4KXk4R1vtTGBtDXwE+DPpF1DNtoeB99O66dNbECOsPkgkrEZLuPWT/e/3TOBs4sawyHPwK2LkRLuMI0Y6XUK5f8ubgTcz/N+yRiQhPgj8lpHfr88etN94InG/JzHq8BjigvU7wPlEInBthviWkm+6yjji9bMv8CIiSfkF4MfAVURvatbnZjExoq0M3ZDAmg58jvQE93Db5cTnZTtvVDrBDOAEYvRBGc/j74lRcJ2ewJpLjIpdlhjn0G1V43jDLZDTTTopgXVagVj2LzmWAc8ATqXY9Vyz7erGsdvhpcQ1V5nxD2yLge8RI+fbZXfgu+RPvmfd7iW+d7ZuUfx9xGyIM4BFJcbdTySBh1t5vgwmsCT1hCoTWHnMJm5YPkh8AF9ETN1L6YWtE6OamnkaUZurjC+jvzY5/h7Aq4lE1Y+Ii5KiX+LtSGDNJaatDh3NVvb2f6QncbYlRhW8A/g8cDoxrfORxFhOGqW9w4kb6TLP/2ra8/c8Gril5NiHbtcQiaZtiffup4BfENN4suy/gPUjGe8pObbBo09G8m9kS4q1ou3RdHICawqR6F6YGGPW7Sqix73XTQQ+Qbk3SwPbOtKT761OYO0I/A/lJtgHb0uJUcTdnAjtpARW6s1xnfSph83UgCMp//t56LaWGBHYKgcQo8VaeQ6Dt/NobS2yfYjZJK16Pw/dVhEd25NLin8ScX15R4vjXkLrRvmZwJLUE7olgfWxAnE2264YcvwakRxbU8Kxh2sDWnMx0sqEx25Esi81UZiynU/adLoiF8/Nth8N084BRD2VVp3/LxLOPasdgN+1MPYyt88PirvsntqsSaQvteC8ej2B9XSaT6Fs1bYO+Aq9u4rZfqSPkGr11qoE1nhiql+eqdhFtl8SNWq6USclsH5UIJayamC9gqj11M73wdtLin3AJOBk2pfoGbwtJ2q8lmk28H3aex05eCu6YvtE4v5gXhtjXkVca5bNBJZaylUIpdYaPLR4InFTdzLlLqDwYInHardJRLHrvwEvp72fSYcz+uindhhaJ2VbYqrg5cS0wVZ5KeXWShrwKuLveUgLjl22FcSFlrpHHzFK6I+0d0WxccCHGu32Um0jgPcQyfKxVPdrJ2Jk3Ym0rz7PUcR0ynYXEu81MxP3m0d0UhSxPTG656fENPN2+gbwrJKOtTFxHh8k/8jA5RRfoGEK5XaKHk3UnhuprECrrSyw79OJ2RQnE6UE2mUi0Zm5VRvblAozgSW11mwiWTWVGDb9mha00a0JrAOJRMeniS/RKnyAcqcUpBi4GR5HTBO4mXidtGO6SZm9XTWiHsSPyT7KYCmRrPs0kcj8PtGr3S7/hSuGdZPJRO2+E0jrBChjBamBkZGtrB/SLn3Ee+Cb9O7IsmYOIRaSyFOPZyGxWMOFxN9/aWLb+xI1+TZI3F/pCawiqxGPI5I9NwDPL3CcIiYS79Wi1wYbABeQr5PpF0Qx9k2ImrDTic/jpxIdgXlXqK4TNUmLGk/UmTuHtBFd9RJiGJDy+tqISExW2YGwBXHtJkkaYqxOIawTPb0Xt+C4A9sHmpxHp08h/BBpNX/uJwqBfpaoOXA+aauxDN7OyBl72VMIFxPL0rdyuuBIWxkr0tSIC+usbfYDX2f4RNdTiL9tK8/7UWLBisFeRqyS+EOiblzRulRZp/HtSiQtjyUKAf+1hPPrtSmEGxLJgzwxzCM+K/Zj/SibiUTi4nOk162rE59FrSre2w59pE/FepSoGfUNIvl8EpG4vjXxeKNtZU4hfB35vjN+Taz8OTRp0EfU3Lsp8ZxOK/Gc2qFTphDWSH/ffiixzelE3cy87fUTidKvEZ9D3yKSHEXfD0cmnseAs3K0tZaopzqaLch3nXt7wXOASP7kvU5YTCzIcnAj5hqR0Nub+CzLWjuz2bZrzvh3IVZ6zNvOKiIJfiLRmXM6xRcwWUWM/i+LUwgl9YRuSWCNAzYnekJeRHyhFf1iuLrg/qNthzY5j8lEQfTnE9NtLqZ4nYMyElh9xMVD3rYfBV5P81GjWxA3T6nntZp8Bd0nEa+Po4nn9udE72OR57ZdNViabWXcXHwhZ5vvyXDMgXpxZdbneIx4P/6EbDcBsymWWCySRHoWxVaB66UE1hTyJ+VPJ25wRrI5cSOQ+hxfR3tXZy1Tyg3G74jvxZFGzO7ROHbRjoXBW1kJrFeQPSm9hmw1hzYkklwp5/Wyck6rLTolgbVXgTjmJrS3JWlJhj8z/Ai/gyi2uMmvEs5jwNE52zolx7Enk/3zdLgFjrKaRtR/zXMu32b06bszSLueXEC+kXEHkG9l4YHtxzTvOKkRnWBFFuD4ZI74R2MCS1JP6JYEVjObkN7L2o5t04znsT9pX5gDW9EbtT7ipjJvu4sZvWerRiQlUs/tBQXPbRPgkgLtV7n9ueC5v4x8Sabv5zx+kVGR7yE+e+aS/X0y1NwC7RdNIv1LhW0P6IQE1pk52/6PHMceT7EEeCsXQ2iVj5LvHNcRq+jlsRvldd6UkcB6AflWt31vjmP3kTZi9AEiAdYNOiWB9Z7EGFK+57YG7kpo62Kio2skWxB//5RzWUTaAjQTgbtztrVPzjZmZGyjSLJkA6KWXJ7z+Nccx68RI/3zHP8nOY7/bKIzLe/f/asZjn0A6YtE/S7HOYzGBJakntDNCSyIno3U+EfbbiWKaf4I+BP5VlB5IOd5vLtAnEUTWKlfaG/OePxZRFHulDbKuMDePbHtPNs9xIXb2cRN/V8oPkJpeYFz3oyoDZO1rcdIK2D8qxxtDN6Krgo0IDXxWzSJNI30aYy9ksDKm2y5hPz1PSdSbKTdGxPPrQoHkf819a7EtiYRtWmKfD7VKZ7A2o587+H/S2hjNjEKI++5fTDxnNqtUxJYf06M4ZU525lF2sirZcRrIYs3JZ5LnfyJJYgpr3nbSakr9bwMx90/4bgD8naEpizU0kcspJO1jbdkPO5epK12fAPZk5bfTjh+nbh+TkmMNmMCS1JP6PYE1kakx99s6ycSVs1W0XoW2S+E/yfneexSIOYiCay3Jbb5MPmKNZ+X2M4PC5zbgBrlTwVcR9xMvZFY/aiZvYnC70XamZF4zmfkbCfPyJjBdiZW+Ml7XqtIL/g72B0JbdcpJ4mUclNcVttQbQJrf/IlW9aQNk0IolbhshxtDd4eoTtWltuI/CNKvlmwzT7yj6AbuhVJYE0k/1Sj1GXl35+znTpRp63MVYlbpRMSWAcntn8t+W7Ma0SnYkpb/5WjnWmkj5ZJ+Xw/LaGd3RLagZFHpP+D9EXE8l5L3kz6+2tHsn8nbJfheNNJG9FXb5x3VocktlEnOiXLYAJLUk/o9gQWFKtHM3h7jNF7A/cn2w37R3Kew4YF4k5NYO1M+o1h3loPn0psJ6XHvZmHE9sfui0E/p3mCc5mdiPf9JihW9Z2BtuDfKMF6xQrPps6RTRLHZvRXJfYdhlJpHsrbBuqS2CNJ24887R5TsE2T8jZ3uDt3wu23Q5fI985LaCcxNxE8o1mGLoVSWDlnYL81wJtTSGtwPgLC7TZLlUnsPpIm6bfT3QK5pGSiBzY3pSzresT23ljznZS28p7PgNGqrX1g8Rjbkf+eqMvTWxrwJcztHFdxmOdnTP2wVuejpkNSR+Zv0eOdkZiAkstlZoBl8aif5RwjBXAUcBPR3nclWQb9nxZzvaX5Xx8GU4lfcnwx3I+/u7EdkYr9pxVkel4EK+PLxGjQT5C9NZlcTPFbt5TRil9iPzfIXlfr4Odmbjf4QXaHLCuhGOkWlJh21U6juGLIA/n7IJtnkx0HKR4D509CmsnYgp5Hl8gprsUtZroiHq8hGPlMRv4eM598o5qHmwFMQo4r07ppOtkHyNqB+X1bWIBiKy2JFYMTLUq5+PvTWxnyugPeYKsUxsHez8wIWG/84Clw/wutQj9N8hXM+5K4NzEtgacyPDnMSBLG4cQpUhS5bm2XEb6/UrqaHyprUxgSdmVcSP5OrIXSjyJGF4+nJVEkdxO9gxiJcQUC8l/QzrahUarpd789hMJmrlEsdGUm8ZfJrYNsXpQHpOAl+fcZyVRfDbVBcSNcF5PKdDmgHbfeA+2osK2q7IRMZoyj6XEtJ8iFpFelH0K8NaC7bfSZxh59cCh1hBThMtyD+kdDKk+A2ycc5/zC7aZ8hp8Hl6Pj+RNpCWVbiI6WvI4nvyvmQFXETUq82hnB0WeVfIGPAn4SsJ+K4li9kM9TNqI98PIP4L7hwntDPUoUXNrJFkSWF9MbL9OdE7Oz7lf3s5fqav4hSlll3LzPNh/ku/m6B/A/47w+8spHlOrpfQsX0lcsG7DyOffzNqE9sqUt/d1wKuB1wP3FWj7qgL75nUg+S/yiySvIF7rNyTst03BdqvW6e/xVngn+UczXUp6Anmw7xXYN0+dknbagvxFrC8gbt661UxiFc881pJ9OtBwUjqVNiVqGfa6vKOGphAjkr9P/uLSDxArT+btAHh1zsevIlYxfTawH/kTDe2UGtt7ifqVef8Gf2rys++Q9p2Wd9XCdcDPE9ppZqAoejO3An8bZf/tyF9XbxHwdWJK3ysZuTO7mTK+C6WOZQJLyq7ISIhbyN8TCCNPRyirblMrZZlOsZbotXw/UYvpAKLnbCyNPCnjovcB2jfVLWUFpJTe36FSbi77SO9RV/tNAj6QsN81JbX/B6L2U4pdiFWmOs27yDf6CopPvanaG8ifMLmN4jd+d5L23VXGSNFO9xFipPBLGLmswPbA+4jFMz5G/u+Oh4m6YikdQlmuWR4lRky/klit8BjyTVOsyj0F9n038dm4U459ziA65o4nkjFnklYrcH+igH8evydeB2W4iebJOMg2yuteov7YaO4jFs14LrA5cU18c4b9pDGnG1Y+kXrBh0i7MP7DCL/LOzqpChcQdZwGFwnvJ76ULwYuIgqzVj31rxesIwoIb96GtnZI2KeMOmMLE/ersoaV8nkxMWIor7ISWHXiZjTvFNkBLybbzUq71IibyLw6fXr6aN6csM+tJbRbJ0ZP5E2e5a331o3OJ6YCHkVcD91NfKY/0vj/WcRolTkF2riPmJJ5S+L+3wHeMuRnK4iVLC8irlv+Snd+p5wPvKjA/gcCfydGxX2V0RO1C0ivXTlYynv58hLaHexsnriYxDqyT7P+Nk9chXkRcf17cWMzWSVlZAJLar3fkj5a6k4iuTN0BMk9pF+gtVM/MZpiYGj9dcTKYlXWFOplRYvIZ5VSrHpDotZWkREOKbXB1lLN4gVKc3TifmVe/P+R9ATWM0uMowxPJUa05LGW7r6Z2grYM2G/h0pqP2V2w7Yltd3JriJGxcwivgt2K/n4FxB1RouMvLkK+Dfib3gXMT3sFqovT1CGM4mVVlNXlIb4Hj+BWN33X4npk/3FQxvWZPJPf4byOxF+TixINPi++RfAgxn3P5P4HF5MvJ6upf01AaWeYQJLar2iPVA38cT586mFhqvwK9JXnVE+7UoMpk7v3JXowU2VcmN4W4H21F5TiKk/KcpYJXZAkelA+5cWRTlenLDPzaTX8+sEhybuN69gu1OJ12/KKNitCrbdDfqBCyl/1cVlRI2kUyknmXJCCcfoRIuBDxI1xYralri2PZ5IZLVqRsAhpHWY3VhyHAuI65c5RCJqR+CsHPsvJZ4rSSUwgSW13nDFH7Nq1sNTdLn4XjKRuLDYnfyr1ChN6kiFvSiWwEpZ4rlIe2qvg4gkQF4rSRudN5ybiRvhlITpTGK5+rJG8xT1jIR9OiX2VAcn7vf5xlaFDStqt93+l/ISWOuIJMKnKVbfqd2mE8W596T9xft/ABwBvKyk4z2JqBt2GfDxxr9lOjhhn9XA7SXHATEi764WHLcsW7D+dTW74likljKBJXW+y/jnId+P0P31SVJtBDyNGJH2ZOLLemdgQpVBjUEPJO73AoqNSNwuYZ/zC7Sn9to3cb9HSo0iEmL3k/Z6g+ih74Qk0Hjyr34F3T/Fu+ypae3QC1PUsjgfWEKxaWxLgNOJlZ3LqFvWStsSozKfRiSrdge2rjSiqIm3FeWOFj2QGLn6a6Lw/k0lHffZCfssorffT+OITtuB19UeROfgzCqDktrJBJbU+U5pbGPRbOA5xDDy/YiLP1dPrd4fEvc7klh9KrVW19NzPn4FTl/tJqmjERaVGkW4g/QE1jZE0eeqbcPIq70Np9sTWLtWHUBO1xKFzceChcRIkSOJ6ZZPJ1bvHEk/kRC5lBjBdTHFV4tshRqRSDicqIW3P2kLUrTacqLQ/f+RNkJzJEcSI7x+SBTsT1kJcrDdE/ZpVy3QdhlPvE8OI/5e+1EsASx1PRNYkjrN/kQB5cOJ4el5l9BW691CFCDNuxrhRsBxwEkJbe5N/mHxZ9Ka5IZaY6+qA9PqVZEAACAASURBVBikSIHdlKRRK+RZ8n6wbk5gzaR7RiI8TkxZPIWY9jRWrAB+2tgg3i/bEZ/v01l/b/I4Mdr3Tjo3KTGFWNnvSOC5dM/UrSVErbhvAm8t+djjiJUDXwN8nXiNp/z9NueJCxhl0c2fXwM2Ia6DX0h04KY8D1LPMoElqRPsSCxd/RryJ0VUje8AJybs93HgR8SqlHm8PefjVxLLfat7pBS/htasMlkk8dkpCaztE/frKzOINuuGkQlriFpEnyX/52AvWk7UneumlS+fA/wL8BKiY6YbrQLeRoxo+w/KT/xOIaYTvrLRzu9y7r99YrtLE/er2gRiFd7XE68vS2NIw3AqjqQq7UP0wt5GrGRTNHnVy3UPOs03SLv5mkbUQclzo7kXcQGcx0m4THW3SU0+tOJ9XyQptqa0KIqZkrhfyqpfnSJlEYB2WQ78FzAXeCcmr7rNOOB1xJTPC4lEQ9HkVSdcs/yEKPz9Y4ovOtTMjsBFxDVenhH1qQsbdMJzmseGwEeJkYZnE7VCiySv+okFDqSe5QgsSVWYCXyRSEqkJtIfBf4C/I24oPwbUfvEmkftsRz4MPmWkh6wF9Eb+1piOuJItgPOJd8F3eXAFxLiUnWmkj7ypxVJiyJTljpl2mrqDWA3J7CKTLX5DLGiWqvcQ9SAUvd5KlE0/mkFjnEnT7xmOYXyVmUsYj4Rx6nAV4gaXmWqEd/JuwFvJFuCJfXzq5tW9Hwp8RrYNnH/fmKl5b8Sr6e/AdcR10CdNCVfKpUJLEntdgDw36R9Yd8I/Bz4LXEhOPQiaOdioSmns4lVgt6RsO++xGqa3yRqVV0/5PdTid7uzwOb5jju/cCr6JxRMMqmyLS1VtywFKmj8mhpUVSjmxNYRWomPsbYXeFXzdWADxHT0fPeM60jrlXOI0Ydd8OI4CuIFQVfCnwZmFPy8V9H1EB7B6OP9krt3OyGacSTiYTomxL2XQ78DLigsT1cYlxSVzCBJamdXkXUP5qYc78/EImMvDUU1HrvJ5KRL0jYdwPg+MY2n0g+PUoUMN2LuMjL40GiMO0DCbGoWkVGPLViBFaR66NOef2lTqXZnUgoduM0lCKJxy1Li0K9YALwfWKqYB7riI6ZU4hRd93oXGLFx7cBnwI2K/HYbyOSeaPVqFyVePxOT8BvQjy3++fcbylwAvA9OmeUr1QJa2BJapfXEiN28iavTiQKWpq86kwriSXgzyh4nC2I5aGfT0zTyJu8up5YavqOgnGoGmtIT7i04oYldVTXYjrnNZhax2sqMdWnG60ssG+3rCCn1usjRornTV4tAY4gOnbuKTmmdltNFHffiVhwoMzV/T5FlHwYSWp708l//dAu04Dfkz95dWtjn3/H5JVkAktSWxxKrLqU9zPnRGLVum4cCTCWrAHeALyLmIbTTnXgW8TU1Pvb3LbKlTpyaQqwTZmBkD4C6ypaUwg5RZGpJUVq/VTpwQL7Prm0KNTtvkxMo8tjFfAyYrpgL3mcqA83hxiRVsbn22RilNpIHko89gTgSYn7ttJE4Bfkr031ANGJO1q9UGnMMIElqdW2BM4h/8irC4hVa9Qd6sC3iQvHXxDFRVvtWuAg4N0Um4KmznBXgX1H683PK3Va4uWlRlHMfQX2TZkS3AkeI71Q+m509iqGao/XAR9M2O9YOnuk+Obkqyc51D+AtxJ1L8tIpjyHkZM595F+HbFf4n6tdDLRmZvHWiKR2inT0qWOYAJLUqudTKw6mMcK4kKpU0YyKLt7gJcDexC9tanTmEZyJXFR91Tg0hYcX9W4qcC+ZU95S6358stSoyimSELwKGBWWYG0WeoUznF078gzlWMm8NWE/f5AfN91slOIUZnLic/a3wLPSzjOZcT75JwSYjpqhN+tJn1UdaclsJ5GdLTl9TVihUFJg5jAktRKhwGvTtjvXJwO1u1uIZKQmxHF+68qeLzriWkdTyKmC/6S9ozyKqKblvPuBFcW2PeppUURUgp630QsY94pHiG9534i8C8lxtJOVxTYN++0MfWWE0hL3H6dzu9wO6Dx7xQi4f884C2Jx3oceCXxfBWxzyi/T71ueAmdM5qyRqw4mPeeux/4RvnhSN3PBJakVvp44n6/LjUKVWk5UVR1z1Ee9yCxhP0VwG+I3ux/A44kkglPAj5KJLK6hSv95vOnAvs+n3KvaVIKep9dYvtlKZI4/gCdcxOYR5EE1jHkn+6u3rAFaQmdfmJVuU62EbB9k58fTtSMSvVvRIH3VKPVLkydkr0RsXBQJzictA6Wv2FHrtSUCSxJrbIZ+ef7DyhSiFedYypwJvAdotd3ONcTBZSfSqwk+EJi9NYJwHnA/NaG2TLdOgWrKncD1yXuuxnlTf/qI1beymMFnTmF6A8F9t0K+ERJcRSxQc7HX0AsLJFiExyFNVa9hLTk5QLSX2/tsv0wP59GfN8W8Vmi0ynFaKsFFimI/y464z73NYn7WfdKGkYnvLEl9aZDiKHTKVLrJk1K3E/l25MY/TFaL+gjxAX0Iy2PKF3qKpg7FGx3Y6Lw7ljyiwL7vqSkGPYk/8ij/yJ91axW+p+C+3+A/Eu+N/M+0uuU5R0h8ihwSWJbAJ+n9d8lmxKLlGzU4naUXWqHW5GVd1NHP+W9thrpu+j9iTEMqANvI2pW5TXaPjcBNyQcF2Bv0upO5bEHoyc9D0k8durCNDUcRaoeZwJLUqvsUmDflJVyDiduIlN4E1GuFxP1jOZmeOwn6PyexscT99ujQJv7EMVbd07cf+MCbVfpNGLlpRRvZeSRflnlne6xgqjP1onupdg0wknElO45iftPBn5EFJBOnVI7PWGfHyW2BfGeO67A/iMZB7wDuBn4AlEIu69FbSmfLN9XzaQs+NAHfAk4OrHNvAvjzBjhdwcDT0mMY8CDwE8S9ns0w2OKTM3+IrB1gf2HMwU4iZjm960RHjeV0adJDidlBPc0ohModVXevKNdpUqYwJLUKlsU2PfAHI8dB3yKGMK+SWJ7RWLVP3s7cQGV5UJoJZ1ZN2ioxYn7PZP8IzkmAJ8E/kx68grSV9Gr2n2kr+S3KeXUPXlRzsefCMwrod1W+XbB/WcBF5F/Za/9idfx6wu2n1JQ/78pNvX4C6SPyBnOAUQy8dus76R5HlFHSNVL/cycBuyVs50LgY+RPko9b6yjjSj9eoFYBlyUsM89GR7zXaKTIMVGwK9IvzZs5jCi7MHxRFL+zcAHh3nsTNKf1/3IN0Jvb+LzpchIZK+F1RVMYElqlSIFrN9MtpEUOxGJq89S7PNsuPo5+wHPKXDcsea1xM1Z1hEF4+iOQuepyYkpwOtyPP5I4BrKmcLULNkwmxil1OlOJH2FyQ9QbPrEbPIlsP5GjKToZD8GFhY8xnbAZURydbQRq1sS9cAuJ2rbFfXsJj/bnpETY6uJUV+pJhKr4T69wDEGbMv652PfJr//JM3PUe1V5HMj64i9FxCf8anTygYcwRMTIxOJektbNXn8aO/ZZ1L8u+HuhH2uyfCYR4AfJhx7wD5Ecq1oTcotiBHCF/LEGolfJv4mQxUZ0bQR2VaCHQ8cS3y+FOn0gubnMJ2YimnOQNKYcyAxTz5lO6aCeJs5j+6Of0Dq32FaznZOLNBWnbhgGS4RMpUo8L28YBuDtxuJi8tnEz2jf2v8/Hc5zvm6xLbzjDjr1PYPIm4a87Z9F5F02L2EGFrlbaS/rh5k5CkMNWL665UF2mi2rSWe112BlwM/Jf4+/cCOOc79XYntn5WjjWZOT2y3TkwbSfWJHO2sopwETTscT3mvraXEtJk3AM9qbC9ttPFHomZcma/lfuLz/jnAe4kV39YShbNHGjEwmRjRV6TtlcTqpynT/HYjprWvGqWNeeQbwVOFaaQ/h52e4B1wO8U+b48a4di7E51tZb4vziAST0cC3wD+0fj5u5q0/6UMx1tG/lGWg+2fcA5ZEy6zic+dIs/XQ8CrE85rc+I75fFRjt9sCuWmBWN+lJGnth5M+nVfs62fqM23H5EMPYv119l5aiH+Z2L7H8vRhiS1nAmszpH6d8ibwHp/gbYGtsuJHqh9iOkXryAu2haVcOys2+oc5z5WE1iziERN0ef6QaJ2zYeJm4G5dEYx0qdS7LzmAR8inufdiZuOVxGrM84reOyULc/KclUlsGYTPe8pba8lnuO8tgGW5GinG0azDdiAal5rrd4+Psp5v7qkdq4mRpiO9l2wI/AeIpGX5bh3kX/FyyqMhQTW5RR7jawlPtOPJBKSzyJeCxc3fteu98R5Tc7tGxn3vZ/0xUeOyRlnltFXg3085/GH234PvImR64JNIhaXOZ1IYo92zN8x/Gir0RLYo21LiFHZzyEWGDmUGLV5TUnPR9btcyM8X0OZwJLUE44j/UPz8xXE28z5pMVftP5HmcaR/neYnbOtowq01WnbKzKe882Jxy9r+siNie0XrfWSmtzNsq0F7iB6r08B3kn0OuZ9PRYxnpiCVfXrsKztxhznnpqITinoO9RLE9uuE3XL8kz/2ph8o+C65aZ8sFdS/Wuv7O0uRp/a8vMS21tNjM49FziTGNn4W+BSYEHOY91AWn2vKswk/Tk7uYJ4U5xB9a/nMrblPLEEQ9YEVh14mLRrknNyxvmynMcfT7kjlVcTqxxeTNTiPIeYHngN+UaT/wnYcIS4bysx5iq3q0c4x6H+K7GNT+ZoQ5JapkYUdV5B+ofmWqLIaZUjMV5E+nS16ylnGfKixhE9KKl/h9PIV1ByJmlTyopsrRqZlWV1w1eRPnXmXPKPcBusRqxsldrLey7pq9Y9I7HNsv7efwa+SdSayjM1Lq/vV3B+K0kfhTTalmWV0Emk3zAsyNjGaLJMfRluW8rI03oG7M76KcNZtnMoXvC4KudSzXt1CcWnlQ+3NasrNdimxGqMVZz3cNullFtYupWmECOLUs91HmkjItvtzbT/ddCqa5bnDjm3vJ+jq4GvkH0F0GOI6WdZj39ZxuMOtQvROVH1+3dg+wujX7t9q80xrSXfSOKsWz/ZPrM2JeqhpbRxLcVrlUlSstnARyi352E+Uay7FUviNjOBuPn535Liv4gotJi6vG2qKcTUhz8XiH1gu5pIFGQtMP2LEtrMul1OjLgo+wv7uww/1HwqceF2UQltPUDUWsnTIz+NSBD/pYT2HyLqPOSdzvLWEtouc1tAvO7eQLk3iHuR7wK96HYfUYfitJKPey8xsmkks4iirakj+ga25cBXidWRUtUoPjLid8Rn4PbE5+EMoj7R64hkVJ7E73dJq4fUKWYQo5ba+Z6cR9QK26zk495M9tGjexM1ftp53sNtp1F8kYZ2mE3U0Svj9bKOGMX+dto7ejaPabT3NfJZot5Qmcd8lKjZODTB/qnE4y0Evsf6Kf0bEZ1dmxPfT+8ALsh5zGUUq/l2KO2dkjncdh6jr+4I7e3kWwkcTazkW+Zx72D0BY22J6Z5Fp2qvoAYtNANU6sldbmpRKHgbxDD4lt9o3cz0avxarL3EGUxm/jy/ymtnTJ0P/BrImHwKuKDv0x7EBee/0NremIWNY79YaI+0HD2oj0XGr8i6g9MIgr7lnHMG2leG2r7xnN7PsVGFg63rSV6Jz9P85uz7Yklmy+meG2F4bbricTD4U3aH2pLOqtHdPC2pvE8vYlybhjbNXrlYtb3Qn6wpGOuIgphN1vdcxfiOfomkegu6z00eLuVqCdyLPkLBfcBP2hBTHm3L9K9I68G24u40W3Hc3Yr//z9dn8Jx1xG1ErJOyr7IOCxNp13s20do9fsqtI44jP/i8R3UKu+u/uJguk/ITo6D6VzVqP9DK1/HawlPgeh3Gm9ZxOJpWY+1obzyvq3P3qYGPM4hvaP8B+8/Sf5OjJaWWZhYFvM+tUtv1LSMUe6btiXqJH5PWIEc9n3ff3EdM5vAW9h5GL2kpTkCKr7IimzSHpVX/JFCx4PdWkbY793lFhSizlm2dYQc+YH10ApWiNhWeOYw90ctfJ8mm2d1n4zB1LtjWGW7UFiikiRBMTetPaieRXxGTT4wjhlZaeh2y+BOSOcVzsurgdvi0eIZTg1ole2ip73R4kOml6yP61fDOMKYjrJYEVHBvwC2K7AeT+d9au1tXO7HzisQNztUKRQe9Ft2zacXxYb0Nrppg8QidQB25dwzNsZvbPptS08p6zbGpqvkJjqSNp/3bGc9cnHPObSug7HOnAV/zxi6egSjnkJUTR+OO2eln3pCLFIUhITWMW2Xk5gbUDcyJTd7u3EKj9DfTbxeCuIIuGjTW+oOoFUdfvD2YGYqtXO2FK2i4AtcpzXUJ9oUVzXEdOshhpHTJ9OOeYlZCtk3g0JrAGH0N4L598TqxP2oj2Ae2jN83YmzQsbp65q+RvKqyW5Na35ThpuO4eoCdnpTGCF/WnNVMJzaV7fJ3Wq9j3EjIEstUm3o7UJlNG2R8k2ojuvPUlfPCfvdgXFRgG9lvJHKa0hRlsNHWE+k/S/91XECoyjMYElqeuZwCq29XICC+Ki7bqS2lsOfJrmQ5ohEil5pkCtIpJCW2U4D6g+gVR1+yOpEZ8FWZeQr2q7k/RaejXyreg02rYE+BAjT4fKu/jCtcALcpxTNyWwIKasn0i25c1Tt1uJ1Ud7YcrgSDal3FqFjxN1joazOfn+bheSbzXJrMYTNQdTF2fJst0IPL8FsbeKCaz1jqC80T13EgsBDSfvNPEHgPeQfwrtHGIqdis/N4du64gpZkNHYpZpA+L7oFWjox8m/kZlTHP9AOmL/Qzd/kTzTq8BZ+c83t+BF5P9O88ElqSuZwKr2NbrCSyIi4zTCrSzDPga2RJNp2Y43kKi52q7jPEPqDqBVHX7WRxMObVuWrldwT9PPc3rtcQqd6ntP06M+MsyGmwTso3Cupi4AM17Xt2WwBqwJfEeLrPO31+JhQk6pSZPu7ySGNVa5Lk7j2z1HP9jlOOsJupQtmPlum2IFfbKvPm9mRhp1m2vIRNY/2wuUQ8y9ZzuIpK5oyWappBt1bbrgXcyfOddVpsBxxOLv5SVTBm6LSbe57sXjDWPucSCH2XVcFxMdB4VWSG6mcOJQuWpcV1JtkTTroyeoO8nrhtemuF4Q5nAUmV6vWdR7TONkWustNLdxPDkMswm+0icMj1KnEdZdiXb6ihlWE1cWGV1ILHyTpYRIv3Eyoc/Igq+PpKxjSnAb4FnN/ndVcC3gR8T0wbz2pb2LvN7dYe1P5JtgX8nboa7wesoljzelrgROIbhV6oc6maimPkPiJ7drJ5FLPww9GJ6FdHT+nWiBzXFnCbHbaV1RNHXskwhVsl6FVFfJuvfAuLC+Bbi8+I08n2W9ZqJRO2UtxOf01mKFC8nElenEAsAZDG98dih03EeJFZ5/C6xklU7zQZeQySm9yF/EvheYgr16awfgdpt+hh5REcrXU9cS3SaicC/EJ2bWVZFW06sXH1W49+1GdvZhxhtOHTl3NXECMlvEa+rss0iEiovIBLG25F+b3gvcQ7/R6xMuKyMABNsS7yPX00sWJHnfFYQ08bPIqZ8plwjZjEDOA54L9lWS36EeB38kOyfsxCfaafzxGmmSxo//xbx/ZdiL/KPAizicWJktGQCS1JlZhNFbfcnegQ3IS4WHiF6Lq8nVkJamHj8iUQv+KHEkPmriQurGwpFrWbGE9PgPs3ovcMPEUXytyNWo9ufclcSzeM3ZKv1MJqJxA3I04ge51nEOS0jXs+PALcRQ/6LXIBtTRSi342oeXExkYgtK4HfC8YRtZ32BnYkknOTib9HP/F5spBIHl5D3Az4/D3RpkS9sScTz+N04n2+pLHdRkwLv4S4ac9rBvGZsQ/xef8rIgG0rmjgJZhJJPB2I1bonMb6BO9jRFJiPnAfUYfo6sa/6l014ob9MOIzfjNiVPkS4jvtdmL05lWkJ+K2Bd5PJHbnEe+t35C9464MGxKv+blER+h04r06g/huf6yxPd6I6z4icXUt6ddqrTSLSMztDuxMvI83avxuCfEdfR8xLfNqohNoTRvjm0BcAx1GlL/YtPGzRcQo9juJ64Ybie+vFE8lroW3AO4g6oBeSOuSc5IkSR3tycSFX5Yh4FfwxBGONeJC+RVEgfSziRuBxzMes8i2ivUXs5IkSZIkSeoxNaIIctZ6ExfSfFWykY6/PfA8olf6NKI3suwk1lNyn7kkSZIkSZI63gzyFf6+jphuUYatgWOJUVplJLDyrNYnSZIkSZKkLrANUY8ha4JoKTFFsBWeQfEVN1/VotgkSZIkSZJUgdnkXzr5uBbHNA44KWdMg7dntTg+SZIkSZIktcl4ogh7nuTQcsqbOjiaPFMaB2/btCk+SZIkSZIktdh7yZ8cuq6N8R2VEN/f2xifJEmSpALGVR2AJKnj1YAPJ+y3pOxARnB/wj5nlh6FJEmSJEmSKrEXadPz7mljjM/PGdsiYFYb45MkSZJUgCOwJEmj2Tpxv+2A55YZyAgOzPn4zwEPtyIQSZIkSZIktd+hpK/ydzOwUYvjGw/cniOmvwMTWhyTJEmSJEmS2mhb0hNYdWL1whktjO9tOWJZDOzSwlgkSZIkSZJUkTsolsS6B3hRC+LaH1iWMYZ+4OUtiEGSJEmSJEkd4GMUS2ANbBcAR1BODcY3AUszttsPvLWENiVJkiRJktShpgK3UE4Sqw7cBZxKJLOm5ohjInA0cGmOtvqBY1NOWpIkSVJnqFUdgCSpa+xD1LOaWPJx+4kphrcAtwELgceJqYEAM4FZjfYPADbIcewVwJuBn5QUqyRJkiRJkjrcUcBKyhuJ1crtPmDf1jwNkiRJkiRJ6mTPIVbzqzpBNdJ2BrBJq54ASZIkSZIkdb5tiILsVSeqmo26OqKF5y1JkiRJkqQuUgOOodzi7qnbw8CHgSktPWNJkiRJkiR1pT7gNcAlREH2diauHgA+CWzU8rOUJEmSJElST9gJ+DRwNa1LZq0FLgaOBia057QkSZIkValWdQCSpJ41G3gu8LTGtjfpU/weBv4A/Br4DfBICfFJkiRJ6hImsCRJ7VIDtgTmANsBmwNbANOBqcD4xuMWA4uAhcD1wDXAg+0OVpIkSZIkSZIkSZIkSZIkSZIkSZIkSZIkSZIkSZIkSZIkSZIkSZIkSZIkSZIkSZIkSZIkSZIkSZIkSZIkSZIkSZIkSZIkSZIkSZIkSZIkSZIkSZIkSZIkSZIkSZIkSZIkSZIkSZIkSZIkSZIkSZIkSZIkSZIkSZIkSZIkSZIkSZIkSZIkSZIkSZIkSZIkSZIkSZIkSZIkSZIkSZIkSZIkSZIkSZIkSZIkSZIkSZIkSZIkSZIkSZIkSZIkSZIkSZIkSZIkSZIkSZIkSZIkSZIkSZIkSZIkSZIkSZIkSZIkSZIkSZIkSZIkSZIkSZIkSZIkSZIkSZIkSZIkSZIkSZIkSZIkSZIkSZIkSZIkSZIkSZIkSZIkSZIkSZIkSZIkSZIkSZIkSZIkSZIkSZIkSZIkSZIkSZIkSZIkSZIkSZIkSZIkSZIkSZIkSZIkSZIkSZIkSZIkSZIkSZIkSZIkSZIkSZIkSZIkSZIkSZIkSZIkSZIkSZIkSZIkSZIkSZIkSZIkSZIkSZIkSZIkSZIkSZIkSZIkSZIkSZIkSZIkSZIkSZIkSZIkSZIkSZIkSZIkSZIkSZIkSZIkSZIkSZIkSZIkSZIkSZIkSZIkSZIkSZIkSZIkSZIkSZIkSZIkSZIkSZIkSZIkSZIkSZIkSZIkSZIkSZIkSZIkSZIkSZIkSZIkSZIkSZIkSZIkSZIkSZIkSZIkSZIkSZIkSZIkSZIkSZIkSZIkSZIkSZIkSZIkSZIkSZIkSZIkSZIkSZIkSZIkSZIkSZIkSZIkSZIkSZIkSZIkSZIkSZIkSZIkSZIkSZIkSZIkSZIkSZIkSZIkSZIkSZIkSZIkSZIkSZIkSZIkSZIkSZIkSZIkSZIkSZIkSZIkSZIkSZIkSZIkSWqo1+vj6vX6uKrjkCRJ6iXjqw5AkiSpl8xfsubNjf/8XqWBSJIk9ZBa1QFIkiT1ioUL6xuv6ltzG8CkdRN22WST2tKqY5IkSeoFDm+XJEkqyaq+NZ8CNgc2b/y3JEmSSuAILEmSpBLcv2Tlzn31cdcDkxo/WrWu1r/XNtMm315lXJIkSb3AEViSJEklGNdf+yrrk1cAkxo/kyRJUkGOwJIkSSpo3uI1h0P9/Oa/rT1vy+kTLmhvRJIkSb3FEViSJEkF1Ov18VA/ZYRHnBKPkSRJUioTWJIkSQXMX7rm3cBuIzxkt8ZjJEmSlMgphJIkSYkeWFrfZFz/mtuBGaM8dFH/uAk7b71xbWE74pIkSeo1jsCSJElKNK5/zecZPXkFMKPxWEmSJCUwgSVJkpTgoUdX7Qm8fbjfP/74Y1zz178M/tHbG/tIkiQpJxNYkiRJCfrH1U4F+ob+/OEF/+DLX/gMT9tzDkc97yAu+M15A7/qa+wjSZIkSZIktda8RateMm/x6vrA9uCiVfWfnXdh/aiXv7I+cdKkOvD/t2M/cHx98GPnLVr1korDlyRJ6jou6SxJkpTD7fX6JJas+SrAvAcf4Nxzfsx/n/0j7rjt1mwHqNW+enu9/puda7VVrYxTkiSpl5jAkiRJyuEf1978iav+/KcdfnHOT/jTH39Pf39/3kPssOGStR8ATmxBeJIkST3JBJYkSVI2B02ePPmLBz1tr2esW7eu4KHqn3h4Wf30WRvW5pcSmSRJUo8zgSVJkpTNopUrVz4DYOONp7Hz3N2YNWszNp21GWtWr+bqv16ZfRohTF2zds2XgDe2KlhJkqReYgJLkiQpg/lLVk+65HcX13fYaU5tm223e8LvV6xYzj5zt2fpksXZDljnX+YvWf0fW0ybeFXJoUqSJPWccVUHIEmS1Onq9Xqtv86pzz7ksKbJK4ApUzZgx53m5Dlsrb/OqfV6vVZKkJIkST3MBJYkev8JDQAAIABJREFUSdIo5i9dfUwNDhjtcRtssGGu49bggPlLVx+THJgkSdIYYQJLkiRpBAsW1KdSH3dSlsdusGG+BBYA9XEnLVhQn5p/R0mSpLHDBJYkSdII1k5YfTzUt2pdC/Wtog1JkiQNxwSWJEnSMOYvWrE9tdpHWt5QrfaR+YtWbN/ydiRJkrqUCSxJkqRh1GvjvwxMbkNTkxttSZIkqQkTWJIkSU3MX7TmYKi/on0t1l8RbUqSJGkoE1iSJElD1Ov1vnqt/rW2t1urf61er/e1u11JkqROZwJLkiRpiPlL1rwFeHIFTT+50bYkSZIGMYElSZI0yN2L6tOBEyoM4YRGDJIkSWowgSVJkjTIpHFr/g2YVWEIsxoxSJIkqcEEliRJUsO8pavmUue4quOgznHzlq6aW3UYkiRJncIEliRJ0oB+TgYmVB0GMKERiyRJkjCBJUmSBMD8JWtfCLUXVh3HerUXRkySJEkygSVJksa8er0+oV7v77gRT/V6/8n1er0TRoRJkiRVygSWJEka8+YvXnMs0Ik1p+Y2YpMkSRrTTGBJkqQxbf5j9VnU+FTVcQyrxqfmP1avclVESZKkypnAkiRJY1p93ZoTgOlVxzGC6Y0YJUmSxiwTWJIkacx6YNHqJwNvqTqODN7SiFWSJGlMMoElSZLGrHE1vgb0VR1HBn2NWCVJksYkE1iSJGlMmr941SuAg6uOI4eDGzFLkiSNOSawJEnSmHN3vT65Tu2kquPIq07tpLvr9clVxyFJktRuJrAkSdKYM3np2o8AO1QdR4IdGrFLkiSNKSawJEnSmHL/I8u3qtfrx1cdR6p6vX78/Y8s36rqOCRJktrJBJYkSRpT+vrGnwhMbcWxVyxf/oSfLXv8sbKbmdo4B0mSpDHDBJYkSRozHlqy+gBqvLbs4z668BFO+PS/cvlllzzhdz89+wzOOv37rFu3rrwGa7z2oSWrDyjvgJIkSZ2tVnUAkiRJ7VCv12vzl6y5Ativ6LHmz3uQO2+/lev+fi1/uOgCrrj8UtauXTviPjNmbsLhzz+Cgw59Lrvutjtzdt6VCRMnFgnjL1tMm3BArVarFzmIJElSNzCBJUmSxoT5i1a/oV7jh0WOccKn/5Ufff87PF7CtMDx48ez3wHP5GfnXZh8jFqdN24xY+LphYORJEnqcE4hlCRJPW/BgvrUOvUvFT3O/HkPlJK8Ali7di333nNXoWPUqX9pwYJ6S+p5SZIkdRJHYEmSpJ43b/GqL0HtY0WPs3z5MtasXl1GSADUxo1j442nFTxK/cQtp0/6eCkBSZIkdSgTWJIkqac9tHjFDv303QRMrjqWFlk5jnW7z54+5e6qA5EkSWoVpxBKkqSe1s/4k+nd5BXA5MY5SpIk9SxHYEmSpJ41f9GaQ+q1+u+qjqMdavXaoVvMmPD7quOQJElqBUdgSZKknlSv1/vqtfqpVcfRLvVa/dR6vd5XdRySJEmtYAJLkiT1pIeWrHk7sGfVcbTRno1zliRJ6jlOIZQkST3n7kX16ZNqa+4ANqk6ljZbuKo+Yc4OM2qLqw5EkiSpTI7AkiRJPWcSaz7L2EteAWzSOHdJkqSe4ggsSZLUU+YtXTWX/tr1wPiqY6nIWsbV99py40m3VB2IJElSWRyBJUmSeks/X2fsJq8AxjeeA0mSpJ5hAkuSJPWMh5aufRHUDq86jurVDo/nQpIkqTc4hVCSJPWEG+v1iTOWrLkB2LnqWDrE7YumTdhzj1ptddWBSJIkFeUILEmS1BNmLl57HCavBtu58Zzo/7F33/FR1Pkfx9+zm01CgBCIYAhFUYFQRcUD9bCLeurv7PXEU0+9U89TORUVe29Uz4aK3UPPLoq9e6iIqCglIH0TSkgBAtnZ3e/vD9YcMQFSdve75fX8i/3uzvB+ZKftZz4zAwAAkh4dWAAAIOmVrjOdwiG3WFKu7SwJpsrj9fUsaOussh0EAACgJejAAgAASS8ccm8TxauG5Eb+NgAAAEmNDiwAAJDU/BWBPSV9I07MbU1Y0t6FeZkzbQcBAABoLg70AABA0jLGOHI0ThzTbItHjsYZYzhxCQAAkhYHewAAIGmVVgZOktEw2zkSntGw0srASbZjAAAANBdn4gAAQFLy+02Octw5krrbzpIklqra16ew0Km2HQQAAKCp6MACAABJyWkdHCmKV03RPfI3AwAASDp0YAEAgKTjX7uxuzzeOZJybGdJMtUKh/oUdmi11HYQAACApqADCwAAJB+P9w5RvGqOnMjfDgAAIKnQgQUAAJLKiip3PydsPhPHMc1ljMcZ1iXX94XtIAAAAI1FBxYAAEgaxhiPEzbjRPGqJRwnbMYZYzgOBAAASYMDFwAAkDT8Fe5ZkgbbzpECBkf+lgAAAEmBs5cAACAplJWZ3BpvYJ7kFNjOkhpMaVYos3d+vlNlOwkAAMD20IEFAACSQsAbuJbiVTQ5BZv/pgAAAImPDiwAAJDwllVu6uk1nh8lZdnOkmJqQk54QLd22cW2gwAAAGwLHVgAACDheY33blG8ioWsyN8WAAAgodGBBQAAEtqKCvcwR+Zd2zlSmZEzvEue7z3bOQAAALaGDiwAAJCwjDEZjswY2zlSnSMzxhiTYTsHAADA1lDAAgAACctf5f5NUn/bOdJA/8jfGgAAICFxCSEAAEhIy6tMvifszpOUbztLmigLe3y9u+Y6ZbaDAAAA/BYdWAAAICF5Q+6NongVT/mRvzkAAEDCoQMLAAAknNK1Nf3DHuc7SdyXKb6CnrDZo6BD1mzbQQAAALZEBxYAAEg4YY8zRhSvbMiI/O0BAAASCgUsAACQUPzlNcdKOsx2jjR2WOQ7AAAASBhcQggAABJGsTFZbSrd2UbazXaWdOZIC9a38/Xv6Tg1trMAAABIdGABAIAEklMZvJTilX1G2i2nMnip7RwAAAC/ogMLAAAkhFXrTUEw6M6TlGs7CyRJVRkZvt6d2jiltoMAAADQgQUAABJCKOjeLopXiSQ38p0AAABYRwcWAACwzl8RGCzpK3FyLdGEJQ0pzMucYTsIAABIbxwkAgAAq4wxjozGi+OSROSR0XhjDCc9AQCAVRwoAgAAq0qqAqfJ0b62c2ArHO1bUhU4zXYMAACQ3jibBgAArPH7TY5y3LmSutnOgm1apmpfUWGhU207CAAASE90YAEAAHtaBUaJ4lUy6Bb5rgAAAKygAwsAAFjhX7uxuzzeOZJybGdBo1QrHOpT2KHVUttBAABA+qEDCwAA2OHJuFcUr5JJTuQ7AwAAiDs6sAAAQNz517rD5DGfiGORZGMUdg4o7OD7zHYQAACQXujAAgAAcWWM8chjxoviVTJy5DHjjTEcQwIAgLji4AMAAMRVSaV7jqQ9bOdAs+0R+Q4BAADihjOfAAAgbsrKTG6N1y2W1Ml2FrTIqqyQr2d+vlNlOwgAAEgPdGABAIC4qfG612srxat166p0/9i7dfPoqxQOh+OcDFsTDAZ147VXaO/+u2rhgvm/DneKfJcAAABxQQcWAACIi2WVm3p6jecnSb4txxcv+kXPTJ6kpydP0rp1mxt6xj34mE4+7UwbMRGxYsUy3Tz6Kk178zW5ritJKuzSVTN++uXXj7ghJ9yvW7vsYmshAQBA2siwHQAAAKQHb9gZK2dz8cp1Xb03baqenjxJn338Qb2Oq43V1VYyQnrh+ac18b67tuy2qhUIBLZ86fOGnbGSjo5XNgAAkL4oYAEAgJjzV7jDJXPUrJkz9OK/n9HrL7+osjWrbcdCxLfffKWxd92qzz/7WIGamsZP6DhH+Svc4YV5vndjlw4AAIACFgAAiC2nbdu2Q68bddlzH3/wrhYW1+/qgR1fT/9SD/9rnL789GNVVla0YE5mvDFmgOM4waiFAwAA+A0KWAAAIJZuXrdu3ejHHrrfdg5s4dknHtMVl/4tWrMrKqlyL5Q0IVozBAAA+C0KWAAAIGYOOuzIaQvnz7mm/8BBnj79Bmi3nr21Y+fOapfXXhurq/Xyi8/r8Yf/ZTtm2jnlT2fphmv/qaysLHXrvrP69R+onXrsol1366VAIKBPP/5AU559svEzNLrJX2WeK8x11sQuNQAASGc8hRAAAMSMvyLwgKSttvoEamrUq/sO9e67dMd9E3XWuRfEOh62YcBuXerdp2yHjp30Q/HyrU3yYGFe5oUxDwYAANKSx3YAAACQmkrX1gyQdP62PpOZlaW2bXPjlAhN0aZN26ZOcn7kOwcAAIg6ClgAACAmwh5nvCTv9j6XnZ0dhzRoquxWTf5evJHvHAAAIOooYAEAgKjzl9ccL+kg2zkQdwdFvnsAAICoooAFAACiapEx2XKce23ngCWOc+8iY2irAwAAUUUBCwAARFVWZfAyST1s54A1PSLLAAAAQNRQwAIAAFGzdPWGQslcYzsHbDPXbF4WAAAAooMCFgAAiJqMTN/tktrYzgHr2kSWBQAAgKiggAUAAKKitDIwREYjbOdAgjAaUVoZGGI7BgAASA0UsAAAQIsZY5yQ0ThJju0sSBhOyGicMYZlAgAAtBgFLAAA0GIlVe6fHGmo7RxILI40tKTK/ZPtHAAAIPlRwAIAAC2yapVpI+PcYTsHEpRx7li1ynBfNAAA0CIUsAAAQIsEfYGrJNPFdg4kKtNl8zICAADQfBSwAABAs5VWbOwhx/mn7RxIcI7zz9KKjT1sxwAAAMmLAhYAAGi2sDLulpRtOwcSXnZkWQEAAGgWClgAAKBZSsrdgyRzou0cSBbmxM3LDAAAQNNRwAIAAE1mjPEax4yxnQPJxThmjDHGazsHAABIPhSwAABAk5VUun+RNMh2DiSdQZFlBwAAoEkoYAEAgCZZVG7yJN1iOweS1i2RZQgAAKDRKGABAIAmyfK4N0jqaDsHklbHyDIEAADQaBSwAABAo/mraopkdJHtHEhyRhf5q2qKbMcAAADJgwIWAABovLDGSPLZjoGk54ssSwAAAI1CAQsAADRKSWXwKMk50nYOpArnyM3LFAAAwPZRwAIAANtljPEZE77Xdg6kFmPC9xpj6OgDAADbRQELAABsV2lF8BJJ3LMI0VYUWbYAAAC2iQIWAADYppJ1pqNxzOhYzHtlaYnK166tN/7Tj9/H4r9DI23atEmlfn+98cqKclVU1P++WsI4ZnTJOsNTLQEAwDZRwAIAANtkQu5tkvKiNb9wOKxZM2fo9ptGa9jg/qqu3lDvM8888ahOO/4oTZv6ujZt2hit/xrb8fX0L3XB2aerd7d8VVZW1HvfdV0N7NlNF593ln7+6cdo/bd5kWUMAABgqxzbAQAAQOJaXh4Y5HE0Q5K3ufP48fvv9OP332lh8XwtKJ6n7779RmtWr2r09K1a5WivvYeoV5++KurTT3sO/p369h/Y3DiImPXdt3rp38/o559+1NLFi7R61UoFAoEmzaNVqxx1LuyiXXbrqcG/G6pLRo5qbpxQ2Ghw1/aZs5o7AwAAkNooYAEAgK3yVwQ+lnRAS+Zx7BEH6evpX0QnkKRDD/+DnpryatTml67OOOFoffTBu1Gdp7+iaQWw3/ikMC/zwChFAQAAKSbDdgAAAJCYSipqTjItLF5J0n77H6gdCwqiEUmSNGD3PaI2r3TWb+AgzZv7s+0YWzqgpKLmpM55WS/aDgIAABIPHVgAAKCeRcZkZ1W6cyXtZDsL0sqSmna+oh6Os8l2EAAAkFi4iTsAAKgnuyp4hSheIf52iix7AAAAddCBBQAA6li2prqLNyNjnqTWtrMgLW0IBYO9u+2Qs8J2EAAAkDjowAIAAHV4vRl3ieIV7GkdWQYBAABq0YEFAABqlVYGhoaNvhTHCLDLeBztW9Auc7rtIAAAIDHQgQUAACRJxhgnbDRRFK9gnxM2mmiMYVkEAACSKGABAICI0gp3hKTBtnMAEYMjyyQAAABnWAEAgLRqlWkTzAwUS06B7SzA/5jSjEBmz06dnPW2kwAAALvowAIAAApmBq6leIXE4xRsXjYBAEC6owMLAIA0V1qxsUdY3jmSsmxnARpQ41GoT0Feq0W2gwAAAHvowAIAIM2FlTFGFK+QuLIiyygAAEhjdGABAJDGSivcg8MyH9jOAWyPR84hBXm+D23nAAAAdtCBBQBAmjLGZIRlxtvOATRGWGa8MSbDdg4AAGAHBSwAANJUaaV7nqT+tnMAjdQ/sswCAIA0xCWEAACkoSUVpr1PbrGkfNtZgCYoc+XruVOeU247CAAAiC86sAAASEM+494oildIPvmRZRcAAKQZOrAAAEgzJetq+pqQ870k7ieEZBR0vGb3zm2zfrYdBAAAxA8dWAAApBkT0lhRvELyyogswwAAII1QwAIAII2sWLvpGMkZbjsH0DLO8M3LMgAASBdcQggAQJooNiardaX7o6SetrMAUVC8oZ1vQE/HqbEdBAAAxB4dWAAApIk2FcGLRfEKqaNnZJkGAABpgA4sAADSwKr1piAYdOdJyrWdBYiiqowMX+9ObZxS20EAAEBs0YEFAEAaCAbdW0TxCqknN7JsAwCAFEcHFgAAKc5fEdhL0tfixBVSU1jS7wrzMr+1HQQAAMQOB7IAAKQwY4wjR2PFPh+pyyNHY40xnJgFACCFcTALAEAK81cGTpbRMNs5gJgyGuavDJxsOwYAAIgdzlQBAJCi/H6Toxx3jqTutrMAcbBU1b4+hYVOte0gAAAg+ujAAgAgRTmtg1eI4hXSR/fIMg8AAFIQHVgAAKQg/9qN3eXxzpGUYzsLEEfVCof6FHZotdR2EAAAEF10YAEAkIo83jtF8QrpJyey7AMAgBRDBxYAACnGv9b9vTzmU7GfR3oyCjv7F3bwfW47CAAAiB46sAAASCHGGI88ZqwoXiF9OfKYscYYjnMBAEgh7NgBAEgh/kr3bEmDbecALBscWRcAAECK4OwsAAApoqzM5NZ4A/Mkp8B2FsA+U5oVyuydn+9U2U4CAABajg4sAABSxCZvYDTFK+BXTsHmdQIAAKQCOrAAAEgByyo39fQaz4+SsmxnARJITcgJD+jWLrvYdhAAANAydGABAJACvPLeI4pXwG9lRdYNAACQ5OjAAgAgyfkr3OGSecd2DiBxOYcX5vnetZ0CAAA0Hx1YAAAkMWNMhhwzxnYOIKE5ZowxJsN2DAAA0HwUsAAASGIlVe6FMupnOweQ0Iz6lVS5F9qOAQAAmo9LCAEASFLLq0y+J+zOk5RvOwuQBMrCHl/vrrlOme0gAACg6ejAAgAgSTkh9yZRvAIaKz+yzgAAgCREBxYAAEmodG1N/7DH+U4S9/UBGi/oCZs9CjpkzbYdBAAANA0dWAAAJCHjccaJ4hXQVBmRdQcAACQZClgAACQZf3nNsUY6xHYOIBkZ6RB/ec2xtnMAAICm4RJCAACSSLExWa0r3Z8k7Wo7C5DEFm5o5+vX03FqbAcBAACNQwcWAABJpHVl8DJRvAJaatfIugQAAJIEHVgAACSJVetNQTDozpOUazsLkAKqMjJ8vTu1cUptBwEAANtHBxYAAEkiGHLvFMUrIFpyI+sUAABIAnRgAQCQBPwVgcGSvhInn4BoCksaUpiXOcN2EAAAsG0cBAMAkOCMMY4jTRD7bSDaPI40wRjDSV0AABIcB8IAACS4kqrAaUbaZ2vvb9xYrXXrquIZCUhqq1etrP23kfYpqQqcZjEOAABoBApYAAAkML/f5Mh47m7ovcqKco2753YNGdhLJxx1qCrK18Y7HiJCoZCmf/mZbr3hGh135MEatnd/9e1RoL369tDhBwzRqMsv1jtvvSHXdW1HTWvffvOVzjnjRO1RtJMemHDf/94wnrv9fpNjLxkAANge2qUBAEhg/vKam+U412059v133+rpyZP02ksvaMOG9bXjr077SL8bul/cM6azTZs26vmnn9DD94/V0iWLt/v5zoVddOeY+3XYEUfFPhwkbf6OXnvpBT09eZJmzvi6drxP3/764MuZ//ugMbcUts+63kJEAADQCBm2AwAAgIb5127sLse5QpIqytfqtZdf1L+feULff/et7WiQ9PX0L3TphX/R4l8W1o45jqO89h20YcN6BWpq6k1T4l+hs049TrfcOUbn/vXieMZNOz/Mmqkpzz2ll6Y8p6rKiu1P4DhX+NdufLSwQ6ulsU8HAACaigIWAAAJan31prGff/JB9ovPP60P3pvWYEEEdvxr3D264+brFA6HJUk5Oa115egbddqZZ6tt21xJmwsoD/9rnF558d/1pr/+6pEq6tdf+w07MJ6xU96ypUv0+ssv6MV/P6P5c+c0dfJseTLulXRyDKIBAIAWooAFAEDiObagc5dLB/XqekB19QbbWfAbt1w3Sg9OHFP7OientV54/R3tOfh3dT43cNCe+tekp1TUp5/uuLnOVaAyxuima6/Uu59+LbRMVWWFJj04Ue+89YZm/zCrhXMzJ/nXusMKO/g+i0o4AAAQNRSwAABIMB6PZ5/SkhUH/Pq6044Fys/fQR3yd1B5+VrN/Xl2becP4mvKs0/WKV5J0rU33laveLWliy+7Uu+/+7a+mf5lnfHZP8zSLwuKtctuPWOSNV1kZWXrsYf/VfsQg8ysLBUUdFbHHQvk8Xi0bMlilZb4Gz9Dj5lgjBnsOE4oRpEBAEAzUMACACDBPP/qW2t/KS5Wn379VdS3v3Jz29V5/+UXntfF559lKV36WrWyVNdecWmdsbz2HXTGWeduczrHcfSnP/+lXgFLkr75+r8UsFooKztb9054SMFgUH37DdDOu+yqjIz/HeKGQiEdf9QhDf79t2JQSaV7tqRHY5EXAAA0DwUsAAASyNq1pt0mjzty2P4Hb/Uz+x90SBwT4VcPTRyr317Suc9+w5SZlbXdaYfuO6zB8TWrVkYlW7r7wzHHbvU9r9erffbbvykFLEm6fe1a82KHDk5li8MBAICo8NgOAAAA/meTx71OUsdtfaZ1mzZxSoMtffrxB/XGCgq7NGrart26Nzjuum6LMqFx2jR9nekYWRcBAECCoIAFAECCWF61qZekS7b3uVatcuKQBr/l8/lq/92+Q74uv2q0Rl41ulHTBoPBOpe1/apzl65Ry4eouySyTgIAgATAJYQAACQIT8gZI0e+7X8SNox78DG9+epL2mOvvbXfsAOVlZ3d6Gn9K5YrGAzWGx+05+BoRkR0+TwhZ4yko20HAQAAFLAAAEgI/kr3CBlzlO0c2LreRX3Ve1TfZk1bPG9OvbGdd9lVvYuaNz/EieMc5a90jyhs55tmOwoAAOmOSwgBALDMGOOTMWNt50DsvPPWG/XGRpxzvoUkaDJjxhpj6IwEAMAyClgAAFhWUuFeKKnIdg7ERkX5Wr36nyl1xnbo2Elnnn2epURooqLIOgoAACyigAUAgEUl60xHObrRdg7EzoT77tKGDevrjN1611i1bs3TJJOGoxtL1pltPh0UAADEFgUsAAAsMiH3Jkl5tnMgNubO+UmPPjSxztjwI4/W/x1/kqVEaKa8yLoKAAAsoYAFAIAly8sDu0viRkgpyhij0VdcWufpg7nt8nTHfRO3MRUS2PmRdRYAAFhAAQsAAEs8jsZK8trOgdh4/unJ+vLzT2pfO46jeyc8pM6FXSymQgt4I+ssAACwgAIWAAAW+CtqTpB0kO0ciI3ieXN13VWX1xk772+X6Og/Hm8pEaLkoMi6CwAA4owCFgAAcbbImGzJucd2DsTGpk0b9dezT9fGjdW1Y3sP3VfX3nS7xVSIHueezeswAACIJwpYAADEWVZl8HJJPWznQGzceM0VmvPz7NrXO3TspIcnPyefz2cxFaKoR2QdBgAAcUQBCwCAOFq2prqLZK62nQOx8frLL+qpxx+pfe3LzNRjT7+ggs6FFlMh+szVm9dlAAAQLxSwAACII68v43ZJbWznQPTN+elHXXbReXXG7pvwsPYeuq+lRIihNpF1GQAAxAkFLAAA4qS0MjBURmfazoHoW1u2RueccWKd+15dfNmVOvHUMyymQkwZnVlaGRhqOwYAAOmCAhYAAHFgjHFCRmMlObazILpCoZD+du6ZWrJ4Ue3Y8COP1qjrbraYCnHghIzGGmNYpwEAiAMKWAAAxEFphXumI9GtkYJuvf5qffbxB7Wv+/QboAcff0YeD4dZqc6RhpZWuHRVAgAQBxxZAQAQY6tWmTbGcbhfTgp6acpzevhf42pfdy7somdefF2tWuVsd9rFvyxUOByOZTzEgXGc21etMtzXDgCAGKOABQBAjAUzA1dLhieWpZiZM77WlZdeWPs6N7ednvnPG+pcuP2v2nVdHTBkoA7ed49YRkRcmC6b13EAABBLFLAAAIih0oqNPSTncts5EF0rli/TWaceV3vTdq/Xq0eefF59+vZv1PTF8+bIdV15HA7FUoNz+eZ1HQAAxApHTQAAxFBYGfdIyradA9FTVVWpESf/UWVrVteO3Xr3OO1/0KGNnsesmTMkSa3bcOVZisiOrOsAACBGKGABABAjJeXuQZI5wXYORE8oFNJFfxmhOT/Prh27+LIrdda5FzR6HsYYPffU45KkVjmto54RtpgTNq/zAAAgFihgAQAQA8YYr3HM2FjMOxQKNTgeCARi8d9hC9dddZk+ePft2tfHn3yarr7+lkZPHw6Hdd+dt2jmjK8lSa1bU8CKB2NMvbFgKBj9/8cxY40x3qjPGAAAKMN2AAAAUlFppXu+pN2jPd+qygrdfftNDb437u7btVvP3iroXBjt/xaSnnzsYT3x6EN1xqZ/8Zn23aOo0fOoqKhQZUV57WsuIYy9b7+erv9MebbeePG8uXri0Yc04pzz5fFE7Zzu7pF1/8FozRAAAGzm2A4AAECqWVRu8rIcd76kji2dVygU0rIli/XV9C/04btv66P339X69eu2+vns7FY66NDhOuLoP+p3Q/dTt+47RfPHedr68L1pOuvU47ba/dZcZ517ge64b2KKbNx8AAAgAElEQVRU55nu1q2r0vw5P+vjD9/TB+++XXu/sa3pvtPO+sMxx+nQI/6g/gN2V267vJZGWF1jfL16tHcqWjojAADwPxSwAACIMn9lYJyM/tGSeVx8/ln66Yfv9csvC+S24NLAnJzW6tm7SCPOOV+nnXl2SyKltWuv+IcmT4p+U82F//inRt90e9Tnm25mfPVf3X3bjSqeP1crS0taNK/OhV3Uq6ivxtz/iDoXdmneTByNL2yXeWmLggAAgDo4JQsAQBT5q2qKZHRhS+fz/rS3NG/uzy0qXklSdfUGff/dt/ph1syWRkprp484Jybz5R5Y0bFs6RJ9/ulHLS5eSVKJf4U++fA9VWxxqWeTGV3or6pp/LWlAABgu+jAAgAgivwVNW9LzhEtnc+Xn3+iUDB6N5nuXNhVu/XqHbX5paNofyeStPMuu6lb952iOs90tGplqebN+Smq89xz7yFq3bol9ygz0wrzso6MWiAAANIcBSwAAKKkpDJ4lDHhN23nAJAYHMdzdOd2GVNt5wAAIBVwCSEAAFFgjPEZEx5jOweAxGFMeIwxxmc7BwAAqYACFgAAUVBaEbxEUi/bOQAklF6RbQMAAGghLiEEAKCFStaZjibkFktqZzsLgIRT6Xh9PTu3dVbbDgIAQDKjAwsAgBYyIfd2UbwC0LB2kW0EAABoATqwAABogeXlgUEeRzMkeW1nAZCwQmGjwV3bZ86yHQQAgGRFBxYAAC3g8WiCKF4B2DZvZFsBAACaiQIWAADNVFJRc5KMhtnOASAJGA0rqag5yXYMAACSFZcQAgDQDIuMyc6qdOdJ6m47C4CksbSmna93D8fZZDsIAADJhg4sAACaIbsqeIUoXgFomu6RbQcAAGgiOrAAAGiiZWuqu3gzMuZLyrGdBUDSqQ4Fg7267ZCzwnYQAACSCR1YAAA0kTcj425RvALQPDmRbQgAAGgCOrAAAGiC5VXuPp6w+ULsQwE0nwl7nP265vr+azsIAADJgg4sAAAayRjj8YTNBFG8AtAyjidsJhhjOBYHAKCR2GkCANBIpRXumZIG284BICUMjmxTAABAI3AGGQCARli92rR1fYH5klNgOwuAVGFKfW5mr44dnXW2kwAAkOjowAIAoBFcX+AailcAossp2LxtAQAA20MHFgAA27GyYtOuIXl+kpRlOwuAlFPjVbjfjnnZC20HAQAgkdGBBQDAdoTkvVcUrwDERlZkGwMAALaBDiwAALZheYV7iEfmfds5AKS2sJxDu+b5PrCdAwCAREUHFgAAW2GMyfDIjLOdA0Dq88iMM8Zk2M4BAECiooAFAMBWlFa550vqbzsHgLTQP7LNAQAADeASQgAAGrC8yuR7wu48Sfm2swBIG2Vhj69311ynzHYQAAASDR1YAAA0wBNyrxfFKwDxlR/Z9gAAgN+gAwsAgN8oKavpZ7zOLEncjwZAvAWdkBnUOT/rJ9tBAABIJHRgAQDwG8arMaJ4BcCOjMg2CAAAbIECFgAAW1hRvun/JGe47RwA0pkzfPO2CAAA/IpLCAEAiCg2Jqt1pfujpJ62swBIe8Ub2vkG9HScGttBAABIBHRgAQAQ0aYyeIkoXgFIDD0j2yQAACA6sAAAkCStWm8KgkF3nqRc21kAIKIqI8PXu1Mbp9R2EAAAbKMDCwAAScGge6soXgFILLmRbRMAAGmPDiwAQNrzVwQGS/pKnNgBkHjCkoYU5mXOsB0EAACbOFAHAKQ1Y4wjR2PEPhFAYvLI0RhjDCeeAQBpjYN1AEBa81cFTpXRMNs5AGCrjIb5qwKn2o4BAIBNnMkBAKQtv9/kKMedI6m77SwAsB1LVe3rU1joVNsOAgCADXRgAQDSlmkVuFIUrwAkh+6RbRYAAGmJDiwAQFryr93YXR7vHEk5trMAQCNVKxzqU9ih1VLbQQAAiDc6sAAAacnxeO8SxSsAySUnsu0CACDt0IEFAEg7/rXuMHnMJ2I/CCD5GIWdAwo7+D6zHQQAgHiiAwsAkFaMMR55zFhRvAKQnBx5zFhjDMfxAIC0wo4PAJBWSirdcyTtZTsHALTAXpFtGQAAaYOzzwCAtFFWZnJrvIF5klNgOwsAtIwpzQpl9s7Pd6psJwEAIB7owAIApI1N3sB1FK8ApAanYPM2DQCA9EAHFgAgLSyr3NTTazw/SsqynQUAoqQm5IQHdGuXXWw7CAAAsUYHFgAgLWTIe58oXgFILVmRbRsAACmPDiwAQMrzV7jDJfOO7RwAEBvO4YV5vndtpwAAIJbowAIApDRjTIaMGWs7BwDEjDFjjTEZtmMAABBLFLAAACmtpMq9UI762s4BADHjqG9JlXuh7RgAAMQSlxACAFLW8iqT7wm7xZLa284CADFWHvb4enbNdcpsBwEAIBbowAIApCxP2L1FFK8ApIf2kW0eAAApiQ4sAEBKKl1b0z/scb6TxH1hAKSLoCds9ijokDXbdhAAAKKNg3oAQEoKeZzxzlb2c9XVG/TcU49rr72Hao+99o53NGxh6ZLF8q9YprVlZfJ4POqQn69dd+ul/B062o6W1irK12ph8XyVla1RTU2NOuTnq0uXbtp5l11tR8MW1pat0VOPP6LjTz5d3XfaWZIyQh5nvKRD7CYDACD66MACAKQcf3nNsXKcV347vrK0RE9PnqTJkx5U+doytWnTVl/9MF/tO+TbiJm2FhbP1+OTHtAH77ylpUsW13vf4/Fo0J6Ddc75F+nYE0+Rx8MdD+KhqrJCT0+epKmvv6IfZs1UOByu95mdd9lVx590mv7698vUpk1bCykhSYsWLtDjkx7Q809NVnX1Bu1Y0FnfzV3yvw8Yc1xh+6xX7SUEACD6KGABAFJKsTFZrSvdOZJ6SJIxRp9+9L6enjxJ702bKtd163z+m9kL1aVrNxtR087K0hJdP+pyTX39lQaLIw3Ze+i+evyZF+nIiiE3ENCEMXfp4fvHaf36dY2apmOnHfX4My9qr98NjXE6/Mp1Xb379pt68rGH9cWnH8kYU+d9f0Vgy5eLNrTz9enpODVxDQkAQAxRwAIApBR/hTtKMnf8sqBYL73wnF6a8myDXT6/ooAVH9Omvq7LLjpPlRXltWM9exfpoEMOV9vcXBXPm6N3356qTZs21pu2Z+8ivfn+52rbNjeekdPC4kW/6Nw/naQ5P/1YO9a+Q76OPPqP6lzYRatWlurdt9/UytKSetNmZWfr5akfcBlujP0wa6ZefuF5vfzi81qzetVWP/ebApYk5+rCPN+dsU0HAED8UMACAKSMU888e0jP3kWfvPX6K1nffj29UdNQwIq9Z554VFeP/LtCoVDt2NXX36KLLr2izuWB/hXLde6fTtL3331bbx6nnD5CYx94NC5508VPP36v0084WqtXrawdO/TwP+j+R55Qbru82rFATY2uv3qknnr8kXrz6NZ9J3369Y/Kys6OS+Z0Mefn2Zr25mt6/eUXNW/uz42apn4BS+szMnw9O7VxSqMeEAAACyhgAQBSxduSjmjqRBSwYuvTj97XGSceU6d4dfJpZ2rcg481+PmyNat1yH57adXKur+5MzIy9MXMOerWfaeY5k0XZWtW6/ADhsi/YnntWLfuO+mj6bOUk9O63ueNMTrnjBP1zltv1HvvnvEP6oyzzo1p3nThuq4O/f1eKp43t8nTNlDAkhw9Wdgu888tTwYAgH08hRAAkBJ69e6zYtnSJepV1Ed9+w9Ut+47qaBzoVq3aavVK0v16MP3a/EvC23HTCtuIKCRf7+gTvFKks485/ytTpO/Q0f9/bIrdd2oy+uMB4NBTZv6ms772yUxyZpubr3hmjrFK0k66bQzGyxeSZLjOLru5jsbLGBNff0VClhR4vP51G/A7ir1+1XUr7/69O2vbt13UscdC5Sdla0VK5bpwQljtnkpYR1GI/wVgfsL8zJnxDY5AACxRwELAJD0jDHO4lXr+mdk+OT1ehv8zI6dC3XeiFPinCy9vf3ma1qxfFm98e11UR125NH1CliS9N2330QtWzorX1uml6Y8W2+8a7fu25xul916qldRH82fO6fO+MxvvopqvnQ35v5HlJ3daqvvh0Mh3XbjtY2dnWOkicaYfR3HMdv/OAAAiYvnUgMAkl5JVeD0rKzsIVsrXklSYZeucUwESSqeX/cyKMdxtN+wA+Xz+bY5Xddu3Ru8p9Ka1aujmi9dLV2yWMFgsM5Yj11308677LrdaXfuUf8zVVWVcgMNXL6GZtlW8UqSCrs07ZJnRxpaUhU4vSWZAABIBHRgAQCSWmmpaR02wbukbTcXZLfa9o9CRN/Z5/1NH743TYVduqpPvwE6+o8nqFdRn+1O5/F4lJfXvt6T79q2bRurqGll4KA9deKpZ2jVypXq22+Ahh14sA44+LA6N9TfmvwdOtYby8rOli8zMxZR0YA2zVkPjOeu0lLzakGBsyH6iQAAiA8KWACApBbOClwlOV1s50B9HfJ30NQPvmjydDWbNtW7ibsk7bHX3tGIlfYcx9GEhyY3a9plS5fUGxu899CWRkITOE5znsFkumzeVur6aOcBACBeuIQQAJC0/OUbd5LjXGE7B6Jr1nczZEzdjrrs7FY6+fQRlhJB2nxT/tk/zKo3/qc//8VCGjSZ41zhL9/IYzwBAEmLAhYAIHk5GfdIqn+zJCS1iWPurjc2ctRoddqxwEIa/OrpyZNUUb62zth+ww7UMcedaCkRmig7ss0EACApUcACACSlknL3AMmcZDsHoutf4+7Rh+9NqzP2f8efpL/+vf5TCRE/3349XbffNLrO2M677Kr7Jz3ZqHtnIVGYkzZvOwEASD4ccQAAko4xxmscM852DkRPoKZGt1w3SrfdeG2d8TPPPk8TH35C23rCJGLr9Vf+o9OOP0rV1f+7//fAQXvqlbc+1I4FnS0mQ3MYx4wzxrBCAQCSDgUsAEDSKal0z5E0yHYOtFw4HNbbb76mIw/aRw9OHFM73q37TnrsmRd119h/yefzWUyYvn6e/YPOG3GK/nr26Vq/fp0kKSentUaOuk5vvPspxavkNSiyDQUAIKnwFEIAQFJZVG7yJPc22znQMrN/mKU3Xn1Jb772khYtXFDnvfwdOuq8Cy9RvwG7W0qXvlaWlmjqay/rzdde1lf//bzOzfQzMjJ0xlnn6sCDD5MvM9NiSkTBbYvKzYs92jsVtoMAANBYdGABAJJKluOOltTRdg60zDVX/EMTx9xVr3glSWVrVuv6USO135599NezT1dpid9CwvQ05dknNfqqyzT9y8/qPQkyGAxq0oMTdMzw/XXEgUM1/cvPLKVEFHSMbEsBAEgaFLAAAEnDX1VTJOkS2znQcvvst7+K+vTTwEF7qldRnwYvEwyFQnr9lf/owCG76/NPP7KQMv3sufcQ7bRzDw0ctKf69h+o3Nx2DX7uh1kzdeLRh+m+O2+Jc0JE0SWRbSoAAEnBsR0AAIDG8pfXvCnHOao50875ebYO2XfPeuPfzF6oLl27tTgbWqa6eoPefetNjb/3Ds2b+3O991u1ytELr7+jvfYeYiFd+gqFQpr5zVd6cOIYTZv6eoOfufr6W/T3y6+Kc7L09f47b2nEKcfWG/dXBJo+M2OmFrbPOjoKsQAAiDk6sAAASaGkMnhkc4tXSHw5Oa117Imn6J1PvtIpp4+o9/7GjdW6+LwRdZ6Eh9jzer3ae+i+evzZ/2jcg481+DTIu2+7UTNnfG0hHVrMcY4qqQweaTsGAACNQQELAJDwjDE+Y8Jjtv9JJLvMrCzdO/FhHXjI8HrvLVm8SE8+9rCFVJCkk087U9ffele98VAopDtvvs5CIkSDMeExxhge9QkASHgUsAAACa+kwr1IEvdqSRNer1e33zuhwSfdPUUBy6pzL7hYffsPrDf++acfaWHxfAuJEAVFkW0sAAAJjQIWACChlawzHeXoBts5EF8799hFhxx2RL3xJYsXacH8eRYSQZI8Ho/OOveCBt97/9234pwGUePohpJ1hqe7AgASGgUsAEBCMyH3Fkl5tnMg/g44+LAGxxu6yTvi5+AGCouSNG8O30sSy4tsawEASFgUsAAACWt5eWCQpL/YzgE7du6xS4Pja8vWxDkJttS5sEuDN3Pne0l6f4lscwEASEgUsAAACcvjaIyk+r+UkRba5rZrcLx16zZxToIteTwetWmbW2+8Tdu2FtIgiryRbS4AAAmJAhYAICGVVNScKOkg2zlgz4b16xoc79ipU5yT4LeqN6yvN7bDDnwvKeCgyLYXAICEQwELAJBwFhmTbeTcbTsH7Fq2dEm9Mcdx1LtPPwtp8KsS/wq5rltvvE//ARbSINqMnLsXGZNtOwcAAL9FAQsAkHCyqoL/lNTDdg7Y9dknH9Yb6zdgd3XascBCGvzqi08/rjfmOI4O3MpN95F0ekS2wQAAJBQKWACAhLJsTXUXGXOV7RxoOWNMs6ddWVqid6a+UW/8mGNPaEkkSAqHwy2a/qnJj9Qb23vIvtqxoHOL5osEYsxVy9ZUd7EdAwCALVHAAgAkFK834w5J3KU7Bfz5tOP1zBOPNquQddPoK7Vp08Y6Y3ntO+jP5/0tWvHS1kP3j9VVl12k6uoNTZ72P/9+VjO++m+98cuvujYa0ZA42kS2xQAAJAwKWACAhFFaGRgqR3+KxbzXrFrZ4HjJiuWx+O/S3swZX+u9aVN15aUX6qxTj9OihQsaNV04HNbtN43Wq/+ZUu+9K6+9UW0bePodGi9QU6NJD0zQ05Mn6dD99tJH77/T6Gk/fG+arrrsonrjhx7+B+1/0KHRjIltWLWytEnjzeboT6WVgaHRnSkAAM1HAQsAkBCMMU7YaJwkJ5rzXbZ0icbefZvOO+u0Bt//8+kn6IlHH1L52rJo/reQ1C6vvSTp/Xfe0v6/G6CLzhuh6V9+1uANwMPhsL78/BOddMxw3T+2/v37Tzz1DP35L3+NeeZUt3FjtQo6F0qSFi/6RWeceIyOOmQ/vf7yi6qqrGhwmsW/LNRVl12kEaccq40bq+u8t/Muu2riw5NjnhvSgvnzdP2okbrmin80+P4fDz9AL7/wfLM667bCCRuNM8ZEdZsMAEBzsUMCACSEkvLAWcbRE82d3hgj/4rl+mXBfC0onq/ieXP05eefaP7cOY2aPiMjQ0P2+b32GPw7FfXpp15FfdSrdx9lZmU1N1LaWzB/ns4/61TNnfNTnfHWrduo/8BB6pCfr9Zt2qhszRr9MGumytasbnA+/3f8SRr3wKPKzm4Vj9gpr7p6g0b+/QK99tILdca9Xq/69h+ogs6FapeXp6rKSi1cMF8Li+c3OJ+evYv0xHMvq8euu8UjdtoIhUJatnSJflkwX8Xz52r+3Dn6/JMPG3wqZ0OysrO1/4GHaOCgPdWrqK+K+vTTzrvsKp/P16w8jtGfO7fPfLJZEwMAEEUUsAAA1q1aZdqEsoLzjDGFzZ1HVVWlirp3jGYsXXPDrbr4siujOs90s2nTRk0cc7ce+dd4bdiwvknTtmqVo5GjRutvl4yU43DIEm2vvfSC7rzlOi1ZvKhJ0zmOo2OOPUH3THiISzpj4OvpX+jYIw6K6jyfmvKqDj38D82a1nEcv7cmo3enTk7TVmAAAKIsw3YAAACCmYFrZJxmF6+kzd0jAwftGa1IkqSOOxZEdX7pKDu7la645gade8FFemD8ffrPlGe3e6+evPYddNxJp+qSy6/iyXYx9McTTtYf/u84TXn2SU1+5AHN+Xn2Nj/vy8zU/gceopGjrtOgPQfHKWX6ad26TdS3Zbnt2jV7WmNMYTAzcI2ka6KXCACApuN0JgDAqtKKjT3C8v4sKdt2FsSeMUY/zJqpLz77WCX+FVqzepV8Pp86dNhBnXbcUUP2+b0G7bW3vF6v7ahpZ/mypfrkw/f0y4JirV69Uq7rqkP+DurQIV/9Bw7S7w84SK1b84DQNLXJo1DfgrxWTWvXAwAgiihgAQCs8le4L0nmeNs5AADb4rxcmOc7wXYKAED6ooAFALCmpNw9yDjmQ9s5AADb5xjn4M7tfR/ZzgEASE8e2wEAAOnJGOM1jhlvOwcAoHGMY8YbY7i+FwBgBQUsAIAVpZXu+ZIG2M4BAGi0AZFtNwAAccclhACAuFtUbvKyHLdY0g62swAAmmRNjfH17NHeqbAdBACQXujAAgDEXZbcm0TxCgCS0Q6RbTgAAHFFBxYAIK78VTVFCjs/SPLZzgIAaBZXHjOwMDdrru0gAID0QQcWACC+whovilcAkMx8kW05AABxQwELABA3JZXBoyRnuO0cAICWcoZv3qYDABAfFLAAAHFhjPEZEx5rOwcAIDqMCY81xtBRCwCICwpYAIC4KK0IXiKpp+0cAICo6RnZtgMAEHPcxB0AEHMl60xHE3IXSMq1nQUAEFVVjte3W+e2zmrbQQAAqY0OLABAzJmQe7soXgFAKsqNbOMBAIgpOrAAADG1ojywh+NohjhpAgCpKmyMBndpn/md7SAAgNTFjwkAQMwYYxzHo/FifwMAqczjeDTeGMPJcQBAzPCDAgAQM6WVgRNlNMx2DgBAjBkNK60MnGg7BgAgdXGWBAAQE8uWmVbetu5cSd1tZwEAxMXS0DpfUbduzkbbQQAAqYcOLABATGTkBv8pilcAkE66R7b9AABEHR1YAICoW1FW3c3xZsyVlGM7CwAgrqpNKFjUJT9nme0gAIDUQgcWACDqHG/GnaJ4BQDpKCeyDwAAIKrowAIARNWKKndfJ2w+F/sYAEhXxnic33fJ9X1pOwgAIHXQgQUAiBpjjMcJm/GieAUA6cxxwma8MYbfGgCAqGGnAgCImtIKd4SkwbZzAACsGxzZJwAAEBWcIQcAREVZmcmt8QbmSU6B7SwAgERgSrNCmb3z850q20kAAMmPDiwAQFQEvIFrKF4BAP7HKdi8bwAAoOXowAIAtNiyyk27eY1ntqQs21kAAAmlJuSE+3drl73AdhAAQHKjAwsA0GJe471HFK8AAPVlRfYRAAC0CB1YAIAWWVHhHurIvGc7BwAgcRk5h3XJ871vOwcAIHnRgQUAaDZjTIYjM9Z2DgBAYnNkxhpjMmznAAAkLwpYAIBm81e5f5XU33YOAEDC6x/ZZwAA0CxcQggAaJblVSbfE3bnScq3nQUAkBTKwh5f7665TpntIACA5EMHFgCgWbwh9wZRvAIANF5+ZN8BAECT0YEFAGiy0rU1/cMe5ztJ3M8EANAUQU/Y7FHQIWu27SAAgORCBxYAoMnCHt0nilcAgKbLiOxDAABoEgpYAIAm8ZfXHCs5w23nAAAkK2f45n0JAACNxyWEAIBGKzYmq3Wl+6OknrazAACSWvGGdr4BPR2nxnYQAEByoAMLANBoOZXBf4jiFQCg5XpG9ikAADQKHVgAgEZZtd4UBIPuPEm5trMAAFJCVUaGr3enNk6p7SAAgMRHBxYAoFFCQfc2UbwCAERPbmTfAgDAdtGBBQDYLn9FYLCkr8SJDwBAdIUlDSnMy5xhOwgAILHxQwQAsE3GGEdG48Q+AwAQfR4ZjTPGcGIdALBN/BgBAGxTSVXgNDnaz3YOAECKcrRfSVXgNNsxAACJjTMdAICt8vtNjnLcOZK6284CAEhpS1Xt61NY6FTbDgIASEx0YAEAtq5VYJQoXgEAYq97ZJ8DAECD6MACADTIv3Zjd3m8cyTl2M4CAEgL1QqH+hR2aLXUdhAAQOKhAwsA0CDj8d4jilcAgPjJiex7AACohw4sAEA9/rXuMHnMJ2I/AQCIL6Owc0BhB99ntoMAABILHVgAgDqMMR55zDhRvAIAxJ8jjxlnjOF3CgCgDnYMAIA6SirdcyTtaTsHACBt7RnZFwEAUIuz6wCAWmVlJrfG6xZL6mQ7CwAgra3KCvl65uc7VbaDAAASAx1YAIBaNV73em2jeBUOh+OYBs21amWpli1dYjsGtiMYDNqOACSU3+xjOkX2SQAASKKABQCIWFa5qaekvzf03vr16/TgxDEa3G8XTXpwQpyTobEWzJ+nKy+9UEN276VjDhumpUsW246EiFAopO++/Ubj771DI045Vnv331UX/Pk027HSnhsI6IXnn9aRB+2jzz/9yHactOUGAvr3M0/owKG769or/iFjzK9v/T2ybwIAgEsIAQCbrSivecNxnKO3HFswf56enjxJU557SlWVFbXj/opA3PNh6z796H09MGGMPvv4gy1/+OmpKa/q0MP/YDEZfvz+O0157im9/vKLWrN6VZ33srNb6adFJWrVKsdSuvS1etVKPfvkY3rysYe1srREktR9p501/fv5lpOll9ISv5598jE988Sjtd+DJH0ze6G6dO0mSTLGvNmlfdYxtjICABJHhu0AAAD7/BXucMkcLUmbNm3UW6+/queeelz//eLTOgURJJ6FxfM14tTjFKipsR0FW/jy80807u7b63X1+Hw+Ddl3mA49/EgNP+JoilcWfPT+Ozr7jBPrrTOhUMhSovTiuq4+/eh9PfvkY3pv2tTt/t0dxznaX+EOL8zzvRuniACABEUBCwDSnDEmY8XamvFfTf9cLzz3tN5+41VVVVXajoVGMMbo6pF/p3iVQJYtXaIbr/mn3n7ztTrjOTmtdfqIc3TBxZfWdpYg/jZt2qhr/nkJ64wFP8yaqZemPKdX/vPvet2I22fGG2MGOI7DjeMAII1RwAKA9JUh6dC9h+xz3bKlS4q2vHwDyeGlKc9x354E8tKU53TNPy/RunX/e2ia4zg646xzNeq6m9UhfweL6SBJY+++XUsWL7IdI2189d/P9c7UNzRt6mtavOiXlsyqqKTKvVASN2EEgDRGAQsA0lfY4/E8MuPr6XXaQVq1ylFmVpbWr6vikpoEVlG+VjeNvtJ2DGjzpWfXXz1Skx95oM54YZeuunfCQzrwkOGWkmFL8+fO0UMTx9iOkVbuu/NWff7Jh3XGsrKzlZ3dSgYkvpcAACAASURBVNUb1st13cbPzOim5VXm2a65TlmUYwIAkgQFLABIX+GRo0bP37hxU7d+/QeqV5++2mnnHsrJaS1p85MHzxtxqj758D3LMdGQW2+4RmVrVkuSfJmZ6l3UV7N/mGU5VfpxXVcXnvsnTX39lTrjffsP1HMvvalOOxZYSoYtGWN05aUX1hZMsrKzVbNpk+VUqe+if4xUv/4DVdSvv/r2G6Cdeuyi3Nx2kjY/efDaKy/VM0882tjZ5XnC7i2SLoxVXgBAYqOABQBpqnRtTf+wxzlwa++3adNWxxx7AgWsBPTN9C/1/NOTa19ffOkVWrxoIQWsODPG6LKL/lKvePW7ofvpqSmvKLddnqVk+K1/P/OEvp7+Re3ry6+8VnfcfJ3FROnhgIMP0wEHH9bge77MTB174ilNKWBJ0vmla2seKOiQNTsqAQEAScVjOwAAwI6wx5kgybutz7SNnClH4nBdV1deemHt0yF369Vb/xg5ynKq9DRxzF16+YXn64ztvMuuevLfL1O8SiBla1br1huuqX194CHDdfzJp1tMhF/l5bVv6iTeyL4LAJCG/p+9+w5son7DAP5c093SlhboYO+WvYeIiiIgKAI/EBAEBMWBMmQpFVCGgGxFmbJklb333gIqe+/RRXdLR5Lm+/uDWhuT0qRNehnP56/mTe7uwdrm8va977GBRURkh8LjMzoCaJHX69zc3AohDRlj/pyZuHH9KoDnC4RPnT0Xzi4uMqeyP2dOn8DUH77XqhUp4oUlqzbA2/gP5WRG474difi458smubt7YMrMX2RORP+QHPL1UaRF1nsYERHZGTawiIjszD0hXCFJ0+XOQcZ7+OA+Zv74Q/bjnn0+QuOmL8uYyD6plEoMH/SZzk0Ovvr6W1QNriZTKtLn5PEjWB+2Mvvx8NCxKF2mrIyJyCQkafo9IVzljkFERIWLDSwiIjvjkqgeDKC83DnIeKOGDURaWioAwD8gEKHf/5DHFmQOyxbPx60b17VqFSpVRt/+A2RKRPooMzIwcsiA7Mtta9etj48+/VLmVGQi5bPey4iIyI6wgUVEZEeePhOBgAiVOwcZb9vmDTi4b3f244lTZ2ffzYsKT3p6Gn6ZNU2nPnTkaDg5OcmQiHLzy+xpuHPrJgDA0dER03+eD4Xihcv+kVURoc/f04iIyF6wgUVEZEdUatUkAJ5y5yDjJCcnYczXX2U/btOuPdq+00HGRPZrx5ZNiIqM0Kr5+hXD2+920nltfFws7ty6iZin0dBoNIUVkQDcu3MbP82Ykv340y+/QrUatWRMRGbgmfWeRkREdsJR7gBERFQ4IhKVjYRAL7lzkPEmjx+T3TTx8vLGpOk/y5zIfq1bs0Kn9r/33oeTszMA4PLF81j9+xLs2r4FkRHh2a9xcnZG4ybN0LJNW/To3Q8eHuwjm9PXQ79ERno6gOd3hvxqJAdPbZJAr4hE5a+B3s5n5I5CRETmxwksIiI7IISQNAKzAUhyZyHjnP/rHJb/Nj/78ajvJsI/gFfNyCEhPg4njh7Sqb/2xpt49PABPunTHa1fbYwlC+dqNa+A5wu/Hz96CN+NGo4mtavqbYSRaWxatwbHDh8A8PxOnT/O+hWurryjqo2SNAKzhRB8byMisgNsYBER2YGIJGUPCWgidw4yTmZmJkYOGZB9t7tGTZrhgw8/ljmV/Tp+9LDOnQcVCgViYp7izeYNsW3zhuwFw18kNuYpBn3aF5PHjzFXVLuVlJiA70KHZz9+7/1eePmVFjImInOTgCYRScoecucgIiLz4yWEREQ2LjpaeKqFejKQ9wdrsiyLF/yCSxf+BgA4u7hg6uy5kCQOGsjl3B+ndGpCCAz+rF9248o/IBDvdOiMqiHVoFAocOXyRWzbtB7RUZE62/40fTJKlymLHr37mT27vZj4XSieRkcBAIoVL4GxE6bksQXZBOEwOTpabC5RQkqROwoREZkPG1hERDZO7aQcAUgl5c5BxomMCMfUid9nPx741UhUrhosYyL6p5mY0z+Ls3t5+2D0uEno1rOPzp3uQr+biO9DR2BZjktB/zF65Fd4/c02CAzij2hB/XnmNFYu+y378YQpM+FT1FfGRFR4RMnn73XgWCMRkQ3jJYRERDYsMiGtPCRpeN6vJEvz7YjBSElJBgBUCQ7Bl0NGyJyIHty/q7ceHFIdh0+fR4/e/XSaVwDg6uqGSdN/Ruduulc5paenYdFcLspfUGq1GiOGDMhuKLZs3RbtO3WRORUVKkkaHpmQVl7uGEREZD5sYBER2TANHKcAcJU7Bxln3+4d2LltMwDAwcEB02bPy77LHclDo9Fk3wkyp6rB1bB++z4EBAbluY+JU2fDy9tHp7529e8GrZ1FuVvw62xcu3IJAODh4YnJM+bInIhk4Jr1nkdERDaKDSwiIhsVEa96DRAcQbAyqanPEDp8UPbj3v0+QYPGTWVMRACQkpKss4A7ADRp1hy+fsUM2keRIl54/4MPdeqxMU9x/dqVAme0V48fPcSMyROyH38zZjyCSpaSMRHJR3R5/t5HRES2iGtgERHZICGEIiJRNVPuHGS8GVMm4vGjh9mPhRCY+F1onttduXRBp7Z21XL8cepE9uO+/T/nWkv5pNHTvAKAZ8+MWzP69VZtMG+O7o/m5YvnEVKtRr6y2bvQ4YOQmvoMAFCtRi106NwViQnxL9wmKSlRp6bRaLS2c3J2hru7h2nDktkJScwUQjSQJEn/Dy0REVktNrCIiGxQRKKqH4A6cucg41y7cgkLfpmlVVu6aF6+97d9y0adWuh3E/O9P3vm5uaut56Rnm7UfurWbwiFQqEzzRUXG5PvbPZs57bN2Ld7R/bjq5cvokbFvC/n1Cci/AlCyvlnP/by8sbeY2dRpmy5gsakwlUn6z1wgdxBiIjItHgJIRGRjbkXL3wATMjzhWRRNBoNRn71BdRqtVn2X6deA3w1Mu9JLtLPxdVVbxMrOirKqP14eHjC26eoTj05KSnf2exVSkoyRo8cYrb916pTDyVLlTbb/smsJmS9FxIRkQ1hA4uIyMa4OKjGACgudw4yjoODA15t0dIs+3751dexeuOOXKeIyDC+fn46tfv37hi9Hy8vL52auwcvVTPWpQt/Izoq0iz7rlu/IeYtWan3rpJkFYpnvRcSEZEN4SWEREQ2JDwpIxgafCF3DsqfoV+PxtCvR+dr2wEf98KmdWu0asvDNqNl67amiEYAqtesjSePH2nVoiIj8OxZCjw8PA3ej747SpYuU66g8exO02avYM3mXbh357bR2ybEx+GH77/VqvkU9cWosRPg6OiIjp27wcWVN3C1agJfhCdlLAjycrkudxQiIjINNrCIiGyJBtMBOMkdg8gWNWnWHHt3bdepnzp+1KhGYWyM7npXNWrWLlA2e9Ws+Wto1vw1o7d78viRTgPLw8MDPft8ZKJkZAGcst4T28kdhIiITIOXEBIR2YiIRHVbQOK4DZGZvPTyq3rrB/buMngfKqVSZ8H20mXKonzFSgXKRkT6SG2fvzcSEZEtYAOLiMgGCCGchNBMlzsHkS2rVaceatetr1PftnkD0tJSDdrHrZu6VzN16NytwNmISD8hNNOFEJxMJiKyAWxgERHZgIgE9ZcAguXOQWTrPhs4VKcWFxuDlct+M2j7wwf2aj12cnbGBx9+bJJsRKRXcNZ7JBERWTk2sIiIrFxEsigOSeRv5W8iMkrbdzroncKa9sO4PBcTVymVWLF0kVatV9/+KFW6jEkzEtF/SGJ0RLLg3XmJiKwcG1hERFZOZKomAPAx9X6TkhKxPmyl3ufCVi4z9eGogKIiInRqmZmZMiSxbY6Ojvhp3hK4urpp1ZOSEvFhj//hwf17uW47fsw3uH/vbvbjkqVKY+S335stK+VOCCF3BLunUiqxbtXvep9buew3aDQaUx7OJ+u9koiIrJgkdwAiIsq/x/HKOg4SzgFQmGJ/aWmpOHnsCA7u240tG9fpLDadU4PGTfFuxy5o3a49J0hkEh0ViUMH9mLtyuU4deKozvO169bHt+MmoWmzV+DgwL9ZmdKGsFUY/Hk/nSahl7cPPv1iMP7XtQdKlS4DSZJw9/YtTJ8yHpvWrcl+nZubO9Zt24t6DRoVdnS7Fx0ViUnjRus04t3c3HHg5F8oV76CTMlsn1qtxpnTJ3Bw725s2bgWTx4/yvW1wSHV0bFLN7Rq+w6qBlczxeEzNQINShV1Pm+KnRERUeFjA4uIyIqFJygPAXgtv9tHhD/Bgl9m4/atG7hz6wYePXyQr6mdor5+CKlWA1WCQ9B/wGB+ADSj3+bNwbEjB3Hl0oUXfvjLqVjxEmjarDkGjwhFSLUaZk5oP7ZuXIcvP/0QKqVS7/POLi5wkByQnp6mVXd398Ci38Pw2hutCiOmXVOr1bh96wauXLyAK5cu4PTJY7h4/q9cp3ucXVzwesvWaNm6LV56+VWUq1CxkBPbFmVGBqZOGoe7t2/i1s3reHDvLlQqldH78fLyRuXgEASHVEfX93uhQeOm+Y10OMjHuUV+NyYiInmxgUVEZKUiEjK6CEhrC7KPM6dPoEMb057LLw/bjJateddyc3njpXq4dvVyvrb9ZeFydOzCO96Z0vm/zmHkkAG4dOFvg14fUq0GZs39DTVr1zVzMgIK9jvOy8sb1x8+NXEi+5KUlIjgMqZdemrU2An4YsiIfG8vQbwX6OOyzoSRiIiokLCBRURkhe4J4eqSqLoGoFxB9hMdFYm9u7abJlSWFi1bo2Sp0ibdJ/0rIvwJlLlM/OSlWPHi8PDwNHEiUqvV2BC2EuvXrMTpk8f0TjHWqFUHH378GTp36wknJycZUtqnRw8fYPniBfna1tXVFUO/5v0xCkKlVCJs1XKT7rNu/YaoXrN2QXZxP8PbKaS8JKWbKhMRERUONrCIiKxQRKJqtBBinNw5iEhbXGwM7ty6iYiIcGRkpMPPrxhq1KqDEv4BckcjoiySJI0J9HYaL3cOIiIyDhtYRERW5lFMakmFo+N1ABylISIiMl5KplodXLqY+xO5gxARkeF4SyIiIiujUDhOBptXRERE+eWZ9V5KRERWhBNYRERWJDJR2UQjcBL8/U1ERFQQwkHCSwHezqflDkJERIbhBBYRkZUQQkgagZ/A5hUREVFBSRqBn4QQfE8lIrISbGAREVmJyARVLwAN5c5BRERkIxpmvbcSEZEV4F8ciIisQHS08FQ7KW9CkgLlzkJERGQzhIhwVDlXKVFCSpE7ChERvRgnsIiIrIDaWRnK5hUREZGJSVKg2lkZKncMIiLKGyewiIgsXGRCWnkNFFcBuMqdhYiIyAalOyCzWoCP2z25gxARUe44gUVEZOE0cJwBNq+IiIjMxTXrvZaIiCwYJ7CIiCxYRLyqhZDEQblzEBER2TpJSK8HFnU6JHcOIiLSjxNYREQWSgihEJL4Se4cRERE9kBI4ichhELuHEREpB8bWEREFioyUdUfQA25cxAREdmJGlnvvUREZIF4CSERkQW6Fy98XCTVbQB+cmchIiKyI7EZwqlS+aJSgtxBiIhIGyewiIgskAtU34PNKyIiosLml/UeTEREFoYTWEREFiY8OSMEmdJFAI5yZyEiIrJDaihEraAiLtfkDkJERP/iBBYRkaXJxCyweUVERCQXx6z3YiIisiBsYBERWZDIJPXbgNRK7hxERET2TWr1/D2ZiIgsBS8hJCKyEFeEcC6aqLoMoLLcWYiIiAi34r2dalSXJKXcQYiIiBNYREQWwzdB/SXYvCIiIrIUlbPem4mIyAJwAouIyAJEpQj/TLXqJgAvubMQERFRtiSFo1MVf08pSu4gRET2jhNYREQWIFOtmgA2r4iIiCyNV9Z7NBERyYwTWEREMgtPUNYDcBb8owIREZEl0gBoGOTj/JfcQYiI7Bk/LBERyUgIIUHCLPD3MRERkaVygIRZQgj+8Z+ISEb8wEREJKPIRGUXCDSXOwcRERG9gEDzyERlF7ljEBHZM/4VgYhIJuHhwh3uqmsAysidhYiIiPL0EKlOIUFBUqrcQYiI7BEnsIiIZCJ5qIeBzSsiIiJrUSbrvZuIiGTACSwiIhmEx6WVgYPiGgB3ubMQERGRwVKhyQwJ8nV7KHcQIiJ7wwksIiI5OCgmgc0rIiIia+Oe9R5ORESFjBNYRESF7EmSqpmkEcfA38FERETWSAgHqXlJL6cTcgchIrInnMAiIipEQggHSSNmgc0rIiIiayVJGjFLCMHPUkREhYi/dImIClF4gqoPgAZy5yAiIqICaZD1nk5ERIWEEwBERIUkNlZ4ZSiUNwApQO4sREREVFAi0iXTuaqfn5QkdxIiInvACSwiokKiVChD2bwiIiKyFVLA8/d2IiIqDJzAIiIqBI8S0ysrhMMlAC5yZyEiIiKTyciUNDVLe7vekjsIEZGt4wQWEVEhUEAxFWxeERER2RqXrPd4IiIyM05gERGZWXiCqhUg9sidg4iIiMxFah3k47RX7hRERLaME1hERGYkhHAExHS5cxAREZE5ienP3/OJiMhc2MAiIjKj8CTVZwBqyJ2DiIiIzKpG1ns+ERGZCS8hJCIyk8dJws9Bo7oBwE/uLERERGR2sRoHp6qlvKRYuYMQEdkiTmAREZmJlKn6HmxeERER2Qu/rPd+IiIyA05gERGZQWRcRg2Ng/Q3AK6HQUREZD/UDhpRN8DX5bLcQYiIbA0nsIiIzEDjIM0Em1dERET2xjHrHICIiEyMDSwiIhMLj8/oAKCl3DmIiIhIFi2zzgWIiMiEeAkhEZEJ3RLCxTNRdVkAleTOQkRERPKQgNsp3k41KktShtxZiIhsBSewiIhMyCNRPYTNKyIiIvsmgEoeieohcucgIrIlnMAiIjKR6BQRoFarbgDwkjsLERERyS7J0dGpaglPKVLuIEREtoATWEREJqLKVE0Cm1dERET0nFfWuQEREZkAJ7CIiEwgPEHZAMAf4B8GiIiI6F8aAI2DfJzPyR2EiMja8YMWEVEBCSEkCMwGf6cSERGRNgcIzBZCcHCAiKiA+GGLiKiAIpKU3SHhJblzEBERkQWS8FJEkrK73DGIiKwdG1hERAUQHi7cIRym5PZ8Rno6tm3eAJVSWZixiGSlVquxfctGpKY+M/uxwp88xtXLF3H75g0kJyeZ/XjW7s8zp3HrxnWzHyc+LhY3r1/D9WtXEB3F9avJ/lz4+09cu3Lp34JwmBIeLtzlS0REZP0c5Q5ARGTV3JRfA1Kp/5YT4uOwYukiLJo3B9FRkfhf1/fx8/ylMgS0P6dOHMVfZ//I17bp6em4ef0qLl34G7PnLkbDJhysM8azZykIW7EM8+bMxONHD/HSy69i/fZ9Jj/O2dMnsWzxfBzctwcJ8XHZdQcHB1QNrob/dX0fvT/6FB4eniY/tjXSaDQ4uG83fp09HadPHoOvXzHsOfIHSpYqbdLjPHn8CEsXzcP2zevx4P49ref8AwLRtn1HfPzplyhXoaJJj0u5S019Bnd3D7lj2A0hBI4e2o9fZk/H8SMH4eXtg71Hz6BM2XIARKnn5wwYI3NMIiKrxWuxiYjyKTwurQwcFNcBuP1TO/fHKfy+ZCG2bd6A9PS07NeGVKuBAyf/kiOm3QkdPghLFs4t0D6cnJywYft+NGjc1ESpbNvVyxfx+5KF2Lh2tdYUlJeXN64/fGqy48Q8jcaoYQOxfcvGPF/rHxCIqbPnomXrtiY7vrV5Gh2FNSuWYuWy3/DwwX2t5zbvPoRGTZqZ5DhqtRpzZv6In6ZP0fq9p4+TszMGDf0ag4Z9A4VCYZLj26qjh/Yb9P/6f6nVaiQnJeLe3Tu4ef0qJs+Yg/d79TVDQvpHXGwMwlYtx4qli3Dvzm2t5/7zs5YGTWZwkK/bw0IPSURkAziBRUSUXw6O0wDhFhUZgc0bwrB25XJcu3pZ7lR272l0VIH38d3EqWxe5SEhPg6b1odh49pV+DOfE2/GuHr5Inp0fgdRkREGvT4qMgK9u3XEhCkz8WH/z82cznKoVCoc3Lcb69eswN5d26FSqcx6vKSkRHz0QVccP3LQsHxKJaZNGofLF89j/pJVcHJ2Nms+a/bHqRNYsXRRgfbh7OKCmrXrmigR5aRSqXD00H6sW/07du/cBmVGhiGbuT0/d8B7Zo5HRGST2MAiIsqHDdsPtlu3ennnTevDcOzwAWRmZsodibJEFXC9nU+/GGJXDQ9jJCcn4dD+vdi0bjUOHdhr6Ae2Art29TI6tX0DSUmJ2bVixUug+wcfokrVEMTGPsWeHdtw6sRRre2EEAgdMRjePkXR6T3bXT85MzMTf5w6jh1bN2HTujVal1WaU1paKt7v1A5/nTuTXXNydkanzt3QoHFTSJKEs6dPYsPaVVCr1Vrb7t6xFUO++Bg/z18KSeIFAfqYYu2wqbPnsoFlQpmZmfjz7Gns2LIJm9avQczT6HzsRXQOj1M1D/J1OmbygERENo4NLCIi4/hLkhTWpX3LVzQaDT91WaAnj/69MqNY8RLw8DB8/ZdO772PYd9weZL/Sk9PQ7+e7+H40UOFfkOChPg49HrvXa3m1cuvvo7FK9fB07NIdq3/54OwdvXvGPpFf52G8tCBn6BWnXqoVKVqoeUuLFMmjMXyxQsQHxdb6Mce/Fk/reaVf0AgVm/aieCQ6tm193v1Rf8Bg9CzS3tEhD/R2n7j2tVo3PRlfPDhx4WW2ZoYOm2Ym9DvJqJLt54mSkM/TZ+MhXN/RmxMgS+LluAgfhJC1JckSWOKbERE9oINLCIi40QXKeIVkpSUKJXwD0BwtRoIDAxCiYBAODg44P69O9i+eQMnsmSiUqm0PvTNWbAUr7RoKWMi2+Dq6oZnKSlQKZUo6uuH6jVqIahkKRQr4Q8XFxeEP36ETRvCzDKR9e3IIXjy+FH249JlymLp6g16F6Z+r/sHEBoNhgzQbohkpKcjdMRghG3eZfJ8cnN3d0d8XCxcXd1QNaQayleshGLFSsDL2xvJSUnYumldgRsh+mwIW4VtmzdkP3ZwcMDileu1mlf/CKleE2Gbd6PdG8107hQ5Ycw3ePvdTijq62fyjNYuZzO+Zu26KFe+gsHbvvzq62wMmpiHhydiY57CxdUVVaqGoEKlyihe3B9e3t5ISU7G9i0bEP7ksaG7qxORqOoLoGDXiBIR2Rk2sIiIjBAbK4pcvXvF0adoUfgVK673NUKjwdZN6ws5GQHPP/DlbB4W9w+QMY1tmbNwGZycnOAfEKj3eS9vHyyc+5NJj3nh7z+xad0arVro95NeeFe1rj16Y/OGtThyUPvuh8cOH8C5P07Z3Npmvft9grbvdES5ChX1Lor++put0b1TO5MeMyM9HVMmaE8qdu7aA3XrN8x1m0pVqmJ46FiM+XqoVj05OQmL5s3B8FFjTZrRFjzO0cAaMHg42nfsLGMa6vZBH7zSoiXKV6wER0fdj1Dt2nfEu21eM2aXP8TGirV+flJS3i8lIiIAcJA7ABGRNclQqMZUrFzFN7fmFQBUqhJciIkop3t3te/+FBRUUqYktqdU6TK5Nq8AoGLlKiY/5oQx30AIkf24qK8f3mrXPs/txkyYorc+e/pkk2WzFF7ePqhYuUqud/Qzx++jxQt/1WquAMD7vfO+y12fjz5DmbLldOq/zf9F6xJRAmJjnmpNq5Xw95cxDQHPJ7AqVw3W27wCgMpVjf5ZK56hUPGadSIiI7CBRURkoEeJ6ZUBDMzrda6uroWQhvS5f/dO9tdeXt7w9ikqYxr7UqSIl0n3d/H8Xzhx7LBWrU279gbdtS6kWg29k1YH9+02y+V0lszT09Ok+8vMzMT8ObO0av4BgWjY+KU8t3V0dET3Dz7UqSclJmB7jssRSft3GQCULFVGpiRkKA+PfP2sDcw6tyAiIgOwgUVEZCCFRpoJwEnuHJS727dvZn9dqkxZGZNQQf330kEAaNCoicHbd32/l05NCIH9e3YWKJe1kRxMe6p34ughnbvj1WvQyOA7CXbp/oHe19rb9yUv93I0sBwdHRHIaVKLZ0hzXd9mWecWRERkADawiIgMEJ6oag1JMu1CMmRyd27928CyxTvO2QuNRoPNG8J06rXq1DN4H6++/qbe+p6d2/Kdi/Q3FmvXrW/w9kElS+m91OrY4YNmuQmAtbp960b210ElS+V62RrZAElqF56oai13DCIia8AGFhFRHoQQThBiVt6vJLndvnk9++tKldnAslYX/v5T76V+FSoZfqVNqdJlULJUaZ36qeNHtdbVIuPs3b1Dp1a+onFXQDV5qblO7dmzFJz/+1y+c9mau7dzNuO5rqLNE2KWEIIT3kREeWADi4goDxFJqs8A8BOEhXv2LAUR4U+yH1f+z4e+zMxMPI2OQkT4E056WLiL5//SqXn7FIWbm7tR+6mv55LDZ89SjLnVPeXw6OEDxMfF6tSNvVlCvYaN9davX72Sr1y26PbNfyewKlYy/Q0SyOIEZ51rEBHRC3AemYjoBcKTRDFoVN/LnYPydu/Oba3JmocP7mHctyNx7uxp3LtzG3GxMVrPe/sUReOmzdC67Tto36lLfhfgJTO4dOFvnVp+7sJWvkIlvfUb167onc6iF9P3fQEA/8Ago/ZTvnxFvfVbOSYo7VlmZibu5rijas5LLmOeRiMuNhZxcTFIT0uDr18xFC/hzzWybIHA9+FJYlWQlxQjdxQiIkvFBhYR0YtoVOMA+Mgdg/KWc2IBACaNG/3C1ycmxGPvru3Yu2s7Jo0bja9GfoteffvDwcSLXpPxLl88r1PzKepr9H7Kliuvt373zi28/mYbo/dn765cuqC37uXtbdR+yuTyfcm5hp09e/TwgdaU6NnTJ7F/z078efYPxMY81btNqdJl8Gabdni/V19Ur1m7sKKSaflknXN8LncQIiJLxbN0IqJcPIrLqAWgv9w5yDAFmd6IeRqNUcMGVM2WhQAAIABJREFUon/vbkhPTzNhKsqPp9FROjUJht3lLqfc7kQZF6t7GRzl7b93H/yHoXcg/Id/QCBcXF116nGxHDwBtNfyA4B1a1Zg767tuTavAODxo4dYsnAuWr/aGEMGfIyE+DhzxyTz6J917kFERHpwAouIKBcKB2kWAIXcOcgwt25c06mVLlMWzV5pgZKlSsPFxQVxsbG4fPE8Tp88BrVarfP6nds2o3e3Tli1YTsUCn7r5ZKUmKhT8yxSxOj9FM1lais5OcnofRGQnKT7fQGAIkW8jN6Xt7cPotO1G2IpKcn5ymVrCtKM12g0CFu5DGdOn8DK9dtRrnwFEyajQqDIOvd4Xe4gRESWiA0sIiI9wuMzOgFoIXcOMtytG88/9CkUCrz7v/fw8WcDUbtufb2vjXkajemTx2P54gU6d6Q7dvgAZkyZgOGjxpo9M+nKzMzEs2cpOnVjp3wAwMVFd8oHAFKS2SjJj0Q9jcX8cnZ21qk9S9H9vtujm9e1m/HOLi5o2uwVNGv+KsqUqwAPDw/ExcXi6qWL2LNzK+7fu6uzj3t3bqPz2y2x9+gZ+PoVK6zoZBotwuMzOgUVddkodxAiIkvDBhYR0X/cE8IViappcucg48ya+xtmTJmAwcNHoW79hi98bbHiJTBp+s+oUasORgz+XKeJNWfWVPTs8xEXRpaBvuYVACQnGT815eau/66FSiXvQpkfaampeuspKcnw9DRuQk7f1FZaGi/fBZB9N1V3dw/0HzAIfT76FCX8A3Rf2A0YPX4y1q5ajrHfDNOZLAx/8hiDP/8Iy8M2F0ZsMiVJmnZPiJ3lJSld7ihERJaEa2AREf2HS6J6CAD9qwyTxapdtz6WrdmUZ/Mqpx69+6F3v0906iqlEovm/mzKeGQgLy/9C4JnajKN3peLi4veen4ueSPAw1P/nTo1mcZ/b6Bnos7byMXgbdX8JSvx5VcjcfDU3xgR+p3+5lUWBwcHdOvZB+u27dXbRNy/ZydOnThqzrhkHuWzzkWIiCgHNrCIiHJ4FJNaEhCj5M5BhWfkt9/D1dVNp759ywYZ0hAAvR/EU/NxeVlGhv5JK2+fokbviwDPXBpYyfm5JPM/U48A4OXNG74Cz////GbMeJQpW87gbWrVqYfvJ+kfHJ7380wTJaPCJUY9PychIqJ/sIFFRJSDwslxIgD9n9LIJnn7FMXbHTrp1B89fKB3bRkyP32TPnFxxt85UKVS6a1z0id/PHK5TDA/d7xL03O3Tx82Fguka4/eeptexw4f5N1VrZNn1jkJERFlYQOLiChLZKKyMQR6yZ2DCl/TZq/orT+8zwaWHAICg3Rq0VGRUCmVRu0nLU3/mk2ly/IK4fzIbU24J48fGb0vfd/L0kZMHJEuBwcHdO7WU6eenp6Gv86dkSERFZhAr8hEZWO5YxARWQo2sIiIAAghpEyBWQCMv9UZWb3KVYL11qOjogo5CQFAlaohOjUhBMKzFrc2VHwuU1u16tTLVy57p+/7AuSvgRUT81Snxu9LwTVq8pLe+qOHDwo5CZmIlCkwSwjBcxMiIrCBRUQEAIhIUvWUgCZy5yB5FPX101t3zmURcDKvKsH6GyV3bt0waj9RERE6taK+fihbjhNY+VElpJre+r07t43aT0J8HDLSdW+uVrtu/Xzlon+Vq1BJbz0uNqaQk5CpSECTiCSV7mgdEZEdYgOLiOxedLTwhJAmyZ2D5KNQKPTWfX19CzkJAUD1mrX11o29DCoiQndiq0Ej9qnzq2LFynBxddWpnzl9wqj9REbqNhbd3NxRrXrNfGej53x89C+E7+7uUchJyKSENCk6WnB9TiKye2xgEZHdUzsrvwYE7/Rjx2JzmU4IKlm6kJMQADRp1hxubu469XNnThu1n2tXLunU3unQOd+57J2ziwuav/q6Tv3q5Yu5rjemz9VLF3Vqbd5ur7c5RsbJzMzUW/crVryQk5BpiZLPz1WIiOwbG1hEZNciE9LKA9JQuXOQvK5e1v1AXcI/ABUqVZYhDbm6uuHV11vq1E+fPIbEhHiD9/PfiS13dw+89c67Bc5nz95s006nplarcWj/XoP3cf6vczq1Tl26FygXPRcbo78ZX658hUJOQqYnDX1+zkJEZL/YwCIiu6aB448A+Gd/O3f00H6dWpNmzWVIQv9o3a69Tk2ZkYFtmzcYtP2Tx49w/+4drVrb9h3g4cGrcAqi1Vtvw9HRUae+fs0Kg/dx/MhBrcf+AYF49fU3C5yNgAt//6lT8/L2QQgvz7QFrlnnLEREdosNLCKyWxHxqhaA4PVEdi4qMgJ7d+/QqXfr0VuGNPSPjv/rCv+AQJ36koVzodFo8tx+07rVEEJkP3ZycsJXI741aUZ75B8QiPaduujUD+zbjYcP7ue5/bWrl3H92hWt2pARoXqbYmS8A/t26dReevmVXNf5I2sjOj8/dyEisk9sYBGRXRJCKIQkZsidg0wjdPgg7Ny2OV/bjh45BCqlUqtWNbgaJ0Jk5uzigs8GfqVTv3blEtasWPrCbdPSUrHst/latZ4ffoxyFSqaMqLdGvjV13Bw0D6FVCmVGD96ZJ7bzv95ptbjSlWq4v1efU2az5oZ0pzNTWREOHZs3aRT79W3f0EikYURkpghhGBHkojsEhtYRGSXIhJVHwOoY459Z2Rk6NSSkhK1pkHIdM79cQpLFs7FRx+8h97dOho0BfKPGVMmYPuWjVo1hUKBH6b/BEmSTJzUtj17lqJTUyqVyEhPz/c+P/jwY5QpW06nPu7bkbhy6UKu202d+D2ePH6U/TgwqCS+GhGa7xzWLPXZM7315KSkfO+zSnAIOnftoVPfsXWTTuMwp+NHDmJdjksNFQoFxk+ewemrHPr37oYJY0chNVX/9y03QgiMHDJApxkfUq0Gm/GFJDlZ/89UfFycqQ9VJ+schojI7rCBRUR251688AEwztT7TUpKxJyZP2L+nFk6zz15/Aif9e2BB/fvmfqwdi8+Pi77jnX7du/Ay/Wr4ZM+3XHuj1O5Ng0jI8LxSZ/umDZJ93+DzwYORdNmr5g1sy1JS0vFkgW/YsqEsTrPpaenoc/7/8ON61fztW83N3fMX7oaTs7OWvWkpER07fAWNq8P0/oeJycnYdy3IzFvzkytfSz6fa3d3YVNo9Hg8IG96NW1g97nQ4cPwv49O3O9a11eJk6bjYqVq+jURw0biEnjRms1NDUaDTatW4Pe3Tppfb++GTuBzZUczpw+gZ3bNuPX2dPwWuPa2L5lo0ETWRqNBt+OHIJ9/7kU2tHREVN/msdmvJlpNBocP3IQXd9to/f5b0cMxo6tm/L9s5aLcVnnMkREdoXvaERkd8ITlTMhMLgg+1Cr1Xh4/x7u3L6J61cv4/CBfTj7x0mo1eo8t61Vpx5atm6L6jVrI6RaDZQuW47rkxTQtSuX8FGvrrh357ZW3devGBo2booyZcvD3cMDSUmJuH7lMs6cPqH3w8SHH3+GCT/O4ge+XGRmZuLxo4e4e/smrl29jGOHD+L0yWMGTVlVCQ5Bq7feQc3adREcUh3lK1YyePJm6aJ5GDVsoN7ngkqWQkj1mkh99gyXLvyNlJTk7OcUCgV+mrcEHbt0M+wfaMVinkbj1s3ruHv7Fk6dOIojB/cjNuZpntsVK14Crd56Gw0bN0XVkOqoEhwCd3cPg4559fJFdGjTQuu/+T+8vLxRvWZtuLm749qVS4gIf6L1/HvdP8Csub8Z9o+zEzevX0Pfnp1x9/at7Fq5ChXRr/8AtG3fEYFBJbVeL4TAn2dOY9yYr3Huj1M6+/tmzHh8+VXel3WScWJjnuLO7Zu4ffMGzp4+iYP79+BpdFSe2xX19UOrNu3QsMlLCK5WA1WCQ+DpWST/QSTMCvJ2HpL/HRARWR+eoRORXQlPygiGRroIwCm/+9i9Yys+6dMdKpXKJJlcXd2w79hZvdMMZLikxARMHj8GK5YuMqiRmJOrqxuGh47FZ1/qrrlEz134+0+82+Y1KPVcIpsfTs7O2LL7MOrUa2DQ6xfP/wVjRw0zeIqhSBEv/LxgKVq99XZBYlqFhjUqal0yWRCSJGHkt99j4NCvDXr9X+fOoE/3Toh5Gm3w/j8fNAyjxk5go1iP5OQkDPq0L3bv2KrzXJmy5VC2fEX4+PggISEBd27dQPiTx3r3MyL0OwwePsrcce1Oo5qV8PjRQ5Ptb8Dg4Qj9bmJ+N1fBQdQK8nK5brJAREQWjpcQEpF90WAGCtC8AoC01FSTNa+A55dZKVXKvF9IL+Tl7YMfpv2Eo2cuoe8nA3SmFfRxcnJC+46dcfTsJTav8pCRkW6y5hXwfNFvpdLw/fX9ZADWbt2DKsEhL3ydJElo+04H7D/xp100r4CCrWf1X0IIpKTormeWm3oNGmHv0TN46+1383xtSPWaCNu8C6HfTWTzKhdFinjhtxXrMGPOAp27cD58cB/HDh/Ats0bcOzwAb3NqxL+Afhl4XI2r8wkKTHRpPtLyWXdLAM5ZZ3TEBHZDZ49EJHdiEhUtxNCs13uHFR4rl29jONHDuLRgweIjo7Es5QUFCtWHP6BQagaXA2vtHjD7tZGsnYajQYnjh7C7p3bcOXiBcTHx8LZ2QVBJUuhXoNGeKdDZ1SoVFnumHbp1o3r2LppHc6dOY3oqEhoMjPh61cMNWvXRet276Bx05d17l5IuVNmZGDThjBs37wBJ48dQVpaaq6vLVa8BLr17IMvBg+DlzeXRrInkuTwdqC34468X0lEZP3YwCIiuyCEcIpIVF0CUFXuLERERMbISE/H2T9O4tHDB4iMCMezlBT4FiuGEiUCULFyFdSqU49rKdqvG4HeTjUlSTLdaDgRkYViA4uI7EJEvGqokMQ0uXMQERERmZIkpGGBRZ2my52DiMjc2MAiIpsXkSyKi0zVTQC8roKIiIhsTYKkcKoSWETK+9ajRERWjAsREJHNE5mqiWDzioiIiGyTT9a5DhGRTeMEFhHZtMfxyjoOEs4B4OIgREREZKsyNQINShV1Pi93ECIic+EEFhHZNAcJs8HmFREREdk2RdY5DxGRzWIDi4hsVkRCRhcAr8idg4iIiKgQvJJ17kNEZJN4CSER2aR7Qri6JKquAygrdxYiIiKiQvIgw9spuLwkpcsdhIjI1DiBRUQ2yTVJPRxsXhEREZF9KZt1DkREZHM4gUVENudRTGpJhaPjDQAecmchIiIiKmTPMtXqqqWLuT+ROwgRkSlxAouIbI7C0fFHsHlFRERE9skj61yIiMimcAKLiGxKZKKyiUbgJPj7jYiIiOyXcJDwUoC382m5gxARmQonsIjIZgghJI3Az2DzioiIiOybpBH4WQjBcyIishlsYBGRzYhMUPUC0EDuHEREREQWoEHWuRERkU1gR56IbEJ0tPBUOytvAVKA3FmIiIiILIOIdFQ6Vy5RQkqROwkRUUFxAouIbILaWRnK5hURERFRTlLA83MkIiLrxwksIrJ6UQnpFTLhcBWAi9xZiIiIiCxMhgKaav4+rnflDkJEVBCcwCIiq5cJxXSweUVERESkj0vWuRIRkVXjBBYRWbXIBNXrGogDcucgIiIismQOkN4I8HE6KHcOIqL84gQWEVktIYSjBmK23DmIiIiILJ0GYrYQwlHuHERE+cUGFhFZrchE1ccAasidg4iIiMgK1Mg6dyIiskq8hJCIrNKjROGrEKqbAPzkzkJERERkJWIzJacqpb2lOLmDEBEZixNYRGSVFBrVWLB5RURERGQMv6xzKCIiq8MJLCKyOhHJGdVEpnQBANdxICIiIjKOWlKI2oFFXK7KHYSIyBicwCIiqyMyMRNsXhERERHlh2PWuRQRkVVhA4uIrMqTuPR3AKmV3DmIiIiIrJfU6vk5FRGR9eAlhERkNW4J4eKRqLoEoLLcWYiIiIis3K1n3k41K0tShtxBiIgMwQksIrIanonqL8HmFREREZEpVM46tyIisgqcwCIiqxCdIgLUatUNAF5yZyEiIiKyEUmOjk5VS3hKkXIHISLKCyewiMgqqNWq8WDzioiIiMiUvLLOsYiILB4nsIjI4oUnKBsA+ANsuhMRERGZmgZA4yAf53NyByEiehF+GCQiiyaEkCBhBvj7ioiIiMgcHCBhhhCCww1EZNH4gZCILFp4krIrBJrLnYOIiIjIZgk0D09SdpU7BhHRi7DLTkQWKzxcuMNddQ1AGbmzEBEREdm4h0h1CgkKklLlDkJEpA8nsIjIYkke6uFg84qIiIioMJTJOvciIrJInMAiIosUHpdWBg6KawDc5c5CREREZCdSockMCfJ1eyh3ECKi/+IEFhFZJMlBMQVsXhEREREVJvesczAiIovDCSwisjjhcarmcBBHwN9RRERERIVNQCO9GuTrdEzuIEREOXECi4gsihDCAQ5iBti8IiIiIpKDBAcxQwjBz4pEZFH4S4mILEp4oupDAA3kzkFERERkxxpknZMREVkMTjgQkcWIjRVeGQrlDUAKkDsLERERkX0TkS6ZzlX9/KQkuZMQEQGcwCIiC5KuUI5m84qIiIjIEkgBz8/NiIgsAyewiMgiPEpMr6wQDpcAuMidhYiIiIgAABmZkqZmaW/XW3IHISLiBBYRWQRHKKaBzSsiIiIiS+KSdY5GRCQ7TmARkezCE1StALFH7hxEREREpI/UOsjHaa/cKYjIvnECi4hkJYRwhCRmyJ2DiIiIiHIhiRlCCEe5YxCRfWMDi4hkFZGk+hwC1eXOQURERES5EKgekaT6XO4YRGTfeAkhEcnmcZLwc9CobgLwlTsLEREREb1QnMbBqUopLylW7iBEZJ84gUVEspE0qnFg84qIiIjIGvhmnbsREcmCE1hEJIvIuIwaGgfpbwBcT4GIiIjIOqgdNKJugK/LZbmDEJH94QQWEclCOEizwOYVERERkUXLzMzEk8eP/nnomHUOR0RU6NjAIqJCFx6f0UEAb7zoNZcu/I1HDx8UViTKh/t372D54gX4on9vvPFSPbRv/arckayWSqVC2Krl+F+7lrhx/arccQAAyclJiIwIlzsGkV5HDu7De+1b4/OPPoBKpZI7DpKTk3D00H6LyGIrHj18gLCVyxA6YjD+164l7t25LXcku5ORno7lixfg5frV0KJJHZw9fRIAIIA3wuMzOsgcj4jsEKcfiKhQ3RLCBYmq6fqeE0Lg+JGD+GX2dBw9tB9BJUthz5E/4FeseGHHpFyEP3mMsJXLsHHdaty5dVPrOUmSEP7kMYJKlpIpnfWJeRqNsJXLsGThXIQ/eQwAGDV0IDbs2F/gfX/64fuIj483eruM9HTExj7F/bt34OXtg2NnL8HXr1iB81iT6KhInD5xDJGR4YiNiYGjoyN8ihZFrTr1UKtOPbi5uZv0eLExT3H65HHcvH4VqampcHV1RZly5dHkpeYoXaasSY9lzZ49S8Hm9WFYsnAurl6+mF3v89GnaNSkWYH2HbZqOWb9ODFf26ampiLmaTSEEBgyIhTDR40tUBZ7dvP6NawPW4ntWzbg/t07Ws/t2r4Znw8aJlMy+3L39i2sWLoIa1f/jrjYmOz6vj070bDJS88fSNL0W0LsqixJGTLFJCI7xAYWERUqj0T1EAAVctYS4uMQtmo5VixdpNUUCX/yGNHRUWxgWYBbN67jpxmTsWXDWqjVaq3natSqg9ffbIM3W7dFQGCQTAmth0ajwcnjR7Bi6SLs2r4FKqVS6/nMzEyTHGf3zm1QZhTsc0Xrtu/YTfMqIz0dYauWY+Wy33D54nkIIfS+zsPDE53e646vRn4L/4DAAh3z5vVrmDJhDPbv2al3ckeSJLz86usY+e33qNegUYGOZc0unv8La1YsxYawVUhOTjLLMR7ev4cH9+8VaB/+AYHo3e8TEyWyL0cO7sNP06fg1ImjOs/VqFUHb7R6Cy3ebCNDMvuRmvoMu7dvxZoVS3Hi2OFcfwfmUCHrnG5yIcQjIgLABhYRFaLoFBGgVqtGAc8/pB89tB8b1q7Cjq2bkJGeLnc80iMpMQFTJ43DskXztBpXCoUC7d7thC8GD0eNWnVkTGg9bt+8gQ1rV2H9mhU51xIxi6TEhAI3r+o1aITJ0382USLLtmbFUkwaNxpPo6PyfO2zZyn4fclCbN20HguWrkLz1154NbReQgjMmvoDZk394YWXnAkhcOzwAZw8dhhDvx6NQcO+gSTZx/13IiPCsSFsJTaErcL1a1fMfjxDvvcv4ubmjt9WrEMJ/wATJbIPN65fReiwQTh5/IhW3d3dAz37fIR+n37BKUQzUqvVOHH0EDavD8P2LRvx7FmKkXsQo6JTxNISnlKkWQISEf0HG1hEVGjSlelTLv71Z5GtG9dhy8a1iIqMkDsSvcDpk8fwZf8+Os2WFi1bY8KUmShfsZJMyazH1csXsWfnNuzZuQ0Xz/9VaMeNKODaVdVq1MLysM1wdnExUSLLlBAfhy/698HBfbuza0ElS+H9Xn0RUr0m0tPScO3qZWwIW4mI8Cda2yYmxKNP9/9h694jqF6ztsHHVCmVGPhZX2zZsFbnOQcHB2g0Gp16ZmYmfpz4HWJinmLClJlG/Auty707t7Fr+2bs2bUdf545rfe/hbn8cwlvfri4umLR72F2PSVnrMzMTMyZ+SOmTx6v9ccRJycnfPrlV/jsyyHwKeorY0Lbdv6vc/ht/hzs37MLiQnGX2qeQxF1pmoygD6mSUZE9GJsYBFRoahSNWRhg5DyvaKj+Ec6a/DbvDn4LnS41uVsRYp4YcyEKXi/V1+7mQIpiAf37+HN5g0NuQzD5B7nuAGCk7Mz+n8+yOBtnZyc8MmAQfD2KWqOaBYj/MljvP+/drh5/Vp2rWXrtvhl0XIUKeKVXesIYPDwbzD0y090mk5paakYPugz7DhwwqCfCSEEhnzxsdZ+XF3dMGDwMHTt0RslS5XGk8ePsPr3JZj70wykp6dpbb94/i8oWao0Pvvyq3z+qy3bzzN/xJoVS3XqLq6uZp/SffLoYfbXbdq1R/2GjQ3etunLr7J5ZYTEhHh83Ls7jh85qFWvVqMWZv26iFO9hSAlOQkbwlZlPw4IDIJ/QCB8/YpBmZGBSxfPIykxwbCdCXwQnqCcE+TjfM5McYmIsrGBRURmJ4SQevf7pO3yxQvg6OiIipWqoGz5Cihewh/ePkUR+zQae3ZtR0J8nNxRCcD40V9j7s8ztGr+AYFYtXEHQqrVkCmV9Slbrjw6d+2BjIx0hFSviaoh1VGyVGkUL+EPSZJw5/ZNfNLnfcTGPDX5sR/n+DBeooQ/Qr/L3+LUtiolJRndOr6F2zdvZNdCqtXA/KWr9C7Q7u7ugTkLluHu7Vu4dOFvrefO/3UOf/951qAGxrLf5mPj2tXZj11cXbFi/Va89PK/d/AsVboMho8ai9dbtka3jm11LumZPH4MXnujlU3+LPb56FMIjQbB1WsgpFoNVKxcFcWKFYeLqytUKhVmTJmA2dMmmeXYOSdNO3TuhvYdO5vlOPYuIvwJundqq9U4BoCOXbph5pyFNj/1aSmavdICU2fPRaUqVRFSrQa8vH20no+KjEDj2lUMvRTdQQA/CyFekiSp8P9iQ0R2hQ0sIjK7iCRl9+Gjxgb17PMRqgZXg5Ozs85rdmzdhI97dZUhHeU088eJOs2rsuXKI2zLHpQpW06eUFZs9rzFuT7nHxCINu3aY+Wy30x+3EcP7msdh7R9M/RLreYVAHw9ZvwL7y6oUCgwePgo9OvZRee5Iwf35dnAio6KxIQx32jVvhg8XKt5lVP9Rk0we95ifPTBe1p1lVKJH74Lxe9rt7zweNaoVp16mPnrIr3POTk5oVff/mZpYEVHRSIlJTn7sX8A17Eyh9iYp+jaoY3Oz96H/T/H+Mkz4ODgIFMy+yNJEnr07pfr8/4BgShfviJuXL9q2P6AJhFJyu4AVuX5YiKiAuA7BRGZVXi4cIdw+NGvWHHUqFVHb/MKAKoGVyvkZPRf27dsxNQfvteqeXl5Y/XGnWxemUlRXz+z7Pf2rX8/IJYqXcYsx7BW165c0pqCAp7/f/66AXc4a9GyFRwddf/29yjHJZu5mT55PFJTn2U/LlLECwMGD3vhNm3f6YA3Wr2lUz+4b3ehrqlmKTyLFDHLfu/dva31uFRpLhpuaiqVCn17dtFpXr3X/QNM/HEWm1cWyNPLK+8X5SQcfgwPF7n/FYCIyAT4bkFE5uWm/BoQJfN8mTvPeeT04P49DP2iv1ZNoVBg7uIVKFehokypbF8RM30gv3/vTvbXpcqUM8sxrNXq35fqrEtWOTgECoUiz21dXd1QtnwFnXpea8XcvX0Lq39folVr+04HuLq65XnMwcO+0akJIfDLrKl5bmtrcq5NZkr3793N/trJyQkBgUFmOY49mzxuNM6ePqlVq9egEX6c9atMiSgvCoe8fydqEyWfn/MREZkPG1hEZDbhcWllIEnD5c5BeQsdPgjJyUlatR69+6FFy9YyJbIP5lgMPzMzE/fu/tvAKluuvMmPYc0e3L+r9dinqC/e7aR7WWBuPDw8dWr/XT/mv9asXKZ1pzUAaNmmnUHHq9+oCaoEh+jU9+3eqbPIO+VPzqmgkqXLGNTMJMOd/+scFvw6W6vm4uqKXxb9zjWvbI0kDQ+PS+PYLxGZDRtYRGQ+Do7TALjKHYNe7MDeXTi4b7dWzcvbB8NHjZUpERXEowf3oVIqsx9XrhosYxrL8+mXQ1CseAm89kYr/DDtJ5y5dAsfffqlwdtHRUbo1IKrVc/19UIIbF6/Rqdep14Dg4/Z4X+66wOmp6fhyMH9Bu+Dcnf75vXsrytX4c+LKQkhEDp8kNYdbQGg/+eD2Fy3Ta5Z535ERGbBRdyJyCzC41WvAMLwsQaSzfTJ43Vq/T8fCL9ixWVIQwV1K8eHcQCoWKmKTEksU9Nmr+Dircf52jYtLRXRUZE69eavvZHrNudnZmv+AAAgAElEQVT+OKV1V0jg+dpnJUuVNvi4TV9+RW99/56daN32HYP3Q/rduX0z++tKlavKmMT27N+zE3//eVar5lPUFwOHjpQpEZmf6BIer3olqKjTUbmTEJHtYQOLiExOCKGISFTNzvuVJLc/z/6B83+d06o5Ojri/V59dV6rUioRHR0Fbx8feHqaZ+0mKricC7j7FPVF8RL+AID7d+8gMjIccbGxiIuNgbOLC/z8iqFc+YqoWJlNLkOcOn5UZ/2sGrXqIKRajVy3OXHssE7N2IX169ZrCBdXV2Skp2vV/9sYIOOpVCo8yLEGVuWqwRBC4PbNG7h18zqeRkchLjYG6enp8CtWDMWKlUD9Rk04PWSg+XNm6dQ6d+2h91JcsiGSmC2EaCBJUmbeLyYiMhwbWERkchGJqg8B1JE7B+Vt7arlOrUWLVtnL2IcEf4Eq5Yvxq7tW3D96mVoNBoAz9cvadioKd5o/Ra69+yT5xpAVHju3Pp3msTR0RF9unfCn2f/QGzM01y3KVO2HNq0exefDfwK/gGBhRHTKun7efl84NAXbnP54nmdWmBQnve10OLs4oLKVYJ19nX39i1oNBrewa0AHt6/B5VKlf148YJfMW7010iIj3vhdlWDq6Fnn4/Qq2//XO+ua+8ePriPUyd0h3B69OmX/fW1K5ewddN6HD20P3tS0dfXD5WqVEWLlq3x1tvvmu1urWRWdbLOBRfJHYSIbAvPeIjIpOLihDeAH+TOQXnTaDTYtX2LTv21N1ohKTEBo7/+Ci/VC8H0yeNx9fLF7OYVAGSkp+P40UP4PnQEmtYNwZKFcwszOr1AzgWpY55GY++u7S9sXgHPP2gu+HU2Xq5fHT9Nn6wzZUTP/7vu3LZZq9awyUton8cC8Bf+/lOnVsI/wOjjl9Nz98P09DQ8fHDf6H3Rv3JePgg8bzjm1bwCgBvXr2L011/h1Sa18eeZ0+aKZ9V2btuk87ukbLnyqBpcDdeuXELvbh3xRrP6mD1tEv7+8yyeRkfhaXQUbly/ih1bN2HYwE/RuFYVzJgyQWtdP7IaP2SdExIRmQwbWERkUukOqtEAuHiSFbh4/i/EPI3Wqbu7u6PVK43w27w5Opcs6RMfF4vQ4YMwcsgArSYXySPnJYTGevYsBZPHj8Fn/XpCmZFhwlTWL3TEYK07CTq7uGDa7HkvnH5KTX2GJ48f6dQdHY0fgC9TTreBBQD37942el/0r5vXrxZo+/t376BL+9Z6/xhg7w7s2aVTa9SkGRb8OhttXmuCfbt35LmPlJRkTJs0Dt06tkViQrw5YpL5FM86JyQiMhleQkhEJvMkKb0qNBgodw4yTG5TAyMGf559SY2HhyfeeuddhFSvCVdXN9y+eR27tm9BZES4zna/L1mIgMAgDBkRatbclLt/1uvJqUHjpnizdVvUrd8Qxf0DkJGejsiIcBw/cghbN63Tuyj51o3r4OlZBNN+mldY0S3ats0bcOzwAa3a4GHf5HmHx8SEBL11zyJeRmcoWbKU3npKSorR+6J/3fhPA6tKcAje7fQeXmnREqXLlIVnkSKIj4vDlUsXsGfnNqwPW6kzDZSenobP+vXEtr1HUbN23cKMb7HUajXOndV9jzmwbzfWrVmR/divWHE0bNwUgUElEfM0GqdPHsfT6Cid7U6dOIq+Pbpg7dY9UCgUZs1OJjXwSVL6wpJervn/ywoRUQ5sYBGRyUiZ0nRIcJI7BxlG39o8wPNFjZ2cnDBg8HB8PmiozoLtYyf8iGmTx2POzB91tp0xZQJavfU2qtesbZbM9GIJ8fFwdnGBMiMD7dp3xODho/R+L2rVqYdWb72NkaO/x7QfxmH+L7oLLa9avhivvPZGnpfI2brk5CR8N2qYVq1eg0YYMHh4ntsmJupvYOWHm7u73npKcpLJjmGP/llMvGpwNYyd+CNeff1NSJKk9Rp3dw+ULFUard56G18OGYGPenXF1csXtV6jzMhA/97dcPTMJa6JheeTbfomeP9psAcEBmHM+Clo+04HOLu4ZD+vUqmwavlijB01TGcK9NSJo/hl1lQMHPq1ecOTKTlJmdJ0AG/LHYSIbAMvISQikwhPVLWBJLWTOwcZ7sH9e3rrxUv4Y/v+4xgR+p3euw06u7hg1NgJej/AZ2ZmYs6sqSbPSoapXDUYuw6dwtLVG7FweViejUQPD0+MnfgjRoR+p/f5qZO+t/vLQkcOGYCI8CfZj339imH+0tVwcsq7V59kwgaWi4ur3npKSrLJjmGPJs/4P3v3HdhU1YYB/Llp000p3WUjo4O9UUCWDGWIsrfsKYICCiryqSjK3nvKnrL3kI3sPUrZHXS3dKfJ/f6gVELSNmmT3iZ5fn9xT+49521Lm3vfvOeceVi/bQ8OnfwXjZu10Ehevav0e2Wxfe8RlKvgq/Ha0yePsW3zemOFalKCHgZm+Vrb9h1w4sJ1tO/YRS15BQByuRx9+g/GqvXbtE7PXTBnBhITWXVoUgShdUicopXUYRCReWACi4jyTBRFOURxptRxkH7CQoM12jw8vbBtzxGdpsGMm/ATSr9XVqN9364dfKiWkH9AJbT4WL8Pu78aMx7v1/9Qoz0o8AGOHT5gqNBMzoa/VuLvrZsyj2UyGeYtWYVixUvkqd/k5CS9rynkrH3aoUzgrVxeNW7WQq+qKefCLpg5X/vmaiuWLDBUWCYtJFhz7TcA6NS1JxYsXwtn5+zX9m7crAX6DBii0R4fF4vdO7YaJEbKR6I4UxRFVugTUZ7xroeI8iw0VjEMQPaLwVCBExOjuSBu1eo1tVYWaCO3sUHfgUM12hUKBS6cPZ3n+Cj/CIKAL78ep/U1S01gBd6/hx/GjVZrGz3uezRu1kLnPrRVMAJAesYac4bgXNjFYH2R7mrWrqs16Xv75nWtazhZmpho7Ts5jvvhfzqvYTVs5DdaNzz45/iRPMVGkvDLuFckIsoTJrCIKE9CX4keEDBJ6jhIf6KWqWEJr/SrnGreUvus0RvXruQqJpJOo6bN4eauuYHo+TOnJIhGWsnJSRjSt7tapVTzVq0xauwEvfpxyFhf6V2vcrFuVWoWu0IWdmECSypt2nfQaBNFEZey2CDDkry9Y+fbdNnZ9o1ixUugWs3aGu1XL/2b67hIQgImhb4SuUs1EeUJE1hElCeiUvEzAD5BmSBbO801dVJTdX+4AF6vB6Mt6ZHVp+9UcAmCgBq16mi0h4WFShCNtMaNGoa7d25lHvsHVMLcJav03v2sUCHtFVgvQ/X/nr67oPUbrq5uevdFhlGzdl2t7S8t8HfmXTZZTMnU9z2mZi3N73H4S1a4mSiXjHtGIqJcYwKLiHLtRUxaVQADpY6DcselSBGNtsiIcL370bYeUGwsE1imqGTpMhptsTGW9bNcsmA2tm36byFuN3cPrNywPcc1e7Rxc/fQel1IyAu9+0pJSdZoEwQB5X05e1sqPkWLaW3nzpDa318AICpjF0JdvVeuvEZbSkqy1t8HMgkDM+4diYhyhQksIso1mYCZAPQrSaACw9XVXaMtJPgFFGlpevWjbQ2erNb+oYLNxUXzodPBwVGCSKRx6sRR/PLjd5nHchsbrFi7BSVLlc51nxX8AzTagl88hyiKevUTFhqi0Vb6vbJcA0tC2n5fAMCRf//gUsRVa/uTR0F69VM4i//fdnb2esdEBYJVxr0jEVGuMIFFRLkSEpvaAUATqeOg3AuoVFmjTalU4rGeDxjaporkdZc2koa2dZY8PD0liCT/PXv6BEP794JSqcxsmz5nMWrX+yBP/Vbw9ddoS0tNxYP7d/XqR1sCq2r1mrmOi/IuMTFBa7u7h2X8zmSnbLkKWtv1TWA5OGom0L28fXIVExUYTTLuIYmI9MYEFhHp7bEo2gHCVKnjoLyp+0FDre3nzpzUq5+oyAiNtoqVOUPAFIVrWbunbHnddqU0ZcnJSejbvQOi35reNGL0OHTs2iPPfWtbVwwArly8oFc/wS+ea7Q1bNQ0VzGRYYRqSSoCgJ9/xXyOpOCpWr2m1upNfRe41zbl0L+i5ocvZGqEqa/vJYmI9MMEFhHpzTYu/RsAmovlkEl5v35DyGSabwPHjxzUq593K0NsbG1R94MGeYqNpHH96mWNtnpm/rMURRGjhw3A3ds3M9s+79wN4yf+otP1Y78aiu++HpHlIuvNWnys9ffs33Nn9Irz3Z+Nja0tWrf7TK8+yLC07Ybn4enFdckAWFtba61evHzxvF7r6kW8DNNoq9+wUZ5iowKhTMa9JBGRXpjAIiK9PI9MKgaI3+V8JhV0Hp5eaN6qtUb7yeNHEa7loUGb+LhYRISr7wjV6pO2sLd3MEiMlH+CAh9ondbWqGlzCaLJP7///CN27diaedzgwyaYOW8pBEHQ6fq9u3ZgzYolUIkqra97efugWo1aGu0H9u3OMun1rmdPn2hUOrZo1ZrrX0ns7f83bzRt3kqCSAqmzzt302hTKpXYu2uHzn08efxI7VgQBLRu93meY6OCQPzu9T0lEZHumMAiIr1Yya1/A+AkdRxkGENHfq3RlpKSjCUL5uh0/ckTx6BSqT+49x00zCCxkf6yWpNHF0sWzNZYWLxm7bqoXLV6XsMqsLZv3oD5s/6bDV36vbJYtHId5FrWddMmJPgFYmOiIZPJsl1Uun3HLhptcbExOLh/j07jHNq/W6OtV19uAJtXoSHBGn+/dHXz+lWcOnFUo73/4OF5DctstO/QRet6iAvmTNf5+37m5HG144aNm6H0e2UNEh9JzinjnpKISGdMYBGRzsLi0upBRC+p4yDDqVOvvtaKgaUL52idTvauNcsXqx03atocdd837ylnBdWVS/+ibpUK2Lh2ld473J07cxLrVi/XaB/21RhDhVfgXDh3GqNHDMz8Xrm5e2D91j1wddPcnTMrB/fuApDzrps9+vSHm7uHRvuc6VN0epDfsmGt2nGjps3RsHEzneMkTaIool+PjmjzUQPcvH5Vr2uTkhIxevhAjd+zJh+1RKUq1QwZpkmTy+UYMXqcRvvjoIdYsmB2jtefOXUCT588zjwWBAFjx080aIyUNaVKqdmWnm7YQUT0CotLq2fYTonInDGBRUQ6EUVRUIqYCUC3eTV6ymoqTUJ8vDGGo7dMn7tYY8tzRVoa+vfshHt3b2d53ZoVS3D6rU/HHR2d8Pv0uUaL09ykpabi4oVzGu337t7WuuNcTn6b9D2ioyLx9YhB+PyTZvj3vG5rLF04dxp9u3XQSKS0+7wTPm7zqd5xmIInj4IwoFcXKNLSAAD29g5YvXGHXpUdUZERmDPjDwCAU6HsE1j29g4YPPwrjfbbN6/jr5VLs71299/b1BIsMpkME3+ZonOc5mTTutVa27dsWIt0PR+s9+/ZietXL+PalUto3aw+xn/zpVqyJCuREeHo0aEt7ty6odZe2KUIps5eqFcMlqB3v0Fo8KHmhsW/TfoeRw7uy/K65OQk/DhutFpb155foGYd5jqMTZGWhmWL5uL6lUsar23dtA5nT/9jyOEEpYiZoiga5d6SiMwP/1gQkU5CY9L6iAJWGaPvs6f/wS8/fqe14sfPvyJ+mz4H9bLYMY8M4+ih/ejXs1PmA/0bjo5OGDrya3Tq1gslSpYCAMRER2Hh3JmYP2tqZgWCIAhYuHwt2n3eKd9jNzV3b9/E4QN78dfKpVp3lgOAQoWc0WfAELT59HNUrlpdp/WYdmzZiLFfDUVSUmJmW9XqNdGr70A0aNQUJUuVVjs/KPABVi9fjFXLFmo8/JctXwF7Dp9CYZci+n+BBVx8fBxaN6uPoMAHmW0NGzfDh41139EvMTER2zevx7OnTwAA5X398M+FG9lek5ychNZN62skheU2Nli5bqvWSsigwAfo2LY5Xr61O+Q33/2Ib777UedYTd2De3dx5NA+7N6xNduq0HIVfNG5Wy+0av0pylXIeefM5OQkjP1qKLZv3pDZJpPJ0OLjNvik7WeoV78hipcomfnak8ePsG/3DsyfNQ0x0VFqfcltbLB09Ua0+LhNLr5C8xcS/AKtm9VX+38MAFZWVhj21Rj0GzQMXt4+me1PHgVh1LABakl4/4BK+PvgCRQq5JxvcVuK9PR0vHj2FNevXsaRQ/tw/MghtR1ZtalUpRpatW6HRk0+QgX/gDz/XAQRX/gUsdGeoSYiegsTWESUo/Bw0SndJv0eIOZ5sc1Xr+Lx6GEgAu/fw/mzp3D8yEGEhgTneF2p0mXQqvWnqFG7Lvz8K6JM2XKwtrbOazj0lhNHD6F/z85ITk7S+rqDgyMKOTtrfQj59c9Z6NN/cH6EaVKePX2CY4cPIPDBPQQFPsD9u7c1vn858fL2gV9AJfgHVEJ5Xz983qkbbO207z5+984tDOjVGY+DHmq85uHpBTc3d8isrBAR/lJj8f03AipVwYbte+Hh6aVXnKZAkZaGHh3bqlUOGkK1GrWw79jZHM97+OA+WjWup5ZkBF7v2NbziwHo2vMLvFeuPCIjInBw3y7MnzUNkRHhmee1bvcZlqzeqPMC86ZoyYLZuHv7Fh4G3kdQ4AO9dqx7o4irG/wDKqGCnz8+afeZ1gqgN1YuWYBJP4zTSN4Dr6fAOToVQlJSYpZVwvb2Dli6ZiMXb8/Bk8eP0LldC7x4/kzjNSsrK5Qr7wufYsURGRGOu7dvQqn8b/paqdJlsH3fMfgU5XrfhrRgznRsXr8Gjx8Faf3/r4/iJUqicbMW+HPWglz2IARbp1n7eXoKuV/IkYgsgvneARGRwYTEpk4GhAl57ae6Xym9H96zIrexwXc//oyhX2ouQk65d/f2TYwbNQyXL17Q6Xwvbx9Mnb0QH7X8xMiRmabVyxdj/DdfGrTPi7eCtC6M/EZiYgLmzZyK5YvmISHhlc79Wltbo1e/Qfjux5/NtsrBGD8PAKjfsDG27D6k07n79+zEkH499H5gbNCoKVZv3G72O3z6lfRAfHycwfrr039wjlObnzwKwu8//4B9u/9WS5zkpEGjppj85yyU9/XLa5gWITQkGN99PQKHD+zV+ZoPGjTCguV/wdPL24iRWabhA3tjx5aNBuvPP6ASjp69kocexN+Kuth+b7CAiMgsMYFFRNkKi00uo4LVHQDaSz70UNRFt529dDVi9DhM+OlXg/ZJgEqlwrbN67F53RqcP3tK6wOdt09RfDFgCL4YMATOhV0kiNI0XL54AQcyFvo2lC9Hj9Xpex4fH4ftmzfg6KH9OHvqnywr6xwdndCydVsMGTHa7BegfvjgPj6sU9ng/TZv1RqrN+7Q+fxTJ45iaP9eOU7TAV5Pz+03eDgm/jxF590RTdnShXOyrHbKjUpVqqFR0+Y6nfvs6RPs2bkNJ44cwoXzZ7QmGR0dnVD/w8bo1XcgmrX42GBxWpI9O7dj8fxZuHLxQpYbTlTw88fwUWPRsUsPs644lNKzp09yVeGYFTs7e1Tw889LFykyKAO8XexzXoyOiCwW3xGIKFshsYqtgNhB6jhIGuEvw/Dg/l2EhgQjMSEBRYq4wq9iJfj6BUgdGukhNSUFd27fRET4S4SGBMPOzg5u7h7w9ikKv4BKFjUdd9rvPyP8ZZhB+6xesza69eqr1zUR4S8xa9rv2LxuDRITNWfNWFlZoWnzVvhqzHjUqFXHUKGSjlJTUhAS/ALh4WGIj4uDq6sbvHyKwsvbB3K5XOrwzMKL589w+p9jCH7xHJER4bC3d0DxEiVRr35D+FeszMSVRRK2FXWRd5Q6CiIquPjOQERZCo1RNBEF8ZjUcRARmauUlGRc+vc87t+5jaSkRNja2aFU6fdQq049uLl7SB0eEVG+EkShqU8RuWEXKiQis8EEFhFpJYqiVVic4ooIVJE6FiIiIiIyfwJww7uwvIYgCLovSEdEFkMmdQBEVDCFxSkGMXlFRERERPlFBKqExSkGSR0HERVMrMAiIg2PY0QXW0HxAADnrxARERFRfopIFeUVyhQRYqUOhIgKFlZgEZEGW5liEpi8IiIiIqL855FxL0pEpIYVWESkJiQ+1Q8q4QYAbrNERERERFJQQCZWKepse0/qQIio4GAFFhGpU2EWmLwiIiIiIunIM+5JiYgyMYFFRJlC49JbA0JLqeMgIiIiIksntHx9b0pE9BoTWEQEABBFUS6KqhlSx0FEREREBACiqJohiiJnBhARACawiChDWGz6SAAVpI6DiIiIiChDhYx7VCIiLuJOREDoK9FDVCoCARSWOhYiIiIiorfECVby8j6FhAipAyEiabECi4ggKhW/gckrIiIiIip4CmfcqxKRhWMFFpGFexGTVk0m4DKY0CYiIiKigkmlElGzeBGba1IHQkTS4QMrkYWTyTAH/FtARERERAWXLOOelYgsGB9aiSxYaGxqJ4hoKHUcRERERETZEtEwNDa1k9RhEJF0OIWQyEI9FkU72zjFfQAlpY6FiIiIiEgHz1ILy33LCEKK1IEQUf5jBRaRhbKLTx8LJq+IiIiIyHSUzLiHJSILxAosIgv0IiqpuMzK+j4AB6ljISIiIiLSQ5JKme5b3M3hhdSBEFH+YgUWkQWSWVn/ASaviIiIiMj0OGTcyxKRhWEFFpGFeRGveF+mEs+Av/9EREREZJpElUyoX9xZfk7qQIgo/7ACi8iCiKIok6nEOWDyioiIiIhMlyBTiXNEUeTzLJEF4S88kQUJi1X0AlBL6jiIiIiIiPKoVsa9LRFZCFZhEFmIqCjROdUq7T4geEsdCxERERFR3olhtkobXzc3IV7qSIjI+FiBRWQhUq3SxjN5RURERETmQ/B+fY9LRJaAFVhEFuBlbEpZJWS3AdhKHQsRERERkQGlWkFV0cvFLkjqQIjIuFiBRWQBlLCaBiaviIiIiMj82Gbc6xKRmWMFFpGZC45VfCRAPCx1HERERERExiJCaF7MRX5E6jiIyHhYgUVkxkRRtBYgzpQ6DiIiIiIiYxIgzhRF0VrqOIjIeJjAIjJjYfGKwQAqSR0HEREREZGRVcq49yUiM8UphERm6kW86CZTKe4DcJM6FiIiIiKifBClksl9izsLUVIHQkSGxwosIjMlUyomgskrIiIiIrIcbhn3wERkhliBRWSGwqJTK6lkwlUAXAeAiIiIiCxJukwlVvd2tb0ldSBEZFiswCIyQyoZpoPJKyIiIiKyPNYZ98JEZGaYwCIyM8ExqZ8CQgup4yAiIiIikobQ4vU9MRGZE04hJDIjgaJo6xinuAmgvNSxEBERERFJKDCxsLxyeUFIlToQIjIMVmARmRGnuPSRYPKKiIiIiKh8xr0xEZkJVmARmYnwBNE7PV1xH4Cz1LEQERERERUA8dbWcl9PJyFM6kCIKO9YgUVkJpTpislg8oqIiIiI6A3njHtkIjIDrMAiMgMhsWm1AFwAk9JERERERG9TAahb1MXmktSBEFHe8GGXyMSJoihAwEzw95mIiIiI6F0yCJgpiiKLN4hMHB94iUxcSHxaV4hoIHUcREREREQFkogGIfFpXaUOg4jyhlloIhMWEiI6wEFxF0BJqWMhIiIiIirAniFJ7l+0qJAkdSBElDuswCIyYaJ92rdg8oqIiIiIKCclM+6dichEsQKLyESFRCeXhMzqLgAHqWMhIiIiIjIBSVAp/Yu62j+TOhAi0h8rsIhMlCCz+hNMXhERERER6coh4x6aiEwQK7CITFBItKIhZOI/4O8wEREREZE+RKiERkVd5aekDoSI9MMKLCITI4qiDDJxJpi8IiIiIiLSlwCZOFMURT4LE5kY/tISmZjQOEU/ADWljoOIiIiIyETVzLinJiITwgoOIhMSFSU6p1opHgDwkjoWIiIiIiIT9tJWKa/g5ibESx0IEemGFVhEJiTVSjERTF4REREREeWVV8a9NRGZCFZgEZmI53Ep5a1E2U0AtlLHQiQlpVKJRw8DERkZjsiICDg6OsLdwxP+FStDLpcbffwzp07gcdBD9PxigNHHIiLzl5ycBHv7/N1UWKFQIOjhA/j5V8zXcYmklJaaip07tqDlJ23h7Fz4TXOqUlBVLlHYLlDK2IhIN9ZSB0BEurGG1XQRYpbJK6VSibDQEBQrXiI/w7JIT588RlxsjEH7tLOzRwU/f4P2aU5EUcSxwwewddM6/HPsCGJjojXOsbOzR/0PG6NP/8H4qOUnBh1foVDgwN5dWDR3Bq5evggAsLWzQ6euPQ06jqlRKBS4fPE8/jl2BMEvniE6KgoA4OrmhvIV/NDko5aoWLkqBEG6z8sSExNw9dK/8AuoBHcPT8nikIIoirh7+yYeBT1ERPhLqJRKuLq5o1SZ91C1ek1YWVlJHSKUSiVUKlW+JJ8LgpSUZBw9dADHjxzE+bOn8DI0FImJCQAAdw9PVK5aHQ0bN0XHLj2M8v81MTEB69eswOJ5sxD+MgxLVm9Eq9btDD4OUUESFxuDdauXY+nCuXgZFoqateti9+HMDQhtrWE1HQB/EYhMACuwiExASKyiBSAe1PZaakoKNq1fg4VzpiMqMhLrtu5G7Xof5HeIFqVV43q4ce2KQfu0srLC8rVb0OLjNgbt1xwcPrAXU36ZiLu3b+p8zcdtPsWshctRqJBznsZ+8fwZ1q5aho1rVyH8ZZjaaxN++hUjRo/LU/+mKjIiHCuXLsTKpQu1JhPfVrN2Xfz4yxTUqVc/V2PdvH4Vg/p0zdW1sbGxeBUfB5VKhSYftcS6rbtz1Y+peXDvLpYunIND+/cgIvyl1nNciriiS/fe+PLrcXB1c8/VOPHxcfh14vhcXZueno7QkGBcv3oZ1WvWxl+bd0ImM9+VLRISXmHF4vlYtmgeIiPCczzfxtYWY8dPxJAvvzZIovHu7Zv4a+VSbN+8AfHxcZntffoPxu/T5+a5f0swfcoveBkWatA+3dw9MGb8xAKRTDZHly6cw9pVy7Brx1akpCRntjs7F8a9ZxHvnC20LOoiP5S/ERKRvsY4LA8AACAASURBVFiBRVTAiaJoHRqnmPVu+6OHgVi7ahk2b/gL0VGRme2HD+5jAsuIUlNScOfWDYP3q1QqEfTwgcH7NWXxcbGYMPYrbN+8IbPN0dEJLVu3RbHiJZGYmIB/z53BrRvXNK7dv2cnYmNisGH7XtjY6jfrNjExAft378SWjWtx5uRxqFSqPH8t5kIURWxatxqTJoxVewjOzuWLF9CxTXP8MXM+uvXqq/eYwS+e4+mTx3pf9za5jQ3GjDf/ZU4iwl/ix+++xu4dWyGKYrbnxsZEY/H8WdiycS1Wrtuaq/eNl6GhWLtqWW7DzRRQqYpZJ69OHj+Cb74cjOAXzzPbnJ0Lo1iJkkhOTsKLZ0+Rnp6udk1aaiomT/oeDwMfYMa8JbmqYoyPj8Ou7VuwecNfuHThXJ6/DkuWmpKCOTP+gCItzeB9e3h4ot/g4Qbv11K9DAvF9i0bsHXDWty9c0uPK8VZoihWEQQhPedziUgqTGARFXCh8YphAPwBICkpEQf27MLGtatw5tSJHB9QyPAeBQVqPGgYgp2dPbr26GPwfk1VWGgIun/eGvfu3s5sa9biY8xeuFyjWuT0P8cwfGAfjUqTc2dOYsmC2TpVSSUlJeLE0cPYt3sHDu7dnTmlh/6jSEvD6BED1RKKTk6FMHzUGLRq8ymcnQvjUVAg1q9ZgR1bNqpdm56ejnGjhsGnaDE0btZCr3GjIt/9lFw/giBg2pxFqF6zdp76KehOnTiKIf16IiY6KrPNz78i2rTvAA9PL4QEv8DO7Zvx5FGQ2nXRUZHo+tkn2HnwBCpVqabXmOHhYTmflINGTZvjux9/znM/BdXsab/jz8mTMt+vCxVyxqTfpqJD5+6ZyfXoqEisXr4Yc2b8gdSUFLXrN61bjWo1aqFP/8E6jZeSkoyTx49i26Z1OHRgr0Z/lDv3790xSvIKAOo3amKUfi1JVGQEDh/Yi7+3bcaZk8ehVCpz041/xj33HAOHR0QGxAQWUQH2Il50U6YlTTp98gT+3roJe3Zu54O1xAIf3DdKv5916ooirm5G6dvUxMXG4PPWzdQetGvWqYcVa7dAbmOjcX6DRk2xbututG5WHwqFQu21hXNnYujIb7KdnrFx7SpMGPOV2vQCUqdSqTDoi244uO+/KXiOjk7Ysf8YKlaumtnmU7QY6jdsjFp13sf3Y79S60OpVGLcqGE4e/UerK11v/0ICX6R67gFQcD/fp9m9muV7f57G0YM6qP2gD181FiMn/iLWmXT19/+gEkTxmDl0oVq1ycnJ2HYgF44dvaqXj+b8LC8JbBq1KqDxavWm+30qV8njseCOdMzj+3tHbBhxz7UqFVH7TxXN3eMHvc9Kletjj5dP9P4cGrqb/9Dt55fZFtNeuPaFcyZPgUnjh5GUlKiYb8QwkMjvfd/0KARfP0CjNK3JUhJSUaPDm3x7/kzuU1aqRMx6UW8uK64sxCV88lEJAUmsIgKrtqdP2m09vatm0UMvWA45d6jt6b5+foF4Neps1C8RCm9+9m0bjVmTf0t87jvwKEGic8cfDm4r0aVyJTpc7Umr96oVKUaOnXrhfVrVqi1x0RH4cK50/igQaMsr61WszZSU1NQslRp+FesjPK+/vD08oKbmweSk5Nw5OA+HNi7K29flImbM32KWvIKAIaPGqOWvHpb34FDcf7MSez+e5ta+4vnz3Bg7y60+fRzncd+8exp5r9r1X0fnbv10vnakqVK48MmH+l8vim6ffM6Rg3tr5a8+qBBI0z46VeNaWdyuRy//jkLQQ8DcfL4EbXXHj64j/17dqJt+w46j/3i+X8/G+fCLqhavabO13p6eeG3aXPyvE5dQbV14zq15BUAfPPdDxrJq7d91PITdOraE5s3/KXWHh0ViXNnTqJR0+ZZXmtja4t9u/8GAFhbW6P0e2Xh5eUDNw8PpCsUuHHtCl48f5aHr8iyPQxUT2BVrlodLkVc9e4n+MUzPHr432Z3X/C9P0/s7Owhk8mgVCpRrHgJ+PpXRKnSZeDq5g47Ozs8e/oEWzas1ecDqiIyleIXAMOMGDYR5QETWEQFVOu2n1fZu3t7hTfH3j5F4eXtA1c3d6SlpuLmjWuIj4uVMkSL9OYm1tXNHWs270SJkvonr0RRxL7dOzKPa9V9X++pO+bq+JGDOHJwn1pbpSrVskyUvK3dZx01ElgA8PTxo2wTWH7+FfHgRRQcHZ20vt6pa08ElPG22OrHqMgIzJs5VaO9afNW2V43cOhIjQQWAPxz7LB+Cay3Hrpr1a6Hnl8M0PlaSzBh7FdITk5Sa+vUvVeWayYJgoBvf/ifRgILAA7s1S+B9faaTu/Xb4iV6zV/3pYoNiYaE8aMVGuzs7NHr36Dcry2e59+GgksALhy6d9sE1h+/hWxYt1WFC9REr5+ARoJ/+TkJNSqWFZtiinp7u0PryZPnZ3rD516d2mfmcAqWqw4d4A0gHlLV8Pe3h7OhV20vu7o6IRF82bq0+XAsOjUBd6utvosoEVE+YQJLKICavGa9T02rFmJchV84R9QSeON+WVYKOpWrYC01FSJIrRMbyqDho8ak6vkFfD6Af7BvbuZx/0HcfHWN5YtmqfRVqtOPZ2uDahURWv725scZCWr5BXwegFwDy8vJD6yzATW0cMHtE5Jymlx/Ko1asHa2lpjzbh3q+ty8vjRw8x/e/n46HWtubt98zounj+r0e7l5Z3tddVr1oZLEVeNHSRvXr+q1/hPHj/K/LdnDmNakhVLFiAh4ZVaW9XqNXWqNqtWvRbkcrnGdOhoHRJP2SVD7O0dUMHXHxfOnc6xH9L0ZvmA9h275Dp59eRREI4dPpB53POLAXpN2SXtvLyzf18oU7acvl1aq2TCHABNcxsTERmP+W75QmTCQmJS28sEWZMeffqj7vsNtH6q5OXtgzJlykoQnWV79vQJHB2d0KN3v1z38fb6M17ePvikbXtDhGYW3t3hUS6X61yd5ubuobXdzs4+z3HZG6APU/XuQ3fV6jUxa+FylC1bPtvr5HI5ipcoqdGu6+6FwOuqkbe3rS9ZqozO11qC0JBgtWNBENC4WQudvk9ly1fQaIuKzDnZ+7bHQf9NhSpWvIRe15qz82dOabQVL6n5u6CNja2txkYVhlLI2Tyna+aHZ08eQxAEjBozIdd9LFs8L3NXW7mNDatJ84mTU6HcXNYkJCaVN2dEBRDT/kQFTKAo2iJOMUOXc514M5rv9h8/hzu3bmRZqp6TJ4+CcPTQ/szjbr36Zru2k6Vp1bodVi9fjGLFS6DNpx0wcNhIFC1WXKdrs5oao+1BnXT3cZtPMXvRChQp4oqASlV0/nkA0KgiAaA1qZWVJ4+C1Ba0zm3Vo7lq1uJjdM9IpgdUrIzGzVrgvXLZJxbf0FZ16Oqm+0YSirQ0tQX2S5QsrfO15s7N479kerHiJTBw2Ej06NNf5+vTtOx251O0mEFiI/2lpaaictXqsHdwQAU//1z1kZiYgC3r/5sa2rZ9B7h7eBoqRDIGQZgRKIr7ywsCpzoQFSBMYBEVMI5x6aMB6FRmYCUzz52bCrJixUvkqdLg7U9gra2t0avvQEOFZhZ+mvwnRo/7PlfTkZ4+eazRJrexQY3adQ0RmkXLzS5+aampGhVCwOuki64eBj5QOy5V5j294zBngiBg2pxFubr22ZNHGm1132+g8/WPHj1U2/WrZKnSuYrDHP02dTber/8hqlavicpVq6vtBJmTV6/itSbjdZ1KTYZnY2uL7fuOak3I62rT2tV49So+87jvAC7ebgLKZNyTT5E6ECL6DxNYRAVIeILonZ6u+F7qOMg4EhMTsHXjuszjFh+34afq77Czs8/1lL8rFy9otDVr3grOzoXzGhblwuGD+zKTtW8UK14CHTp317mPtxdO9vL2Mdsd6/JbWGgInr+1uyPwOhnWp/9gnfsIeie5WK6Cr0FiMwdFXN3QW4cF27W5f+e2Rpunlzdq1mYCS2pyuTxX16lUKixb/N/6jpWqVENNJiRNhPh9eIK4ytNJCJM6EiJ6jWtgERUg6UrFFABZryZNJm3T2tVqO0dy+2zD2rF1o0bb4BGjJIiEkpISMfmn8WptVlZWmDl/KWzt7HTuJ/DBvcx/ly3HqaCGMmvqb2rVUwDwxYAhqFy1us59BGXsyAoA7h6eKOxSxGDxWbI9O7drtPXqOxBWVqy4NlUnjx9R27xCn0QxSc4p496ciAoIVmARFRChcWm1RRG9pY6DjOPdT2DL+/qhfsPG0gVkZv49fwZXLv2r1ta8VWu9pkSRYSQlJaJ35/ZqO9RZW1tj5vxlaNBIv02d3q7yKe/rB+D1VNHbN68j/GUYoqMikZiQAKdCheDh6YWASlVQrUYtvaZsWZoNf63EXyuXqrU1aNQUkyZP1auft5OL5Sv4Zf47LTUV0dFRiI6KRFRkBJwLu8DTyxsenl7ccS0HiYkJ2LhutVqbq5s7+g/mTrWmbMmCOZn/di7sgs87d5MwGtKbiN6hcWnzfQrbXJQ6FCJiAouoQBBFUQiJU8wRAEHqWMg4Du3fo/4JbL/BEAT+uA1BqVTix2+/VmtzciqEKTPmZXEFGcvVyxcxckhftcSTl7cPZi9cjg+bfKR3f2/388/xI6jmWxLhL7OfyeHh6YX2HbrgqzHfGW03N1OUnp6OGX/8itnTfldbGP/zzt0wfc5ivTeTePTwvx0IU1NTMGHMSPx7/izu372tUd0FAM7OhdGkeUu0+6wTWrVux79/WsyZ/odalS4ATJo8FS5FXCWKiPLq/r07+OfY4czjLt17w97eQcKIKBcElYg5oih+IAiCmPPpRGRM/IiSqAAIjU/rLgBcEMGMzZ/1X3WDvb0DOnbtIWE05mXtqmW4ef2qWtuESZO5vlg+EUUR/54/g349OqJt84aZSScnp0IYPmos/rlwPVfJq7DQECQkvMo8fvIoKMfkFQBEhL/E0oVz8EGNAGxav0bvcc2NSqXCrh1b0bJRXcya+ltm8qpkqdJYsnoj5i1Zrde0zjcePvhvCuGVS/9i1bJFuHPrhtbkFQDEx8dh57bN6N+zE9q1+BBXL7OY4W2Pgx5i8fxZam2Nm7Xge4WJWzBrWubvnL7rzFHBIQD1QuPTdF/AkYiMhhVYRBILCxMdVWL6HwA/1DFXly9ewOW3Fhj/tENnOBd2kTAi8xEZEY4pv0xUa6vfsHGuF1Am/cyb+SdWLl2odbfBpKREHD24D6Ioot+gYSharLhefQfev5un2OLjYjF62AA8eRSEb3/4X576MkXXr17G9s0bsHfXdoQEv1B7zdbODs1afgJ7e3uoVCq9p1y+DAtFfHxcrmO7fPECPm/dDLMXrkC7zzrmuh9zMmHsV0hLTc08dnIqhD9mzpcwIsqrl2Gh+Hv75szj+g0b471y5SWMiPJElP0RFib+7e0tJEodCpElYwKLSGIq27RvAYGlImZs6YLZase9+g6UKBLzIooivvlyMOJiYzLbvLx9MH/ZGq6BlE+CAh9oTV4Bryt/7t29jXt3b2PZorkYPXYCRowep/Ni1A/uqSewihYrjg5deqBR049QrrwvXN3cERMdhaePH+Ho4QP4a+VSREdFavQze9rvKFGyFLr37qf/F2jCtm1aj2WL5mp9LTUlBSuXLMDKJQtQroIvfpkyA42aNte57wf37mi0lX6vLJp81BIBFSujiKsbEhMT8OLZUxw7chBXLl5Qm7b4Joah/XrAwcEBH7X8RL8vzsxsWr9GbZoZAEybuxglSpaSKCIyhNXLF0ORlpZ53JPv/SZOLPb6nh0TczyViIyGCSwiCYXGJJcWBWGs1HGQ8QS/eI59u//OPK5YuSqq16wtYUTmY/nieTh8YG/msZWVFRatXAdPL28Jo7Isnbr3QkDlKrC3d0BKSjLu3LqJ40cO4mVYqNp5aamp+OPXn3Dn1g3MX/aXTot5OxUqBJlMBg9PL/z48xS0/ayjxjb2Hp5e8PD0Qq2672Pol6MxbtQw7NqxVaOvH8aNxgcNG6N0mffy9gWbkA8aNsLd2zfh6uaGhIQE3L97W6MSC3g9FbB7hzb4+tsf8M13P+rU94vnzzL/3bR5Kwz76ht80KCR1nNHj/sely9ewPhvvsStG9fUXhNFESOH9MOR05f0rtAzF0GBD/DDWPXdUvsPGcHKNBOXkpKMNSuWZB67e3ji49btJIyIDEIQxobGJK/wKWL/ROpQiCwVE1hEEhIF6z8BUf/FR8hkLJo3E+np6ZnHrL4yjJvXr+KXiePV2sb/9Ct3HcxnHzRopJG4UKSlYe2qZfj1pwlITk5Se23339tQtFgJ/DT5zxz77tKjD3z9K+K9suV0mnLrXNgFC5avhVKpxN5dO9ReS0lJxoLZ0/DnrAU6fFXmoVXrdmj1zgPz3Tu3MH/WVGzfvEGtXRRFTJ/yCxydnDBkxOgc++7a8wskJLyCp6c3Pu3QOcfza9aui+37jqJ7hza4dOGc2muxMdGYP2sqJk+dncXV5istNRVD+/dEYmJCZlvNOvUw8ecpEkZFhrDhr1VqFaFde36h90YJVCDZvb53R85/+IjIKDjHgkgioTGKRoDYSeo4yHiioyKx8a9VmceOjk7o0IVrgOZVQsIrDOnXQ21qxidt22Pol19ncxXlF7mNDfoOGobNuw5q3W1ryYLZamvCZadajVp6rRcnk8kwdfZCFHF103ht0/o1aovCWyL/gEqYt2Q15i5epXUq5+8//4g7t27k2I8gCBg4dKROyas3nJwKYeHytXB2Lqzx2oa/VqlNBbYU//vxW7WqNDd3DyxeuZ6JDhOnVCqxdOGczGOZTIYeffpLGBEZltjp9T08EUmBCSwiCYiiaCUK4qyczyRTtnThXLVP1j/t0BmOjk4SRmT6RFHE6GED8DjoYWZbxcpVMXfJKgiCIGFk9K6atevi5ynTNdpFUcS8mTlXYOWWSxFXdOvVV6NdkZaGc6dPGm1cU9KhS3d89+PPGu2KtDRMn/KL0cYtVryE1gf5lJRk/HPsiNHGLYj27tqBVUsXZh7LbWyw7K9NFjuV0pzs3rEVTx4FZR43bNwMpUqXkTAiMjRREGeJoqjbgo5EZFBMYBFJIDRO0Q9ANanjIOOJj4vFyrceTgBY3CLSxjB72u9q08O8vH2wZtPfWit9SHpde36BchV8NdqPHNyH+LhYo43b5tPPtbZffGf6miUbNHwUypQtp9F+cN9uRIS/NNq4nXv01tp+9vQ/RhuzoLl75xZGDe2vtrD91NkLOQXaDIiiiLkz/lBr43u/WaqWcS9PRPmMCSyifPY4RnQBMFnqOMi4Vi1bpPaA7h9QCTVq1ZEwItN39NB+teoQe3sHLF+7BT5FuYlnQWVlZYW27TUXo1YqlTh/9rTRxq1YqYrWaVgRL8OMNqapkcvl6NJdM5mkUqlw4p0d8Qypgq8/XIq4arQ/f/bUaGMWJHGxMejfs5Nade7wUWPRuVsvCaMiQzm4bzfu3rmVeezm7oFWn7SVMCIyoskZ9/RElI+YwCLKZ7YyxY8APKSOg4wnMTEBSxbMUWvjJ7B58+hhIIYP6A2lUgng9Ro8M+YtYVLQBNSp94HW9udPnxhtTLmNDTw9vTTa4+PjjDamKWrUtLnW9kcPA402piAIeE9L5VdUZITRxiwolEolhvbvpTa9rMXHbbRO5yTTNHva72rHnbr25Jpm5ssj456eiPIRE1hE+SgkPtUPIr6UOg4yrrWrlqntPmRrZ8fF2/MgPj4OfXt0UEs+fP3tD3otIE3Scffw1Nqemppi1HG1LRZe2KWIUcc0NVmttxQbE23UcbX9HBwcHI06ZkHw26TvceLoocxj/4BKWLD8L60L6pPpOXH0EK5fvazWxg+vzJyIL0PiU/2kDoPIkjCBRZSflJgGQC51GGQ8qSkpWDR3plpbq9bttE6ZoZwplUqMHNwXgffvZbZ93rkbvv72B52u//WnCTi4b7exwiMd2NnZa213dXM36rjJyUn5Pqap0ZbkA6DXzo+5oVKpNNpc3TR3jjQnu7ZvwaJ5/703+BQthrVbd+uUuLt88YLRk4qUd7OnTVE7rlOvvtY1AMmsyDPu7YkonzCBRZRPQuPSP4YgtJY6DjKuDWtX4WVYqFqbtnVmSDd//PoTDu3fk3nc4MMmmDlvqU47Doa/DMOC2dPw+8+6JbvIOKKitE8N8/YparQxlUolXoZprncVULGy0cY0RXFZLKTv7mHcWe5vV6i+UbKU+e7SduXSvxg9fGDmou3OzoWxdutundfv69P1M9TwN9/vjzm4cO40LpxTX9evSxYbFpCZEYTWoXHpH0sdBpGlYAKLKB+IoigXRdUMqeMg40pKSsTMP9XX5/cpWgwfNvlIoohM27rVyzFv5p+Zx/4BlbBs7Wad1xO5e/smAMDR0cko8ZFubt+4rtEml8tRo3Zdo4159/ZNrRVY9eo3NNqYpujJ4yCt7ZWrVjfamKkpKbh397ZG+/sNPjTamFIKDQlG3+4dMv8/WllZYdHKdfAPqKTT9WGhIYiOioS9A3daLcimTv6f2rGDgyPafqa5gQWZJ1FUzRBFkTMsiPIBE1hE+SA0VjECAOfIm7nF82ZpbD/fsWtPyGT8U6uv0yePY8LYrzKPvbx9sHbr7iynPGlz8vhRAJaxtk5BdujAXo226jXr6PWz1NfO7Vs02vz8K2a55pOlOnXimEZboULOqFm7ntHGPH3yOBRpaWptchubLBf7N2Xx8XHo2bGt2vvCr3/OQuNmLXTu4/LFCwAAR0f+HSuojh0+gLOn/1Fra93uMzg5FZIoIpKAX8a9PhEZGZ+qiIws9JXoAQETpY6DjCsqMkJj7SsA3Bo9Fx4HPcSAnp0zH3Lt7R2wfO0WnafbAMDLsFCsW7MCAODAB788uXPrhkbCQVfXrlzCyeNHNNq/GDAk2+uioyKRkPAqV2NGR0VifcbP/m39h5jfs0Vaamqur01JScbaVcs02j9p9xnk8qwLCd5Mg8ut5Yvna7S1/7yz2S2wr1Qq8eWgL3D3zq3MthGjx6FP/8F69bNyyQIArxOLVPCoVCr89j/NaepdevaRIBqSlICJoa9E7jJOZGTWUgdAZO5EpeIXAMZdEZckN3vaFLx6Fa/WVr1mbZQtX0GiiExTVGQEenRqq7bjYPc+/ZCY8AqnThzVqY/oqCjMnDoZ8Rnr+zgVytun4Onp6VrXCgp7Z60zc6RSqTCgdxc4Ojph7pJV8POvqPO1r17FY+SQvhoJD1+/ALT7vFO2106e9D2OHzmIn6fMQJtPP9d5TFEUMf6bLxETHaXWXrxESbPcCfS7b76EqFLh5z9m6J3g+PPXSRrr9cnlcowaOyHb6/bu2oG1q5ZhyvS5KP1eWb3G3LNzu9oufAAgCAIGDhupVz+m4KcJY3D4rerDzzt3w/iJv+h8fXJyEmZPm5JZ2eOYx79jwOuk2rtSUoy7G6i52755A+7cuqHWVqJkKbxf3zynxJqixMQEjbbUtFQkJyfB3t6gU3NdMu75s/+EhojyhAksIiN6EZNWDcAAY/WvVGnejCrT0401HGXh2dMnWLNyiUZ7+45dJIjGdCnS0jD4i+548kh9XZ7li+Zh+aJ5ue43t5ULyclJOH7kEGZN/Q0hwS80Xl+zfDFUSiX6Dx5htonKIwf3Zf48WjWuhz79BmPoyK9zXID9yaMgDOzTFQ8f3Fdrl9vYYMb8pdlOq33y+BE2r18DpVKJQX26oslHLfHVmO9Qp179bMdMSUnGt6OGY/ff29TaraysMHvRiix3QzRVYaEh2LZ5PRRpaThz6gR+mjwVH7f5NMcpy6IoYuGc6Vg8f5bGa4NHjEap0lkvFp6eno7ff/4Bj4MeoukHNTBi9FgMGv6VTlOlzp05ia+G9NNo7z94BCpVqZbj9aZk9fLFWPFOpdnh/XsRUMZb5z6SkhLVKh/zMhU6JSUZK5YswOmTxzVe27tzOxo2aorPOnXVaXMM+k9aaiqm/jZJo/3TDl34vSwAYmOisX7NCsyZ8afGa6kpKejRoS1++Pl31KhVx5DDDngRk7aoeBGba4bslIj+w7+uREYUEpt2DEATQ/erSEvD6hWL8fMP3yL9nYSVh6cXFq5Yiw8aNDL0sJSFEYP6YPvmDWptMpkMl+88hpe3j0RRmZ4fv/s6T4mqrAwZMRoTf/0j23MSExMQFPgAjx4GIvDBPVy/ehlnTp1Aqo7VCeV9/dCwcTP4+VeEr18AfP0D4FzY9AsvFWlp+PrLQdi2aX1mm42tLVq1bocmzVqges06cHN3R6FCzoiOjsLN61exb9cObN+6UWPaoSAImD53Mbr2/CLbMUVRxJRfJmLuDPWfWdXqNdGhS3fU+6Ah/AIqwdr69WdwoSHBOLR/DxbPn6WR/ASA7ydNxvBRY3P5HSi4IiPC0btLe1y7cimzzdcvAP2HjEDjZi1QvERJtfPfJLrmTP8D58+e0ujvwyYfYd3W3bCysspyzJSUZIwaNgC73lpjrFAhZ3Tv3Q9devaBr1+AxoN7ZEQ4li6ci4Vzpmu8X1WsXBV7Dp+CrZ2dXl97QXby+BH06NhWa7VTXnzc5lMsX6u5tps2SUmJCAp8gJvXr+L4kYM4efyoRoXwu3yKFkOrNp+icdPm8AuohOIlSjIJk4OlC+fgp/FjNNqPnrkMf+54mq/SUlMR9PABgh4G4sG9Ozh14hgu/XtOp9/DEiVLocUnbVG5anX4+VdEuQq+eV0783hRF5umeemAiLLGdyYiIwmNTe0kQthsiL7S09Px4tlTXL96GUcO7cPxI4e0bkP+tkpVqqFV63Zo1OQjVPAP4PoZRnLn1g20+LAOVCqVWvtHLT/Bmk1/SxSVaVqyYDYmTTB8ouGb737EN9/9mO05vbu0x5GD+ww2Zp169fH3Ac1qB1MkiiJWLlmAX34ar3NC712Ojk6YvWgFPmnbXudrDu3fgzEjH2GXJQAAIABJREFUhyAyIlzr605OhZCalprl+lyCIGDSb1MxcKj5TU97IykpEeO//hJbNq7VeM2naDF4efugkHNhxERH4XHQQ61TaQCgeavWmL9sjc6LTi9ZMBu/ThyvkZBydXNHQKUqcHV1hVKpRGhIMK5fvaz1IbJ6zdpYu2UXiri66TSmqTDW37GOXXtgzqKV2Z6zaN5MLF80D8Evnud5PEdHJ7zf4EO+j2Xh1at4vF/NT+NerIKfP06c19x5lYzn8sUL+LRlI437sNySyWTYefAf1MzDTrkCxM4+Lra6ZZyJSC+cQkhkBI9F0U6MU2Rf8qGDBXOmY/P6NXj8KEjvRZRv3biGWzeuYdrvPwN4vQZM42Yt8OesBXkNi94yedL3ajdNXt4+GDrya/QdOEzCqExTxy49sGPLxjwvEv2uEqVK53hO6TJlUaVaDYONaU5TCgVBQL/Bw9GydTvMmvobNq1brZG4yE6Lj9vgh//9jnIVfPUat8XHbXD60i3Mmf4H1qxYorGoe3aLvPsHVMKvU2eZ/To0Dg6OrxOD7T7DH79MxL27tzNfCw0JRmhIcI7XDx81Bl+NGa/XbqmDhn2F2nU/wMTx3+Dyv+cz26OjInH6H82dDd8mk8nQrVdf/DT5T7Pcpa1jlx6YPOn7XG98kBVHR6ccz3n6+JFBklfA66rUu7dvGqQvc7Rg9nSN5JW7hyd++N/vEkVk2QoZcVfb3BAh/PFYFHeXEQQuMkdkYKzAIjKCkDjFDxBF3VdrzcLwgb2xY8tGQ4QE4PVD3dGzVwzWHwG7dmzF/74fi4aNmqJN+w74sHEz2NjaSh0WkdE8efwIO7ZswOEDe3Hj2hWtn3qXq+CLRk2b47OOXQ2yvkh8fBz279mZOR0qNiZa4xxbOzvUrvsBOnXric86ds2cYmgpVCoV/t66CWtXLcOlf89lm2T0KVoMbT7tgGFffZPnac5nTp3AxrWrcOLoYURFRmR5npWVFRo3a4Gvv/0B1WvWztOYBV1oSDDSDJzAcnZ2zrFaLToqEq9e5W73Tm2sra1RrHgJg/VnLlQqFRrUDMCTx48AvP7AolvPL9Cr3yBWu9N/BOHHooXlv0odBpG5YQKLyMCeRyYVs7K2vgcg549Lc/Ds6ROtD2q5ZWdnjwp+/gbrj4gsW3x8HEJDghEZEQ6ZTAY3Nw94eHoadVqYUqlEZEQ4wl+GITYmGg6OTvApWgzu7h5MHmeIjYnG6ZMnEPziGUKDX1dhubq5wdPLG1Vr1IJ/QCWDj6lSqXDj2hXcv3sboSHBiIgIR+HCLnB390CxEiVRp94HZjddkCxXaEgwtmz4C80/bmOU3ycyCwnK9HS/Eu4O2ZfCEpFemMAiMrCQmLQ1ENBL6jiIiIiIiEgiIv4qWsSmt9RhEJkTJrCIDCgsLq2eSsRZ8HeLiIiIiMiSiTIBH3gXtjmf86lEpAvdV+wkomyJoiioRMwGk1dERERERJZOUImYLYoinw2IDIQJLCIDCYtV9AaQ99WKiYiIiIjIHNTJeEYgIgNgNpjIAMLDRSelbfp9URSLSh0LEREREREVDIIghFilWvt6egoJUsdCZOpYgUVkAOk2aROYvCIiIiIioreJolg03SZtgtRxEJkDVmAR5VFYbHIZFazuALCTOhYiIiIiIipwUmRQBni72D+WOhAiU8YKLKI8UsF6Opi8IiIiIiIi7ewynhmIKA9YgUWUB6ExiiaiIB6TOg4iIiIiIirYBFFo6lNEflzqOIhMFSuwiHJJFEUrURBnSx0HEREREREVfKIgzhZF0UrqOIhMFRNYRLkUFqcYBKCy1HEQEREREZFJqJzxDEFEucAphES58DhGdLEVFIEA3KWOhYiIiIiITEZkqigvX6aIECt1IESmhhVYRLlgC8X/wOQVERERERHpxz3jWYKI9MQKLCI9hcSn+kEl3ARgLXUsRERERERkctIhEysXdba9J3UgRKaEFVhE+lJhNpi8IiIiIiKi3LHOeKYgIj0wgUWkh9C49NaA0ELqOIiIiIiIyJQJLV4/WxCRrpjAItKRKIpyUVTNlDoOIiIiIiIyfaKomimKolzqOIhMBRNYRDoKi00fCaC81HEQEREREZFZKJ/xjEFEOuAi7kQ6CHsleqqUikAAzlLHQkREREREZiNeZiUv711ICJc6EKKCjhVYRDpQKRWTweQVEREREREZlnPGswYR5YAVWEQ5CI5Jqy4IuAQmfImIiIiIyPBUoohaxYrYXJU6EKKCjA/kRNkQRVEQZJgN/q4QEREREZFxyAQZZouiyAITomzwoZwoG2FxaZ0goqHUcRARERERkRkT0TAsLq2T1GEQFWTM8BJlISREdICD4i6AklLHQkREREREZu8ZkuT+RYsKSVIHQlQQsQKLKAuCY/o3YPKKiIiIiIjyR8mMZxAi0oIVWERaBEcllRCsrO8BcJA6FiIiIiIishhJojLdr5ibw3OpAyEqaFiBRaSFYGU9BUxeERERERFR/nLIeBYhonewAovoHcHxivqCSjwF/n4QEREREVH+E0WZ0LCYs/yM1IEQFSSswCJ6iyiKMkElzgKTV0REREREJA1BUImzRFHk8zrRW/gLQfSWkFhFHwC1pI6DiIiIiIgsWq2MZxMiysAqE6IMUVGic6pV2n1A8JY6FiIiIiIisnRimK3SxtfNTYiXOhKigoAVWEQZ0qzSJjB5RUREREREBYPg/foZhYgAVmARAQCex6WUtxJlNwHYSh0LERERERFRhlSloKpcorBdoNSBEEmNFVhEAKxEqz/B5BURERERERUsthnPKkQWjxVYZPGCYxXNBYiHpI6DiIiIiIhIGxFCi2Iu8sNSx0EkJVZgkUUTRdFagDhD6jiIiIiIiIiyIkCcIYqitdRxEEmJCSyyaCHxiiEAKkkdBxERERERUTYqZTy7EFksTiEki/UiXnSTqRT3AbhJHQsREREREVEOolQyuW9xZyFK6kCIpMAKLLJYVkrFJDB5RUREREREpsEt4xmGyCKxAossUlh0aiWVTLgKgPPIiYiIiIjIVKTLVGJ1b1fbW1IHQpTfWIFFFkklE2aAySsiIiIiIjIt1hnPMkQWhwkssjghMantATSXOg4iIiIiIqJcaJ7xTENkUTiFkCxKoCjaOsYpbgIoL3UsREREREREuRSYWFheubwgpEodCFF+YQUWWRSHuPRRYPKKiIiIiIhMW/mMZxsii8EKLLIY4Qmid3q64j4AZ6ljISIiIiIiyqN4a2u5r6eTECZ1IET5gRVYZDGU6YrfwOQVERERERGZB+eMZxwii8AKLLIIIbFptQBcAJO2RERERERkPlQA6hZ1sbkkdSBExsaHeTJ7oigKEDEL/P9ORERERETmRQYRs0RRZHEKmT0+0JPZC41P6wYB9aWOg4iIiIiIyOAE1A+NT+smdRhExsYsLZm1kBDRAQ6KewBKSB0LERERERGRkTxHktyvaFEhSepAiIzFWuoAiIzKPu07QGDyqoBLSHiFa5cv4mVYGKKjI2Fv7wCXIq4oV8EXFXz9IZOxWDSvYmOicePaFUSEhyMmJgoODo7w8vZBlWo14OHpZfDxXoaF4sa1K4iOjsKr+Dg4ORWCSxFXVK5aHcWK81eyoAp+8Rznz5zCnVs3EPziGRauWAdB4Gdd+eHRw0DcvH4V0VGREGQyuLl7oGbtuiharLjUoZkkhUIBuVxu9HEePriPs6f/wa0b13D39k2sXL8N7h6eRh+3oElOTsL1q5cRGhyMqKgI2NnZw93D02h/8+NiY3D18kVERIQjLjYm876hgq8/ylXw5d+tPMp8D4+KRHx8HJydC6OwSxG+hxcwgffvYef2zRg+agzs7R0AoMTrZx9MlDg0IqPhX3cyWyHRySUhs7oLwEHb6/fv3UHw82do2rxVPkdGAJCeno69O7dj1bJFuHzxPNLT07WeV6iQM9q074B+g4ahYuWq+RylaUtNScHGdauxc9tmXLxwFkqlUut5VarVQJ/+g9GlR588JQvj4+OwbvVybFq3Gg/u3c3yvGLFS6Bj1574YsAQeHn75Ho8U3Hz+lWcPH5E7+tSUlKQlJiIR0GBuHzxAn6bNgdtPv3c4PHdvXML2zauw8H9uxEU+EDttf3Hz6Fq9ZoGH1NqK5cuxN3bNw3ap729A76b+PObhwidpKenY/2aFVi+eB4C79/Tek7NOvXw9bjv0eSjloYKtcALvH8PSxfOydW1KpUKz54+wdVL/6JP/8H44effDRwdcOPaFWzduA57d21HaEiw2mvT5y5Gt159DT5mQaRUKrF353ZsWLsK58+eQmpKitbz3itXHt1790P/QcNha2eX6/HSUlOxbfN6/LVyKW5cuwKVSqX1vCKubmjfsQv6DRyGsuUr5Ho8SxMbE401K5Zg84a/8OhhYJbnFS9REl169EHvfoOM8gEY5ez82VNYMn82Du3fA5VKhS7de2PmgmVvXk6CSulf1NX+mZQxEhkLE1hktoJj0zYJQOd328+fPYWFc2bgyMF9kMlkWLd1Nz5s8pEUIVqsa1cuYeSQvnj44L7O18hkMgwY8iW+nzQZchsbI0Zn+lQqFVYvW4RZ035HRPhLna+rU68+lq/dDDd3D73H3LFlI8aPGYn4uFidrylUyBk/Tf4T3Xv/n727Dmjqa+MA/h1IGyihYnf7s7s7UFFRsFtRwQ4MTExUTCxUVBTB7hZFEbsVFAMlpUGkBtz3D3Uvl3vHNhiMjefzlzu7cdzYds9zn/Oc8TKfT5k4blwDh7Urc3UMgUAA15MX5BbEYBgG169cxE7HjXjx7Ann+XoN/kPXHr0xcuxElK9QUS7nLEhaNqyBwB/f5X7cydNmYsVaB6m2/ej3AdMnjsaHd2+k2n7Q0GHYuNUJurp6uemiUrh0/gwmj7HM9XG27TmIIZYj5dCjP9+r169cxI4tG/DqBXuhLzU1NTRu2hzdevZBPzNzVK1eQy7nLMgunT+DtSsWI+DbV6n3qVGrNlyOn0GVatVlPt+De3cwe/okBAcFSr2PhqYmZs61xewFSygjS4ITri5YZjsXCQm/pN6nhH5JrNm4FYOGUtml/BAXG4OTJ1zh6uLMuUnYrWcfHHE/J3rMAB7l9DUt8ruPhOQHmkJIVFJItLA9wAz59zg+Pg6n3Fxx9NB+fPT7INouPT0d375+oQBWPjp78gRmTZsAoVAoaqtYqTI6dumO4iX0ER8XixfPnuD929es/TIyMrDPaRuCAr9jr4sb1NXV87vrSiE4KBAzpoyDj7eXqK1c+QowM7dE+QoVERsTjaePfeDleYuT9fbkkTeGDzbFuWueUmeRMAwDO9s5OLh3F6u9SbMWaNysBbS1dRAWGozHDx8gKJB9M/DXr3jMm2GF+Pg4WFnPzuH/uOCLjo7K9THmL14ut+DV86ePsWiuDd69ecVqL6FfEmMnWmHUuEkqPW0tLjYmT4JXANC6XQeptvPyvIWJoyxkGiye8XBD4I/vOOpxHsWLl8hpF5VCxM+wXB9j3ORpcgtePX/6GMts5+Dl86esdv2SpTB2ohXGTrSCcekycjlXQRcfF4v5M6fi4rnTorZSBoYwM7dAteo1kZSUiDcvn+P61UucjCz/j34w79cdV+48lCn71nnPDqxYPJ+VcVWjVm2069AZunpFERUZgWdPfDg3xYSpqdi0bhVCQ4LhsG13Dv/Hqo1hGMybYQW3o4dEbQKBAE1btEKjxs2gpa2N4KAfePzwASfbMC42BjZTxiIuLhbjJk3N764XCmlpabh35yZOnnDFjSuXkJycJNV+AmBISLRwp0kpjft53EVC8h0FsIjKYRhGLTROuC09PV3w4N4dnDzhiisXzkn9pU/yzq3rVzDDapxoKptAIMDCpSthPXsBZ+raqxfPMGvaBM5dpisXz8Fl/25MsLLOt34rCz/f9xg+qC/CQkNEbSPGTID9BkfOtI0P795g/Ahz/PgewGp/+/oldjo6YP7i5VKdc4P9clbwqlix4tjlfATdevZhbZeRkYGLZ0/Bdq4N4mJjWM/ZL1uEtu07ocF/jaU6p7IJy3LRL6sRYyZg5rxFue5HSnIyVi5dgMMH9oJhGFG7nl5RzJq/CGMmWqFo0WK5Pk9BJ0vmpyzKla+A7r36Stzusc8DjBtujqSk/9fYbdKsBabPmo/6DRshOSkJ9zxvYqvDOkRHRbL2ffroIWwmj8Wh46dVujZgWFhorvbvZzYYq9ZtznU/UlNSsH71Muxz2sYKnmhr62Cu7dJC85n552dYKIYPNmVNv+3UtQecnI9Av2Qp1rZBgT8weYwlJ1stNCQYq+wWYtf+I1Kd0/3YYSxfNE/0naWuro51m3dgxJgJnKyqB16emDV1AkKCg1jtxw4fQIfO3dDPbLDU/9fCYvmieazgVfES+nA+cgLtOnZhbZeeno4zJ92wZN5MVuCdYRgsXzQXbdt3Qs3adfKt36osLS0Nj7y9cO3KRVw4cxKREeE5OYwAasw2hmGaCQQC/rm2hCgpyqclqkbNfuPWNcGBP2zPnHTDTykugtdt3oExE6bkQ9cKt/j4OHRs0ZD1nkybOQ9LV64Vu09UZAR6dmzJuRg1Mi6NF74BlIWVSXBQIHp1aoWoyAhRW4/epjh0/LTYqROfP31E9w7NOXfJS+iXxBv/IIkFkF8+f4p+3duzBnaHT5zNdhD//OljDOzdmZP91dt0AA64nsz2fMqqd+fWeP3yOYA/QQ5Zpmi269gFS1asyfX0lx/fAzBu2CD4fnjHam/dtgMcnZxRsVLlXB1fmbgfP4LZ0yaKHlepVh3lyleU+TWOjopkZYouXbkW02bOy3afiPCf6NauGWtq78Ahlti2+yCKFGHfU4yMCMegvl15A26r1m/GRCsbmfqrTKwnj8EZDzcAQFmTcqhes7bU+9auUw92q9dzXk9Z/QwLxbjhgzkBmGYtW2Ob04EcTYNTZgkJv9CnSxvW32Odeg1w6dZ9sRm7cbEx6NSqEedaTCAQ4IVvgMQsrNCQYHRs0ZAVMJH0tx/w9Qt6d2nDuVFSq3ZdeD56JWavwsnH2wvmpt1FwUGBQAD389fQrkNnsfs8uHcHlgP7cOqPDRxiKXVQkojn++EdBvXpyvn7lSTrFMJMJpnoazrzPUGIsqIMLKJKxgoEgg1LF8wqfMv/KIEDe3ayLmL/ZX1kx8DQCPMXL8fs6ZNY7RHhP/H08UO0atM+T/qqbNLT0zF5jCUreKWmpobVGxyzHZRXr1kLliPG4PCBvaz2uNgYPH/6SOLru26VHesitnmrNhIzUJo2b4lBQ4bBw+0oq93z1g0kJSXKVABbWWSeOjlv8XJYDB+dr+d/8+oFRluYITzLtKyZ8xZhwZIVha42TOZC9ZOmzsCKtQ45eg2WLpwtCmBpa+vAcuRYifssXzyPFbyqWKkytuzYxxtsMTQyhvu5a+jcujGnttymdasxdNgoFC+hL3O/lUHQj/9/ZoYMGwVbu1X5ev7Pnz5i+OC+nGnP4yZPw+r1W1Q6+02cBbOmcYKpK9ZszPY7u4R+SUydMQcrFs9ntTMMg1vXr2DEmAnZnnPHlg2s4FXpMmUxdmL2U9UqV62GaTPmYN0qO1b7R78P+Pblc6ELPGZn3So7VjZuu45dsg1e/dvG1GwwLpxh33C6de1Kvq38qcpq1a4LPT09aGtro069BqhTtz7KmJjA0PDP0Oaj3wfs2uogdlEeHmuiohgPAwNBfJ51mpB8Vvh+gYkq+8YwjLG2tg7+a9wU5pYjMNVmDpasWIO5tnYquZKWMjlz0o31uGGjJlJNvejVtz9vplXW1dIKs/OnPTi1WVq2bocKFStJ3Le36QDe9u8SCvP+DAvFw/t3WW1t2nWUeD4AMOWZxpGcnISQoCCerZXb798JrMBi2bIm+Xp+P9/3GGHejxW8EggEWLV+MxYuXVnoglcA8MX/zyC8SbMWWGa/IUevwe/fCfA49v9sgwGDhqCUgWG2+7x59QLnT3uw2uYtWp7tqmxlTcph/iLuaujxcbE4kKXunCr58f2b6N/G+bzKWWhIMCzMenGCV3Nt7bBm49ZCGbx69eIZzp1yZ7WVKWvCmWbGp7epGW+7pDp0QqEQF86eYrW1bNNOqsy6Pv0G8rZ/9s+b6cPK6HvANzx/8ojV1q5DJ6n25Xt9f/2K59wkIbJTU1OD9/MPeOn3HcdPX4Ld6vWYNHUGBg6xxMAhlrC1W4WOXbrLckjjFHUh90eEECVGGVhEZXyJiA8NCfghrFy1mgZfwGPSVBvUr2bCmbpE8l50VCQn4CTt0tYl9EuilIEhZzW9+Pg4ufVP2R0+uJfT1rBRE6n2rVu/IW+7pMLjz58+5kwhqFZduve0ajX+FbpiZUyZVwYBX7+wHpc1yb/i6FGRERhp3o8VQAMAu9XrVXr6mST/3hObOQtzPA3Z3fUwKzNk/JTpEvdZu3IpK9tBV1cPffrzD+4zGzPRCjscN3IGh857dmKK9SyVW5Xw9+8EVh2/cvm4CmZSUiKGD+rLKVZtZT0bc23txOyl+rJm6QJA/YaNpAr+VqhYCUWLFuMsWCBpitSXz584NeCk/Y2pXLUaBAIB6/MGAPFxdN3wz/MnjzivT+Wq0mWnVRWTxSbLohREvOxuagCQ6uZkFjaBccl7K5TQ9s9xpwgpQArfbSSisnSKaG2pVqMmb/AK+FOYUpbaM0R+sg4GgD+rA0mL7z0tV65CrvqkSj76fmA91i9ZCk2at5Rq32LFivO2S1rlLDSYmy2VniFdSruamM9o+XwcqOaXrIHbCpVkvvDMEYZhYDNlHKd+3GCL4Sq94qM0qteshWo1akpVcJ1PRkYGnPfuFD1u2rylxAUIvn72h5fnLVZbu46dpQo+FSlSBEN5pp3GREfBy/O2lL1WHlmDvjkYrOXYojk2rJWKAaBjl+5Ykk2txsLgU5bXREdHFx1lWL25hD53qqukv/1wnhqm0k6bEggE0NDU5LSXq0DXDf+EhnB/wzOkfH01NbU4bWpqaigjw8qSJOf09IrKuoumeobAMS/6QogiUACLqISQWGEPCAQSRyO6eqp1p1pZZL3LBwAPH9zjZPDwSUlO5mQeaGlro0PnrnLrn7IbOWYCNLW00KJVW6xavxlP3vpLvdpSZJbsnH9q1JK+aPI/3l6eUm0X9COA0/Zf46YyLauuLL59/Sz6d+kyZaGtrZMv53U7egh3b99gtVWsVBkbtzrly/kLsr0ubrjj/SLHU8Hu3bnJCrKMmWAlcZ+sU6gBoFGTZlKfc9DQYbzt169clPoYyuLLZ3aSQIV8WmDA89Z1Tm2+4iX0sXOfS6FfMGTk2IkoUqQI6jdshPmLl+Pxm08yrQQcFRnJaZP0G8N33SDtb0xoSDBSU1JYbSVLGaBp81ZS7V9YPZDy9f0ewC0x0KJVW5TQLynvLhEe4m4CZksg6BsSK+wh/94Qkv8ogEWUHsMwRQBmmzTbamtln5ZL8oZJOe60qcAf37HTcaPEfa9dvsAJdI2fNI2zZHdhtmi5PT4Hx+DcNU9MtLKRaVn3QJ5gUtGixfBfo+xrxpXleU/PnXKHj7eXxHNeuchdKWf2giUS91NGmWuuiJs6KW/xcbFYs4L7ei5ZuU4li+TnBF92hrT2794h+ncpA0P0H2gucR++AJYsdRlr1a7Lm0F8+8ZVqW4EKJOvn/+ftVi6TFmxWaLylJaWhqULuZmJsxcspsxtAMNGjcOXkFjc8HqC2QuWwNBI+rVyfoaFIjk5idUmEAjQpn2nbPczLl2G0/b86WO4Hzss8ZxXLp7ltNnMWUAFxjMpXYZbj9HD7SinLhYfvt/wOQtV8zdctTDb/oyZCFFuFMAiSi80XjgNgOzpIiTflDIwRO069TjtG+yXY6vDWrF1yYRCIXbv2MJqq1OvAeYvWZ4n/VRW6urqOV4y/pH3fU5b3/4DJdZgaNWmHScrIS0tDWMsBuLa5Qti9wsJDsIZD/Zg3mLEGPTobSpDr5XH10zZJNVr1sqXc+7fvQMxWWqYNWnWQuqsPCKe/0c/3LtzU/R4+Ojx0NTiTqfJLCjwB2daHABUqFhZ6vMKBAK0bN2W0x4ZEY4f3wOkPo4yyBz0rV4jfz4zpz2O49uXz6y2cuUrYPxkybXNCoucBn0f+3hz2pq2aIWKEjLratWpxxsomz9zKo4c3MeboQX8qaF2MMsCB63bdsCkqTOk73Qh0LZDJ04NM2FqKkYOHQDPW9fF7hfw9QtnBcJxk6ZKVdCfKFztv2MmQpQaBbCIUguKZwzAYKWi+0EkmzSNe/HIMAw2rlmBbu2a4uGDe5znN61bhTevXoge16hVGyfOXsm3aViqLiMjA6fcj7HaBAIBpthIrpFUysAQ5hYjOO0JCb8wfoQ5RluYcQbtQqEQNpPHsgrwmw4YpNLT2jIvO581gJWUlIjgoEB89PuAyIhwsQMyWaSmpPCuTkcDcfk4uG+X6H1SU1PD6PGTJe6T+Tsss7Llysl0bnEZW/4ffWU6TkEn7jOTmpKC0JBgvH/7Gt7378LP9z0iwn/K5XOzdwe3PMyIMRMoY0cOTp1w5bRNtZkjcT81NTVM4FkcIS0tDbZzrNG/Rwc8f/qY8/zS+bPwPeD/q1g2bdEKh9xOF/ppoFmVNSmHvv25qwnGxcZghHk/TBg5hPsbnpoK68ljkJSUKGobbDEcq9ZvyXoYUlAxWBkUzxgouhuE5AYFsIhSU8sQrgbArQ5KCpyhw0ejU1f+6fef/HxhbtodQ/r1wK3rV8AwDLZtWocdWzaItqnX4D+cungTRvm8pLoqu3rpPCtDCPgzVYQvW47P0lXrUNaEfxB+6/oVdGzZEDZTxuL929dISU7GxFFDWVMMBw6xxC7noyo7SPwZFopfv+JFj0OCgrDMdi56dWqFamX1Ua2sPprXr4bOrRqhYY3yqGSkB7NeneG0bRN+8hQwlsa1KxcRGxPNatMvWYo4i46CAAAgAElEQVS12t3b1y+xwX45zE27o23TuujSujGG9u8J+2WL8MDLU+WmpMlLdFQk3I8dET3u1rOPVAsPvHvzitOmq6sncyHeipWq8LZnLbCt7DIvfBAWGoI51pPRsWVDVClTHE3rVkH39s0xpF8PdGndGP/VrICmdavAdo41bzBDGm9evYCf73tWm7q6OixHjhU9fv70MVbb2aJHhxaoU7k0GtYoj06t/sOk0RZwP36EVsUVw/f9W9y+cZXV1qpNe/Tq21+q/afazBG7ou7zp4/Rv0cHjLYwg/f9u2AYBksXzob78f9/Rtu064hjpy5KXJSksFq9wVHsNdXVS+fRsdV/mDV1Anw/vENSUiJGWw7Ei2dPRNtYjhyLrU4HKDioXPT/jp0IUVqS178lpIAKi05pkKEmeAlA6l/Orm2awPfDO1bbus07MGbCFHl3j/D49SseYywG4tFD7rS1zMqUNWEtoz5y7ESsXr9F4rQ2Ir2U5GR0bNmQNf2odJmyuPvolUyFWP0/+sFyYG/elSYzK2tSTrSNlrY2lq1aj3GTVTuT3fv+XQzpl7OaqTo6upg8fSZmzrOVKeNwythhuHjuNKvNzNwCTs5H8fTRQ2xcswLe9+9me4w6detj8Yo16Nqjd066rrK2OqzFxjUrRI9dT15Al+69JO43foQ5Z1ptyVIGeP9VtiDlqxfP0KdLG077sFHjsHnHXpmOVVCFhgSjaV3+QJ00epsOwMp1m2Va0XTtyqWceoyNmjTDlTsP8fzJI6xfvUziZ6aEfklYz5oHK5s5NJj/i2EYDOnXg5VdraWtjdsPnqNqdenrAUaE/8SwQX3x4d2bbLfLfN2gpqaGaTPnYcGSFTmeXl9YfHj3BsMHm3IWy8lMIBDAuHQZ0Y0VHR1drN20DRYjxuRXN0kmfN9Z3Xr2wRF3bm0yMdLVMpjGZUppvZV75wjJB5SBRZRWhppgG2QIXhHFK1asONzPX8Os+YuzraeROXjVqk17LF+zkYJXcrZzqwOndo79xq0yryJUo1Zt3PB6AtMBg7LdLnOAa8z4KRgzUfLKbcou81QoWSUlJWLbpnUwN+2OyIhwqfYRCoW4d+cWp71ps5ZYsXg+zHp3ljgQBwDfD+8w2sIMm9evlsv0LFUgTE3F4QP/DxJVrFRZbEZpVjHR0Zw2XV3Zi+lXqFiJtz0hU5afsvv8yS9X+1+9dB59u7bFy+dPpd7n9vUrnLbmLdvAYe1KDOjVSarPTFxsDNasWIKxwwbh9+8EWbqsss6dcueUBpizYIlMwSsAMDIujYs3vTB+yvRsg1GZrxv69DPD/EXLKHglhbr1G+KG15Ns61AyDMPKCp5iPQtDh4/Oj+6RvKH+dwxFiFKiABZRSiExKQMBdFZ0P4jsNDQ0sGDJCng//4BBQ4dJXMr+0cP7aNe0Hk64utDUJjkJ+PYVO7c6sNoGDB7KWw9DGgaGRth3+AQuXL+HZi1bS9x+n9M29OrUirfumSrhm9pVuWo1jB4/GXar12Pd5h2Yt2gZTAcMErvS2otnT2Der7tUg+L3b1/zTmXatW0T9jltEwWjjIxLo1PXHjAzt0CTZi14B3kMw2Dz+tVSrRRaGJw97c4awI0YM0Hid9c/8XGxnLasxZOlIS6In5CgOgGTT37cel516taHlfVsbN6xF3td3LBp+x5YWc8WuyhCRPhPDO3fU6oAclxsDCcrGwBOnnCF48Y1ot+cMmVN0H+gOSZa2aCf2WCUMjDkPd7tG1cxfeLoQh/4jY+LxSq7hay2ps1bwkqK2ld8dHR0Yb/BEbcePEfPPv0kbn/p/Bl0bPUfLp0/U+jfC2kYly4DF7czOHXpJpo0ayFx+60Oa8XWICNKo/PfsRQhSoduTRCl841htBEn3KzofpDc+Vf3SJqLy59hoZhjPRnux45g90FXlCnLXf6ZSEeYmorpE0chJTlZ1Fa9Zi1s2r4n18fW1tEBI2WQ8d2bVzA37Y5R4yZh1brNKplh9+VvfTE1NTUMHGKJSVNniK3nkpSUiH27tmHLxjUQpqaynvvk54uFs6dj577sl49/+/olb/u/zIQatWrD1m41uvXsw6o7FhoSjDUrFnNWhwSAjWtWoG2HzlINalQVwzBw2rZJ9FhDU1OmqTNxPAGsnAyqixYtxtv+S4UysAJ/fAfwJ8A32GI4pkyfhXoN/uPddpn9Bly9dB5L5s9kZd8Af1aimzTaAtfuPsr2u0XcZ+ZfHbnKVathxRoHdO3RmzU1MDUlBQf3O2HtiiWcVXRvXL2Ewwf2YmwhyDIVZ8Hs6ayAbykDQ+w5dDzX9Q61tLWlvpEV8PULJo+xRPdefbHVyRklS1Hdakm0tXXErgqd1b8aZBOmWGPpyrUSV2MlBZBAsPkbw1ytIhAkS96YkIKDMrCI0tGKS5sFIOdFMojCXbl4Dp1aNcIZDzcwDAMdHV3s3HcYM+bais1EAYDHPg/Qt2tbznLnRHob7Jezptfo6urB+YiHzAWlM0tPT8eWDfbo06WN6I5spcpV4HryAgZbDM92GsfRQ/sxfLApEhN/5/j8BdWm7XswcIglzl31xI69LmKDV8CfDIOZ8xbhqPs53gH3GQ83vHrxLNvzZS5+ndXkaTNx494T9DYdwBlEljUph537DmOilQ1nv3/vbWF2785NVmZQz96mMC5dRur909PTOW3SDhKz0tHhTj2UNmisDGyXrYL17AU4ffkWtu85JDZ49U9v0wE4f/0eb82rj34fWAW9+XzN5rdkxJgJuPPwBXr0NuXUtdLU0oKV9Wzs3M9//F1bHTiB6MLC1cUZF86cFD1WU1PDzn0uKFe+Qq6O63b0ELq0boyb1y4D+LM4hfNRD4yfMj3bOoE3r13GgF6dcrwwRmGQlpaG9auXoX+PDqJVU6tWr4Fjpy5iwOChYrNNGYaB854dGDt8MJKTk/Kzy0Q+qvwdUxGiVCiARZTKj4jfJgCzRNH9IDnDMAzWrbLDxFFDERcbA+DPRajH+WsYNHQYbO1W4clbf8y1tRN7QRoaEgzLgb15p+WQ7N27cxO7d7CXu9641Qk1a9fJ8TF//07AaAszbFq3SjQor9fgP5y/fg9duvfCjr0u8Hr6DoMthoudNuXj7YVpE0ap3FSP8hUqYtf+I1JNq/ynQ+duWLh0Je9zmbOA+AQH/eBtX7h0JVasdZCY5Wa3ah3vCpSet65z6qUVJnt2bmU9Hj1+skz76xXlBoeTEhN5tpSML4OleAnVWYhXW1sHi5fbo1Wb9lLvU6FiJWzfe4h3kL0ny/ddVsFBgbztVtazsXGrk8QFFPoPNMdgi+G8x73JU1tL1X3y88XyRfNYbbMXLJG6XhyftLQ0zJ85FXNtpiAp6c/nxqRceZy76ok+/cxgv8ERT976Y8r0WWJra37+9BEjh/RnZR6TP+LjYjF8UF9s37xelN3WqEkznL92F5279cTuA6649/gNzMwtxB7j7u0bmD19Un51mcgVs+TP2IoQ5UEBLKJUimhqrAWQ81QRolBL5s/Eji0bRI81NDRw1P0cmrZoJWoroV8Sc23t4PX0rdhpS4E/vsNuYc5qaRRW4T/DMMNqPCtINH7KdAwaOizHx0xKSoSlWW943rouajMpVx4e56+xMlQqV6mKHXtdcOrSTZQuU5b3WDeuXsIJV5cc90WVTLSy4Z0me/vGNaSmpIjdj69YuEm58pg5b5FU59XQ1MTUmXM57QzD4N6dm1IdQ9W8evEMXp7/L4xfuWo1tO0gW/lFvql/Kani38fs8GUqFi9RIkfHUiWt2rRHxy7dOe0B377iI08tun/E3QhZsHSF1HXKps3gfmYAwNvLU6r9VUVSUiKmjh8hCjIBQNcevTFr/uIcHzM9PR1Txg7DscMHRG16ekVx4uxV1o0XQyNjLF+zETe8noi9IfP+7Ws4rFuV476oovj4OAzq2w0PMv2tVqxUGSfOXYWBoZGorVqNmnByPgq3M5dZ7ZmdP+2Bc6fc87zPRO6K/h1bEaI0KIBFlEZoXGoLMKBlT5SU0/bNcHFm11laaLeKFbzKrHyFijhz+TbadezC+/xpj+PZTpki/ydMTcWUscMREf5T1NahczesXJt9Rk92GIbBtAmjWEVc1dXV4XTgqNhaI63bdsDl294oa1KO9/ktG+whFApz3CdVUaRIEQwZNorTnpSUiOfPxBfNTRVypyzJ+nqaDhjEO+XzRSEt1rtt0zrW4+GjxslcgJ03gJWcjJjoKJn7wzf1UFxB8cLGQsyqaA/vi18sQlwmnCyZOnXqNUC1GjU57S+ePZH6GKrAdrY1qyB+nbr1scv5CGf6pSxWLJmPq5fOs9rWb9kptoB/rdp1cfm2t9ibX4f2OUm9qquqS09Px8RRFvjw7o2oTUNTE3td3FC8OH9QvGOX7rh4w0vsb/im9atosR1lxGB0aFxq4S10SZQOBbCIUmAYRpDBYBsA2ZduIgr35tULrF9lx2r7t7JUdjS1tODidpq3dkZGRgbOn/GQaz9V1bJFc/HY54HocY1atbHvsFuuBhYuzntw/cpFVtvIsRPRolXbbPczKVcericv8AZJgoMC8eSRd477pEpatuZ/HX8EfBO7j0YR7vQyWafM6Ojoom79hpz2sEJYP8b3/VvcuHpJ9LhIkSI5Wjq+UpWqvO0hwUEyHUfcSpTVq3ODJ4VR81ZteNsDs5n+qq3DP0VQ1pUdmzXn3ogJ/xkm0zGU2T6nbTh5wlX02MDQCAeOnRIbCJHG3ds3cHDvLlZbh87deKdsZqanVxSHjp+GfslSnOeSkhJx5eK5HPdJlezdtRUP7t1htY2fNA3/NW6a7X6Vq1aD81EP3im7Xz/7S6zVSAokQQaDbQzD0BiLKAUKYBGlEBqfOkIA8KfqkAJv1dKFnMyBsZOmSrUMva6uHpas4M9ufnCvcE3RyAm3o4dw+MBe0WMDQyMcdjubq4HFr1/x2GC/nNM+btI0qfavU68BRoyZwPvc/bt3eNsLm5q16/K2R0VFit1Hv2RJTlt8fJzMWVh82Q3/VmUrTLZv2cCactutZx+Zirf/I25Kk7j6S+JEhPNnjjSUMOAsLMqalONdjCI6m8+MuOw1WWssVq1eg9P2K151VofMzoN7d7Dazlb0WENTE85H3VFZTOBWGhkZGVi+eB6nLuK4SVOl2t/IuDRmzrPlfe7hA/EZeYVFTHQUHDesYbUJBAKMnzJdqv0bN20Oc4sRvM/dv3s71/0j+U8AtAqNT+V/UwkpYCiARQq88HCmKBi19YruB8mZd29e8V4wtmnXUepj9DLtzzswCQsNzlXfVN3zJ49gO/f/K8tpaGpiz6FjqFy1Wq6O637sMGeAZ2hkLFMxeHEXv2Eh9J4C/MEogL+I9//34WYcANlnbfEpwVMUXFxxZFX19bM/Lp49xWobPnp8jo5Vsxb/58Iv03QrafwMC+G0FSlSBPUacDPmCiu+emA6utyVG/8R9zn78tlfpvMW47khUCSbz6qq+PE9AFMnjGKttOmwbTdatm6Xq+Peu3MT/h/9OO1t2kt/3TDQ3JL3JpmsgWNVdPTQfk5GZ4WKlVChYiWpjyEuEy6UfsOVF6O2PjycoTrDpMCjABYp8NI0UhcCDP+Ee1Lg3RKzEpNJ+fJSH0NbWwc1atXmtMfFxeW4X6ruZ1goJo62YC3lvm7TdrRt3ynXx755jfueyrpEeoP/GvO2//pVOLIWJBGXnViqlPh6R1XEBCa/fpFtMK7HU7OpdA4yj5TZDseNrFouZcqaoHO3njk6VsNGTXjfz6ePfWQ6TkgQd8ph42YtJK6UV5jw1d8RV3QaAKqJmX75/dsXmc7Lt9JkWZ6FGFRJUlIixo8wR1RkhKjNevYCDOWp3yerzFN3/ylWrDiKFSsu9TGMS5fhXQwj8Td3IYTChm+FzLIm0l+TAeJ/w8VNdSbKgCn3Z8xFSMFGASxSoIXFJlWBQDBP8pakoPr00ZfTVrRoMejoiL8rzodvEMJ3cUr+1D2aMHIIfmaqW2Q9e4FUGSQMw8B68hi4Hz8idht/nvfU0MhYpj5qamnxFrcWt0phYRMZEcHbXrFSZbH7tG7bgbdd1pokfMXFa9etL9MxlFngj+8443Gc1TZ0+Ogc14wzMDRC46bNOe3Pnz6WqeDxm1cvOG0DzS1z1CdVlJGRgbhY7tS/7LJKWrRuy/u+Ppdx0QK+aYp16jeQ6RjKhGEYzJ4+iVUAfNDQYVi0bLVU+y9fNA+7tjqIfZ5vgRYDI/GBSHH4pvzmZBqwqvn25TOnzchYtt9w/ZKleDOCjY3p9VVqAsG8sNikKoruBiHZoQAWKdAyUGQDAG1F94Pk3G+eYrgJCb94V9PKTkoKd9l5WdLdCwuGYTB3xhTWCliyDCy+B3zDGQ837HfaLnabRJ6Vu+JkrBkDACmp3Pe0YmW6bgL+LPmelZa2drYFdhs2bsobGBaXBSkOX/FpWabuKLutDmtZdcMEAoHYFe6k1bNPP05bbEw0p4hydrIGIjU0NNB/oHmu+qVK/D/5ITk5idPeSkxgF/iT1VO/YSNO+/27d5DK85sjTlgId3qnPLJdC6qNa1bgwpmTosdNm7eE4879Uq3QmZaWhsMH98JxI39tS+BP7b6sclJTLDGRm22V3U2AwoKvxpusGe1CoZC3viL9his97b9jL0IKLApgkQIrNEbYCWCGKLofJHfETd/IfOdWGl8/c+/I8g0KC7vN61fjjIeb6HG7Dp2lHlgAf1ZeA8CbHfWPgSF3Gtsn3w8yFQsP/PGdNb3xn159+kt9DFXm5XmL09a8ZRtoammJ3UdDQwOmAwZx2t+9eYXvMtTBylozy9DIGM1atJZ6f2Xm/9EPJ92OstqatWyNKtWq5+q4ffsP4p1GeMr9mFT7R0dF4sUzdlZQ735mYouQF0a3b1zltFWsVBmVJAyoh1iO5LT9/p2AWzzHE+d7wFfWYw1NTfTobSr1/srkjIcbtm/+f1nSylWrwcXtjNR18j77f0RqSgrvtMt/+DJ6oyIjEBbKDRSKk5aWhsDv3znt3Xv1lfoYqorvusz3/VuZMkIDvnKn2aqpqdHrqxKYIX/GYIQUTBTAIgUSwzDqjIBxVHQ/SO7VrluPt/3iudNSH+Pbl8+cJed1dHRhajY4V31TNWc83OC48f8rC1WvWQvOrh4yFeD+NwgsVlx8rZFaPCvkxcfH8QZdxPH24q4g2bRFq1wXmFcF8fFxOO1+nNM+cuxEiftazZjDCVYyDIPd2zdLde7IiHD4f2IXT7YcOTbb4vGqZP1qO052qDxq+lSpVp03uHjh7Cn8+B4gcf8LZ0+xAsQaGhpYsHhFrvtVkGRdcU4WQqEQrof2c9rFrXaamcXIMSjOs3DBTseNUp07LS0Nj328WW19+pllW3tLWT177IPZ1pNE75WBoRGOn7ok0//1zt/fGD09PbHbiJuyfPHcKd523r4+8UFSEjtb2Lh0GXTq2kPqY6iqOvW401sjI8Lh4+0l9TH4skdbt+0Ak3Ky1dIiBRMjYBwZhsnZvHlC8hgFsEiBFBonnAiAm9dPlE6P3v14s38OO++RerWag/udOG1zFi6RqaCrqnvx7AlnYHHkxDkU51kdS5zPnz6KMkKyG1z07mfG275p3SqpsrAyMjJwaP9uVptAIMCyVaqz2OjKJQtwYM9O1upc0lqzfDESEn6x2spXqIg+Yl73zOrUrc+b+XHi2GG8e/NK4v4nT7iy7sIXLVoMVtazpOi18nv+5BGuXjrPatPR0UX/QfJJBJ4x15bzXZiakoKVS+Znu19SUiKnXtDIcZNQtXoNufSroHDcuAbzZ05FbEy0zPvu2LIBAd/YWVC6unpSBbD09Ipiqs1sTvurF8/gdvSQxP2vXjrPqhunrq6OuQvtpOi1cgn4+gXjRpiLMmd1dHRx+MRZmW46xERHYe+ubQAAXZ6Vhf/pKSZ7zWnbZt7pb3xcnPdw2havWIMiRYpItb8q69WXP9PZYc1KqX6z0tLScOTgPlaburo6ltnTzDMV0ujvWIyQAoe+xUmB8y2G0QeE0hXsIQVe5SpV0W+gOateBvCnDtak0RY4fvoS793vf7zv38XhLBei9Rs2wuTphWNQLY2Ab18xxnIga0reEMuRePvmFd5KEbQAgJDgQOzevkVU90VHV3wAa8DAIdi8bhUnc+T1y+dYumAW1m3eIXYVPeBPZsPb1y9ZbaPHT0bzVm2k6mtB98nPF857diA9PR0nT7hijcM2NG3eUqp99+7aiqNZMkkEAgHWOGyTeuC1fstOPPbxZgUCUlNSMHHUUJy7dlfs4gchwUHYvpk9AFm0bHWhmaa2etkiTlu3nr3lFiivW78hRo6dyHl/r146j03rVmHeomWcfRiGwdIFsxEcFChqq1y1GhYsXi6XPhUUkRHh2LPDEQkJv3Dt8gUsXbkWg4YOlyrzz/3YYVbm6T8r1jpI/bc7fdZ8XL9ykVNnbMn8WahUpSratOOvARcfF4vVduxFu6xs5qB6zVpSnVdZxMfHYezwQawVB/uZDUZwUCDrbzM7UZERcHHejYjwnwCyn6bevFUbtG3fCd7377Laf4aFYuqEUTjg6pHt6ptXLp7DxbPsbK1OXXvwThctjMwtR2Crw1rOlMwnj7yxaulCrFjrkG3ZAceNa/DR7wOrbfK0mWJXJiTyFZ5pgZ5/Ar8HgGEYqctFSGn1txjGvUpJgexFTgnJQ3L9KydEHkLiUreAAfd2aC5lZGSgRYPqnKloc23tMNdW9e6WFiQhwUHo2bEl6+L3nyrVqmP1+i3o0r0Xqz0jIwMnT7jCbsFsVjZK5arVcO6qJ60k9Fd8fBwG9uoM3w/v5Hrc8VOmw36D+Fm8d2/fwKihA3jv1nbs0h0r1jpwphomJSVi83p77N6+mTVdqEdvUzgf9VCZO+PPHvtglIUZ4mJjRG2t23bAxKk26Nq9F28dq9CQYNgvX4SzJ09wnhs70QprN4kvqs/n6qXzmDzGkvP+GBmXxhqHbejZpx8rOOD7/i0mjBrKqmvSo7cpDh0/Le8L4gLp5rXLGGM5kNN+wPUkepsOkNt5kpOTYNqtPW8NwN6mAzDX1g616vyZdv3+7Ws4blyD61cuirYpXrwELtzwQs3adeTWp4IgLDQEIwabsr7HypqUw/jJ02Bmboly5Stw9gn88R1b1q/mXTG1Tz8zOB/1kKkPX/w/oX/PjpxVODU0NDBr/mKMGjeJVZvJ9/1bWE8eK6obCABNmrXAmcu3s61Vp2zS0tIwfFBfPOCZ9p0bXXv0xlGP82Kf/+Tni/49OvAWdK/fsBHWOmxDs5bs2nxCoRAuzrthv3wx64ZO3foNcebKbZkyklWduN8IAOjWsw9Wrt3Eqf33+3cC1q2yw8G9u1jtpgMGYffBYzleqZVIlpaWhqePH2LPDkfcvHaZd5uWrdthru1StGrbQX7XUwI4mpTQnCOfgxEiH6p/VUqUSkh8Sm1kCN4AkFvBFYZh8OLpYzisW8Vbo0dXVw9zF9lh5NiJNCUtD7149gTDB5uKTf8va1IOzVu1QalSBoiLi8UTH2/Ond0G/zXG/iPutIpQJjOtxuPkCVe5H9dmzkKJKxcePbQfi+baiC38Wq/Bf6hTrz6KFi2Gn2Gh8Pa6yxmMDBg8FFt27uNdPU+ZffH/BKvxIzirCWppa6Nxk+aoUq069PVLIiYmGt++fMbTxw95X0eL4aOxacfeHA0Mzp1yx8yp43mndRoaGaNu/YYoWaoUAr8H4OXzp6ygYvNWbXDi7BWVe1/4pKeno3u7ZvDzfc9qL1asON5+DpZ7MCLg6xeY9e7Mu9ojAGhqaYFhGM4iB7q6enA+6q6yNXwSEn5h4ezpvEHcChUroXbd+iheogQSf/9G4I/veP/2NW/drN6mA7Dn4DGZav/94/vhHYYN7MP73mhoaKBqtRowLlMW4WGh+PTRl3X+OvUawOP8NZWrfbXTcSPWrlwq9+P2MxuMvS5u2W7zwMsTo4YOQEpyMu/zlatWQ+OmzVGihD6io6Pw8P49REaEs7Zp064j9rocV7n3RR6OHNyHRXNteD9HAoHgz2943frQK1oUoSHBeHDPE79/s1eWthg+Ghu3OuXo80b4pSQn48vnT/jy2R9f/D/iw7s38Lp7R+rpsyVLGaBT1+6oW68Bataui1p16qFCxUo5vRklhBrT0KS4lp/kTQnJHxTAIgVKSGzKZUDQJzfH+BkWis/+H/HF/xNePnsCz9s3xA4UMtPQ1ES7Dp3RtkMn1KlbHzVq1UH5ChVz0xWSxfeAb7AaNxyvXz6XaT8NTU1MmDwdtnarVOrOtjwc2ueEJQvkP51y8XJ7WM9eIHG7+3dvw2bKOKk+Y5mVLGWAJSvWYPjo8TntYoGXmpKC3Tu2YKejA+eiXxJtbR3MmLsQM+ctylUGlJfnLcybYYWgwB9S79N/oDkcnZwLRfAKANyPH8HsaexSH3p6RbF8zUapCufnRMDXLxg3fDBnGo44lSpXwZ5Dx/Ff46Z50p+C5PqVi1i5dAHvKmfZ0dDUxPSZ8zDX1i5XmSDfA75h/gwrmTKOevbph227D2Q7HV5Zed66jhHm8l/x12LEGDju4hbez8r3/VtYjR8B/4+yjZ91dHRhM2cBbOYspMygbNy6fgWzp0/izZDPjqGRMVasccCgocPyqGeFV14Ejf1+ROQiA5G5YqKvRctLkgKDAlikwAiNS+vLMBmXcnOMoQN68a6MklPtOnSGx4Xrcjse+TM18NL5M9i9fTPevHqR7cpTBoZG6Gc2GNNnzeedQkKAuNgYTBk3IlcrePEZN2mq2EKvWSUk/IKrizMO7t0lMVBSuWo1DB81DuMmT4NeNkV8VUlUZASOHNyHS+dOS5zqqaGhgd6mA2C7zB6Vq1SVy/l//07Atk3r4Xb0ULaDlPoNG2HeomW8ReBV2ZB+PUS1dkqXKQtzy5GYNNUmz6cpJ6qySccAACAASURBVCb+xo4tG3FonxPvNCkA0C9ZChOmTIeVzexC83kB/kyXuXLxHM6edOPN+shMU0sLvfr0g63darmtYsowDM54uOHA3p2culiZNWzUBDPnLZLrNNOCJiMjA5NGWyAhQbYgvCQ9evXFBCtrqbYVpqbizEk37N25lZMpmZVx6TIwtxwJK+tZrCmfRLxfv+Jx2HkPDu5z4tTFyqpq9RoYOXYiRo+fDN1samWSnHM/fgSH9nEXL8qN05dv5eo3RCBQMy1bogj/3EVC8hkFsEiBwDCMRmic8A2A2rk5zsgh/fH86WM59Qpo2rwlXE9ekNvxCNufZZvv4/u3L4iOikJSUiIMDI1gaGSMRk2aoWGjJtkWAycFz9fP/nj6+CFCgoMQEx2NDCYDhoZGKGtSDi1bt5PbAFNZhYYEw8vzFgJ/fEdoSDASfsXD0MgYBoZGqF6zNtp16JRnRdPT09Px4N4dvHj2BD/DQhETHYUS+iVRpVp1tOvQudAW4I2LjcHBfU5o37ELmjRvme/fOakpKbh/7w7evHqByIhwCNTUYGxcGo2aNEPrdh2lKmSuyoSpqXj6xAcffT8gKjICEeE///xOGBqhctVqaNG6bbYFwXMr4NtXPPL2QnBQICIjwlGseAmUr1ARbdp1VLli7cogLDQEPg+8EPgjANFRURAKU1HKwBDGpcugWcvWqFO3vqK7qNQ+f/qIp48fIiw0BNF/68EZGBjCpHwFtG7bARUqVlJwD4mC+JUtodFQIBBIXmqakDxGASxSIITECOdAwGxWdD8IIYQQQgghhGTCCOaalNTYouhuEEIBLKJwob8YIyZd+AmA6hWPIIQQQgghhBDlFitQ16hZtphAtoJphMgZzc0hCsekC+1BwStCCCGEEEIIKYj0/47ZCFEoysAiChUUk9pITYBnAGiJGEIIIYQQQggpmNIzGDQrX1LzlaI7QgovysAiCqUmwFZQ8IoQQgghhBBCCjL1v2M3QhSGAlhEYUJjU4YA6KjofhBCCCGEEEIIkajj3zEcIQpBUwiJQnxjGG2tOKEvgMqK7gshhBBCCCGEEKkEpJTQqFNFIEhWdEdI4UMZWEQhtOPT5oOCV4QQQgghhBCiTCr/HcsRku8oA4vku8DIxHLqRYr4ASiq6L4QQgghhBBCCJFJQnpaWu0KhrrBiu4IKVwoA4vkO3X1IhtAwStCCCGEEEIIUUZF/47pCMlXlIFF8lVYXGqrDAYPQX97hBBCCCGEEKKsGDUB2pQpoflI0R0hhQdlYJF8wzCMIIPBdlDwihBCCCGEEEKUmSCDwXaGYWhsR/INBbBIvgmLFY4G0FzR/SCEEEIIIYQQkmvN/47xCMkXFC0l+SI8nCmappnqDwjKKLovhBBCCCGEEELkgQkrkqpZw9hYkKDonhDVRxlYJF+kaaYuoeAVIYQQQgghhKgSQZk/Yz1C8h5lYJE8FxabVCUD6r4AtBTdF0IIIYQQQgghcpWihvQ6ZfR1vim6I0S1UQYWyXMZKLIFFLwihBBCCCGEEFWk9XfMR0ieogwskqdCY4SdGQFzR9H9IIQQQgghhBCSdwSMoEvZkhqeiu4HUV2UgUXyDMMwRRgBs13R/SCEEEIIIYQQkrcYAbOdYZgiiu4HUV0UwCJ5JixOOAlAfUX3gxBCCCGEEEJInqv/dwxISJ6gKYQkT3yPZUpqQOgPwEDRfSGEEEIIIYQQki+ihNCoUUlfEKPojhDVQxlYJE9oMMIVoOAVIYQQQgghhBQmBn/HgoTIHWVgEbkL+ZVSB+mCNwBo/jMhhBBCCCGEFC5pUGcamhTT8lV0R4hqoQwsIn/p2AoKXhFCCCGEEEJIYVTk75iQELmiABaRq+Do5H6AoIei+0EIIYQQQgghRFEEPf6MDQmRH5pCSOTGn2G09OKEbwHUUHRfCCGEEEIIIYQolP/vEhoNaggEKYruCFENlIFF5KZobJo1KHhFCCGEEEIIIQSo8XeMSIhcUAYWkYufCUzp9DThJwDFFd0XQgghhBBCCCEFQrx6EY2apYsKfiq6I0T5UQYWkYv0NKE9KHhFCCGEEEIIIeT/iv8dKxKSa5SBRXItJDa1KYAnoIAoIYQQQgghhBC2DAAtTPQ1nyu6I0S5UcCB5ArDMAII4Aj6WyKEEEIIIYQQwqUGARwZhqEEGpIrFHQguRISlzoUDNoruh+EEEIIIYQQQgooBu1D4lKHKrobRLlRBJTkWEgIowtdoS+AioruCyGEEEIIIYSQAu0HEjXqmJgIEhXdEaKcKAOL5JhAL20eKHhFCCGEEEIIIUSyin/HkITkCGVgkRwJiU6qCDV1XwC6iu4LIYQQQgghhBClkIiM9DompXR+KLojRPlQBhbJGTX19aDgFSGEEEIIIYQQ6en+HUsSIjPKwCIyC4kWtoMa4wX6+yGEEEIIIYQQIhsGGYIOJqU0Hii6I0S5UAYWkQnDMGpQYxxBwStCCCGEEEIIIbITQI1xZBiG4hFEJvQHQ2QSEiscC6CZovtBCCGEEEIIIURpNfs7tiREapRFQ6QWFcUUT1FP/QgIyii6L4QQQgghhBBClBkTppWuWcvAQBCv6J4Q5UAZWERqyeqpSyl4RQghhBBCCCEk9wRl/owxCZEOZWARqQTGJddQZ9TeAtBSdF8IIYQQQgghhKiElHRBRoMKJbT9Fd0RUvBRBhaRijrUHUDBK0IIIYQQQggh8qP1d6xJiESUgUUkCokV9gCY64ruByGEEEIIIYQQVSToaaKvcUPRvSAFG2VgkWwxDFMEYDYruh+EEEIIIYQQQlQVs/nP2JMQ8SiARbIVGi+cBqC+ovtBCCGEEEIIIURl1f879iRELJpCSMQKimcM1DKEHwEYKLovhBBCCCGEEEJUWlSGmkat8sUFUYruCCmYKAOLiCVIF64EBa8IIYQQQgghhOQ9g79jUEJ4UQYW4RUWnVI/Q03wEgDNQyaEEEIIIYQQkh/S1DKYxmVKab1TdEdIwUMZWIRXhprAERS8IoQQQgghhBCSf4r8HYsSwkEBLMIREpNiBqCbovtBCOGXmpKCt69fgmEYRXeF/JWUlKjoLuQZVf6/SSJMTcX7t6+Rnp6u6K5wJCcnKboLCsMwDL4HfENkRLiiu6JyCvPnXRkEBwUiNCRY0d0gJD90+zsmJYSFphASFn+G0dKLE74HUI3v+bevX2Kn40aEBAfB9eQFlNAvmc89JAAQFRmBKxfPwcfbCwFfvyAmOgqGRsYwNDJG81Zt0LN3P1SrUVPR3VRKYaEhuHv7Brzv30VwYCCioyOhrl4EBoZGqFuvATp364H2nbpCTS3/4v/JyUm4f/cO7nnegs/9e/D/5Ie0tDRc9fTBf42b5ls/FO3dm1fwunsbzx77ICIiHNFRkdDV1YO+fknUqFUbzVq0RrdefVC8eIl86Q/DMLh7+wactm3Gp4++OHH2CurUa5Av585rGRkZuHH1EnZtdUD4zzB4XLiBSpWr5Ml53rx6Ac9b1/H65XNERUYgKioSxYuXQFmTcmjUpBl69OmHOnXzZzHc1JQU3L93B/fv3sEDL0/4f/SFUCjE6cu30Lpth3zpgyQf3r3Brm2bcO3SBezcfxi9TQfkyXkCf3yH563rePTwPkKDgxEVFQFNTS2UMjBE/Qb/oX2nLujQuRvU1dXz5PxZvX75HHdv38D9u3fw5tULJCT8wrSZ87B05dp8Ob+8MAyDZ4994HX3Nl6/fI7oqEhER0WieAl9lCxlgDp166N5qzbo2r0XNLW08qVPaWlpuHz+DHZudUBKSjI8zl9HmbIm+XLugiI1JQVPHnnj7u2b8PN9j8iIcPz+nYBSBoYoa1IOHTp1RfdefWFkXDpf++X74Z3o7/7FsyeIj4uFueUIbN9zKF/7oawyXy9///YV0VGRdL1cAPl/9IPTtk2IjIzAvsNu0NHR/ffUl98lNOrVEAhSFNk/UrBQAIuwhMQKbQFmXeY2oVCI61cu4siBvXjg5SlqX7d5B8ZMmJLvfSzMfv9OgMOalTh8cC9SkpOz3bZzt55Ybr8RNWvXyafeKbc3r15g11YHXL5wFhkZGdluW7tOPaze6Ii27TvlaZ9ePn+KIwf24uql84iPj2M9p66uDvuNWwvFZ/DmtcvY6rAWL58/lbitnl5RWIwcgwVLVuRZICsh4RdOurni0H4nfP70UdRuPXsBFi+3z5Nz5peY6Ci4Hz8CVxdnfP3sL2pfvNwe1rMXyO08qSkpcD9+BLt3bEHA1y8St2/Zuh0ctu1G9Zq15NaHzN69eYUjB/fhwtlTiI+LZT2npqaGJSvXYqrNnDw5tzREv8MH98Hby1OUfdmiVVucu+YpYW/Z3L97GzscHfDg3h2J25qUK49V67egT7+8uUkeGRGOIwf34ZT7Md6/k/adusL93NU8Obe8MQwD92OH4bR9M+t7Q5ySpQwwfvI02MxekGeBrKjICBw7fACHD+xlZfUUpuu7hIRfOLTPCQf27kL4z7Bst9XW1sHEqTaYZ2uXp8HF+LhYuLo447T7cfh+4JYAql2nHu74vMyz86uCxMTf2LR2FVyc90jMVqXrZcXIyMjAvTs34eK8B7dvXBVde6/fshOjx0/OtKVgkYm+xnrF9JIURFTjiIiEJzBl0tKEi/49Dvj2FSdcXXDC1UXijzrJew+8PDHXejICf3yXanvPW9fxwMsTO/YcQv9BQ/K4d8orKSkR61ba4eC+XRIDV//4+b6HpVlvbNzqhGGjxsm9T8+fPsYG++WcAaSGhgZ69e2P7r1M0blbDxgYGsn93AXJ798JWDx3Bk6ecJVpn4N7d+HapfM4dvoSatWuK9c+MQyDMRYD4ePtJdfjKlJGRgZ8vL3gfuwwLpw9hdSUvL3R6ePthTnTJ+F7wDep93ns8wC9OrXCEY9zaNOuo9z68vb1S2ywX447N6+x2osUKYJuPfugZ9/+6Nq9FwyNjOV2Tll8/vQRp9yP5cvvcGhIMObNsILnretS7xMSHISJo4Zirq0d5traya0v0VGR2LzBHm5HDnEGn/81bop+ZoPRrWdfpRlwhv8Mw8ypE3Dvzk2p94mJjsLm9atx5eI5uJ25DOPSZeTap+TkJPTr3h4B377K9bjKxPPWdcyfORUhwUFSbZ+cnISdjhvx7LEPXE6ckftNkvj4OOzaugku+3fj16941nM1a9fBgEFD0a1nH9Rv2Eiu51U13vfvYs70SXS9XED9DAuF+7HDOHb4AO97xC2PwSwKT2BcjIsKaDBKAFAAi2QiTBeui4uJLn7h7CmcPOGK508eKbpL5K9L589g+qTREKamitqq16yFHr37wcjYGOFhYbh66RznQlSYmorpk0YjPT0dA4dY5ne3C7yI8J8YNXQA3rx6IWqrUq06Fi9fg05du0NLSxtfPn/Cwb274OrizPpRTU9Px4JZ01CpSlW5DahjoqOwaulCeLgdZZ1LV1cPw0ePxxTrWShXvoJczlXQJSUlYvRQM1agyNDIGNNnzUPHLt1RrFhxxMXG4OljHxw/chBvX7PvRocEB2Fo/564ef+pXAd+HsePqEzwyv+jH065H8MZj+MIDgrM8/MxDINN61Zhq8Na0d930aLFMMd2KQaaW6J0mbKIjYmG9/172L55Pec9TUz8jfHDzXH38etcT2+Kj4uF/fLFOH7kICtwraWtjWEjx2KK9ew8mTIpjeioSJw/7YHTHsfx4tmTfDnnvTs3MWXscFGmp0AgwLBR4zBp2gxUq14TQmEq3r1+BZcDe3DulDtngLF5/WrUqFk714M/hmHgsn83NqxZwcmE69S1B6xnz5drADM/REaEw7xfd1bWVaXKVTBjri2atWgNXT09RIT/hI+3F44e3Mf5Hfd9/xaWZr1x1dMHWtracuvXVod1hTp4tWurA9auXCr6W1ZXV4eVzRyMGDMBlatURVxsDK5duYj1q+zwMyyUte+jh/cxz2YK9h0+Ibf+nHY/Dvvlizjnat6qDaxnzUe3nn0gENDEGUnEXi/3MoVxmTL4GRqa7fVyamoqzC1H5He3Vd7v3wm4dukCTp5whbeXp6x1JYsL04XrAMj/jjFRSvRNSADApHmLVjN0dPUW+Dy8L8j8pZ+dwpRirkhXL53H5DGWoi97DU1NbNiyE5Yjx7K2y8jIgNO2Tdhgv5zzw6Crq4eb95+iSrXq+dXtAi8+Pg59u7bFF/9PorbKVari0q0HKGVgyNnexXkPFs+bwWmvWbsOPH1e5frC8uGDe7CZPJZTnLVHb1NscNyF0mXK5ur4ymam1XhW5lXlKlVx5sod3sBFeno6VtvZYp/TNs5zFiPGwHHXfrn0KToqEh1aNER0VCTv88owhdDP9z1Oux/H9SsXpJrG9E9upxAyDIMFs6bh2OEDojYDQyOcunSTN0suPT0dVuOG4/KFs5znLIaPhqOTc4778vzJI0ybOIpz57dT1x7YtH0PTMqVz/GxcyomOgonT7ji+uWLePLIW+qLe3lMIbxw9hRspowVDfgEAgEcnZwxdNgo3u1dXZyxYNY0TnuZsiZ4/MYfGhoaOepHZEQ4ZliNx93bN1jtFStVxpZd+5UucAX8+V02690Zzx77iNqaNm+JE+euQk+vKGf7lORkzJw6HhfOnuI8t3DpSsyct4jTnhOf/HzRvUNziLveU/Xru52OG7F25VJW27Y9BzHEciRn29CQYJh2a8dbOP3E2Svo0Dl3ax79+hWPBbOm4fxpD1a7kXFpbHDchV59++fq+IXJtcsXMGm0Bet6ef3mHZxM+YyMDOzevhnrVy/jfNfq6Oji5v2nqFq9Rr71W1XFxkTj5vUruH75Au7evonExN9S7Sfm+ycDQEsTfc1n8u4nUT60CiGBmpqa5dMnjxZ63b3NCl7p6uopsFcEAH58D8DsaRNZP7A79hziBK+AP3VarGcvgK3dKs5ziYm/MWPqeFq1LpMFM6eyglcAYLvMnjd4BQBjJ1qhS/denPZPfr7wvn83V305fuQgLM16sy6Q9fSKYtueg3BxO1PoglcPvDw50wYdnZzFZt2oq6tj+ZqNvAOJs6dOICHhl1z6tXrZIrHBK2Xx9vVL7NrqIApeCQQCGBoZo2btOqhYqXKeLU6we8cWVvAK+HORKm6Kp7q6Orbs2s+bPXfp/JkcT3M84+GGQabdWMErbW0dOGzbjWOnLiokeAX8qXFlv2wRfLy9RN/3xYoVR7UaNVGlWvU8+z1+8+oFZliNYwUyLEaMERu8AoCRYyeib/+BnPaw0BD4PLiXo3589PuAPl3acIJXI8dOxC3v50oZvAIAt6OHWMErDU1NOB1w5Q1eAX8yAHfsdeGt9Xbs8AG5/IYzDAPbOdZig1eq7uGDe9hgv5zV1rxVG97gFQCUNSmHTdv38D7n4szfLq3goED0796BE7wyHTAInj4vKXglgx/fAzAry/Xy5u17ecs8qKmpYfqs+Vi0bDXnuaSkRMycNoGul+XAxXkPZlqNx5WL56QOXmVDTQBsZxiGkm8IBbAIcM3T57eZuQUWL7fHEfdzePjSD19CY/E5JAbBMSnYtf+IortYaNlMGcsq3t2jt6nEKRrTZs5Dk2YtOO3PnzzCwxwOLlTNm1cvcPHcaU57uw6dst1P3B3ph/dz/ro6bd+MeTOskJaWJmorWcoAHheui72gVnUH9uxkPa5Vuy5atm6X7T4CgQDWs+Zx2lNTUvDExzvXffLx9oLH8f9/FyrrVM5+ZoNhM2chnJyP4o7PSwSEJ+CNfxDuPnqNR68/4eLN+3I/p++Hd1iXJduhWo2aMB0wKNv9ihUrDnOez8Dv3wl4++aVzP04cnAfK9MIAIqX0Ifb2csYMWaCQqfnGJcugxVrHLBxqxMu3ryPT0FR+BgYiftP38H7+Qe88AuQ+5TGtLQ0WI0fwQoGCgQCzJhrK3Hf8VOm87Y/efRQ5n58ePcGZr06IyjwB6sfi5fbY+NWJxQtWkzmYxYUB/fuYj3u3rMPKlSslO0+GpqamGhlw2kPCvwh1YIHkngcP4JHD///OS9sN0j4stTbd+yS7T6du/Xk/fx5e92VunZmVgFfv2BAz4746PeB1T5p6gzsdXETezON8JtpNZ417bh7r74SpwJOmzkPTZu35LQ/f/II3l7yXRyjMLIcORbde/WF9ewF2H3AFTfvP8Wrjz8QGJUEv+/hsN/gKNPxGKB1aHzqsDzqLlEiFMAq5EJCGN36/zVZ6uR8FNazF6Bbzz6oXKWqaPlSgUCAgUMsUbyEvoJ7WvjcvX0DT7MMBiZaWUvcTyAQYN6iZbzPZb2YLqxuXrvMe3dN0h23/xo35W3/+sWft12S40cOYs3yxaw2QyNjnLvqicZNm+fomMouMfE37mQpIl2v4X9S7duiVVveDKKsNUVkJUxNhe0ca9HfR9XqNTBpGnc6qTLQ1tbBomWrYWZugdp16nGmezVu2jzX9aWy2r55PWfA2K1HH6n2FRdUlvU9PePhhkVzbVif8ZKlDHDm8i2JwdH8Mn7KdIwcOxFNm7fkBG2KFy+BdhIG2bI6e+oEJyBStXoNVK5SVeK+zZq34q3HFBYaIlMfAr7+j727Dotie+MA/h2WVEIpwUDsjqteu7u7E7u7u7u7MVFBECQEEbs7romFRYOA9LLM7w+Un8PMwu6ysMvyfp7nPs/dsztzjsDuznnnPe/5iH7dOyA66ienfcO2PUrd9VIVPvi/4+0gV6deA5mOlZZx9uNH9mrVRUaEY8Xi/wcoGzdriXYdu2TrnHlJdNRP3nWVrGrUqsNr+/UrRqGs3PCwUAzs3ZlXPH7mvMVYvnYT1bqS0/Url3D/7i1OmyzXywAwZ+EywfbDdL2cbVbWRXHsjCsWLF2Fbr36okq1GrAsYgWRSARjk0KwGz0e+voG8p2U1VofGMgWyJkRk7yCAlj5nUHyPIDNcs2EkVHevQOaV+3YvJ7zuECBgmgg4zKKpi1aC95VveTjxcnoyq9s/rqTqq9vgB59+sPj0s0sd/WzLGIluJRHkeVMTx8/xPxZUzgTah1dXRw+4YRyFSrKfT5N8f3rV97SFivrYjIdq6unh0KFTXnt2V0Wt2fHZrx/9xZAWoB44/a90NNTXjFldWOo5M/7K74+vLaSMgRJAKCEja1ge4pYLHP/r1++wOyp4znvNZFIhH32J1G5anWZz6Nq0padKeqyrzevrVRp2eok6ujqwlog0CnPsrSEhHiMGtoPEeFhnPbxvwtp53VCNzYKFSos07HmFsLfRdra2dt7aeXiefgZGQEg7btvw7Y9+SpYwmhpcbJnK1etjvVbd2PC1JlZHmtbqoxge7KcSzElEgnGjxjMCx737j9IqTt55ic7t2zgPDYwKICGTZrLdGzjZi0Fb9pc9vWm6+UcpqWlBZNC8iZIsMXT5q4kP6NdCPOxwMgEGzAMf82NAGNjE/xAzu9SRdKEh4XiwT3usqdyFSpCJBLJdLyWlhbad+qKY4f3c9pTUlLw7PHDbBcdzev69B+MwoVNYVOyFEqXLSfzpEAsFiM5mR+ssikp39Ke+Pg4jB8xiDfZW7luC/6t31Cuc2maiIgwXltQoGxbnKempvK2HgeAKtVky+ASEvD5E7ZtWpv+eODQEWjQqCn8375R+JzqTkdbsSLcQhIS4qH11+eWsUkh2I0ah649est0vLTgo0WRIjIdn5yUhPEjByMhIZ7TvmjFWjRp3kqmc6gLXT09pZ7v7yCgSCRC5+69MGXGXJmP1xL4PrKwlO33AgCrli7A65cvOG3NWrbBgmWrZT6HOgsLDeG1CW0ZL+TXL37dPh0dHVSsVEXh8dy9fQNOp0+kP541f7FM2XaaxNjYBA7OnoiICEOVqtXlWl0g9N2ir28ACwtLucawc8t6Xt3MajX+wYZte+Q6D0kTHhbKWRILyHe9zDAMOnTuhiMH93La6Xo5dygUlGeYWYGRCYeKmhp8zfrFRBNRACs/09LeBLBy5m6S3HDZ15tXV8FczoukBo2a8gJYAPDowT36QgbQup1sS5j+9u1LAKdW1R8dunST6zxb1q/G1y8BnLbadetjyPDRco9J0whlmfhe8ER4WGiW7wH/d294QcGq1WuiavWaCo9n/szJSEpMBJBWK2bxirVZHEH+ZmBQANv3HsbdWzdQu259tGzTTq6C5N++BvDaRCKRzEHJXds2pmfP/VGlWg3BGkP5zbI1m2BqZo5qNf5B63YdYV1UtkxHIC1YLBSMqSnj0uenjx/iWIYC2Lp6eli7eafME091JxQccXF0wJQZcwWXX/7t1X/PeW1tO3QWzDCVRXJSEmcZdNXqNTFm4jSFzpXXla9YCUAluY/78vkTr61V2/bQ0dWV+RwBnz5i++Z1nDaGYbBuyy75l1IRAMDVy7686+WssukzqtegMS+ABdD1shozSJvDoq+qB0JUgwJY+VRgpLgJwGZeDZyojFB2h7xbk1esXFWw/W2GmhxEdufPOfHaGjdrKVcNnaDAHzi4dwenjWEYrFq/NV8t5ZCmVJmy0NHRgfiv7JC4uFiMtRuI405umS6jcjx5jPNYJBJh+dpNCo/lvIsTrl+5lP545fqtVA9QAW07dEbbDp0VOvbjB/4yrAaNmsLY2CTLY8PDQrFn+2Ze+/K1mzQmSJIdxUvYKJz18e3rF16wWFdPD01byJbVtnLxPN6kc/T4KRqVESS0k+DXLwGYPmk0duw7kmnmgaMD97OsQIGCWLBU8cy0vTu3pAdyRSIRNu3Yl+3liPlJRHgYbmUo6q2trY1psxdIOULY+tVL02+I/NGr38B8W/NSGd69ec1rk/dvW9pS8owZokSdsH0CI8VNiprqKH/nGaL2qAZWPsSyrBa02B1Zv5KoSmhoMK8tJlq+tfily5YTvDMYFRUl8GqSlU8f3vMmw6Zm5lK315Zm17aNvIlfi9btpBaIz2+MjIwFi1XfvX0DXVo34WxJ/7e3b17h6GHu72LB+rLgYgAAIABJREFUstVo0KipQuOIiY7C0gX/X2HdrmOXLHfNI8p3yceL1yZrfaR9u7bxtu6uW7+R1ALZRHZ+Ar+Xrj16yxRYvHfnJm/Jj66eHsZPnq608amDSpWrwrY0v26Sm7Mj+nfvIHUZ8pVLPvD19kx/LBKJsG3vYZQqI1t9sowCPn3kLIMePX4KqtespdC58iOWZbFwzjRercvpcxbKtTz9/bu38HB15rQxDIOpM+crZZz5VVgI/3o5VmAJbmZKlSkruEQ7mq6X1ZsWu4NlWYpl5EN0+yUfCooWjwCg+JoakuPEAgWK/xRelZW2tjZMTc14u3X9vc0wkc3njx/Qv0cHxMXFpreZmpnj5Fl32JS0lfk8CQnxcD59kteecUIuTk7Gi+dP8e1LAETa2jC3sED5CpXkTovPq+YsXIYbV/14O9e9ffMK3do3R7defTFz7mKUKVceQFqtmbF2Azh3thcsXYXxk2coPIZ1K5cg9PeFsZGRMdZsoph/bgv49BE3rvpx2sqWr4BOMgQSxcnJvCwWALxlumKxGP89f4qvAZ+hJRLB3MICZctVgGURq+wNXoOxLIsTRw9y2rS1tTFpmmy7Bgotbe/YpTtMzcw5bR/83+HjB3/E/voFUzMzlLCxFcxqUmfzl6zCWDv+ru93bl1H68a1MdhuFKbOmp++6coH/3eYNmFU+lI/kUiE3QePZyt4Pn/WlPTPRpuStpi1QHiXYsInkUiwZN4MuJ87y2kfO3Eaps9ZKNe5Th2352Ud1m/YJP177I+vXwLw7s0rREdFobCpKYoWL4EKFStnezMSTSVO4V8vy7szpEgkgpmZOYICf3Dao+l6Wd3V/D2nPaTqgZDcRQGsfCYigjVOgniNqsdBMidU6+e9/1vEx8fJVT/G2MSEAljZkJqairOnT2DJvJmcAq6169bHzv1H5V7u4u1xnlcItlBhU7Rp3wlAWoBmz/ZN8L3gydv9RktLC9Vr1kL/wXYYMNhOrrobeU2Nf2pj2eqNWDyPH4BiWRZuzo5wP3cWrdt1RP/Bdli9bAE+vvcHAOjp62PV+q3Z2sXsyaMHOG5/IP3x/KWr5KoPRJRj49rlnAnfn1oxsiwPuXrZl7e7XYECBdGpWw8AwMf3/ti1bSN8vNwRHfWT8zqGYVClWg30HTgEw0aM1ej3miLcnB152UNjJ03/XVsoc79+xcDHy53X3nfAEABp308H9+6Ei6MDAgRqDlkXLYZOXXti4rRZgjvtqpsu3Xvh/tiJsN+/m/dcSkoKjh7aB4fj9ujRqx9at++EBbOmIDwsFABQ2NQMO/bZo1XbDgr37+bsyFkGvW7LLrmuIfKzgM+fMH3CKNy/eyu9zdDQCEtXb5D7+0UikcDF6RSvve+goQCAxMQEHD20D04Ox/H2zSve68zMLdC2Q2dMmTkPJW3l2zRG0wnd2Pv4wR9xcbFy7dxqbGzCC2DR9XKesCYignUyM2P4uywQjUXh/HwmSSReAiB/pHHkYUKBkZSUFNy7Ld9Sb6F6PUJFyAlXTHQUzpw8ihYNamL6xNHpQSfLIlbYvs8e532uKVSr5eIF/sStXoNGiI+LxZRxw9G6UW04n3EQ3Lo5NTUVz548wrwZk9Csfg2Nr80wctwkbNy+V2qx49TUVPh6e2LEoN7pwauy5SvAy+9WtoJXKSkpmDt9YnrgpE69Bhg6YozC5yOKuXPrOtycHTltA4eOkHn5399LsP6oXbc+JBIJZk8djxYNasLR4RgveAWkBUlfvniGJfNmolHtynj6+KFi/wgN9OtXDJYv4mZa2ZYug5nzFsl0/LXLl3g1gHR0dVGvYWMcO7wf9WpUwOZ1KwWDV0BaDcFD+3aiQc2KOHpIvuXbqrJy3RZMn7NQagaNODkZTqdPYMyw/unBq9r/1oPvjQfZCl7FREdh2cLZ6Y979x+E5q3aKny+/IBlWTx+eB+TxgxD03+rcoJXA4eOwPUHLxT6fnn88F767/ZvjZo0h+vZM2hQsyJWLJorGLwC0mpwnT5xBE3rVsOW9avSM/QIUKoUf5luSkoK7t66Idd5jAvxr5czZoETtWTxe25L8hEKYOUj32MSywOYoupxkKw1atJcsP2wwF1caYICfwjummNkZKzosPKFSWOGoVq54pgxaQxv97LQkGCsWjIf82ZM4j2XFZZlcf3qZV57QUNDtG1aF85nHHjLC6QJ+PQR3du34NWR0TSDho3EpRsPZd4xMjEhAf5v32Tr4v7Qvp3pO4Dp6ulh0/Z9tHQjl6WkpGDR7Gmc36O8O0Be9bvIaytcuDA6tGgAh2OHZQ7kf//2Fb07t+FkseRnm9euTF9aC6Rlq23cvlfmHdSEfo62pUpjytjhmD9zsmBAUUhiYgIWzJqCdSvVf97CMAxmL1gKN++rqP1vPZmOSUpKwpcA4SCerNYsX5T+uzI1M8ey1RuzdT5Nd8nHC7Uq2aJLmyY453Sa9xlx9vQJjB8xGG7OjnLfCLx+xY/XZmFZBDs2r8PE0UN5mfLSiJOTsWntCsycPJaCWL81bNpcsN3+gOwbVEi7XjY0NFJ0WCR3Tfk9xyX5BF2V5yNaEmYLAPm2siMqUbFyVcHlGNcu+woWNc4oIjwMg3t3EbzjR7uoZe5XTAyvyPrfwkJDcPLoIbRqVAvrVy2V+UI24NNHwXT0c06n8fVLAACghE1JzF6wFC5efrj16BXOevhi4rTZgr+z2NhfGGs3UOYL37yqbPkKOO7ohm17D2e5S+P3b18xYdQQdG3bVKEMtcAf37F57cr0x5Onz5FpWRRRrt3bNnIyEUQiEXYdPCbzZ1dIcBBvKQgAuLs644P/OwBA0WLFMX3OQpz18MWtR6/g4uWHabMXoLCpGe+4hIR4jB85BN++flHwX6QZnj99DPsD3JsoE6bOknrDRdo5Mnr/7i283F0BAAULGqLfwKE4dsYV1++/gM+1e1i9cTsqVqoieL4dm9fx6hOpqzr1GsDd9wZmzluc5WtfvniG3p3bYMSg3vjx/ZvcfT1+eB8nj/6/LMzyNZt4NcYIl56eXqbfp2KxGA/u3U7/jpHnJpZQFuefawkg7WZJ1559cPC4I67cfYpLNx9i8879qFWnruD5zpw8ytvNOL+qULGy4Pf09SuX5LpeDhUoBi+UlUXUks7vOS7JJyiAlU8ERovbgWE6qXocRDYMw2DC1Fm8dpZlMXX8SDy4d1vqsU8fP0T75vXx5vVLweeti1Etn8xMmDoT9g7OcHTzxj57B0ycNltwJ6mUlBRs37QWE0YOFiy6n9HL31k9QvT09TF/yUrcfvIG0+csRINGTVG6bDk0atIcC5etxvX7zwV3OwoLDcGaZfIVks1rJBIJdm5Zj3nTJ6XfcS5ewibTOkiPH95Hp9aNcebkUbn6WjBrSnqh/nIVKmLydNmKUhPleXT/LjavW8lpm7NwmVxBkpcvnkl9TkdXFzPmLsLdp28xe8FSNGrSHKXLlkODRk3TNg948EIwSybqZySWzp8p8xg0za9fMRg/YhAnYN+gUVPMW7xC5nOIxWK8k7JECgDad+qKW49fYeueQ2jTvhPKVaiI6jVrYfjo8fC7/Rijxk0WPG7B7KmcDTbUVUJCPJbMn4ntf+0ImFU9Ix8vd7RuXEcwo1CajMugm7dqi179Bio26Hyk1r/1sHX3QTi6eePYGVes3rANbTt0hkgk4r322ZNH6N6hRaafNX978+o/qc81bNwM1+4+wz57B3Tq2gMVK1VBlWo1MGDIcHj63ZL6HluzfJHG38CSBcMwmDhtNq9dluvlZ08eZX69TLUv8w6G6RQYLW6n6mGQ3EEBrHyAZVkdsOw2VY+DyKdX34Fo3LQFrz3qZyR6d26DGZPG4MolH3wJ+Iw3r/6D5/lzsBvQE13aNEm/Yyt04WUrUC+A/F+9Bo3RvlNXNGneCl179sHCZatx61HapEqoIKjn+XPYuGZ5luf99jVAsN3YpBBcPP0wecZcqUGZIlbWOHnWXTA7xNX5jEJ36POCkOAg9O3aDmtXLEZiYgIAoGWb9rh2/zluPHyJAUOGSy2wnZSYiJmTx3KyEDJz8YJHet0khmGwafs+wW21Sc6JjvqJCaOGcIIkbdp3wiQ5A4nfv30VbC9Y0BBnXC9g1vwlUv9uzMwtcOyMq2CBcF9vT3z++EGusWiKudMncupSFbGyxl77k4LfMdIEBwVKzVids3AZ7B2cpRZm19LSwop1m9G2Q2fec5ER4XA8yd9xUp34v32Dji0a4vC+Xek/g8F2o3Dr8Wv43niAjl26S12qHB31E3YDe+Gyr7dMfR3cuyM9A7VAgYJYt2WXcv4RGs7Q0Aj9Bg1Dk+at0KZ9JwwfMwFHT5/DzYcv8W/9hrzX/4yMgN2Anlkue01OSpIaaBo+ejzOevgK3iT7Y8rMeYJ1GJOTkuRaJqfJevYZgCbNW/Has7pe7ty6MV0vaxKW3cayLK00ygcogJUPBMWIxwOoqOpxEPn8WTaTcYtlIO0O65mTRzG4T1c0qFkBrRrVxphh/eHr7YnU1FSIRCKs3bwTIoGASNXqNXNj+BpFS0sL/QYOheN5HxgYFOA9v3fH5iyXrAktaQIAp/M+UpcJ/K2IlTVmzuUXSk5JScFFgV298rr3796iS5smuHv7/4VYu/bsgyOnXFCgQEHYliqNzTv34/r9F2jXsYvgOViWxcLZU/H4wb1M+4qLi8XC2VPTHw8dMUZwwkJy1szJYznBJ5uSttixzz7LpaMZSZssHnN0RYNGTbM83tTMHLPm82srpaamwvO8i1xj0QSnTxzhFNQXiUTYd8QBlkWs5DpPqJTfy4QpMzFt9gKZzrF643bBQL/n+XNyjSU33b19A93aN8e7t6/T2yZNn4MN2/ZAJBKhavWaOHTCCT7X7qFOvQaC5xAnJ2Pi6GFZLmP98f0btqxblf541oIlsClpq5R/R35lW7oMnN19BW8oBv74jtVZZEEHS/m779VvIFZt2CbT59vC5WsEb6B5uOaN5bM5TSQSYef+IwpfL6/ZtEPwerlajX9yY/hEeSr+nvMSDUcBLA0X9Iu1AIus00OIWrIsYgUP3xuCd5akKWFTEg7OHmjQqCmSk5J4z8taRJbw1apTF/OXruS1SyQS7Nu1NdNjM+689Udmd14z6j1gsGCx5Ns3r8l8jrwgKPAH+vfowAlmVK5aHdv2HIKODvfmmm2p0jhyygUr120RvIMqFosxf9aUTAveblqzAoE/vgMArKyLYv7SVVJfS3LGkYN7ccHDLf2xoaERjpw+B5NCheU+V1ys8HKyMmVlr/Haq99AwZpbt29el3s8edmb1y+xaM50TtvK9VtRr0Fjuc/1ZzfXjMqWryDzOYoVLyGYhfX40X0kJMTLPaac9uTRAwzu3ZWTpdO6XUfMX8L/HqlavSZcL1zBmAlTec8BabsKrlw8N9P+Fv61nLJ6zVoYPZ727VEGHV1d7D96SvDzyPHUccH6SX9IW95aoWJlmYPzRkbG6DNgMK894PMnjc3Altef6+WmLVrLfEzxEjY4edYdDRs3o+tlTcFiedAv1kLVwyA5S3oREaIRWIl4OQCqQpiHFSpsCkc3b3h7nseeHZvx9NEDwd3qStiURP/Bdhg/ZQb09Q3gevYM7zWVKleVukSDyGbYyHHYu2MLL6PK2+M8xDuSpS5N+rMEjteekABjYxOZ+jY2NkHNWnV4uw++95dvR0R1JhaLYTegJ+fnq6evj/1HTmW609nIcZMg0tbGgln8CdvLF89w46ofmrVsw3vu1X/PcXj//5fYtGjdTnDHqIz+e/6U1/bB/y083P6foVOrTl0UK14iy3Pldw/u3cayhf+vYfIn+7RS5aoKnU8sFt6EIUlggiKNvr4B6tStjyuXfDjtHzTovZaV6KifGDm4DycwNGzkWNiNGqfQ+aQtH0yUEtyXplHTFpxgJ5CWofT1SwAqVKys0NhyQtTPSN7Pz8KyCLZnsiGFSCTCsjUbwTAM9u/mV37wcndFwKePgjc+fLzc05dBA2mfZRl/TkICBHZf++/5U85nWaMmzfJ9EfjCpmYYP3k6b+dLcXIyfLzcBZf5AQCk3DyJiREO6ErTpHkrHD20j9f+8f07+p75rVBhU5xxvZDl9XLxEjYYMGQ4xk2eDgODAjjv4sR7TcVKVWBlXTQ3hk2Uq9Dvue8EVQ+E5BwKYGmwb5FJ1QFI+UYleU2Hzt3QoXM3hIeF4smjBwgPC0V0dBSKFLFGmXLlUb1mLc5FsZ/vBd452nfulptD1kg6Ojpo36krjhzcy2mPi4vFi+dPpd6xK1yYX78KkG9SDQD/1P6XF8CK+inb1vN5we5tG3nBof6DhgkuDcjIbtQ4XLnkA7+L/L99P19vXgArNTUVc6ZN4EysT584gtMnjig0dh8vd/j8tZyzdt368PC9kckRJCjwB0YN6cfZ+XP+kpWCWTayKlTYVLA9LvaXXOepWasOL4AVGRGh8LjyEolEgvEjhyDg08f0tsbNWmLVBsXLaZpI2UUyVkpmljQ1/qkt2B4RHib3mHLSsgWzectZJ0ydKVjLMKMFy1bj+pVLnN04gbRl0Zd9vTFy3CROe1xcLBbNmcZp+7tYvLxOHbfHqeP26Y+79eqLvYdPKnw+TdG5Wy9eAAsA7t25KTWAVUBg6R8gPStbmn9q/yvYnl8+k+Tx9/Xy08cPERYagujoKFhaWqFMufKo8U/tLK+X23XqmptDJso15ltk0r4Spnryb0dN8gQKYGkwkRazDYDsFVZJnmBuYZnl5E6cnIzLF7kFX7W0tNBv0LCcHFq+UV3KBCo4KFDqMYUKCy+FCvzxDSVsSsrct7mlJa9N3gthdRUTE419u/gT5N79Bsl8jikz5goGsJ49ecRrO25/QHB7c2XQ1tbG3EW0ejszSYmJGDm4D8LDQtPb+g0aJrgDqzykvdeCAn+gUpVqMp9HqMaTtExKTbNm2UJcu+yb/rhMufI4dMJRrqLtGUkL3ARl8rkpxMKyiGB7Qrz6LCH89OE9XJxO8dp79hkg0/E6OjqYMHUWpowbzntOKPtz4+rl6cuglc3Y2AQz5y7OkXPnNaXLloOxSSHEREdx2oN+CNe4BABTMyl/94Hy/b7MpGTAxcfHyXWe/MTcwhJt2me+AbtYLMYlH+41A8Mw6D/YLgdHRnKY6PccuKWqB0JyBtXA0lCBP5N6AuBXnCT5grurM2JiojltbTt0pmKuSmIpZQL1dxZJRtImXZ8+vJerb6HlhoZGRnKdQ135eLnzJgYAUK6C7HtQ1K5bH2bm/PIHQtkZOVUzp0CBgthr7yBY9Jf837wZkziBxfoNm2DD1t3ZPq+5OT/ICwBfBJZKZUbovaZITa68xv3cWU5Nv8KmZjjheF7mpc7SmFsIlyX5O8tLFiYmwuOQlnmnCi5OpyCRSDhtpmbmUr8HhLTtKHyjKkSg3lJOfZaZW1jCwcVTrjplmk7o7zgpSfpNJCMjY+jp6/PaP8r53a+jqyu4iYxRNt+X+Z2HqzPvuqNth84oaVtKRSMiStLi91yYaCDKwNJAn1lWH9HiTaoeB1GNlJQUbF7PLRCrpaWFmfPoDqqySNvu3Mxceo2QmrXqCLZ/fO8vV99CtVM0ZavnuwIFsgsWNBQspi0NwzAoXsKGF7AS2rls/OQZaN6qbaaBR2k8z5/Drq0bOG39Bg7F8DETYG5hiaLFist9zvzk0L6dcDx1PP2xbekyOHj8jNQacn+wLIvoqJ+ZBiuk7er59y5wirItVTrb51Bnr1++wPSJo9M3PfhTvFqWzSZ+RkZkujyuUGFT2JYuwwtYyVtXTKimDQC1mnDevnGN12ZdtJhc5zA2NoFJocKcAvAAoCvwHlm3ZRcG243KdLMKaXZt3cDbxXHS9Dno3K0nihYrDnML4YBwfiX0/Z/Vjpz/1OIv/f/y+RMkEolcWY1Cv9+yMiyvJ8JSUlKwZQN30xaGYQR3oSV5EMNs+syyF0oxjGYsUyDpKIClgfSiU2YAUJ8rOZKrjh/ez5sgDBk+GlWq1VDRiDRPRHi4YHvRYtILqVauWl1w6cHN61fk6ltomaK04FheI7SUSN9AeuF2aQwN+Rlp1kWFA0qKFgoXWnpoUcQK1WvWUuh8+cmt61ewfOGc9Mdm5hY45ewpmDmX0bevX9Dwn4ro1Xcgtu+zF3yNbekyKGJlzas/dOvGVbnGGRrKz3TRlPeakIjwMAzp2y09m4dhGGzddVDmTMLuHVrgV0wM7r94z9st9I8GjZryvp++ff2CgM+fZA4OhofxsymLl7BRq0BLaEgQr01PT0/u8xQsWJAXwBIKhDEMg2o1/pH7/AAE33fFipegzzIphL7/swpO1m/UhBfAio+Pw+OH91C3fiOZ+o2JieYtYS5Y0BBly1F2nKJO2B/gZcHT9bJGKfV7TrxG1QMhykVLCDXMt/D4YgA7X9XjIKrx4tkTLM+wzXYJm5KYv3SVlCOIIp4/fcxrK2JljdJly0k9RktLC02b85fjv3zxjDfRzkxYaAivrUXrtjIfr86E7mz/jIyQu8ZXZAR/glGVLkjVwts3rzBqSL/05VUGBgVw7IyrTBk+APD29UukpqYiKirzjQuaCLzXPn14L9dytZAg/vuyeSvNeK9llJAQj2H9e3B2/5y/ZCV69pWtZlNiYgI+fXiP8LBQqcErAGjavJVg+2WBunXSBAfzA90t27SX+fjcwAh8loUKLP3LDMuyggW6K1etrvC4SPZ8/RKAn5H830nDJs0zPa55K/4OuAB4tZcyExrM//tp2KRZllmrRNh/z58KXi8vWLZaRSMiOYOdnzY3JpqEAlgaRqSjvRqA8JYnRKMFBwVi9FDubl56+vo4eNwx27VLyP9JJBJc8vHktTdv2Ubq1uh/2I0ez2tjWRbH7Q/I3P/LF884j4sWK57lxXNeIbTsLjU1lXfnOjOJiQl4L7AkSdaJOMk5EeFhGDGod3p9PoZhsOvgMalL/oT8qZmVVd23MROmCrYLbUMvTcZi2WbmFmjZup3Mx+cVLMtixqQxePLoQXrbsJFjMWn6nEyO4nr5/BkkEonUHdf+6Nilu+DW9MePHJC6NDAjoSLm8mz0kBusrPj/xu/fviJAjjpsH9/78zJudHR00LkblXVRFW9PN16btrY2mjTLPEuxbv1GqFq9Jq/97OkTMm8MIfR333fgUJmOJVx/rpeT/9oFWldPj66XNZPh77kx0SAUwNIgwdHJ9cCCvs3yoQ/+79C1bVN8+/olvU1HRwd7D5+kZQACrlzyUXjnPmdHB94khGEY3rbmQho2bia4BOnw/t2CxcszCgkO4u2mN3rCFKk1ufKaho2bCbbLE3S46OWBlJQUTludeg1oSYCKiZOTYTegJycDav6SlejQuZvs5xCLce73zm5GRsaZvrZq9ZqCf08njx6SKRMmMiIcDx/c5bSNGDNBI7Md1q1cgvMuTumPGzdtgRXrtsh1jj/1zIyyCCzq6Opi9IQpvPb3797y6jBJ45cha6V23fqoU6+BjCPNHQ2bCH+WnZDjZsUFD1deW9eefWAqZTc6krWvXwLw6r/nCh0bHx+HfTu38tp79Rsk0wYCQn/3oSHBcDh6WKb+L3p7cB7bliqNdh27yHQs+b8/18tfvwSkt2lra2PPoRN0vaypWAwNjk6up+phEOXRjFkPAcuyjITFNgCZp4AQjePr7Ylu7Zvj+7ev6W16+vrYc/gk2nfqqsKRqafIiHCMtRuIds3rCS4FzMynD++xdN5MXnuHzt0E764KWbF2M69oa0x0FCaPHZ5lAd69O7ZwdrayKWkLu5HjZOo3L2jVtr1gYMLX2xMXL3gIHMGVkpKC7ZvWctq0tbWxbvNOpY0xPxD6O1SkOPTfx06fNBqPH95Pb5M3w4dlWSxfNCd90lEwi0wfAFi2ZiMv4BQfH4fJY4fzdojLyP7AHk6Qu4iVteAENDcJ/l6g+O8FAM45neZsRlCpclUcOumU6TLAjPwuXsCZk0cBCNefy8hu1DiUESg8vXD2VAT++J7psY8f3sfd2zfSHzMMg8Ur1mZyhGp07dFHsDi3/cE9gpk0GUVH/cTBvdzPLWOTQliycr3Sxpgf7d62ER1bNcKOzet4Nzoy8ydLMeNyfx1dXUyfs1Cmc/TsM0Aw0Lpm+SK8ef0y02M/f/wAb8/znLb5S1cLbk5CpLvk4yV4vbzX3gEdu3RX4chIDmMkLLaxLEtzZA1BASwNERwlHsIA9XPi3Pfv3sKnTx947R6uzoiN/ZUTXRIZhIWGYNzwgbAb0JNTk6GIlTWc3X3RqWsPFY5Ofbm7OiMuLhb+b9+gS5smmD5xND5/5P99Z+R38QK6tmuWvvzpDyvrolizaYfM/dep1wATp83mtV/y8cLU8SOkbod+8YIHDu/flf5YJBJh0879gttz51UmhQpj+lz+ZIBlWUweY4dLPl5SjxWLxZg6fgTevnnFaZ+3ZGWO1IzJqW3rVYllWbg5O+LjB/7OmG7OjvgS8Fmh827dsBrnnE6nP2YYBh/836Ff9w4y/1enSmnY79+dfo4CBQtm2W/V6jUxQ2ByefPaZYwbPhBxcbGCx1277IudW/4fKGAYBhu27ZEpOJNTXr54Bi93fobSi2dPcP3KJYXOef/uLUyfNJobGGMYjB7aX+bfS+vGdTCsf4/0gGBBw6wDiwYGBbBz/1He5DsiPAz9urfHB/93gscF/viOyWOGcdrsRo+XuQh2bipXoSIGDBnOa09KTMTQft0FN4H4Izb2F0YO7svZSVUkEmHbnkOwsCyi9LEm/bWMSpMlJibA9ewZiJOTsW7lErRrWhfnXZyyXLoaHhYKuwE94X7uLO+5Zas2wKakrUz9i0Qi7Nhrzwu+JyTEY0ifrpwlvH+L+hmJcSMGccpDdOjcDV2695KpX5J2vTx+5GAM69+DrpfVyNPHDxEezt+U48olH87yTmVggPqRPGchAAAgAElEQVTBUeIhSj0pURmKRGqA0FDWMEU35S3AKq1I3bevX3DV7yK8Pc9nenFcxMoavfsPRofO3fBP7X+zrAFEsu/7t684uGcHTp84wgsgdu/dD2s2bpcpnT2/EovFmDN1fPqSFyDtwrJB42Zo3rI1qtesBTMLS+jr6SMiPAxPHj+Ah5sLHj+4xzuXoaERTrteQO1/5ctMFicnY+LooYJLZkrYlET/wXZo0LgpihSxRnBwINzPncXJo4c4WSNLVq3HuEnT5eo3L5BIJBg5uA98vfl1xhiGQftOXTFw6AjU/rceChU2xc/ICNy6cQ07t6zn1QebPGMu5i9ZqdTxBQX+gJf7OWxet4q3O1jFSlVw8LijYHaJukpMTMCzJ49w1c8XPl7n8f4dv37YH3r6+mjbvhPad+qGxs1ayDSZPud0GpPH2mUrg0vI4pXrMH7yjCxfJ5FIMG3CSLg4nuI9Z120GAYNG5n+XgsLC4GHmwtOHDnImSwuWLpKrmwxZZBIJPj43h/XrvjC76I3bt+4munPsG79RujYtTtat+0I29JlslxWHPDpI7q0bcoJkihD42Yt4XTeR6bXOp0+gZmTxvCy4QwMCqBn3wFo17ELbEqWQmJiAh7cu41dWzdyln82btoCDs4earusMyYmGr06tRZcsqatrY3+g+3Qs+8AVK1eE4aGRggJDsK1K5ewdf0qzvImhmGwdvNODB0xRqnjC/j0EefOnsaurRt5dZgaN2uJXQeOwrKIlVL7VLUbV/0wZtgAzo2oEjYl0bpdRzRs0hxW1kVhZm6B+LhYfHjvj1vXr8DF8ZTgDYvBdqOwYdseucfgd/ECRg/rzytjoKOriy7de6FT154oVaYsUiUSPH38EDu3rOf8PVSqXBWuPlepVpMMvn/7ikN7d+L0iSP49SuG81y3Xn2xdtMOul7OZRHhYbh+xQ+e513g6+0pNYBsW6o0Bg4dgQ6duyvxmor5oZ2sXdHSkhG+e0XyDIo2aIDAqKRVACNbDrMUrmfP4O7tG/j04T3e+78V3OksK4aGRihbvgIqVq6Kxk1bUNFkJYqLi8VVP1+4n3OCt+d53gV/1eo1sWzNRqk1hAjfqeP2WDp/ltQsjKzYlioN+1MuqFipikLHSyQSzJo8lhNIkwXDMFiwdJVgFpemSEiIx8RRQ+Hj5a7Q8QYGBbB64zb0H2yX7bG8ffMKN69dxqsXz/H86WO8e/s609czDIOateqgaYvW6Nytp1rW3jp2eD8uXvDAx/fv8OP7N5mLZ2dkamaOSpWrokWbdpgwhb+0FgD6dm2HWzeuZme4gtZt2SXzhD41NRWL5kyTq5baHzPmLsKs+UvkPk4RN69dxnH7A/j43h+fPn1Q+A60gUEBlKtQERUrVcH6rbsFszT37tyClYvnZXfIPG07dMbR07LVsgIADzcXTB5rJ/e/tXGzlrB3OKvSrDhZRISHwW5AT87yWXmYmVtg+97DStll8fHD+7h76zpevniG508fZ5lRKRKJUL9hEzRu1gLdevaVeadQdfcl4DMmjR6q8O9ES0sL8xavwMRpsxW+aXvrxlWMGNhb7lUM1WvWwgmn8zmSiacp/lwve7iehbfned5SUbpezl0+Xu54eO8OPrx/h/f+b/E14LPc1xxFrKxRoVIVVKhYGU2at0Trdh2zMSJ2ddFCeouycQKiBiiAlccFRyWUSoXoNYBsrSPq3r4FHty7raRRpd0NdvNR/qQlv/n04T2WLpiFWzeu8u7WiUQiNG7WEmMnTkUzGXbAI3wR4WHYtXUjjh3eL/NOQAUKFMSIsRMxadosGJsUyvYYPM+fw5J5MxAcxN8aPqMSNiWxfutuNG/VNtv9qjuWZXHs8H5s3bBa5oC6lpYWuvbsg9nzl6JUmbJKGcf8mZNx7PB+hY4dNnIs1qph/a2h/brD76Ls27dnJbPP+3NOpzEpw7IvZdh98Dh69Okv1zGXfLywcPZUTv0Taaysi2Ldll1o26GzokOU266tG7BmuXKvq99+DRPM1AgLDUGdKqUhFouV2l+PPv2x+6B8QflPH95j3szJuHX9Spav1dHVxdSZ8zB5xly56nSpklgsxo7N63Bg93ZeFog0unp6GDhkOKbNXqC0LKjsvO9VkYWYk1iWhZe7KzavXZHlTYm/1W/YBAuXr5E761pIUOAPLJ47HRc8+DsbZiQSiTBizETMXbwcBQpkvXw6Pwr49BGL580QvF7W0tJCk+atMHr8ZLRo3Y6ul3ORsueXrdt1xHHHrN8zmUjUgqSyVSEDxWoiELVA7+A8LjBKfBZge2f3POecTiMoMPPiqfKwLlqcMrCUIDwsFDUr2KTfrTA0NEK9ho3RolVbdOrWE0WsrFU8Qs0QGhKMCx5u8Lt4AXduXucFswoWNET9Rk3QsnU7dOrWU+nLKuLiYuF5/hzOuzjh7u0bnIsvPX19/FuvIXr1G4ievfur7XKZnJKUmAgXp1O46ncRd27d4NSvANIu7GvW/hctWrVFt559lb5877/nT3m7TsrKtlRpVKvxj1LHowwP7t1GSHDWO/HJytTMDI2aNBd8LjExAZd8lBcs++Pfeg1gZV1U7uMSEuLhdd4VHm7OuHX9KmdpkI6uLv6t2wDde/dDn/6Dc72+3Af/d1kWc5ZX+05dpQZ6blz1Q3R0tOBzilL0b55lWdy+eQ1uzo645OPFCVozDIMKFSujbccuGD56fJ793ouJjsIZh2O4ee0K7t2+ycv+1dPXx791G6B567bo2WeAQn/fmcnO+75S5aooW76CUsejDlJTU3Htsi8u+Xjhqt9FzlI9IO1vr2KlKmjeqi1at++IBo2aKn0Mjx/cg9s5J1xwd0VQ4A/Oc6XLlkPrth0xfMwElLQtpfS+NcnPyAhUK1uMd73cvGUbdO7eK89+buR1yp5flixVBp279czmWRjnooV0+ihlQEQlKICVhwX9FLdgGTbrW5YkTzu0bydMTc1RsXIVVKhURXBnI6JcUT8jERoSAn0DA5iZm8u045kyRUaEIywsFMbGJjA3t8h3QavMxMb+QmREBBIS4mFmZg4zcwu6m0oU9jMyAqGhITAyMoa5uQV09fRUPSSCtEBj4Pfv0NLSgqWVVa5/BueGmOgoRISHIyUlBeYWFihsaqbqIeV7SYmJCAsLRXxcHEzNzGBqZp5lPTll9x8U+AMSiQQWRYpQnSs5/blerlCpMipUqkK7NBKpGJZpaV1Yh5YK5VF01Z9HsSwrCooWPwagfgVWCCGEEEIIIYQQ9fPc2kSnNsMwkqxfStRN7t1WIEoVFC0eDQpeEUIIIYQQQgghsqrxey5N8iDKwMqDPv9kC+kxYn8AFqoeCyGEEEIIIYQQkoeEJbE65UsVZqJUPRAiH8rAyoP0tMRLQcErQgghhBBCCCFEXha/59Qkj6EMrDwmMCapIlKZFwDyxv7RhBBCCCGEEEKIehFDi61e1FjvraoHQmRHGVh5TSq2goJXhBBCCCGEEEKIonR+z61JHkIBrDwkKDqlE8C0V/U4CCGEEEIIIYSQvI1pnzbHJnkFBbDyCJZldVg2dbOqx0EIIYQQQgghhGgClk3dzLIsrXDKIyiAlUcER6VMAVBB1eMghBBCCCGEEEI0RIXfc22SB1AR9zwg6BdrwUrE7wGYqHoshBBCCCGEEEKIBolmRDrlrI2YMFUPhGSOMrDyAFYiXgMKXhFCCCGEEEIIIcpm8nvOTdQcZWCpue8/k2tqMXgEQKTqsRBCCCGEEEIIIRpIksqiTvHCus9UPRAiHWVgqTktBttBwStCCCGEEEIIISSniH7PvYkaowCWGguKSuoDoKmqx0EIIYQQQgghhGi4pr/n4ERN0RJCNfWZZfX1osXvANioeiyEEEIIIYQQQkg+8DXJRKdCKYZJVPVACB9lYKkp/ZiU2aDgFSGEEEIIIYQQkltsfs/FiRqiDCw19C08vphIW9sfQAFVj4UQQgghhBBCCMlH4iUpKeVLmBf4oeqBEC7KwFJDIm3tDaDgFSGEEEIIIYQQktsK/J6TEzVDGVhqJjg6uX4qizug3w0hhBBCCCGEEKIKrBaDhlYmuvdUPRDyf5SBpUZYltVKZbETFLwihBBCCCGEEEJUhUllsZNlWYqZqBH6ZaiR4CjxEAB1VD0OQgghhBBCCCEkn6vze45O1ARl+qiJsDDWSKyT7A8wVqoeCyGEEEIIIYQQQthgHbFueQsL5peqR0IoA0ttiHWSF1DwihBCCCGEEEIIUReMVdpcnagDysBSAyFRiaUl0HoNQE/VYyGEEEIIIYQQQki6JBFSKxcppP9J1QPJ7ygDSw1IINoMCl4RQgghhBBCCCHqRu/3nJ2oGGVgqdj3KHErLbB+qh4HIYQQQgghhBBChKWCaV28kM5lVY8jP6MMLBViWVZbC+w2VY+DEEIIIYQQQggh0mmB3cayrLaqx5GfUQBLhYJjxGMAVFX1OAghhBBCCCGEEJKpqr/n8ERFaAmhinyLZk1FrNgfgJmqx0IIIYQQQgghhJAsRUgYnfIlTJhIVQ8kP6IMLBURpYqXgoJXhBBCCCGEEEJIXmH2ey5PVIAysFQgKCKpCitingGg9bOEEEIIIYQQQkjekcJI2JrWZnqvVD2Q/IYysFSAFWELKHhFCCGEEEIIIYTkNdq/5/Qkl1EAK5f9+JnYFWDaqnochBBCCCGEEEIIUQTTNm1uT3ITLSHMRe9ZVq9gtPg/AOVUPRZCCCGEEEIIIYQo7H2ciU61cgyTpOqB5BeUgZWLDKNTJoOCV4QQQgghhBBCSF5X7vccn+QSysDKJaGxrFVKivgdAGNVj4UQQgghhBBCCCHZFqOtrVPB0pAJVvVA8gPKwMolKSniVaDgFSGEEEIIIYQQoimMf8/1SS6gDKxcEBiVXAfAfVDAkBBCCCGEEEII0SSpAOoVLaT7SNUD0XQUUMlhLMsyYLAF9LMmhBBCCCGEEEI0jRYYbGFZlhKEchgFVXJYYExyP7BooupxEEIIIYQQQgghJAewaBIYk9xP1cPQdBQhzEGBgWwBFBC/AWCj6rEQQgghhBBCCCEkx3xFvE6lokWZeFUPRFNRBlYOYg2S54CCV4QQQgghhBBCiKaz+R0DIDmEMrBySGBkgg20RG8AFFD1WAghhBBCCCGEEJLj4pEqqVTU1OCrqgeiiSgDK4cwWqL1oOAVIYQQQgghhBCSXxT4HQsgOYAysHJAYKS4CbTY66CfLyGEEEIIIYQQkp+wSGWaFTXVuanqgWgaysBSMpZltaDFbgEFrwghhBBCCCGEkPyGgRa7hWVZircoGf1AlSwoWjwCQB1Vj4MQQgghhBBCCCEqUed3bIAoEWUJKVFEBGucJEp+BzBWqh4LIYQQQgghhBBCVIUN1pPoVjAzY2JUPRJNQRlYSpQoSl5MwStCCCGEEEIIISS/Y6zSYgREWSgDS0m+RSeWE7Fa/wHQU/VYCCGEEEIIIYQQonJJEia1WgkT/feqHogm0Fb1ADSFNkSbWLAUvFKBuLhYOJ9xQNcevVHY1CzH+klMTMDH9/6IjAiHjq4urIsWR0nbUjnWn6aRSCS44OGGUqXLoGr1mqoeTp6XnJQEF6dTaNqiNYoVL5GjfSUkxCPw+3eEh4ciJSUFhQoVRqkyZVGgQMEc6S85KQkf3r9DRHgYtHV0YG1dDCVLlQbDqO89F4lEgpDgIIQEByH2VwyMjE1gXbQYilhZ53jfLMviyiUfGBoZoV6Dxjnaz+ePHxASEoQUsRjmFpYoW74idHR0cqxPZQgPC0VYaAgiwsOgr28AUzNz2JYuAy0tzUpCDwkOQnhYKCIjwlGgoCHMLSzV+jsqLi4Wgd+/IyIiDCzLwsSkEMqWqwBdvZy/lIr6GQlXZ0f0HzwMBgYFcqyfuLhYfPB/h5joKOjp66N4iZIoWqx4jvWnTKmpqbjg4YaStqVQrcY/OdqXODkZP358R3hoCBITE2BsUgi2pcvA2NgkR/pLSUnBpw/vERoaDIZhYGlphdJly0EkEuVIf+rq168YOJ9xQK9+A3PsZ02ylpqaiks+XrCwLIJadermaD9/vsNTJRKYWxZBmbLl1f47XEPoaUO0CUA3VQ9EE6jvbCAPCYwStwXYi0LPSSQSeLq54OyZk1i1YRtsS5XO7eFprJDgIBy3P4AjB/ci6mckavxTG95X7yq1D5Zl4evtiaOH9uH2jatISUnhPG9ZxAo9evfHuMnTc2WimhfFxv7C2dMncXDPdgR8/gRjk0K4fv+53D+vV/89x9PHD+XuPzU1FdFRP/H500c8f/IIqzZuQ4NGTeU+j7qI+hkJh2OHcXDvToSGBKN4CRs8+O9DjvTjeOo4Ll/0xr07N3l/+9ra2qhavSZ69xuEfoOHoWBBw2z36XfxAo4d3o8bV/0gFos5z5mZW6B7736YNG222rzXUlNTcfGCBzzPu+Cqny+ifkbyXlOseAl07NIDQ0eMQZly5ZXaf3JSEjzcXLBnx2a8efUf9PUN4HfrEUqXLafUfj74v8OBPdvh4eaC6KifnOf09PXRolVbTJw2G7X/rafUfrPjv+dPcfb0Sfj5XkDAp4+8542NTdCsZWsMHDoCzVq2kfv8yUlJcDp9QqGxxcXFIiw0FI8f3EPlatWxav1WhYOz9+7chJuzIy75eCEo8AfveTNzC7Rs3Q5DR4xB7br1FepDmUJDgnHm5FFcungBzx4/hEQi4Tyvo6ODWnXqoVe/gejTfzD09PWV2v/XLwGw378bDscOIy4uFm07dMbR0+eU2kdqaipcnE7h1DF7PHpwl/dvLGFTEn0HDsXo8ZNhbFJIqX0rQ3x8HM45ncbenVvw+eMHhb+zs5KQEA/Xs2fg7Xked25eR0JCPOd5hmFQvkIldO3ZB0OGj4a5hWW2+3z88D4O7duJS95eiI+P4zxnZGSMjl26Y/yUmShfsVK2+1Jn375+wdGDe3Hy6CH8+hWDBo2awsXLT+7zXPLxQkhwkNzHiZOTERkZgbevXyI0NAQHj52BZZH8V4ElMTEB512csHfnFvi/fYOCBQ1x6dYjpc8V3755hf07t8Lb8zxiYqI5z+nrG6BN+44YM3GaWn2Ha4L7d2+h5j91MnyPMe2KFtLxVdmgNAQFsLKJZVntoCjxczCo/Hd7dNRPnD1zEof37cKXgM8AgMZNW8DJXTDORWTEsixuXruME0cOwtfbkzPJNTY2wduvYUrr60vAZ0wbPxL3797K8rWGhkZYtXEb+g4YorT+8zqWZbFi0VycOm6PX7+4dQsv33mCSpWrynW+9auWYvumtdkaE8MwOHr6HNq075St86jCw3t3cOLoQXi4uSApMZHzXGBUstL6iYmJxtb1q+Fw7DBiY3/JdEwJm5LYffA46tRroFCfgT++Y/rE0bh57XKWr9XXN8CKdZsx2G6UQn0pA8uycHE8ha0bV+PzR9mChzq6upizYCkmTpud7f4DPn3EyaOH4HjqOCLCuZ95bj5XUbd+o2z3AaQFadavWoqDe3fwApgZMQyD/oPtsGrD1hzNaMnKsyePsG7lEty4KvtkrGOX7tiy+6BcGQgBnz+h4T8VFRkir++Dxx3lDmDdvHYZG1Yvw+OH92V6PcMwGDRsJFZv2AYdXV1Fhpot4WGh2LxuJc44HON9fklTvmIl7Dl0ApWrVs9W3xKJBH4XL+C4/QFcv3IJqamp6c9VqlwVl+88ydb5//bm9UtMGz8S/z1/muVrzcwtsGXXAbX5Pnr39jWO2x+AyxkH3iRXke9sacTJydi3aysO7t2J8LBQmY4pVNgUG7fvRaeuPRTqMyY6CovmToeL4ymwLJvpa7W1tTF5xlzMmLtI4zKyQoKDMG/GJPhdvMAJrBYrXgIPX/ID/Vlp37w+XjzL3vvH3MISl24+VJsbU7nh43t/HLc/gLNnTvJufCnzOzwhIR6rly3E0YN7OZ97QhiGgd2ocViycr3SbxzkJxKJBD5e7ti9bSOePXmE5q3a4pSL5/9fwOK1dSGdGgzDZH5RRTJFSwizKShGPOHv4NXjB/dw4shBuLs6IzExgfPa5GTlTTLzm4DPn+Di6AAXRwcEfP6U4/3duXUdIwf35WUbSBMb+wvTxo/El8+fMHvB0hweXd5w+sQR7N+9TWnnCwsNyfY5ps1eoDaTBVkEBwXCxdEBzmcc8O7t6xzv79plX8ycPJaTyVGuQkXUqlMPurq6+PzxA+7fvcXLjvr29Qv6de+Asx6+cqe/P354H8P690BkRLhMr09MTMCcaRPw8b0/lqxan+vLCoMCf2DWlHG46vf/mxHGxiZo3rotTE3NEBEehts3r/P+PeLkZKxethCxsbGYu2i53P3++hWDCx5uOHvqBO7evpHlJCy7fkZGYGi/7jIHSFiWxekTR+D/9jUcXDxzfTmKODkZG9euwL6dW9KDbSKRCI2atkDpMmURFxuLp08e4oP/O96xFzzcEBYWCkc3b+jrG8jUn6x/r5kpV6Eituw+KNffcGzsLyxfOAenjtun/w3o6umh2e+lxDEx0Xh47w6+ff3COY5lWZw8egjhYaE4dMIpV5dPep4/h/kzJ3OCrVWq1UCNf2oDSJvMCWUq+b99g37dO8DZ8xIqVOTcI5TJm9cvcc7pNJzPnFQoS0Re3p7nMXHUUN61nzQR4WGwG9ATqzduh92ocTk8OmFRPyPh5uIEF6dTePzgXo7399/zp5g6bgTevnmV3mZdtBgaNW0OQ0MjfP/2FbdvXONlY0X9jMS44QOx5/BJdOneS64+Az5/wqDenWW+2ZCSkoKtG1bj3ZtX2Hv4pEoCvjll0ZxpuHjBQ2nnkzUAKY2Ori722p/MF8GrmJhouJ87i3NOp3H/7q0c/w4PDQnGkL7dZAqmA2nfEUcO7sXb169wzNEVhoZGOTo+TRMSHASHY4dx6rg9An98T29/kvEaikHloBjxBAA7cneEmoUCWNnwPYY1Q6p46fdvX3H29Am4Op8RvDgmivnx/Rt8L3jgnPMZPHl4P8c/7P94eO8OhvTpxrmAKlWmLOxGjUPZchUQ9fMnLnp7wMPVmTemrRtWw8zMHCPGTsyVsaqriPAwrFq6QKnnDA0JztbxffoPxqz5S5Q0mpwTFhoCX29PuLs64/aNq1neNVOWo4f2YfHc6emTSAODAli/dTd69RvImWCHBAdh9tTx8Lt4gXN8QkI8Jo+1w9U7T2WuYfPk0QMM6tWZc7e/hE1JDB8zAeUrVMKvmBj4+njCzdmR917bv3sbzMzNMWn6HEX/yXJ7++YVBvbshOCgwPS2fgOHYuWGrZyLPbFYjIN7d2Dt8kW8SfmOzevQul1HmVL14+PjcO3yJXi5n4O3x3mZJ8bZFRMTjb7d2uPVf8/T2woWNMRgu1Go26ARtLW18ejBPdjv3424uFjOsY8f3seowX3h4OyRaxO/2NhfGDGoD25dv5LeVqVaDeyzd+At27x22RfTJ47mBTQe3ruDnVs2yHwDIrsBEeuixXDstKtcgb6w0BAM6duNk/HQqElz7DxwFFbWRdPbWJaF+7mzmDt9Ii+TxsfLHWdOHsXAoSOyNX5ZbVm/CpvWrkh/bFKoMLbtOYR2HbtwXhfw6SNmTBqDe3ductojwsMwa/JYuPvekCnQ9/njB3h7ncd5FyeZJ27K4OvtiTHD+nPe75WrVseQ4aNR0rYUQkNDcN7FiRP4BtJ+VwtnT4WpqRm69uyTK2ONiYnGFV8fuLuexRW/i0hOSsqVfn29PTFu+KD0zzGRSITZv7NS/850iomOwsol8+Fw7DDneIlEgtlTx6Nh46YwM7eQqc+gwB/o1akV56aMmbkFho0cixr/1EZycjLu3LqOk0cPQZzhJvMFDzfMmT4RW3cfVPSfrFb8Ll6Al7ur0s6XmpqKsGwEsLS0tLBh2x40atJcaWNSN7Gxv3DVzxeebs7w9fGSOfs0uyIjwjGgR0e8ef0yvc3IyBhDRoxBnbr1wTAMHj+8D/v9u3lLae/evoEJI4fgyCkXjctAVLbkpCT4+Xrj7OkTuOzrnWWmejoWS7/HsA7FjZmInB2h5qIlhIorN3TEuKNvXr9o+Oj+XZmCK3XrN4Kbz9VcGFrelpAQj54dW+H508dyHaeMJYQhwUFo1ag25+56l+69sOvAMd5k7JKPF8bYDeB9Ieno6ODClTuoUq1GtsaSl00ZNxzOZxykPq/IcoRWDWulfxmbmpnDyEj2u0PNWrbB6o3b1frLmGVZ9OvWHnduXZc7aJXdJYT2+3dj0dzp6Y8ZhsHhk2fRvlNXwdeLxWIM6NERd25d5z23fZ89+vQfnGWfkRHhaNWoNicQ0KZ9Jxw4epqXvn7rxlUM69eDd1deJBLBzftqrtT2+fjeH53bNOFkZXbr1Rd7Dp2QOrHO+HP9o2Wb9jh51j3T/lYvW4hD+3bKfcGb3eUHLMtixKDenLv0xUvYwOn8RdiWLsN5bXBQIAb27MTJpvhjxtxFuRIwFicno2fn1pzsEdvSZeDld0vqph5vXr9Ex5YNeT9bA4MCePU5SKYsrEP7dmLJvJkA0uqAWcmRQVCosCn2HDqBUmXKynxMTEw0OrZsiE8f/r+BUY1/auPchctSl2zevnkNfbu2412fFCteAg/++5Dj2Ysb1yzH1g2r0x9ra2vD1fuq1OBtQkI8Ordugjev/uM95+DsgRat20ntKzQkGH27tYP/2zdyjVEZSwg/+L9Du2b1OJ9PdqPGYfXG7byfsfMZB0yfOIoX2C5Y0BCX7zyBTUnbbI0lKzMnj4WzowMvWJOV7C4hvOzrDbsBPTn/7uVrN2H0+ClSj5k+YRQcTx3ntU+bvQBzFi7Lsk9xcjI6t2nCCWRWq/EPTp/zgqmZOee1adl+7QUD0zv3H0WvfgOz7E+dJSTEo3m9GrzMzD8UWUIYHBSIWpVsOefQ1pYtL4JhGMyctyTP/1wzs2judJw8ekjuALEyvsMH9gxrmz4AACAASURBVOqM61cupbeVKlMWjm4+KF7ChvPa79++ol/39oLZiYuWr8GEqbMUHoemkkgkuH/3FtzPnYW7q7Ng7dO/SZubssCeYoV083e2QzZQBpZiKgB4e9x+n6rHoZEMDArA2KQQtLW1UapMWVSqXBXFitvA0soKujq6+PH9G44d3s+7868Mc6ZN4ASvypavgF0Hjwvu0NGmfSfsPngco4b05bSLxWLMmzkZHr43lD6+vODWjatwcTyl9PP++P4t/f/XbNqBrj16K70PVWIYBlZF07IobEuXQZWq1VG8RElYWllBX98AoSHBOG5/AD8jlXvD5uG9O1i+eC6nrVPXHlKDV0BakHbFus1o3bgO7znfCx4yBbAWzZ3OmSzYlLQVDF4BafUDj5xyxoCenTiTcYlEgrkzJuHSzYc5OhlPTEzAqCHcJcVGRsZYu2lHpv0OHzMBx48c4E2qb924ivj4uEx3cSxpWwpJiYkoYmWNSlWqoUy58jAzM4eZuQV+RkbAxekU3r97m/1/XAYujqc4wSstLS0cPO7IC14BgJV1UTie90G7ZvU4WWkAsHPLevQbNAwlbEoqfYx/W7pgFm/p04q1mzPdkbZS5aoYNmIsDuzZzmlPSIjHjauX0bZD5yz7/f71a/r/12vQGGdcL2Ty6uybOm4EJ3gFAJt27Mu03lijJs3RpXsvuLs6c9p/fP+GV/89z9HdYH29PbFt4xpO22C7UZlmHhoYFMCy1RvQr3sH3nMXL2QewLIsYgUtRgs6OjooW74iKlaugmLFbWBhaQktRgsBAZ9w/PB+3vLn7GJZFlPHj+AEr+o1aCwYvAKA3v0H4devGCycPZXTHhcXixWL5uDQCSelji8jm5K2ECcno3gJG1SqUg0lbUvDwtISJoUKIzwsFE6njuPrlwCl9vkl4DMmjh7GCV5VrV4TI8dOyvS4ZWs2wu2cEy/QfNHLXaYA1vbN6zjBK0NDIxw748oLXgFp9dbOuHmjY4uGvBslyxbORvvOXZWyUYmqbF63SmrwSlE/vn3lPL585wntZPgXm5K2SE5KQtFixVGpSjWUKl0WZubmMDUzR0R4GM6eOSnzslZ5nDx6iBO80tHRweGTZ3nBKyDt5pSzxyW0bVqXV09z49oV6NVvUL5Y3ikLcXIy5kyfCF9vT6VchzPAmODIpL1Wpnovs341yYgCWIp517BJs7CCBQ0tKlWphkqVq8K6WDGYmVlAS0sL7/3fYsq4EYiJjlL1OPOsffYnUbCgodSlSIyWFnZv26jUPu/evoFLPl6ctsUr1mW6vWzHLt3RoXM3eHue57Q/fnAPt65fQeNmLZU6RnWXnJSE+TMnpwcZypQrn75tb3ZE/YzkLIWxLFIkW+dTV6vWb8W6LbukBjYKm5pi2YLsFwH/g/1fe/cd30T5xwH8k+7N3kNkT9kIMkSWTBmylyBLpmwKtOwle29BBPyBMgRRBARBQJmyZW8oo0AXbWnTNL8/QkMvd5fcpUmTtp/369XXizzkLk+b5O4Z3+f76PUIDhwumo1XsryodNkPUKxESdEgipJcXef/PYNd24UdtbETpplNHFrnkwZo17GraOe3/y5fxP69e0RLkmxp3erlot+rWcs2yJwlq9njNBoNWrRqi3mzpgrK4+PicP/eXbMRDe06dkVzM69Ru259NKtvm0SvSeLevME304RRU+06djXmKpKSI2cuBE+ZhYF9ugvKtVotli2cg1nzl9q0jsldvXIJG75dJSjLkzcf6jVsbPHYz9q0Ew1gAcCtm9cVDWDdu/suWiFPsuV79nDowO+ivDUVKlVRFOXbonU70QAWYIgastcAVkJCAiYEDhdFfim5rtSs8wmyZc8h6kzdvnnD4rE/7t6HTJmzyN6zI8PD8dOWTRbPo8YvO7eJdsedPHOu2YHtHr2/wq7tP+LUieOC8r17duHqf5dtlixdSp8BQ9CzT3/Z3Q8rVKqCru3kJy+s8c20CaL2cKduPS3mYcuUOQvq1mso+uzfumX5s/Ds6ROsXLJAUDZw6EjBUltTJUqWxqBhozBnhjBH4csXofh+3Wr0Hzzc4us6o6v/XcaaZNe6+o2a4OD+vSk+b9IGVYBhcxUOXgl169kHHTp3R6bMWST/v3rN2mjTtL5NXzM6+rVgyTZguO6WLFVG9pg8efNh7ISpGDlEmIcv7s0brFg8H5Nm2LavlVa5e3jgwb27CHv1Em5ubihctBgKFCyE7NlzwNPLCyGPH+Hwwf3KlxECbjoXzSIAtv0QZBCpl8UzHQkJi2u17ZcDOTZs2YnA4Clo+Xl7VKteE0WKFcf7RYqiUZPm+FRBA5jkZcmazWweHVvP6uv1ekybMFZQljNXbkUdoeApsyQbq4vmzrJZ/dKKJQtmGzsaGo0GcxevhJdnynczMe285MsvnklKDwIyZTYblfN+YeVLjpQ48fdRyR2Eqlb/SNHxUgMbr15anpmaPnGcoHObKXMWNGne0uJxgROmSi5RMI30sLU1y8W5NqsoXLYoN/jzwsKmBJ5eXmYHyAqrWH6m1LerlwkiHQGgfZfuMs9+p3W7jvigQiVR+f82fSeKzLKlNSuWiAZJKlSqoihBebkPKkguKX4ZqmwZ+oNknbc8+fIrOsZaa1YsEZUpXTZboZI4ShIAnj9PWU5Bc/bu2SWK4vHy8la0m6CLi4vkwJySZNHZc+Q0O+FUsND7Fs+hhjY+HrOmBgvKSpUpJ/ldSE6j0WDcpGmicr1ejyXzv7FpHU35+PjKDl4BQMH3bPs3evokBLt3/CQqr1i5qqLjpQZZtfHxotxupubNmirI7ePi4oJ2CnaJHjBkhGR+rVVLF6ZaDkJb0uv1GDNsoDHyMFfuPBg3abqFo5S5e+fdxGS+AgVscs70xNvbR3bwCgAKFCxk89dcuWSBaMOjjl17WDyuY9ceKFq8hKh803drbbJhSXoxe+Fy7DtyErceh+HwiQvY+OMuLFi+FrPmL8X3W3+2GFVqSgPUCwmLa2Wn6qZrHMBS6aZe7wmNZp6l5ylNMEnW8fcPsOn5Tp/8WzSL2qR5S0U5kwoVLiKZhPL40cOizmB6dufWTSxNFhXX5Yte+LBGLZucO/nOk25ubsiTN59NzpvW+PrZdgmD1OBVvvwFFC+VyJpVvBTDy8L2y1cuXcDxo4cFZY0aN1OU+D13nrySy4gunDsrmYfJFp4+CRHlRfH08lLcGZZargLA7EClEj42Xs6SmJgoGqjLlj2H4u9wp249RWXa+Hj8vH2rTeonRSpPYqky5RQd6+7hAT+J+4iXt+X8V4mJibibLAJLammGLZn+ni4uLihWvKSiY7Nmk15KmdLPnzlSydPLlPtA8c6H2bJLXFcUvC+WeCrcXEKpfXv3iHZFbvZZa0XHVqteE8VKiN/D3375GVFRkTapnzW8feSXpFrj0oVzopyOmbNkVTwJmT1HTslyTw/59zI87JUoUrdi5arIq2Cg2dPLS3IJ/PNnT3H44AGJI5zb5g3f4szJf4yPZ8xdbLNIqeQDWPYYjEnv/ANs24/RarVYv2aFoCx/gYJmI6iTuLi4SEbIxsRE45eft9usjmldkWLFUa58Rdn2qlW5jzWaeTf1etvenDIADmCp5BuRMAxAYUvPczMzC0jOZ+dPW0RlFRTOEAJAu87SM3v7fjWfqDk9CRwx2JirIlfuPAiabLuomDu33+V+yZ0nr+JEoemNrX/v6h/Vhru7O1xcXFC5WnUsWrkOf59TnlcpeU6oJIWLFDN7TEq/a+07S0cE/WGy/NdWsmXLbowcyZe/AAYPH4OTF26gVp1PFB0vt5T8vfct3kbMMhdpYo2/jx0RDdRVrFxV8aBD63YdJXcdPLDXPu8LANSpa4i89/cPQJv2nbDvyEnFieN1Oh1iJPIoKhmYDHn8SJCXx96Jt+vUNSxFz5I1G7r26I0jJy+i+5d9FR0bGSEdqSKV08xWatb+GBqNBm5ubqhZuy5Wb9iCXfvEGz7IiYoUD+DYs77W2vnT/0RlSnYXTdJeIiIoPi4uTQ6UyClXvqIxkrRUmXKYMmsezly5rXiSV+r6mSdvPrPLzffs2iFKnF2xcjXFdW7XSTqHo+nOu87uRehzzJgcZHzcpHlLRZHOSiVPDWHvayBZduTQAVG0lNJIRwBo26GL5P1+/949Ka5bRmHlJHPht2MLpELG7AVa6flrfe6EBO04R9eDbEur1UrOMCiZtUhSWybX1YF9v+HLful/k4ntW38QbGE/bfZCs8sU1Lp987rx30UVRh6QZeUrVsbB4/8iZ65cVr1fyXNgJPnwI/mIncTERMmIHLllTlJq1akLFxcX0az+H/v2YtCw0YrPo5S7hwc2b/sF8fHxVi1dlvobFS5aTDaywFGkBhbVXAMDAjLhgwqVRAnVT504jvCwVxbzhVkjMHgKOnT9AkWKFlc9oBfy+JFkQu8aNetYPPbmdWFS/sJFi6t6bbVmL1qBUeMmoVDhIqp3Ur1/746ozMPTU9V7q9bH9Rri0D/nkC9/Afj5Kd8tNolUnW0VzWsrkRHhOHjgd1G5qnZD3foAxovKD+77DS1afZ6S6jmN3HnyYu+f/8DX19eqa55UQvnqNWubPSal17JSZcohe46comWr+/fuQWJiouJBfUebHDTauENaQEAmzJgrXgqfErduvGuXqdlRlexj57aUTQ5mz5ETpcqUw5VLFwTlx48eRnT06zS9iUFqsX5iUT/u+Wv9dzn9NPZb25/OpI2rsJNI0GlnAVDfGiOndu7sKck13u+/r3zGN3eevHhPYub+1D/HRR3t9CYiPAyTg94NHHzatIXiZRRK3UzWUCpSzL6dxYymaPESVg1eaePj8d/li6LyFq3kd4e8euUSQh4/EpVLfXfkZMqcBSUkEpL+e+ak6u2qlcqVO4/Vefeklrm1btsxpVWyuUMSnfH3CqmLEpMa/NHpdDidbAmLLXl6eaFkqTJWNRql3peKlasqiiRIvhugr6+foqVJKREQkAlFihVXPXgFGDZMMNWgURObL8M3VaJkaasGryLCw3Dvzm1BmZubG5q2cK40IUf+PCi63gRkyqxqoLZMufKS78OJv4+muH7O5L1C71s9YC/1+TV3j4mOfo2T/xwTlRdSGfH6YQ3xBhkvQp8r2kzAGRw7cgg7fnwXIThu0nSb7ib37OkTwVLXosXE+ZMo9ej1ehzcn/J7uNQEZHxcnCjFCtmc/9sxBlKIA1gKhYTHV4EelrPZUppz6bw4X0fWbNnNhqhLqSSxdCA2Nibd58GaPmm8cabS3z8AM+eJEw6nRGJiomAJoVRDKTY2RnI5G9nPwQO/ixLpftLgUxQvWUr2GKncOJ5eXrJ5ouRILdNJSEjA7WSfE2fw5k2saActLy9vdO3R20E1kvbs6RPR8kEAyJNPXa45ueUKphFLzmD71s2isj79hyg69pYgIlR8PUpISEB42Cu7DaiqIZVAu88AZb+nI/zy83ZRZFyrth2QM1duB9VImtS1LK/K3Iyurq6SCd8fPXwgSECeUd24dlUUDVKocBE0bNxM9pjLF89LThqq3WihYhXpJYc3byhfYu8o8XFxCEy2G3S16jXRrWcfm77GbZOdIKUi4yMjwvH6dZRNX5ek3btzW3a5rRqVq0gvgTbdbZrsQI/uIeHxypcjZHBcQqiAXq/XhERol2gA+X2RKc2SaojmzJlL9XkKyURsXb96xea7JjqLMyf/weYN3xofj5s03ew21dZ49PCBIN9MRHgY5n8zDWdPn8SNa//h1cuXiI2NAWDoEGTPkRNVP6yBhk2ao2mLVgx7tpPVyxYJHru6umJM0GSZZxtIdvqsiF6Rm02/ee2qXbegV2vr5u8R9kq4K2OvrwbZdCbcFqTeFwDIk0dd41cuT9GNa841gHX39i0cMMmZVvaDCmiucNlW8qUzAZkyY+P6NTh14jgunv8Xoc+fG5ftAIboqWIlSqLBp03RtEVrycTd9nLqxHH8e+aUoKx+oyZOtxwviU6nw5oVwmVOXl7eGD4mWOYIx5H6zuSy4t73fpGiok0tEhMTcfvmDZQrX9Ha6qULK5cuEJUFBk81G4kotTEJANUDoHK5HG9evwo4WTSgqSULZhujRD08PTF38UrJnbJTIvk10N3dHRf+PYN1q5bh7OkTePzoIV69fGEciPb08kKevPnw8ScN0KR5S9SuW9/m9cnoLl08L1mutq0hlwPyxrX/VNeJVNPogSV6vf4jjUajt/z0jI0DWAo8iYzvpIFG2Z7VlOZckVgGZc2SKrmkzHecLCrEVrRaLcYMG2ic5ata/SPFiYXVMI3emDVVPkmzTqfDs6dPsGfXDuzZtQMzJo3H1yPHolvPPlYtvyFpe3btEC1z6dN/iMXt4y9KdPq8PNVFOgJAQZmw+OSRMY4WGRGOuTOnCMoKFS6CEYFBMkc4jmmUQxK1UahyS0FNZ+sdbdL4UYIoDTc3N8xfulrxJgnJP2dHDx/E0cMHZZ8bGRmBs6dP4uzpk5gzYzLad+6OMUGT7T6IqdPpMHHsSEGZr68fZs1fatfXTYlN360VzfSPCAxSvfwrNVy9cklU5m3FTolyS1Yz+gDWlUsX8JPJToINGzfDZ63llw8CwNUrl0Vlnl5eqjdAkXtfki8fdkZ3bt3EkgWzjY+/HhEoGSWaUskHsLRaLb76sovsc+PevMG9O7dx785tbPh2FT6oUAkTp89WlG+QlJG7h/v5q1vG/b7MJNRtJ//cpxcaoPqTyPhOAH5wdF2cHZcQWhASoveB3mW25WdSWmWaqNNa+fIXkCwPe/VKsjytW7N8Ea7+Z2gsenh6Yu4i28/yASnr/D57+gTjRg5Bn+4duCTDRmJiojF5/ChBWaH3C2PkOMu7v5lGIwHqB0kA+c5FRLj0jn+OMHNKMF6+CDU+1mg0mLNoBby81Hdy7e3lC3EOQADw8fFRdR4fH+lEzeFOtLz3j32/iaKv+g0ahrIfVFB0fFRUpORySyUSExOxZdN3+PTjD+2eU2TTd2tFeb7GTpgqe59ytJcvQkWTE+XKV0S/Qc65OZNUu8Fb5fcFkB+MDwtLn+0GJfR6PQJHDIZOpzOW+fsHKBp8TX7NTeLpoX6H+vwyUfPO/L7o9XoEDh9kXLpcomRpDBo6ysJR1knJZNHF8/+iXYtGWLFkvg1rlLFJfe4BqN5wIGu27PD2Fl/Hwp34c5/u6F1mh4To1d9MMhhGYFniHR8IaNSto6A0RWrL7oBMmVSfJ3PmLJLl6TEHwMMH9zH/m+nGx4OHjbbb0hip5UfZsudAjZq1UaBgIfj4+uLVq5e4fPE8/j19UtDoTfL7r7vRrV1LbN31u+qZWBJaOGemIK+bq6srZi9aAR8fX4vHRkZEiMo8rOhcyCWHTp5U1pEuXzyPTd+tFZR169kHNWvXdUyFLJDKnQEArlZ8V3x9fWHaln4d5RzXwLg3bxA0eqigrGjxEqqi4m5cFS+lcHNzQ5VqNVCqbDlky5YdUZGRePzoAY79dViy4f/82VO0a9EIO/ceskuUzcsXoZg9fZKg7MMatdCjT3+bv5atzJgcJMhj6OHpiQXL1jjl9ToqKlIyz5Kbq/q6yg0SR6fDdoNSP/5vo2g304nTZyvK5yM1WO7hqf4eExAg3QaUai86ix0//g/H/voTgGHgYs6iFXD38LDLa0nlNSxUuAg+rFELefPlh16vx7OnT3Dyn2OSUWuJiYmYGhyI2JgYDB/jfFHJaU1UpLhtBci3lczJlDmzMS1HktdO0rbKGPT5DGMPsDwrnIE5X8vAiYSExb4HjcY+0xfkFLRarWRkjjU7B3rKLIVyls6bLQWNHmr8uxUvWQqDh422cIT1biRrKDX4tCn69B+MmnU+kZxZevb0CRbOmYHv1602Lm1M8s/xvzBzchCCp3KjD2udOfkPVprMmg4fE4RadT5RdLxp0ndryUVtOUOnLzY2BoP79hAMpJYrXxGTZ8x1YK3Ms9X7AkByIDP69WubnT8lJgeNxoP794yPfXx8sfb7H1VFxSVP4lzwvULo3X8w2nfqJrnsPCEhAdu2bMLMKcEIff5M8H8xMdHo+0VH7PvrlGxn2Rp6vR4jh3wliHbMkTMXVq7frHo2PrUc+P1XbNn0naBsysx5KF32A8dUyAJbDmL4B0jvBhnpxAMl9vTwwX3R0tc27Tuhc/cvFR0fKRGFa9oWUMrb20fckXeCe4yU8LBXgt2gv+jVD1U+rGGX13r9Oso4ieXl5Y2OXb9Azz4DZCcxL57/FxPHjpTcHXLB7OmoUq066nzSwC51zSgiJCYHreUpMeD72knu4RmGRjMqJCz227xZvO87uirOyjlbM85C4zYHgPr1LZRmmDZOklgz6CS3fECrjVd9Lmf26+6dxiU4Li4umLNwhVUznEpN+2YBatetjx+278H3W39G7br1ZTtiuXLnwcx5SzB/2RrJ56xZsVi0RTspExEehgG9uyEhIcFY9kmDT/H1yLGKzyG1K9ubN7Gq6yLX6YuPd/x3beLYkbieLOFpQKbMWL1hi1VLJVNL8vc0OWt20fPxE2+aEBfv+N349u7Zhe/WrhSUzVm0wuyumVKat/ocXb7ohSEjAnHk5EX0/mqwbM5ENzc3dOzaA78ePC6Zx+n+vbtYtXShqte35Ls1KwQ7X7q6umL5txudbuOAJE9CHmPogN6CQYa2HbvYJZ+irSTfVCS5BJ3098gcuQhUncx3Mj3TarUY0KurICK0RMnSmLNoheJzxMWJ3xutlfcFqWt2okSEtzOYMTnIuKw1T958GDtxmt1ey8/PHwuWr0XDxs3w54nzmDF3sdkI/A8qVMK2PQfQrmNX0f/pdDoEBw63atKY3nkTK92OsiYqXWoSyhnaVhmM19sxCJLBASwZIWHaOoC+naPrQfYlN/Ots6IhKrfUIZMVCeGd1evXUQge8y4nSbeefVC1+kd2fc0PKlTC1p/3om79RoqP6dC5O/r0F28Vn5CQILmzEVk2fFBfPHr4wPg4X/4CWLr6O1VRHVI7QlrbuZDi6O/a7h0/CZYOajQaLFm1Xja5ubPwkhlci7NiAMvVRbxZgqPfl0cPH2D4IOGASI/eX6F1u46qz+Xn5485i1YgMHiK4kHJ/AUKYu3GHyWX83y7apnN8vNdvngek4PHCMpGj5/ktEtXdTodBvbuLogWK1GyNL5ZsMyBtbLMx1d6ubQ1E19eMonf5Qbp07PZ0yfh7OmTxsd+fv5Y8/1WyZw8cnwk7jHWfr98Jd5nX5VJsVPD6RN/C3aDnjlviVVLx9To0Lk7NmzZqfje5urqirmLV0rmGrx5/Rr2791j6ypmKHJpT6wZcHVzdxeVZc6cfvoxaYe+nWEsgqRwAEuCXq93hUa/yPIzKT2QutHHRKtv8MhFMVizo6Gz+mbaRDx9EgLAMMs3btJ0C0c4zshxEyT/9r/u3mn1koKM6ru1K7F3zy7jY08vL6z5fiuyZM2m6jy+EtE50dG2C0135Hftwf17GD10gKBsyIhANGzczEE1Us5XprMTGyMdoWqOLlHcYLYmp6CtJCQkYEDvboL8SpWrfpjqSzpLl/0A7Tt1E5VHRoTj2JE/U3z+6OjX6N+rqyBq7tOmLTDIjsu7U2rR3JmC3UwDAjJh7cYfVQ1YOILczl5ybQBz5L5jjh70TW1HDh3A8kXvvpMajQbzlq5WvYOeVHsuISHBqgifKIkBSWd7X7RaLQKHDzK2aT5r3RaNmjR3cK2kuXt4IHjKTMn/27NreyrXJn2RalsB1i39S9BqRWXpqR+Tpmj0i/R6PbdQl8ABLAlPIrQ9ASjbkojSPKkL/wuZHT3MkVtWkCmdzFxcunAO3615F8o/Y+5i+Ps77yyxr68fWrYRB1G+fBGK/y5fdECN0qbz/54R5NbQaDSYt3gVKlSqovpckt+1UPXfNblIB0d912JjY9CnewdBLqlGTZpj1LiJDqmPWnId8hcv1O/QGiPRYJbb4CI1TJ84DmdO/mN8nCdvPny76Se7JTc2p8sXvSTLjx45lKLz6vV6jBjUF7dvvtuxtVTpsli8ar1ddoa1hSOHDmDB7HcTIK6urli5fjOKFCvuwFop4+vrJ/l3tWZ3yoQEcWcRyFgdxpDHjzCobw/BxNLwMUFo0epz1eeSGyw3zUGnhF5i0MvZ2nOrly007gadKXMWTJnl3Dv71fq4nmTU1tHDKbsGZnRS0e2Adbusx0qkdXC2gdsMpMLbMQkywSTuJu6G6TMD2hmOrgelnnz5C4ganqHPnyE+Lk5Vbiep3AsAUOj9IimqnzPQ6XQY9XV/Y2JqD09PrFu9HOtWL7d4bPKkyUlGf93fGOrv6uqKGXMWoVBh2/+dPqr1MTauXyMqv3vnNsqUK2/z10tvQp8/Q6+u7QSDs0NGBKJN+05WnS9f/oK4e/uWoCwmJhrhYa+QOUtWxeeR2mkSAN4vXNSqeqXU6KEDcOnCOePjUmXKYcW6TU6bNNtU3nz5JctDHj1SfS6pPED2+G4rsX3rD1i17F2OKW9vH2z6aTdy5srtkPqUK18Rvr5+oqhDqV261FixeB5279xmfJwtew58/+Mup51guHfnNr76sqvgezxl5jxVy8QdLW++/ILdWAHDQIxactHe7xdxzLUstcXGxuDLLm3xMtmkYcvP21u9M53ctezxo4eq88BJ5Q9y1D1Giulu0F5eXhjcz3JfV2qy9cWLUHRo1cT4OG/efJi9cLnNB/o1Gg2qf1Qb9+/dFZSHPn+G6OjXsgMxZF6+/AUky0MeP0L5ipVVnUsq96Wj7uEEAJhxN0y/7f0sGuntojMoDmCZ8NRogwDkcHQ9KPUUK1EK/545JSoPCXksmXhXzkuZqC1rIlWczYa1K3Hx/L/Gx/FxcTh6+KDV50ue50Kj0eDK5Yt2uUGWKF1Gsjz02VObv1Z6o42PR5/uHfEk5LGxrNlnrTF6/CSrz1m8ZCkcizbhQgAAG4ZJREFUk4g2efzooaoBLLlZRbUNNVtYvXwRtm/9wfg4R85c2PTTbqdfBpVc8RLSicxDHj+ULDcn9Ln4vXHE+3LpwjnBkk6NRoMV6zahVJlyqV6XJK6urihZuozg+gfI3zuUOHxwP2ZOCTY+dvfwwIYtO2U7NI4WExONXl3bCZZ0ftGrH3r2HWDmKOdTolQZ0QBWeNgr1Z3wVy9fisrc3NxQxkl3YLS10UMHCNoWlapUw/ylq62OHJS/lj1CpSrVFJ8nPOyVZPkHFSpZVS97GD/qa8FGRM+ePrEqChAwDGolb9NlzZYdz58/s8t1pGSZspLloc+ewbcwB7CsUbxkacnykEfq7+EvX74QlTniHk5GOd6OTYy0+MwMJG1MD6eSx5FvSgAQZ36mdE1uF6qb16+qOs+Tt7mhksuZKzdy58lrVb2cRVRUJGZPn2S38w8dNQ7NPmttl3NnkRkUccTyobRmwtgROHXiuPFx+YqVU7wkSa5zcevGdVXnST6olsTPzz/VoxaOHj6IqcGBxsfe3j5Y/8N25MmbL1XrkVIlSkkP9CbfTVGJuDdvJDt+qd3pe/kiFF92aSvo3I2dMNUpcsNkklhOaW2knmkkk0ajwYKla1R11FOTXq/H0P69jEueAKBWnU+cftmTFLlr2Y1r6toNT5+K2w0lS5d16l1LbcV08D9peW9KBv/l2nM3VF7LpNpzgPMMYB09fBB/7PvNLuf29PLCyvWb7TYILrek3FVmIySyTPZ6pLIfE/bqpWSEnrN87jOwIW/HKOgtXi2S0eg086CBePsFStfKSeyKAhiihNQkYH4q0amu+mENq+vlLPz9AzAmaDK2/vC9VcffuHYVb0zW1BcvWQpeXt7o0Lm7XWfe5XaGVJt8PKP54ft12PDtKuPjPHnzYd3mbSmOKpLagQgAzpw+gZaft1d8nicSS3WqfFgjVZfsPbh/D/17dRMMHsxZtMJpBw/MyZe/ADJnySoafDKNFLJEagmVp5cXypWvmKL6qaHVatH3i06C6Ji2Hbs4TTJzd4kdnrJmy676PNHRr/Fll7aIjHi3qmDg0FFWL+9NDYvmzsSeXTuMjwsVLoK1m36U/Js4O7kl6GdPn0DFylUVn0dqML5KtepW1yutOHbkkGjwf8OWnaqX+ZkqXfYDuLi4iJK2S0XZmyN1jyn4XqEU189Wqn9UGx06dxcMBiuljY8XHefu4YFSpcvC3d0dk6bPQWU7fgZdXaXbZdlzcPGLtd4vUlRyebrae/hTiYFbf/8AlCotHTVHqcZdo9PMA+D4WTgnwQGst0IitI2h1zv/dlFkc9Wq14S/f4Ao30HyxL9KXLl0QVTW8vMOKaqbs+jZd4DVA031P6okaiytWLc5VW6IYa+klwGktQiZ1HT21AmMHfkuEDUgIBM2bftF0d/srz//wJMnIWjctIVkpEmFSlWQPUdO0RLAU/8cFz3XnCsSSfjVDIClVFLellfJQu3HTpiqaPDgRehz/Pi/jajXsDFKykQ+pTaNRoP6jRoLoiEAQ4TPyxehyJZdWcdC6n35tGkL+PiIt6O3l8lBo/HP8b+Mj2vV+QTzFq8yc8Q7a1cuQZGixfFJg0/tVT3J5RlqIx2SIpmuXb1iLGvTvhPGTpiq6PhFc2eiRq06qFa9pqrXTYkDv/+KebPe1S9b9hz4YdseBARY3qFy32+/4HVUFD5t1kJylzlHqNfwU7i6uory8Z09fRK9vxqs+DxXLorbDa3apo92gxzTyEFXV1esWLdJdoIjucsXz+PMqRNo1KS5ZL6rrNmyo0KlKqIBq7OnTyIxMVHxJIfURi+t2znP4LC7hwcWLF9r1bGPHz1E1bLClA05c+bC74dP2KJqFoWHi9tlmTJnSVPL7p2Nm5sbPq7XAL/98rOg/PrVK3j9OkrxdfPSxfOisqYtWnHVgjPQaJqFRGgb583k/rujq+IMuIQQgF6vd4dev8DR9SDH8PD0RN36DUXlp0/+rWoHj3NnTwseB2TKjIafNk1x/ch6yTt4SXx8fFM1IiQteXD/Hnp0/hza+HgA7zoWSgcbt23djGEDeuO0zOCvi4sL6jdqIiq/cumCKJ+MOedMOife3j5o2qKV4uNTQqfTof+XXQUdnC969VMc4XPh3FlMmzAWyxbOsVcVrdKoSQvJ8r17dik+x3mTayAAtEnFTt+Gb1dh3aplxselSpc1RPgoaHzHx8VhanCgoiTI1kpMTMSNq+KlTGoHkmZOCcavu3caH9eq8wkWLF2jaHnv40cP8c20iRg38mtVr5kSV/+7jMF9exgHLJKibZTmPfx+3WoM7tdDsMuio2XJmg2Vq4qjVP48sE92R2JTOp1OkP8JMET5VP3wI5vU0RlFRkaIBv+nzV6oeHnvH/t+w7iRQ/Dr7h2yz2nc7DNRWUR4mGBg2xLT9hwAtG7bUfHxJO+/y5dEZdWqp9/PfGpp1FR8D9fpdNj/2x7F57jw7xlR2ecdOqeoXmRDev0CvV6f9kKW7YADWACehGsHAijp6HqQ4zRtIc7BpNVqsXvHT4qOv3fnNh4+uC8oa922Q4bIY+HMjhw6ICqrWv2jNLlkxd4iIyPQs1MbQULpabMXqopGuXrFEGnnHyC/+5lUvrPExETs+PEHiWeLPQl5jJs3rgnKmrRomWo7rs2cHIT9e981CNXm8Eka+HKWSJIkH9drIBkpZRqVZc6RP/8QPM6VO49do5kEr33oAIJGDzU+zpkrNzZt+0VRhA8A3LxxDVqtFr6+9osWu3DuLCIjIwRlGo0GNWrVUXyObVs2Y+mC2cbHhQoXwarvflA8Q57an78Xoc/RtW0L4++dNCiuZqltUp1TM5JPieat2ojKIiMjsG+vsg7jmVP/ICZGuAthu07dUpRn0JnpdDr07tZBMLE0aNhofNGrn+JzJH0WzCXKb9yspeTfcNuWzYpeQxsfj7+PCQe7Klf9UDa/FimXmJgouZGLmmsgSavfsLHkfWDbVmWfewA4bNJmLlDwPXxUu25Kq0a2U/LtmEWGl+EHsJ5E6XNAg4mOrgc5VrOWbVDwvUKi8vVrV0Cr1Vo8frtJ59vLyxtDRgTKPJtSQ1RUJH7etlVU3qmb/SIs0iqdTod+PToLlnqq7ViEPn+G6287JuY6F/UaNkYJiR1zNq5foyhyYee2LYL8Ju7u7hgZOEFxPVPi+3WrsXzxPONjY4SPigHRY38dBgD4pdKAm1IBAZnQtUdvUfmpE8dx4dxZi8ffuHZVtIx62OjxqTJYfPW/y+jXo7Mgwmfd5m2qlgof++tPAPYd2Nm4fo2o7ON6DSWXQkk5fvQwRgx5951MWoanJqff8befP3ODzLYSGxuDHp3aCPI8BU+dpSqZ/s3r14w7q/n6OdcOZR279pBcKv3tqqXQ6/UWjzcdHM6aLTv6DEi/+wgFjR4qGLxo3rKN4mWvAJCQkICTb5ebm7vHFC1eAg0kot9/2blN0S59fx7cL9glEwDGBE1WXE+Sd/jgfjx6+EBQ5u7hweg2G8iWPQc6de0hKj96+KDkagRT586ext3btwRlo8ZNStXcoqSABhOfROkzfMK4DP+p1Ou0UwBkdnQ9yLHc3Nww4GvxDqW3b97Ahm9Xmj02MjJC1DHpM2AI8yzZwJwZk/H7r7utOnbm5CBRQst8+Quk2lKztCRo9FBBtJqafDpJViyej4SEBADmOxcuLi4YPHyMqPzRwwdYudT8Su7Y2BisX71cUNa9Vz/FS5FS4thffyI4cLjxcZ68+VRF+ACGBuLxtwMl9oz0sVb/IcNFUaN6vR4Tx4602CFfunC24HGxEiXRufuXNq+jqZcvQtGzU5sURfjExEQblx76mRnYOXv6JCaOHSm6rihx7uxp/PS/jaLyvgoHLO7duY2venYxLu9VuwwPMAwyb9m8AYD9P396vR7DBvQW5CL6olc/9B2gbunikgXfGP/t5+9cUYt+fv7o/dUgUfnpE3/jl53bzB779EkIdv60RVA2bNQ4VdeTtGTNisWCjUEqVamGRSvXqYo227LpO4Q+fwbA8mDm0FHjRGUxMdGYOTnI7HF6vR5LFgivZZ80+BS1Pq6nuJ7pmTY+HoP79VC9Qy1gWKY9OUi81L5Vm/ZOkxw/rRvw9UjR5kU6nQ6Tx1tOcbDU5HNfplx5p94UJAPL/HbsIkPL0EncH4XFlwfQx9H1IPXCTWbHACAuPg7R0a/Ndp7N6dS1B9avXi66Mc+cHIwy5cqjRk1xiLNer8fEwBF4/uypsaxQ4SIYPNw5drxKy25ev4Yl879BQkICGjZuhmmzF6JAwfcUHbtx/RpBYznJlFnzZXcmTAvkktI/e/rE6gbgulXLBH+rQoWLoGfv/rh04Zyi4xMSEnBw/16sXr7IWOZjoXP8WZt2WLNisSiyZ/7s6ahQqQo+rifOSQcA0yeNF+TKypsvP0aMMd8hsYXbN2+gd9f2gtxgo4MmI/T5M2OHypJ7d25j4riRxuixlEaThL16KVn+9InlCAM5uXLnQd8BX2PJ/G8E5adOHMf0SeMRNHmG5HF/7PtNEE3i6uqKmfOW2P27FvfmDb7o2BoP7t8zlnXq1hO58+QV5RaSExEehoVzZhqXgJu7f0ybMBYn/zmGPbu2Y+o3CxQPhj+4fw99v+goSvjdsHEz2c96cpER4ejctrlgeW//IcPh5uam+Pd8EfocMyYHGXct9LHyPqnUzCnB2J1sEKdU6bJo37m74vpq4+Oxe+c2wbKvlEbHRUVFicpevXqJhIQEqz+rffoPxv82rhftwDl62EAUK1lKMn+gTqfDmGEDBQOhFStXRXcVEa/2Yhp5lOSlinygpvbv3YMpQe8mLQICMmFEYDBuXr9m5qh39Ho9zp46gakTxxrLLEUQVqxcFZ+1biv4DALAT1s2oXK16ujWU7rpv27VMpw99S6ZeUBAJkyeMVdRPTOCjevXYPvWH7B75zb0GzgUw0aPU5R8XafTYXC/HqL3PHOWrBg7cZq9quvUIsLDJcvl2nlKFHyvEHr07o+1K5cIyo8cOoB5s6ZiRGCw5HG//LxdkO/S3cMDM+cuZvSV8+rzKCx+Zf4sHuJdQDKI9LnQXqGQcO12QP+Jrc+bkBCPbu1b+x05dECwdiJbtuz6o2cuR2TOktVybDlJevrkscv6tSs9165Y4hkbEyP6/JavWDlh7ISpsbU+rpdgzYX32tUrrs3q1/Q3Pbefn79+5Njg2J59B8S5uxvWmD9++MBl+uTx3j9v22pcdO7vH6Dftf9IVMlSZXQgPH/2xKVu9QoB4WFhgr/n7gN/RVWpWj3B3LGHDux17/NFJ9+k98LNzR1Nmn8W32fg13Fyx0aGh2mmTRrvvXnDt56mESPtO3ePW7h8bUwKfyWHePHiueaHDes9Vy6d72X6twSAIkWL6cZNmhHbqHFTraub8iVbe/fscu/7RUc/0451Sl1/EBruH5DJ7HXu3p3bLp9+/GFAVFSk4Pfx8vbWDx8T9KbfwK/fJH3Xnj0NcZk1baLX1k0bPJM/b9fvf0aVK1/Jrt+1Fy+ea5o3qB3w4N5dm7bkZs1fGtP9y75xao+LjY7W/PbrLvf5s6Z53b1zy9X0/zNnyaIfETghtkPnbvF+/gGq7zW6BC1aNannf/b0SVGPvnW7jvHBU2bG5s6TLxEA4uPjsHH9Ws+pwWN84t8O7gHAhKnfxHw1eJjq300NvV6PAb26+u7a8ZNNt0dq1KSF9rv/bReFWEVHRWlaN6vvf/nieePfvETJMrre/Qe++bxDF62Xl7fob63X67Fz2xaPiWNHer98ESr4/GTLniPx4PEzUTlz5Uk0PS45rTYeHVs18f/n+FGbjgb26P1V3Iy5i+1yPfzxh40ewwb29lWyjE4pLy8v/Z2nkdI9Pgse3LvrsmrZQq/NG771TP45TVKjZu2EsROmxVauVj3BmvxT/xz7y619q8b+ugThbSlr1mz6MROmxHbp3isuqT1y99ZNl+Cxw30OHdhnvFDnzJU78dc/jkXlK1DQ7GfBnqKjojQ7tm/xWDh7hteTkMeia12u3HkSA4OmxH7Wuq3W29dX8Rt75dIF15aN6/rHREfbtL+x99DfkeUrVTF77Y+MCNc0qFUl4NHDB4Lfx9XVFb36DXwzfPT4NwGZs+gBICoyQrNi8XzPRfNmeSd9bl1dXbF6w5bXTZq3tJxHIg35/dfd7l92aSsYwc6SNav+8u0n4ZY+/5PGj/JevWyRMUw3U+bM+k5dv4zr1W9AnNzn99rVK66jhnzlI3VPWf7txuhWn3cQfynTsdjoaM2uHT+5L5gz3fvhg/ui71r2HDkTRwQGv2nXoUu8j5+f6ouoVhuPpvVqBly5dEHUPujc/cu40eMnvkm678RGR2s2rFvlMXNKsE/ydCnWtk8yut07fvT46suughlcLy8v/ZU7TyO8fXxs3PfX/Jk3s/vntj0nZVRFAQwFcAuAXuYnFMB4MGm8ElkAfAigB4A5AP4FkAj5v23yn2cA1gLoD+BjAMqThACdAOhkzvsawGkA/wHQmvxfLADxFmsZT0EAHQCsBxAF6b/jbQADAFgKGyoH4IbE8SEAtgCYAWAMgFkAfobhPZB6vS0A0so+wP4AqgDoAmA6gL8h/3k0/XkFYCOArwE0AJDbzOu8DyBc4XnV/ijVGkCCzDmiAZyB4bsWb/J/8W+PTQ0HZeqX0h8lST88AJQB8DmAsQB+hfxn3PTnzdvnBwJoAaAwlE9aFQTwWOa8CQCuw3AdjJD4/yUS57OHMTL1S+nPBjOv6QXDfcX0mFgARwDMAxAEYCKANQAeyLxGCAzvqxIL7fR7Tlf4+mpVARBnh/oqDQHKDqAWgF4A5gO4quI1HgBYAaAvgJpQl15imJnzhgM4CcO9zPRaHgFDOyc1eQMoD6AdgAkwXOOUvmfRALYDGAVDe+c9M68TAOChwvOq/Smu8HetDCBS5hxxAC4COAcgxuT/EgGI80qkTW4AygIYBGAv5NsTf8BwX7W0vvhrGO4vpn+vKwBWAZgCw/1qIQztF6l2uw7AVzb6/ZyZJwzt2LYw3Bv2Qfk9PBbALhjudc0AFILye3gRGPpBUufVwnBdPAvpNrpzbZGcNrgAaAND30bqb74DhnYVkcPlB/AlDB3nHQDuQP0N+DaAbTBc7NvD0Dgmg49g+waPmr3KO0H5TUYPQ4eklpW/a3qxG8BLqH9frgIwt71PJgDLIB4wVPKjBTAbgGgmykmVge0/93IDJZlg6IzY+vUiVf7OrSE/0Cn18xyA5XVXtrNdRd3U/DRT8NqvbPyaS1X83kWhrvOvhWFyJrUiu3urqJuan2UKXrsrDNd8a85/AobBRKUm2en3tNcuIwWgfMBdzc8dBa/d0Q6vq3SgETB07NXcp24B+EDF+W3F1u+POKmhgQbyHbqU/uRV8ftWB/BExbmjAXRXcX5nVRKGiQY1bVk9DBNE+y2cuyyAP1WeN+knFIY+T0Zg63u4momHUlDXN40HMMLaXzSD8YdhcLwbDJNez2H576sDcBSGgfF6AHKmeq3TkbSbDMbxWgBYbvFZ5hV++5MUAvgeDDOAZLiQKmmwqqEmHPZ/AC4DWAygrpnnxQNYB8MsZqiZ52UEBWGYaVa7zMMD5mf8IgAMhCGy42sYvi+WduDQwzCbOALAJZX1caQE2P5zL7dMKAKGKJEWNn69FyqfvxNAVQALADQ287wEAN/DMEjy1MzzbG0FgAp2OK+S68UDANJJaayjJrnGLQDVAEyFIZLVXATjMRgaZSetr5pqW2D4fts6svKegudsguFz2xOGiawKsDxw9wCGv+U6GCISlFoPQyPZ1h5ZfopVHgL4AYZJKFu6ruA5MbD99dPsUncTi2AYMFgCoJKZ58XAMFA6FYbB+9R2z8bni5Ap18PQhrLH1opq/m4nAFSEISKvA+Q3sNID+AWG6LIbKaqdc/ADkBWGwXa1LHWuLwP4BEAjGNpnDQBYSoYVC8P1byIMk50Zga3v4Wra11dhuA5NhyGq1Fyf/xCA0TBEZZG8CgD2ALBmly4XGAIdkgc7vIBhEvdYyquWsWToHFgp9DGAzjY+51io62BQ6igHoBUMIfdZYZhhfQhDZ20n1HfYKWVcYJj5aADDoG8eGGZDQmEY2LgG4HcAdx1VQbJaORgG1CrAsBQoAYbv2mkYvmvKMqaTreWEITy+GgzRx24wXPfOw9DhS0uDxPaQG4bB1/Jv/50ThiiOpzB8fv+CYebVYTmOKNXVgGGJ3QcwRLvGAbgP4DgMy4LkBn3IvgrCMAlWBe+W2D+FYbn6Lth+ADSj8AJQ5+1PfhiugW4w/G2T/r77wM+9o+SG4R5eFYb3xxWGqKHzMKyeUL+tZMZUC4Z7uS01hyHdA6nAASwiIiIiIiIiImluMEyY29JrGAIjiIiIiIiIiIiIiIiIiIiIiIiIiIiIiIiIiIiIiIiIiIiIiIiIiIiIiIiIiIiIiIiIiIiIiIiIiIiIiIiIiIiIiIiIiIiIiIiIiIiIiIiIiIiIiIiIiIiIiIiIiIiIiIiIiIiIiIiIiIiIiIiIiIiIiIiIiIiIiIiIiIiIiIiIiIiIiIiIiIiIiIiIiIiIiIiIiIiIiIiIiIiIiIiIiIiIiIiIiIiIiIiIiIiIiIiIiIiIiIiIiIiIiIiIiIiIiIiIiIiIiIiIiIiIiIiIiIiIiIiIiIiIiIiIiIiIiIiIiIiIiIiIiIiIiIiIiIiIiIiIiIiIiIiIiIiIiIiIiIiIiIiIiIiIiIiIiIiIiIiIiIiIiIiIiIiIiIiIiIiIiIiIiIiIiIiIiIiIiIiIiIiIiIiIiIiIiIiIiIiIiIiIiIiIiIiIiIiIiIiIiIiIiIiIiIiIiIiIiIiIiIiIiIiIiIiIiIiIiIiIiIiIiIiIiIiIiIiIiIiIiIiIiIiIiIiIiIiIiIiIiIiIiIiIiIiIiIiIiIiIiIiIiIiIiIiIiIiIiIiIiIiIiIiIiIiIiIiIiIiIiIiIiIiIiIiIiIiIiIiIiIiIiIiIiIiIiIiIiIiIiIiIiIiIiIiIiIiIiIiIiIiIiIiIiIiIiIiIiIiIiIiIiIiIiIiIiIiIiIiIiIiIiIiIiIiIiIiIiIiIiIiIiIiIiIiIiIiIiIiIiIiIiIiIiIiIiIiIiIiIiIiIiIiIiIiIiIiIiIiIiIiIiIiIiIiIiIiIiIiIiIiIiIiIiIiIiIiIiIiIiIiIiIiIiIiIiIiIiIiIiIiIiIiIiIiIiIiIiIiIiIiIiIiIiIiIiIiIiIiIiIiIiIiIiIiIiIiIiIiIiIiIiIiIiIiIiIiIiIiIiIiIiIiIiIiIiIiIiIiIiIiIiIiIiIiIiIiIiIiIiIiIiIiIiIiIiIiIiIiIiIiIiIiIiIiIiIiIiIiIiIiIiIiIiIiIiIiIiIiIiIiIiBzj/z7rbBfqOFRPAAAAAElFTkSuQmCC)\n",
        "* La combinatoria esta intrinsecamente relacionada con el triangulo de pascal, debido a la regla de pascal, que es una formula de combinatoria, basicamente los coeficientes de una fila del triangulo, se puede calcular con esta formula, de $n$ elementos de $k$ en $k$, expresado y calculado como: \n",
        "\n",
        "$$(\\frac{n}{k})= \\frac{n!}{k!(n-k)!}$$\n",
        "\n",
        "*En el que $n$ es la fila y $k$ la posicion en la fila.\n",
        "\n",
        "\n",
        "\n"
      ],
      "metadata": {
        "id": "j0UT2579kTSM"
      }
    },
    {
      "cell_type": "markdown",
      "source": [
        "**El siguiente codigo:**\n",
        " \n",
        "\n",
        "1.   Primero que todo, se define una variable (num) que es un numero que el usuario va a insertar, en base, al numero de filas que desea el triangulo.\n",
        "2.   Se hara uso de la potencia del numero 11, dado que, sus valores crecientes forman el patron del triangulo de pascal.\n",
        "\n"
      ],
      "metadata": {
        "id": "CwQjvgubBCRW"
      }
    },
    {
      "cell_type": "code",
      "source": [
        "num = int(input(\"Enter the number of rows:\"))\n",
        "  \n",
        "for n in range(num):\n",
        "    print(' '*(num-n), end='')\n",
        "\n",
        "    print(' '.join(map(str, str(11**n))))"
      ],
      "metadata": {
        "colab": {
          "base_uri": "https://localhost:8080/"
        },
        "id": "W4J5ZdqVAxJE",
        "outputId": "01f4959b-f44f-4b93-8aed-51a410497f76"
      },
      "execution_count": null,
      "outputs": [
        {
          "output_type": "stream",
          "name": "stdout",
          "text": [
            "Enter the number of rows:5\n",
            "     1\n",
            "    1 1\n",
            "   1 2 1\n",
            "  1 3 3 1\n",
            " 1 4 6 4 1\n"
          ]
        }
      ]
    }
  ]
}